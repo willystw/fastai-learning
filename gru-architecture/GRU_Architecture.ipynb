{
  "nbformat": 4,
  "nbformat_minor": 0,
  "metadata": {
    "colab": {
      "name": "GRU Architecture.ipynb",
      "provenance": [],
      "authorship_tag": "ABX9TyN6R7gTayrzELCEdnuSCTXu",
      "include_colab_link": true
    },
    "kernelspec": {
      "name": "python3",
      "display_name": "Python 3"
    },
    "language_info": {
      "name": "python"
    },
    "accelerator": "GPU"
  },
  "cells": [
    {
      "cell_type": "markdown",
      "metadata": {
        "id": "view-in-github",
        "colab_type": "text"
      },
      "source": [
        "<a href=\"https://colab.research.google.com/github/willystw/fastai-learning/blob/gru-implementation/gru-architecture/GRU_Architecture.ipynb\" target=\"_parent\"><img src=\"https://colab.research.google.com/assets/colab-badge.svg\" alt=\"Open In Colab\"/></a>"
      ]
    },
    {
      "cell_type": "code",
      "metadata": {
        "colab": {
          "base_uri": "https://localhost:8080/"
        },
        "id": "WO65Ijw0p4oa",
        "outputId": "a4ccba3e-c150-4601-a5e2-2fc0cb398e3f"
      },
      "source": [
        "#hide\n",
        "!pip install -Uqq fastbook\n",
        "import fastbook\n",
        "fastbook.setup_book()"
      ],
      "execution_count": 1,
      "outputs": [
        {
          "output_type": "stream",
          "name": "stdout",
          "text": [
            "\u001b[K     |████████████████████████████████| 720 kB 12.2 MB/s \n",
            "\u001b[K     |████████████████████████████████| 186 kB 51.8 MB/s \n",
            "\u001b[K     |████████████████████████████████| 1.2 MB 45.4 MB/s \n",
            "\u001b[K     |████████████████████████████████| 46 kB 3.4 MB/s \n",
            "\u001b[K     |████████████████████████████████| 56 kB 4.2 MB/s \n",
            "\u001b[K     |████████████████████████████████| 51 kB 315 kB/s \n",
            "\u001b[?25hMounted at /content/gdrive\n"
          ]
        }
      ]
    },
    {
      "cell_type": "code",
      "metadata": {
        "id": "Qi05lVYYqAmD"
      },
      "source": [
        "#hide\n",
        "from fastbook import *"
      ],
      "execution_count": 2,
      "outputs": []
    },
    {
      "cell_type": "markdown",
      "metadata": {
        "id": "SjWMv_ZdyX04"
      },
      "source": [
        "Implement Gated Recurrent Unit"
      ]
    },
    {
      "cell_type": "code",
      "metadata": {
        "id": "mtI2-KKItwso"
      },
      "source": [
        "from IPython.display import SVG\n",
        "def show_svg():\n",
        "    display(SVG(url='https://upload.wikimedia.org/wikipedia/commons/3/37/Gated_Recurrent_Unit%2C_base_type.svg'))"
      ],
      "execution_count": 3,
      "outputs": []
    },
    {
      "cell_type": "code",
      "metadata": {
        "colab": {
          "base_uri": "https://localhost:8080/",
          "height": 437
        },
        "id": "xAc5fvo1txTZ",
        "outputId": "3eb13ce7-fdcf-4561-c9c6-d049eb47806f"
      },
      "source": [
        "show_svg()"
      ],
      "execution_count": 4,
      "outputs": [
        {
          "output_type": "display_data",
          "data": {
            "text/plain": [
              "<IPython.core.display.SVG object>"
            ],
            "image/svg+xml": "<svg height=\"11cm\" viewBox=\"540 560 432 219\" width=\"22cm\" xmlns=\"http://www.w3.org/2000/svg\" xmlns:xlink=\"http://www.w3.org/1999/xlink\">\n  <defs/>\n  <g id=\"Bakgrunn\">\n    <rect height=\"144.963\" rx=\"20\" ry=\"20\" style=\"fill: #b9ffa8; fill-opacity: 1; stroke-opacity: 1; stroke-width: 2; stroke-linejoin: round; stroke: #22aa39\" width=\"300\" x=\"600\" y=\"600\"/>\n    <g>\n      <line style=\"fill: none; stroke-opacity: 1; stroke-width: 2; stroke-linejoin: round; stroke: #000000\" x1=\"590\" x2=\"935.528\" y1=\"620\" y2=\"620\"/>\n      <polyline points=\"585,615 590,620 585,625 \" style=\"fill: none; stroke-opacity: 1; stroke-width: 2; stroke: #000000\"/>\n      <polyline points=\"927.764,625 937.764,620 927.764,615 \" style=\"fill: none; stroke-opacity: 1; stroke-width: 2; stroke: #000000\"/>\n    </g>\n    <text font-size=\"12.8\" style=\"fill: #000000; fill-opacity: 1; stroke: none;text-anchor:start;font-family:sans-serif;font-style:normal;font-weight:normal\" x=\"540\" y=\"624\">\n      <tspan x=\"540\" y=\"624\">h[t-1]</tspan>\n    </text>\n    <text font-size=\"12.8\" style=\"fill: #000000; fill-opacity: 1; stroke: none;text-anchor:start;font-family:sans-serif;font-style:normal;font-weight:normal\" x=\"948\" y=\"624\">\n      <tspan x=\"948\" y=\"624\">h[t]</tspan>\n    </text>\n    <g>\n      <line style=\"fill: none; stroke-opacity: 1; stroke-width: 2; stroke-linejoin: round; stroke: #000000\" x1=\"900\" x2=\"912.929\" y1=\"620\" y2=\"620\"/>\n      <path d=\"M 912.929,620 A 7.07107,7.07107 0 0 0 920,612.929\" style=\"fill: none; stroke-opacity: 1; stroke-width: 2; stroke-linejoin: round; stroke: #000000\"/>\n      <line style=\"fill: none; stroke-opacity: 1; stroke-width: 2; stroke-linejoin: round; stroke: #000000\" x1=\"920\" x2=\"920\" y1=\"612.929\" y2=\"584.472\"/>\n      <polyline points=\"925,592.236 920,582.236 915,592.236 \" style=\"fill: none; stroke-opacity: 1; stroke-width: 2; stroke: #000000\"/>\n    </g>\n    <g>\n      <line style=\"fill: none; stroke-opacity: 1; stroke-width: 2; stroke-linejoin: round; stroke: #000000\" x1=\"796\" x2=\"796\" y1=\"688\" y2=\"672.485\"/>\n      <path d=\"M 796,672.485 A 8.48528,8.48528 0 0 1 804.485,664\" style=\"fill: none; stroke-opacity: 1; stroke-width: 2; stroke-linejoin: round; stroke: #000000\"/>\n      <line style=\"fill: none; stroke-opacity: 1; stroke-width: 2; stroke-linejoin: round; stroke: #000000\" x1=\"804.485\" x2=\"843.528\" y1=\"664\" y2=\"664\"/>\n      <polyline points=\"835.764,669 845.764,664 835.764,659 \" style=\"fill: none; stroke-opacity: 1; stroke-width: 2; stroke: #000000\"/>\n    </g>\n    <g>\n      <line style=\"fill: none; stroke-opacity: 1; stroke-width: 2; stroke-linejoin: round; stroke: #000000\" x1=\"704\" x2=\"846\" y1=\"728\" y2=\"728\"/>\n      <path d=\"M 846,728 A 10,10 0 0 0 856,718\" style=\"fill: none; stroke-opacity: 1; stroke-width: 2; stroke-linejoin: round; stroke: #000000\"/>\n      <line style=\"fill: none; stroke-opacity: 1; stroke-width: 2; stroke-linejoin: round; stroke: #000000\" x1=\"856\" x2=\"856\" y1=\"718\" y2=\"632.472\"/>\n      <polyline points=\"861,640.236 856,630.236 851,640.236 \" style=\"fill: none; stroke-opacity: 1; stroke-width: 2; stroke: #000000\"/>\n    </g>\n    <g>\n      <ellipse cx=\"855.386\" cy=\"662.334\" rx=\"10\" ry=\"10\" style=\"fill: #ffe19e; fill-opacity: 1; stroke-opacity: 1; stroke-width: 2; stroke: #caa556\"/>\n      <text font-size=\"12.8\" style=\"fill: #000000; fill-opacity: 1; stroke: none;text-anchor:start;font-family:sans-serif;font-style:normal;font-weight:normal\" x=\"850.262\" y=\"666.584\">\n        <tspan x=\"850.262\" y=\"666.584\">×</tspan>\n      </text>\n    </g>\n    <g>\n      <line style=\"fill: none; stroke-opacity: 1; stroke-width: 2; stroke-linejoin: round; stroke: #000000\" x1=\"708\" x2=\"786\" y1=\"716\" y2=\"716\"/>\n      <path d=\"M 786,716 A 10,10 0 0 0 796,706\" style=\"fill: none; stroke-opacity: 1; stroke-width: 2; stroke-linejoin: round; stroke: #000000\"/>\n      <line style=\"fill: none; stroke-opacity: 1; stroke-width: 2; stroke-linejoin: round; stroke: #000000\" x1=\"796\" x2=\"796\" y1=\"706\" y2=\"632.472\"/>\n      <polyline points=\"801,640.236 796,630.236 791,640.236 \" style=\"fill: none; stroke-opacity: 1; stroke-width: 2; stroke: #000000\"/>\n    </g>\n    <g>\n      <ellipse cx=\"795.666\" cy=\"619.334\" rx=\"10\" ry=\"10\" style=\"fill: #ffe19e; fill-opacity: 1; stroke-opacity: 1; stroke-width: 2; stroke: #caa556\"/>\n      <text font-size=\"12.8\" style=\"fill: #000000; fill-opacity: 1; stroke: none;text-anchor:start;font-family:sans-serif;font-style:normal;font-weight:normal\" x=\"790.542\" y=\"623.584\">\n        <tspan x=\"790.542\" y=\"623.584\">×</tspan>\n      </text>\n    </g>\n    <g>\n      <line style=\"fill: none; stroke-opacity: 1; stroke-width: 2; stroke-linejoin: round; stroke: #000000\" x1=\"716\" x2=\"728.929\" y1=\"716\" y2=\"716\"/>\n      <path d=\"M 728.929,716 A 7.07107,7.07107 0 0 0 736,708.929\" style=\"fill: none; stroke-opacity: 1; stroke-width: 2; stroke-linejoin: round; stroke: #000000\"/>\n      <line style=\"fill: none; stroke-opacity: 1; stroke-width: 2; stroke-linejoin: round; stroke: #000000\" x1=\"736\" x2=\"736\" y1=\"708.929\" y2=\"674\"/>\n      <path d=\"M 736,674 A 10,10 0 0 0 726,664\" style=\"fill: none; stroke-opacity: 1; stroke-width: 2; stroke-linejoin: round; stroke: #000000\"/>\n      <line style=\"fill: none; stroke-opacity: 1; stroke-width: 2; stroke-linejoin: round; stroke: #000000\" x1=\"726\" x2=\"704.472\" y1=\"664\" y2=\"664\"/>\n      <polyline points=\"712.236,659 702.236,664 712.236,669 \" style=\"fill: none; stroke-opacity: 1; stroke-width: 2; stroke: #000000\"/>\n    </g>\n    <g>\n      <line style=\"fill: none; stroke-opacity: 1; stroke-width: 2; stroke-linejoin: round; stroke: #000000\" x1=\"672\" x2=\"684.929\" y1=\"620\" y2=\"620\"/>\n      <path d=\"M 684.929,620 A 7.07107,7.07107 0 0 1 692,627.071\" style=\"fill: none; stroke-opacity: 1; stroke-width: 2; stroke-linejoin: round; stroke: #000000\"/>\n      <line style=\"fill: none; stroke-opacity: 1; stroke-width: 2; stroke-linejoin: round; stroke: #000000\" x1=\"692\" x2=\"692\" y1=\"627.071\" y2=\"718\"/>\n      <path d=\"M 692,718 A 10,10 0 0 0 702,728\" style=\"fill: none; stroke-opacity: 1; stroke-width: 2; stroke-linejoin: round; stroke: #000000\"/>\n      <line style=\"fill: none; stroke-opacity: 1; stroke-width: 2; stroke-linejoin: round; stroke: #000000\" x1=\"702\" x2=\"800\" y1=\"728\" y2=\"728\"/>\n    </g>\n    <g>\n      <line style=\"fill: none; stroke-opacity: 1; stroke-width: 2; stroke-linejoin: round; stroke: #000000\" x1=\"636\" x2=\"648.929\" y1=\"620\" y2=\"620\"/>\n      <path d=\"M 648.929,620 A 7.07107,7.07107 0 0 1 656,627.071\" style=\"fill: none; stroke-opacity: 1; stroke-width: 2; stroke-linejoin: round; stroke: #000000\"/>\n      <line style=\"fill: none; stroke-opacity: 1; stroke-width: 2; stroke-linejoin: round; stroke: #000000\" x1=\"656\" x2=\"656\" y1=\"627.071\" y2=\"706\"/>\n      <path d=\"M 656,706 A 10,10 0 0 0 666,716\" style=\"fill: none; stroke-opacity: 1; stroke-width: 2; stroke-linejoin: round; stroke: #000000\"/>\n      <line style=\"fill: none; stroke-opacity: 1; stroke-width: 2; stroke-linejoin: round; stroke: #000000\" x1=\"666\" x2=\"764\" y1=\"716\" y2=\"716\"/>\n    </g>\n    <g>\n      <line style=\"fill: none; stroke-opacity: 1; stroke-width: 2; stroke-linejoin: round; stroke: #000000\" x1=\"656\" x2=\"656\" y1=\"754\" y2=\"723.071\"/>\n      <path d=\"M 656,723.071 A 7.07107,7.07107 0 0 1 663.071,716\" style=\"fill: none; stroke-opacity: 1; stroke-width: 2; stroke-linejoin: round; stroke: #000000\"/>\n      <line style=\"fill: none; stroke-opacity: 1; stroke-width: 2; stroke-linejoin: round; stroke: #000000\" x1=\"663.071\" x2=\"676\" y1=\"716\" y2=\"716\"/>\n      <polyline points=\"651,759 656,754 661,759 \" style=\"fill: none; stroke-opacity: 1; stroke-width: 2; stroke: #000000\"/>\n    </g>\n    <g>\n      <ellipse cx=\"692\" cy=\"663.666\" rx=\"10\" ry=\"10\" style=\"fill: #ffe19e; fill-opacity: 1; stroke-opacity: 1; stroke-width: 2; stroke: #caa556\"/>\n      <text font-size=\"12.8\" style=\"fill: #000000; fill-opacity: 1; stroke: none;text-anchor:start;font-family:sans-serif;font-style:normal;font-weight:normal\" x=\"686.874\" y=\"667.916\">\n        <tspan x=\"686.874\" y=\"667.916\">×</tspan>\n      </text>\n    </g>\n    <g>\n      <line style=\"fill: none; stroke-opacity: 1; stroke-width: 2; stroke-linejoin: round; stroke: #000000\" x1=\"656\" x2=\"656\" y1=\"748\" y2=\"735.071\"/>\n      <path d=\"M 656,735.071 A 7.07107,7.07107 0 0 1 663.071,728\" style=\"fill: none; stroke-opacity: 1; stroke-width: 2; stroke-linejoin: round; stroke: #000000\"/>\n      <line style=\"fill: none; stroke-opacity: 1; stroke-width: 2; stroke-linejoin: round; stroke: #000000\" x1=\"663.071\" x2=\"700\" y1=\"728\" y2=\"728\"/>\n    </g>\n    <text font-size=\"12.8\" style=\"fill: #000000; fill-opacity: 1; stroke: none;text-anchor:start;font-family:sans-serif;font-style:normal;font-weight:normal\" x=\"644\" y=\"776\">\n      <tspan x=\"644\" y=\"776\">x[t]</tspan>\n    </text>\n    <text font-size=\"12.8\" style=\"fill: #000000; fill-opacity: 1; stroke: none;text-anchor:start;font-family:sans-serif;font-style:normal;font-weight:normal\" x=\"908\" y=\"572\">\n      <tspan x=\"908\" y=\"572\">ŷ[t]</tspan>\n    </text>\n    <text font-size=\"12.8\" style=\"fill: #000000; fill-opacity: 1; stroke: none;text-anchor:start;font-family:sans-serif;font-style:normal;font-weight:normal\" x=\"872\" y=\"676\">\n      <tspan x=\"872\" y=\"676\">ĥ[t]</tspan>\n    </text>\n    <text font-size=\"12.8\" style=\"fill: #000000; fill-opacity: 1; stroke: none;text-anchor:start;font-family:sans-serif;font-style:normal;font-weight:normal\" x=\"768\" y=\"676\">\n      <tspan x=\"768\" y=\"676\">z[t]</tspan>\n    </text>\n    <text font-size=\"12.8\" style=\"fill: #000000; fill-opacity: 1; stroke: none;text-anchor:start;font-family:sans-serif;font-style:normal;font-weight:normal\" x=\"728\" y=\"656\">\n      <tspan x=\"728\" y=\"656\">r[t]</tspan>\n    </text>\n    <g>\n      <line style=\"fill: none; stroke-opacity: 1; stroke-width: 2; stroke-linejoin: round; stroke: #000000\" x1=\"826\" x2=\"844\" y1=\"692\" y2=\"692\"/>\n      <path d=\"M 821,697 A 5,5 0 1 0 821,687\" style=\"fill: none; stroke-opacity: 1; stroke-width: 2; stroke: #000000\"/>\n    </g>\n    <g>\n      <line style=\"fill: none; stroke-opacity: 1; stroke-width: 2; stroke: #000000\" x1=\"706\" x2=\"724\" y1=\"692\" y2=\"692\"/>\n      <path d=\"M 701,697 A 5,5 0 1 0 701,687\" style=\"fill: none; stroke-opacity: 1; stroke-width: 2; stroke: #000000\"/>\n    </g>\n    <g>\n      <line style=\"fill: none; stroke-opacity: 1; stroke-width: 2; stroke: #000000\" x1=\"766\" x2=\"784\" y1=\"692\" y2=\"692\"/>\n      <path d=\"M 761,697 A 5,5 0 1 0 761,687\" style=\"fill: none; stroke-opacity: 1; stroke-width: 2; stroke: #000000\"/>\n    </g>\n    <g>\n      <rect height=\"16\" rx=\"0\" ry=\"0\" style=\"fill: #a4bdf1; fill-opacity: 1; stroke-opacity: 1; stroke-width: 2; stroke: #6582bf\" width=\"40\" x=\"716\" y=\"684\"/>\n      <text font-size=\"12.8\" style=\"fill: #000000; fill-opacity: 1; stroke: none;text-anchor:start;font-family:sans-serif;font-style:normal;font-weight:normal\" x=\"732\" y=\"696\">\n        <tspan x=\"732\" y=\"696\">σ</tspan>\n      </text>\n    </g>\n    <g>\n      <rect height=\"16\" rx=\"0\" ry=\"0\" style=\"fill: #a4bdf1; fill-opacity: 1; stroke-opacity: 1; stroke-width: 2; stroke: #6582bf\" width=\"40\" x=\"776\" y=\"684\"/>\n      <text font-size=\"12.8\" style=\"fill: #000000; fill-opacity: 1; stroke: none;text-anchor:start;font-family:sans-serif;font-style:normal;font-weight:normal\" x=\"792\" y=\"696\">\n        <tspan x=\"792\" y=\"696\">σ</tspan>\n      </text>\n    </g>\n    <g>\n      <rect height=\"16\" rx=\"0\" ry=\"0\" style=\"fill: #a4bdf1; fill-opacity: 1; stroke-opacity: 1; stroke-width: 2; stroke: #6582bf\" width=\"40\" x=\"836\" y=\"684\"/>\n      <text font-size=\"12.8\" style=\"fill: #000000; fill-opacity: 1; stroke: none;text-anchor:start;font-family:sans-serif;font-style:normal;font-weight:normal\" x=\"841.666\" y=\"695.666\">\n        <tspan x=\"841.666\" y=\"695.666\">tanh</tspan>\n      </text>\n    </g>\n    <g transform=\"matrix(1,0,0,0.908549,0,60.1279)\">\n      <ellipse cx=\"795.967\" cy=\"651.549\" rx=\"17\" ry=\"10\" style=\"fill: #ffe19e; fill-opacity: 1; stroke-opacity: 1; stroke-width: 2; stroke: #caa556\"/>\n      <text font-size=\"12.8\" style=\"fill: #000000; fill-opacity: 1; stroke: none;text-anchor:start;font-family:sans-serif;font-style:normal;font-weight:normal\" x=\"789.967\" y=\"655.799\">\n        <tspan x=\"789.967\" y=\"655.799\">1-</tspan>\n      </text>\n    </g>\n    <g>\n      <ellipse cx=\"855.666\" cy=\"619.666\" rx=\"10\" ry=\"10\" style=\"fill: #ffe19e; fill-opacity: 1; stroke-opacity: 1; stroke-width: 2; stroke: #caa556\"/>\n      <text font-size=\"12.8\" style=\"fill: #000000; fill-opacity: 1; stroke: none;text-anchor:start;font-family:sans-serif;font-style:normal;font-weight:normal\" x=\"850.542\" y=\"623.916\">\n        <tspan x=\"850.542\" y=\"623.916\">+</tspan>\n      </text>\n    </g>\n  </g>\n</svg>"
          },
          "metadata": {}
        }
      ]
    },
    {
      "cell_type": "code",
      "metadata": {
        "id": "ByTvwc2aqRQu"
      },
      "source": [
        "class GRUImpl(Module):\n",
        "  def __init__(self, ni, nh):\n",
        "    self.reset_gate = nn.Linear(ni+nh, nh)\n",
        "    self.update_gate = nn.Linear(ni+nh, nh)\n",
        "\n",
        "  def forward(self, input, state):\n",
        "    h,_ = state\n",
        "    h_1 = torch.cat([h, input], dim = 1)\n",
        "    reset = torch.sigmoid(self.reset_gate(h_1))\n",
        "    update = torch.sigmoid(self.update_gate(h_1))\n",
        "    h_2 = torch.cat([reset * h, input], dim = 1)\n",
        "    \n",
        "    out = torch.tanh(h_2)\n",
        "    h *= (1 - update)\n",
        "    h += (activation * update)\n",
        "\n",
        "    return h"
      ],
      "execution_count": 5,
      "outputs": []
    },
    {
      "cell_type": "markdown",
      "metadata": {
        "id": "x_vvhSCQ2En7"
      },
      "source": [
        "Simplified version to do one big matrix operation"
      ]
    },
    {
      "cell_type": "code",
      "metadata": {
        "id": "FzQtDNyj0Np1"
      },
      "source": [
        "class GRUImpl(Module):\n",
        "  def __init__(self, ni, nh):\n",
        "    self.ih = nn.Linear(ni, 2*nh)\n",
        "    self.hh = nn.Linear(nh, 2*nh)\n",
        "  def forward(self, input, state):\n",
        "    h = state\n",
        "    gates = (self.ih(input) + self.hh(h)).chunk(2,1)\n",
        "    resetgate, updategate = map(torch.sigmoid, gates[:2])\n",
        "\n",
        "    out = torch.tanh(torch.cat([resetgate * h, input], dim = 1))\n",
        "    h *= (1 - updategate)\n",
        "    h += (out * updategate)\n",
        "\n",
        "    return h"
      ],
      "execution_count": 6,
      "outputs": []
    },
    {
      "cell_type": "markdown",
      "metadata": {
        "id": "qyc5AqNcKmco"
      },
      "source": [
        "Test LSTM & GRU using Human Numbers Datasest"
      ]
    },
    {
      "cell_type": "code",
      "metadata": {
        "id": "uQfnzYb_KoJK",
        "outputId": "2c5447ff-596b-445d-da46-89a2b8f312ee",
        "colab": {
          "base_uri": "https://localhost:8080/",
          "height": 37
        }
      },
      "source": [
        "from fastai.text.all import *\n",
        "path = untar_data(URLs.HUMAN_NUMBERS)"
      ],
      "execution_count": 7,
      "outputs": [
        {
          "output_type": "display_data",
          "data": {
            "text/html": [
              "\n",
              "    <div>\n",
              "        <style>\n",
              "            /* Turns off some styling */\n",
              "            progress {\n",
              "                /* gets rid of default border in Firefox and Opera. */\n",
              "                border: none;\n",
              "                /* Needs to be in here for Safari polyfill so background images work as expected. */\n",
              "                background-size: auto;\n",
              "            }\n",
              "            .progress-bar-interrupted, .progress-bar-interrupted::-webkit-progress-bar {\n",
              "                background: #F44336;\n",
              "            }\n",
              "        </style>\n",
              "      <progress value='32768' class='' max='30252' style='width:300px; height:20px; vertical-align: middle;'></progress>\n",
              "      108.32% [32768/30252 00:00<00:00]\n",
              "    </div>\n",
              "    "
            ],
            "text/plain": [
              "<IPython.core.display.HTML object>"
            ]
          },
          "metadata": {}
        }
      ]
    },
    {
      "cell_type": "code",
      "metadata": {
        "id": "ADx6CbCdK2TA"
      },
      "source": [
        "#hide\n",
        "Path.BASE_PATH = path"
      ],
      "execution_count": 8,
      "outputs": []
    },
    {
      "cell_type": "code",
      "metadata": {
        "id": "DBPXoxbkK-Qp",
        "outputId": "28f4dbc3-9a4d-4d98-be98-edf30b24dc4d",
        "colab": {
          "base_uri": "https://localhost:8080/"
        }
      },
      "source": [
        "path.ls()"
      ],
      "execution_count": 9,
      "outputs": [
        {
          "output_type": "execute_result",
          "data": {
            "text/plain": [
              "(#2) [Path('valid.txt'),Path('train.txt')]"
            ]
          },
          "metadata": {},
          "execution_count": 9
        }
      ]
    },
    {
      "cell_type": "markdown",
      "metadata": {
        "id": "8wdNuMvuVTuf"
      },
      "source": [
        "Human numbers dataset contains number from 1 to 9999 in text form, and separated with dot ('.')"
      ]
    },
    {
      "cell_type": "code",
      "metadata": {
        "id": "71Xd9907K_r4",
        "outputId": "47da9958-035f-43bd-a62a-09b04d9a7135",
        "colab": {
          "base_uri": "https://localhost:8080/"
        }
      },
      "source": [
        "lines = L()\n",
        "with open(path/'train.txt') as f: lines += L(*f.readlines())\n",
        "with open(path/'valid.txt') as f: lines += L(*f.readlines())\n",
        "lines"
      ],
      "execution_count": 10,
      "outputs": [
        {
          "output_type": "execute_result",
          "data": {
            "text/plain": [
              "(#9998) ['one \\n','two \\n','three \\n','four \\n','five \\n','six \\n','seven \\n','eight \\n','nine \\n','ten \\n'...]"
            ]
          },
          "metadata": {},
          "execution_count": 10
        }
      ]
    },
    {
      "cell_type": "code",
      "metadata": {
        "id": "neRHLOIjLQnw",
        "outputId": "69a732f7-7e23-4a96-c268-90047714e85e",
        "colab": {
          "base_uri": "https://localhost:8080/",
          "height": 37
        }
      },
      "source": [
        "text = ' . '.join([l.strip() for l in lines])\n",
        "text[-100:]"
      ],
      "execution_count": 13,
      "outputs": [
        {
          "output_type": "execute_result",
          "data": {
            "application/vnd.google.colaboratory.intrinsic+json": {
              "type": "string"
            },
            "text/plain": [
              "'dred ninety seven . nine thousand nine hundred ninety eight . nine thousand nine hundred ninety nine'"
            ]
          },
          "metadata": {},
          "execution_count": 13
        }
      ]
    },
    {
      "cell_type": "code",
      "metadata": {
        "id": "edPyj1nLRj2a",
        "outputId": "541993ca-40c0-4f31-e6f2-265b9c0387d5",
        "colab": {
          "base_uri": "https://localhost:8080/",
          "height": 37
        }
      },
      "source": [
        "text[:100]"
      ],
      "execution_count": 68,
      "outputs": [
        {
          "output_type": "execute_result",
          "data": {
            "application/vnd.google.colaboratory.intrinsic+json": {
              "type": "string"
            },
            "text/plain": [
              "'one . two . three . four . five . six . seven . eight . nine . ten . eleven . twelve . thirteen . fo'"
            ]
          },
          "metadata": {},
          "execution_count": 68
        }
      ]
    },
    {
      "cell_type": "code",
      "metadata": {
        "id": "hGERZL5CLSkQ",
        "outputId": "f67cae6c-00cf-410c-fd93-bedf8d32dca0",
        "colab": {
          "base_uri": "https://localhost:8080/"
        }
      },
      "source": [
        "tokens = text.split(' ')\n",
        "tokens[-10:]"
      ],
      "execution_count": 15,
      "outputs": [
        {
          "output_type": "execute_result",
          "data": {
            "text/plain": [
              "['hundred',\n",
              " 'ninety',\n",
              " 'eight',\n",
              " '.',\n",
              " 'nine',\n",
              " 'thousand',\n",
              " 'nine',\n",
              " 'hundred',\n",
              " 'ninety',\n",
              " 'nine']"
            ]
          },
          "metadata": {},
          "execution_count": 15
        }
      ]
    },
    {
      "cell_type": "code",
      "metadata": {
        "id": "RbMTZDAqLdA4",
        "outputId": "7cd3a81a-080d-4a76-e541-791451ad58db",
        "colab": {
          "base_uri": "https://localhost:8080/"
        }
      },
      "source": [
        "vocab = L(*tokens).unique()\n",
        "vocab"
      ],
      "execution_count": 16,
      "outputs": [
        {
          "output_type": "execute_result",
          "data": {
            "text/plain": [
              "(#30) ['one','.','two','three','four','five','six','seven','eight','nine'...]"
            ]
          },
          "metadata": {},
          "execution_count": 16
        }
      ]
    },
    {
      "cell_type": "code",
      "metadata": {
        "id": "fCC1kRnjLhC_",
        "outputId": "26e5a325-32db-4ff1-8a57-356cc51b748a",
        "colab": {
          "base_uri": "https://localhost:8080/"
        }
      },
      "source": [
        "word2idx = {w:i for i,w in enumerate(vocab)}\n",
        "nums = L(word2idx[i] for i in tokens)\n",
        "nums"
      ],
      "execution_count": 17,
      "outputs": [
        {
          "output_type": "execute_result",
          "data": {
            "text/plain": [
              "(#63095) [0,1,2,1,3,1,4,1,5,1...]"
            ]
          },
          "metadata": {},
          "execution_count": 17
        }
      ]
    },
    {
      "cell_type": "code",
      "metadata": {
        "id": "rYHiMGU6Ljhm",
        "outputId": "226d30c0-12c1-4a94-efb0-c74f4796f733",
        "colab": {
          "base_uri": "https://localhost:8080/"
        }
      },
      "source": [
        "seqs = L((tensor(nums[i:i+3]), nums[i+3]) for i in range(0,len(nums)-4,3))\n",
        "seqs"
      ],
      "execution_count": 18,
      "outputs": [
        {
          "output_type": "execute_result",
          "data": {
            "text/plain": [
              "(#21031) [(tensor([0, 1, 2]), 1),(tensor([1, 3, 1]), 4),(tensor([4, 1, 5]), 1),(tensor([1, 6, 1]), 7),(tensor([7, 1, 8]), 1),(tensor([1, 9, 1]), 10),(tensor([10,  1, 11]), 1),(tensor([ 1, 12,  1]), 13),(tensor([13,  1, 14]), 1),(tensor([ 1, 15,  1]), 16)...]"
            ]
          },
          "metadata": {},
          "execution_count": 18
        }
      ]
    },
    {
      "cell_type": "code",
      "metadata": {
        "id": "QLdkpRwkMUMk"
      },
      "source": [
        "def group_chunks(ds, bs):\n",
        "    m = len(ds) // bs\n",
        "    new_ds = L()\n",
        "    for i in range(m): new_ds += L(ds[i + m*j] for j in range(bs))\n",
        "    return new_ds"
      ],
      "execution_count": 25,
      "outputs": []
    },
    {
      "cell_type": "code",
      "metadata": {
        "id": "UkJ1zLF9Lnho"
      },
      "source": [
        "bs = 64\n",
        "sl = 16\n",
        "seqs = L((tensor(nums[i:i+sl]), tensor(nums[i+1:i+sl+1]))\n",
        "         for i in range(0,len(nums)-sl-1,sl))\n",
        "cut = int(len(seqs) * 0.8)\n",
        "dls = DataLoaders.from_dsets(group_chunks(seqs[:cut], bs),\n",
        "                             group_chunks(seqs[cut:], bs),\n",
        "                             bs=bs, drop_last=True, shuffle=False)"
      ],
      "execution_count": 52,
      "outputs": []
    },
    {
      "cell_type": "code",
      "metadata": {
        "id": "VW9V6FfNMnsR",
        "outputId": "f682bff7-d677-4ba3-f573-dabe243372d1",
        "colab": {
          "base_uri": "https://localhost:8080/"
        }
      },
      "source": [
        "[L(vocab[o] for o in s) for s in seqs[0]]"
      ],
      "execution_count": 34,
      "outputs": [
        {
          "output_type": "execute_result",
          "data": {
            "text/plain": [
              "[(#16) ['one','.','two','.','three','.','four','.','five','.'...],\n",
              " (#16) ['.','two','.','three','.','four','.','five','.','six'...]]"
            ]
          },
          "metadata": {},
          "execution_count": 34
        }
      ]
    },
    {
      "cell_type": "markdown",
      "metadata": {
        "id": "FdCDrF3ZV6Bq"
      },
      "source": [
        "Create 2 layers of language model using GRU"
      ]
    },
    {
      "cell_type": "code",
      "metadata": {
        "id": "ryqe7fZ-LpuI"
      },
      "source": [
        "#Dropout is a technique that randomly change some activations to zero\n",
        "class LMModelGRU(Module):\n",
        "    def __init__(self, vocab_sz, n_hidden, n_layers, drop_prob=0.2):\n",
        "        self.i_h = nn.Embedding(vocab_sz, n_hidden)\n",
        "        self.rnn = nn.GRU(n_hidden, n_hidden, n_layers, batch_first=True, dropout=drop_prob)\n",
        "        self.h_o = nn.Linear(n_hidden, vocab_sz)\n",
        "        self.h = torch.zeros(n_layers, bs, n_hidden)\n",
        "        \n",
        "    def forward(self, x):\n",
        "        res,h = self.rnn(self.i_h(x), self.h)\n",
        "        self.h = h.detach()\n",
        "        return self.h_o(res)\n",
        "    \n",
        "    def reset(self): \n",
        "        self.h.zero_()"
      ],
      "execution_count": 63,
      "outputs": []
    },
    {
      "cell_type": "code",
      "metadata": {
        "id": "hfRw5j2jLz2_",
        "outputId": "ef9d0ec6-431b-479b-d18b-31242f6dee4f",
        "colab": {
          "base_uri": "https://localhost:8080/",
          "height": 520
        }
      },
      "source": [
        "learn = Learner(dls, LMModelGRU(len(vocab), 64, 2, 0.4), \n",
        "                loss_func=CrossEntropyLossFlat(), \n",
        "                metrics=accuracy, cbs=ModelResetter)\n",
        "learn.fit_one_cycle(15, 1e-2, wd=0.1)"
      ],
      "execution_count": 70,
      "outputs": [
        {
          "output_type": "display_data",
          "data": {
            "text/html": [
              "<table border=\"1\" class=\"dataframe\">\n",
              "  <thead>\n",
              "    <tr style=\"text-align: left;\">\n",
              "      <th>epoch</th>\n",
              "      <th>train_loss</th>\n",
              "      <th>valid_loss</th>\n",
              "      <th>accuracy</th>\n",
              "      <th>time</th>\n",
              "    </tr>\n",
              "  </thead>\n",
              "  <tbody>\n",
              "    <tr>\n",
              "      <td>0</td>\n",
              "      <td>2.861346</td>\n",
              "      <td>2.467577</td>\n",
              "      <td>0.436768</td>\n",
              "      <td>00:01</td>\n",
              "    </tr>\n",
              "    <tr>\n",
              "      <td>1</td>\n",
              "      <td>2.001540</td>\n",
              "      <td>1.900322</td>\n",
              "      <td>0.389893</td>\n",
              "      <td>00:01</td>\n",
              "    </tr>\n",
              "    <tr>\n",
              "      <td>2</td>\n",
              "      <td>1.608183</td>\n",
              "      <td>1.681775</td>\n",
              "      <td>0.458903</td>\n",
              "      <td>00:01</td>\n",
              "    </tr>\n",
              "    <tr>\n",
              "      <td>3</td>\n",
              "      <td>1.303667</td>\n",
              "      <td>1.817880</td>\n",
              "      <td>0.547282</td>\n",
              "      <td>00:01</td>\n",
              "    </tr>\n",
              "    <tr>\n",
              "      <td>4</td>\n",
              "      <td>0.955920</td>\n",
              "      <td>1.617195</td>\n",
              "      <td>0.660156</td>\n",
              "      <td>00:01</td>\n",
              "    </tr>\n",
              "    <tr>\n",
              "      <td>5</td>\n",
              "      <td>0.642353</td>\n",
              "      <td>1.451181</td>\n",
              "      <td>0.739502</td>\n",
              "      <td>00:02</td>\n",
              "    </tr>\n",
              "    <tr>\n",
              "      <td>6</td>\n",
              "      <td>0.415039</td>\n",
              "      <td>1.283370</td>\n",
              "      <td>0.766927</td>\n",
              "      <td>00:01</td>\n",
              "    </tr>\n",
              "    <tr>\n",
              "      <td>7</td>\n",
              "      <td>0.272555</td>\n",
              "      <td>1.210567</td>\n",
              "      <td>0.804525</td>\n",
              "      <td>00:01</td>\n",
              "    </tr>\n",
              "    <tr>\n",
              "      <td>8</td>\n",
              "      <td>0.182805</td>\n",
              "      <td>1.258596</td>\n",
              "      <td>0.813802</td>\n",
              "      <td>00:01</td>\n",
              "    </tr>\n",
              "    <tr>\n",
              "      <td>9</td>\n",
              "      <td>0.123646</td>\n",
              "      <td>1.198145</td>\n",
              "      <td>0.825521</td>\n",
              "      <td>00:01</td>\n",
              "    </tr>\n",
              "    <tr>\n",
              "      <td>10</td>\n",
              "      <td>0.084361</td>\n",
              "      <td>1.268569</td>\n",
              "      <td>0.828206</td>\n",
              "      <td>00:01</td>\n",
              "    </tr>\n",
              "    <tr>\n",
              "      <td>11</td>\n",
              "      <td>0.059044</td>\n",
              "      <td>1.272061</td>\n",
              "      <td>0.829671</td>\n",
              "      <td>00:01</td>\n",
              "    </tr>\n",
              "    <tr>\n",
              "      <td>12</td>\n",
              "      <td>0.045184</td>\n",
              "      <td>1.283718</td>\n",
              "      <td>0.830811</td>\n",
              "      <td>00:01</td>\n",
              "    </tr>\n",
              "    <tr>\n",
              "      <td>13</td>\n",
              "      <td>0.037661</td>\n",
              "      <td>1.259657</td>\n",
              "      <td>0.832438</td>\n",
              "      <td>00:01</td>\n",
              "    </tr>\n",
              "    <tr>\n",
              "      <td>14</td>\n",
              "      <td>0.034258</td>\n",
              "      <td>1.260861</td>\n",
              "      <td>0.832520</td>\n",
              "      <td>00:01</td>\n",
              "    </tr>\n",
              "  </tbody>\n",
              "</table>"
            ],
            "text/plain": [
              "<IPython.core.display.HTML object>"
            ]
          },
          "metadata": {}
        }
      ]
    },
    {
      "cell_type": "markdown",
      "metadata": {
        "id": "c4aDqwBRWV1Z"
      },
      "source": [
        "Comparison with using LSTM"
      ]
    },
    {
      "cell_type": "code",
      "metadata": {
        "id": "Hpz8OP1KL3yP"
      },
      "source": [
        "class LMModelLSTM(Module):\n",
        "    def __init__(self, vocab_sz, n_hidden, n_layers, drop_prob=0.2):\n",
        "        self.i_h = nn.Embedding(vocab_sz, n_hidden)\n",
        "        self.rnn = nn.LSTM(n_hidden, n_hidden, n_layers, batch_first=True, dropout=drop_prob)\n",
        "        self.h_o = nn.Linear(n_hidden, vocab_sz)\n",
        "        self.h = [torch.zeros(n_layers, bs, n_hidden) for _ in range(2)]\n",
        "        \n",
        "    def forward(self, x):\n",
        "        res,h = self.rnn(self.i_h(x), self.h)\n",
        "        self.h = [h_.detach() for h_ in h]\n",
        "        return self.h_o(res)\n",
        "    \n",
        "    def reset(self): \n",
        "        for h in self.h: h.zero_()"
      ],
      "execution_count": 65,
      "outputs": []
    },
    {
      "cell_type": "code",
      "metadata": {
        "id": "jTg5sBjXQRk7",
        "outputId": "fbb6e44d-b997-429d-e07b-86a6ad853cb7",
        "colab": {
          "base_uri": "https://localhost:8080/",
          "height": 520
        }
      },
      "source": [
        "learn = Learner(dls, LMModelLSTM(len(vocab), 64, 2, 0.4), \n",
        "                loss_func=CrossEntropyLossFlat(), \n",
        "                metrics=accuracy, cbs=ModelResetter)\n",
        "learn.fit_one_cycle(15, 1e-2, wd=0.1)"
      ],
      "execution_count": 66,
      "outputs": [
        {
          "output_type": "display_data",
          "data": {
            "text/html": [
              "<table border=\"1\" class=\"dataframe\">\n",
              "  <thead>\n",
              "    <tr style=\"text-align: left;\">\n",
              "      <th>epoch</th>\n",
              "      <th>train_loss</th>\n",
              "      <th>valid_loss</th>\n",
              "      <th>accuracy</th>\n",
              "      <th>time</th>\n",
              "    </tr>\n",
              "  </thead>\n",
              "  <tbody>\n",
              "    <tr>\n",
              "      <td>0</td>\n",
              "      <td>3.011736</td>\n",
              "      <td>2.735395</td>\n",
              "      <td>0.274333</td>\n",
              "      <td>00:01</td>\n",
              "    </tr>\n",
              "    <tr>\n",
              "      <td>1</td>\n",
              "      <td>2.237267</td>\n",
              "      <td>2.028148</td>\n",
              "      <td>0.274414</td>\n",
              "      <td>00:01</td>\n",
              "    </tr>\n",
              "    <tr>\n",
              "      <td>2</td>\n",
              "      <td>1.683535</td>\n",
              "      <td>1.702606</td>\n",
              "      <td>0.465251</td>\n",
              "      <td>00:01</td>\n",
              "    </tr>\n",
              "    <tr>\n",
              "      <td>3</td>\n",
              "      <td>1.412406</td>\n",
              "      <td>1.683675</td>\n",
              "      <td>0.486572</td>\n",
              "      <td>00:01</td>\n",
              "    </tr>\n",
              "    <tr>\n",
              "      <td>4</td>\n",
              "      <td>1.196439</td>\n",
              "      <td>1.715379</td>\n",
              "      <td>0.541178</td>\n",
              "      <td>00:01</td>\n",
              "    </tr>\n",
              "    <tr>\n",
              "      <td>5</td>\n",
              "      <td>0.948837</td>\n",
              "      <td>1.705389</td>\n",
              "      <td>0.625977</td>\n",
              "      <td>00:01</td>\n",
              "    </tr>\n",
              "    <tr>\n",
              "      <td>6</td>\n",
              "      <td>0.743227</td>\n",
              "      <td>1.578199</td>\n",
              "      <td>0.707113</td>\n",
              "      <td>00:01</td>\n",
              "    </tr>\n",
              "    <tr>\n",
              "      <td>7</td>\n",
              "      <td>0.550748</td>\n",
              "      <td>1.382865</td>\n",
              "      <td>0.747314</td>\n",
              "      <td>00:01</td>\n",
              "    </tr>\n",
              "    <tr>\n",
              "      <td>8</td>\n",
              "      <td>0.409136</td>\n",
              "      <td>1.231079</td>\n",
              "      <td>0.753174</td>\n",
              "      <td>00:01</td>\n",
              "    </tr>\n",
              "    <tr>\n",
              "      <td>9</td>\n",
              "      <td>0.314691</td>\n",
              "      <td>1.240279</td>\n",
              "      <td>0.767904</td>\n",
              "      <td>00:01</td>\n",
              "    </tr>\n",
              "    <tr>\n",
              "      <td>10</td>\n",
              "      <td>0.254628</td>\n",
              "      <td>1.306546</td>\n",
              "      <td>0.758057</td>\n",
              "      <td>00:01</td>\n",
              "    </tr>\n",
              "    <tr>\n",
              "      <td>11</td>\n",
              "      <td>0.215497</td>\n",
              "      <td>1.337574</td>\n",
              "      <td>0.773844</td>\n",
              "      <td>00:01</td>\n",
              "    </tr>\n",
              "    <tr>\n",
              "      <td>12</td>\n",
              "      <td>0.183235</td>\n",
              "      <td>1.225411</td>\n",
              "      <td>0.785156</td>\n",
              "      <td>00:01</td>\n",
              "    </tr>\n",
              "    <tr>\n",
              "      <td>13</td>\n",
              "      <td>0.162217</td>\n",
              "      <td>1.173204</td>\n",
              "      <td>0.792969</td>\n",
              "      <td>00:01</td>\n",
              "    </tr>\n",
              "    <tr>\n",
              "      <td>14</td>\n",
              "      <td>0.151785</td>\n",
              "      <td>1.180517</td>\n",
              "      <td>0.792562</td>\n",
              "      <td>00:01</td>\n",
              "    </tr>\n",
              "  </tbody>\n",
              "</table>"
            ],
            "text/plain": [
              "<IPython.core.display.HTML object>"
            ]
          },
          "metadata": {}
        }
      ]
    },
    {
      "cell_type": "markdown",
      "metadata": {
        "id": "NPRv9vEuWZJZ"
      },
      "source": [
        "It is shown that GRU has better result than LSTM method"
      ]
    }
  ]
}