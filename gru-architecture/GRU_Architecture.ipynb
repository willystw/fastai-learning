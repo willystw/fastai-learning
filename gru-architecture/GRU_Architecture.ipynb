{
  "nbformat": 4,
  "nbformat_minor": 0,
  "metadata": {
    "colab": {
      "name": "GRU Architecture.ipynb",
      "provenance": [],
      "authorship_tag": "ABX9TyOIZWZc677lLGfIOTN84dqK",
      "include_colab_link": true
    },
    "kernelspec": {
      "name": "python3",
      "display_name": "Python 3"
    },
    "language_info": {
      "name": "python"
    },
    "accelerator": "GPU"
  },
  "cells": [
    {
      "cell_type": "markdown",
      "metadata": {
        "id": "view-in-github",
        "colab_type": "text"
      },
      "source": [
        "<a href=\"https://colab.research.google.com/github/willystw/fastai-learning/blob/gru-implementation/gru-architecture/GRU_Architecture.ipynb\" target=\"_parent\"><img src=\"https://colab.research.google.com/assets/colab-badge.svg\" alt=\"Open In Colab\"/></a>"
      ]
    },
    {
      "cell_type": "code",
      "metadata": {
        "colab": {
          "base_uri": "https://localhost:8080/"
        },
        "id": "WO65Ijw0p4oa",
        "outputId": "720d4426-548d-421d-b888-0cfc67bdf5c5"
      },
      "source": [
        "#hide\n",
        "!pip install -Uqq fastbook\n",
        "import fastbook\n",
        "fastbook.setup_book()"
      ],
      "execution_count": 1,
      "outputs": [
        {
          "output_type": "stream",
          "name": "stdout",
          "text": [
            "\u001b[K     |████████████████████████████████| 720 kB 5.2 MB/s \n",
            "\u001b[K     |████████████████████████████████| 1.2 MB 42.3 MB/s \n",
            "\u001b[K     |████████████████████████████████| 46 kB 3.7 MB/s \n",
            "\u001b[K     |████████████████████████████████| 186 kB 53.9 MB/s \n",
            "\u001b[K     |████████████████████████████████| 56 kB 3.7 MB/s \n",
            "\u001b[K     |████████████████████████████████| 51 kB 283 kB/s \n",
            "\u001b[?25hMounted at /content/gdrive\n"
          ]
        }
      ]
    },
    {
      "cell_type": "code",
      "metadata": {
        "id": "Qi05lVYYqAmD"
      },
      "source": [
        "#hide\n",
        "from fastbook import *"
      ],
      "execution_count": 3,
      "outputs": []
    },
    {
      "cell_type": "markdown",
      "metadata": {
        "id": "SjWMv_ZdyX04"
      },
      "source": [
        "Implement Gated Recurrent Unit"
      ]
    },
    {
      "cell_type": "code",
      "metadata": {
        "id": "mtI2-KKItwso"
      },
      "source": [
        "from IPython.display import SVG\n",
        "def show_svg():\n",
        "    display(SVG(url='https://upload.wikimedia.org/wikipedia/commons/3/37/Gated_Recurrent_Unit%2C_base_type.svg'))"
      ],
      "execution_count": 9,
      "outputs": []
    },
    {
      "cell_type": "code",
      "metadata": {
        "colab": {
          "base_uri": "https://localhost:8080/",
          "height": 437
        },
        "id": "xAc5fvo1txTZ",
        "outputId": "6f13e967-0c35-4b34-b9ab-470606d889ad"
      },
      "source": [
        "show_svg()"
      ],
      "execution_count": 10,
      "outputs": [
        {
          "output_type": "display_data",
          "data": {
            "text/plain": [
              "<IPython.core.display.SVG object>"
            ],
            "image/svg+xml": "<svg height=\"11cm\" viewBox=\"540 560 432 219\" width=\"22cm\" xmlns=\"http://www.w3.org/2000/svg\" xmlns:xlink=\"http://www.w3.org/1999/xlink\">\n  <defs/>\n  <g id=\"Bakgrunn\">\n    <rect height=\"144.963\" rx=\"20\" ry=\"20\" style=\"fill: #b9ffa8; fill-opacity: 1; stroke-opacity: 1; stroke-width: 2; stroke-linejoin: round; stroke: #22aa39\" width=\"300\" x=\"600\" y=\"600\"/>\n    <g>\n      <line style=\"fill: none; stroke-opacity: 1; stroke-width: 2; stroke-linejoin: round; stroke: #000000\" x1=\"590\" x2=\"935.528\" y1=\"620\" y2=\"620\"/>\n      <polyline points=\"585,615 590,620 585,625 \" style=\"fill: none; stroke-opacity: 1; stroke-width: 2; stroke: #000000\"/>\n      <polyline points=\"927.764,625 937.764,620 927.764,615 \" style=\"fill: none; stroke-opacity: 1; stroke-width: 2; stroke: #000000\"/>\n    </g>\n    <text font-size=\"12.8\" style=\"fill: #000000; fill-opacity: 1; stroke: none;text-anchor:start;font-family:sans-serif;font-style:normal;font-weight:normal\" x=\"540\" y=\"624\">\n      <tspan x=\"540\" y=\"624\">h[t-1]</tspan>\n    </text>\n    <text font-size=\"12.8\" style=\"fill: #000000; fill-opacity: 1; stroke: none;text-anchor:start;font-family:sans-serif;font-style:normal;font-weight:normal\" x=\"948\" y=\"624\">\n      <tspan x=\"948\" y=\"624\">h[t]</tspan>\n    </text>\n    <g>\n      <line style=\"fill: none; stroke-opacity: 1; stroke-width: 2; stroke-linejoin: round; stroke: #000000\" x1=\"900\" x2=\"912.929\" y1=\"620\" y2=\"620\"/>\n      <path d=\"M 912.929,620 A 7.07107,7.07107 0 0 0 920,612.929\" style=\"fill: none; stroke-opacity: 1; stroke-width: 2; stroke-linejoin: round; stroke: #000000\"/>\n      <line style=\"fill: none; stroke-opacity: 1; stroke-width: 2; stroke-linejoin: round; stroke: #000000\" x1=\"920\" x2=\"920\" y1=\"612.929\" y2=\"584.472\"/>\n      <polyline points=\"925,592.236 920,582.236 915,592.236 \" style=\"fill: none; stroke-opacity: 1; stroke-width: 2; stroke: #000000\"/>\n    </g>\n    <g>\n      <line style=\"fill: none; stroke-opacity: 1; stroke-width: 2; stroke-linejoin: round; stroke: #000000\" x1=\"796\" x2=\"796\" y1=\"688\" y2=\"672.485\"/>\n      <path d=\"M 796,672.485 A 8.48528,8.48528 0 0 1 804.485,664\" style=\"fill: none; stroke-opacity: 1; stroke-width: 2; stroke-linejoin: round; stroke: #000000\"/>\n      <line style=\"fill: none; stroke-opacity: 1; stroke-width: 2; stroke-linejoin: round; stroke: #000000\" x1=\"804.485\" x2=\"843.528\" y1=\"664\" y2=\"664\"/>\n      <polyline points=\"835.764,669 845.764,664 835.764,659 \" style=\"fill: none; stroke-opacity: 1; stroke-width: 2; stroke: #000000\"/>\n    </g>\n    <g>\n      <line style=\"fill: none; stroke-opacity: 1; stroke-width: 2; stroke-linejoin: round; stroke: #000000\" x1=\"704\" x2=\"846\" y1=\"728\" y2=\"728\"/>\n      <path d=\"M 846,728 A 10,10 0 0 0 856,718\" style=\"fill: none; stroke-opacity: 1; stroke-width: 2; stroke-linejoin: round; stroke: #000000\"/>\n      <line style=\"fill: none; stroke-opacity: 1; stroke-width: 2; stroke-linejoin: round; stroke: #000000\" x1=\"856\" x2=\"856\" y1=\"718\" y2=\"632.472\"/>\n      <polyline points=\"861,640.236 856,630.236 851,640.236 \" style=\"fill: none; stroke-opacity: 1; stroke-width: 2; stroke: #000000\"/>\n    </g>\n    <g>\n      <ellipse cx=\"855.386\" cy=\"662.334\" rx=\"10\" ry=\"10\" style=\"fill: #ffe19e; fill-opacity: 1; stroke-opacity: 1; stroke-width: 2; stroke: #caa556\"/>\n      <text font-size=\"12.8\" style=\"fill: #000000; fill-opacity: 1; stroke: none;text-anchor:start;font-family:sans-serif;font-style:normal;font-weight:normal\" x=\"850.262\" y=\"666.584\">\n        <tspan x=\"850.262\" y=\"666.584\">×</tspan>\n      </text>\n    </g>\n    <g>\n      <line style=\"fill: none; stroke-opacity: 1; stroke-width: 2; stroke-linejoin: round; stroke: #000000\" x1=\"708\" x2=\"786\" y1=\"716\" y2=\"716\"/>\n      <path d=\"M 786,716 A 10,10 0 0 0 796,706\" style=\"fill: none; stroke-opacity: 1; stroke-width: 2; stroke-linejoin: round; stroke: #000000\"/>\n      <line style=\"fill: none; stroke-opacity: 1; stroke-width: 2; stroke-linejoin: round; stroke: #000000\" x1=\"796\" x2=\"796\" y1=\"706\" y2=\"632.472\"/>\n      <polyline points=\"801,640.236 796,630.236 791,640.236 \" style=\"fill: none; stroke-opacity: 1; stroke-width: 2; stroke: #000000\"/>\n    </g>\n    <g>\n      <ellipse cx=\"795.666\" cy=\"619.334\" rx=\"10\" ry=\"10\" style=\"fill: #ffe19e; fill-opacity: 1; stroke-opacity: 1; stroke-width: 2; stroke: #caa556\"/>\n      <text font-size=\"12.8\" style=\"fill: #000000; fill-opacity: 1; stroke: none;text-anchor:start;font-family:sans-serif;font-style:normal;font-weight:normal\" x=\"790.542\" y=\"623.584\">\n        <tspan x=\"790.542\" y=\"623.584\">×</tspan>\n      </text>\n    </g>\n    <g>\n      <line style=\"fill: none; stroke-opacity: 1; stroke-width: 2; stroke-linejoin: round; stroke: #000000\" x1=\"716\" x2=\"728.929\" y1=\"716\" y2=\"716\"/>\n      <path d=\"M 728.929,716 A 7.07107,7.07107 0 0 0 736,708.929\" style=\"fill: none; stroke-opacity: 1; stroke-width: 2; stroke-linejoin: round; stroke: #000000\"/>\n      <line style=\"fill: none; stroke-opacity: 1; stroke-width: 2; stroke-linejoin: round; stroke: #000000\" x1=\"736\" x2=\"736\" y1=\"708.929\" y2=\"674\"/>\n      <path d=\"M 736,674 A 10,10 0 0 0 726,664\" style=\"fill: none; stroke-opacity: 1; stroke-width: 2; stroke-linejoin: round; stroke: #000000\"/>\n      <line style=\"fill: none; stroke-opacity: 1; stroke-width: 2; stroke-linejoin: round; stroke: #000000\" x1=\"726\" x2=\"704.472\" y1=\"664\" y2=\"664\"/>\n      <polyline points=\"712.236,659 702.236,664 712.236,669 \" style=\"fill: none; stroke-opacity: 1; stroke-width: 2; stroke: #000000\"/>\n    </g>\n    <g>\n      <line style=\"fill: none; stroke-opacity: 1; stroke-width: 2; stroke-linejoin: round; stroke: #000000\" x1=\"672\" x2=\"684.929\" y1=\"620\" y2=\"620\"/>\n      <path d=\"M 684.929,620 A 7.07107,7.07107 0 0 1 692,627.071\" style=\"fill: none; stroke-opacity: 1; stroke-width: 2; stroke-linejoin: round; stroke: #000000\"/>\n      <line style=\"fill: none; stroke-opacity: 1; stroke-width: 2; stroke-linejoin: round; stroke: #000000\" x1=\"692\" x2=\"692\" y1=\"627.071\" y2=\"718\"/>\n      <path d=\"M 692,718 A 10,10 0 0 0 702,728\" style=\"fill: none; stroke-opacity: 1; stroke-width: 2; stroke-linejoin: round; stroke: #000000\"/>\n      <line style=\"fill: none; stroke-opacity: 1; stroke-width: 2; stroke-linejoin: round; stroke: #000000\" x1=\"702\" x2=\"800\" y1=\"728\" y2=\"728\"/>\n    </g>\n    <g>\n      <line style=\"fill: none; stroke-opacity: 1; stroke-width: 2; stroke-linejoin: round; stroke: #000000\" x1=\"636\" x2=\"648.929\" y1=\"620\" y2=\"620\"/>\n      <path d=\"M 648.929,620 A 7.07107,7.07107 0 0 1 656,627.071\" style=\"fill: none; stroke-opacity: 1; stroke-width: 2; stroke-linejoin: round; stroke: #000000\"/>\n      <line style=\"fill: none; stroke-opacity: 1; stroke-width: 2; stroke-linejoin: round; stroke: #000000\" x1=\"656\" x2=\"656\" y1=\"627.071\" y2=\"706\"/>\n      <path d=\"M 656,706 A 10,10 0 0 0 666,716\" style=\"fill: none; stroke-opacity: 1; stroke-width: 2; stroke-linejoin: round; stroke: #000000\"/>\n      <line style=\"fill: none; stroke-opacity: 1; stroke-width: 2; stroke-linejoin: round; stroke: #000000\" x1=\"666\" x2=\"764\" y1=\"716\" y2=\"716\"/>\n    </g>\n    <g>\n      <line style=\"fill: none; stroke-opacity: 1; stroke-width: 2; stroke-linejoin: round; stroke: #000000\" x1=\"656\" x2=\"656\" y1=\"754\" y2=\"723.071\"/>\n      <path d=\"M 656,723.071 A 7.07107,7.07107 0 0 1 663.071,716\" style=\"fill: none; stroke-opacity: 1; stroke-width: 2; stroke-linejoin: round; stroke: #000000\"/>\n      <line style=\"fill: none; stroke-opacity: 1; stroke-width: 2; stroke-linejoin: round; stroke: #000000\" x1=\"663.071\" x2=\"676\" y1=\"716\" y2=\"716\"/>\n      <polyline points=\"651,759 656,754 661,759 \" style=\"fill: none; stroke-opacity: 1; stroke-width: 2; stroke: #000000\"/>\n    </g>\n    <g>\n      <ellipse cx=\"692\" cy=\"663.666\" rx=\"10\" ry=\"10\" style=\"fill: #ffe19e; fill-opacity: 1; stroke-opacity: 1; stroke-width: 2; stroke: #caa556\"/>\n      <text font-size=\"12.8\" style=\"fill: #000000; fill-opacity: 1; stroke: none;text-anchor:start;font-family:sans-serif;font-style:normal;font-weight:normal\" x=\"686.874\" y=\"667.916\">\n        <tspan x=\"686.874\" y=\"667.916\">×</tspan>\n      </text>\n    </g>\n    <g>\n      <line style=\"fill: none; stroke-opacity: 1; stroke-width: 2; stroke-linejoin: round; stroke: #000000\" x1=\"656\" x2=\"656\" y1=\"748\" y2=\"735.071\"/>\n      <path d=\"M 656,735.071 A 7.07107,7.07107 0 0 1 663.071,728\" style=\"fill: none; stroke-opacity: 1; stroke-width: 2; stroke-linejoin: round; stroke: #000000\"/>\n      <line style=\"fill: none; stroke-opacity: 1; stroke-width: 2; stroke-linejoin: round; stroke: #000000\" x1=\"663.071\" x2=\"700\" y1=\"728\" y2=\"728\"/>\n    </g>\n    <text font-size=\"12.8\" style=\"fill: #000000; fill-opacity: 1; stroke: none;text-anchor:start;font-family:sans-serif;font-style:normal;font-weight:normal\" x=\"644\" y=\"776\">\n      <tspan x=\"644\" y=\"776\">x[t]</tspan>\n    </text>\n    <text font-size=\"12.8\" style=\"fill: #000000; fill-opacity: 1; stroke: none;text-anchor:start;font-family:sans-serif;font-style:normal;font-weight:normal\" x=\"908\" y=\"572\">\n      <tspan x=\"908\" y=\"572\">ŷ[t]</tspan>\n    </text>\n    <text font-size=\"12.8\" style=\"fill: #000000; fill-opacity: 1; stroke: none;text-anchor:start;font-family:sans-serif;font-style:normal;font-weight:normal\" x=\"872\" y=\"676\">\n      <tspan x=\"872\" y=\"676\">ĥ[t]</tspan>\n    </text>\n    <text font-size=\"12.8\" style=\"fill: #000000; fill-opacity: 1; stroke: none;text-anchor:start;font-family:sans-serif;font-style:normal;font-weight:normal\" x=\"768\" y=\"676\">\n      <tspan x=\"768\" y=\"676\">z[t]</tspan>\n    </text>\n    <text font-size=\"12.8\" style=\"fill: #000000; fill-opacity: 1; stroke: none;text-anchor:start;font-family:sans-serif;font-style:normal;font-weight:normal\" x=\"728\" y=\"656\">\n      <tspan x=\"728\" y=\"656\">r[t]</tspan>\n    </text>\n    <g>\n      <line style=\"fill: none; stroke-opacity: 1; stroke-width: 2; stroke-linejoin: round; stroke: #000000\" x1=\"826\" x2=\"844\" y1=\"692\" y2=\"692\"/>\n      <path d=\"M 821,697 A 5,5 0 1 0 821,687\" style=\"fill: none; stroke-opacity: 1; stroke-width: 2; stroke: #000000\"/>\n    </g>\n    <g>\n      <line style=\"fill: none; stroke-opacity: 1; stroke-width: 2; stroke: #000000\" x1=\"706\" x2=\"724\" y1=\"692\" y2=\"692\"/>\n      <path d=\"M 701,697 A 5,5 0 1 0 701,687\" style=\"fill: none; stroke-opacity: 1; stroke-width: 2; stroke: #000000\"/>\n    </g>\n    <g>\n      <line style=\"fill: none; stroke-opacity: 1; stroke-width: 2; stroke: #000000\" x1=\"766\" x2=\"784\" y1=\"692\" y2=\"692\"/>\n      <path d=\"M 761,697 A 5,5 0 1 0 761,687\" style=\"fill: none; stroke-opacity: 1; stroke-width: 2; stroke: #000000\"/>\n    </g>\n    <g>\n      <rect height=\"16\" rx=\"0\" ry=\"0\" style=\"fill: #a4bdf1; fill-opacity: 1; stroke-opacity: 1; stroke-width: 2; stroke: #6582bf\" width=\"40\" x=\"716\" y=\"684\"/>\n      <text font-size=\"12.8\" style=\"fill: #000000; fill-opacity: 1; stroke: none;text-anchor:start;font-family:sans-serif;font-style:normal;font-weight:normal\" x=\"732\" y=\"696\">\n        <tspan x=\"732\" y=\"696\">σ</tspan>\n      </text>\n    </g>\n    <g>\n      <rect height=\"16\" rx=\"0\" ry=\"0\" style=\"fill: #a4bdf1; fill-opacity: 1; stroke-opacity: 1; stroke-width: 2; stroke: #6582bf\" width=\"40\" x=\"776\" y=\"684\"/>\n      <text font-size=\"12.8\" style=\"fill: #000000; fill-opacity: 1; stroke: none;text-anchor:start;font-family:sans-serif;font-style:normal;font-weight:normal\" x=\"792\" y=\"696\">\n        <tspan x=\"792\" y=\"696\">σ</tspan>\n      </text>\n    </g>\n    <g>\n      <rect height=\"16\" rx=\"0\" ry=\"0\" style=\"fill: #a4bdf1; fill-opacity: 1; stroke-opacity: 1; stroke-width: 2; stroke: #6582bf\" width=\"40\" x=\"836\" y=\"684\"/>\n      <text font-size=\"12.8\" style=\"fill: #000000; fill-opacity: 1; stroke: none;text-anchor:start;font-family:sans-serif;font-style:normal;font-weight:normal\" x=\"841.666\" y=\"695.666\">\n        <tspan x=\"841.666\" y=\"695.666\">tanh</tspan>\n      </text>\n    </g>\n    <g transform=\"matrix(1,0,0,0.908549,0,60.1279)\">\n      <ellipse cx=\"795.967\" cy=\"651.549\" rx=\"17\" ry=\"10\" style=\"fill: #ffe19e; fill-opacity: 1; stroke-opacity: 1; stroke-width: 2; stroke: #caa556\"/>\n      <text font-size=\"12.8\" style=\"fill: #000000; fill-opacity: 1; stroke: none;text-anchor:start;font-family:sans-serif;font-style:normal;font-weight:normal\" x=\"789.967\" y=\"655.799\">\n        <tspan x=\"789.967\" y=\"655.799\">1-</tspan>\n      </text>\n    </g>\n    <g>\n      <ellipse cx=\"855.666\" cy=\"619.666\" rx=\"10\" ry=\"10\" style=\"fill: #ffe19e; fill-opacity: 1; stroke-opacity: 1; stroke-width: 2; stroke: #caa556\"/>\n      <text font-size=\"12.8\" style=\"fill: #000000; fill-opacity: 1; stroke: none;text-anchor:start;font-family:sans-serif;font-style:normal;font-weight:normal\" x=\"850.542\" y=\"623.916\">\n        <tspan x=\"850.542\" y=\"623.916\">+</tspan>\n      </text>\n    </g>\n  </g>\n</svg>"
          },
          "metadata": {}
        }
      ]
    },
    {
      "cell_type": "code",
      "metadata": {
        "id": "ByTvwc2aqRQu"
      },
      "source": [
        "class GRUImpl(Module):\n",
        "  def __init__(self, ni, nh):\n",
        "    self.reset_gate = nn.Linear(ni+nh, nh)\n",
        "    self.update_gate = nn.Linear(ni+nh, nh)\n",
        "\n",
        "  def forward(self, input, state):\n",
        "    h,_ = state\n",
        "    h_1 = torch.cat([h, input], dim = 1)\n",
        "    reset = torch.sigmoid(self.reset_gate(h_1))\n",
        "    update = torch.sigmoid(self.update_gate(h_1))\n",
        "    h_2 = torch.cat([reset * h, input], dim = 1)\n",
        "    \n",
        "    out = torch.tanh(h_2)\n",
        "    h *= (1 - update)\n",
        "    h += (activation * update)\n",
        "\n",
        "    return h"
      ],
      "execution_count": 24,
      "outputs": []
    },
    {
      "cell_type": "markdown",
      "metadata": {
        "id": "x_vvhSCQ2En7"
      },
      "source": [
        "Simplified version to do one big matrix operation"
      ]
    },
    {
      "cell_type": "code",
      "metadata": {
        "id": "FzQtDNyj0Np1"
      },
      "source": [
        "class GRUImpl(Module):\n",
        "  def __init__(self, ni, nh):\n",
        "    self.ih = nn.Linear(ni, 2*nh)\n",
        "    self.hh = nn.Linear(nh, 2*nh)\n",
        "  def forward(self, input, state):\n",
        "    h = state\n",
        "    gates = (self.ih(input) + self.hh(h)).chunk(2,1)\n",
        "    resetgate, updategate = map(torch.sigmoid, gates[:2])\n",
        "\n",
        "    out = torch.tanh(torch.cat([resetgate * h, input], dim = 1))\n",
        "    h *= (1 - updategate)\n",
        "    h += (out * updategate)\n",
        "\n",
        "    return h"
      ],
      "execution_count": 25,
      "outputs": []
    },
    {
      "cell_type": "code",
      "metadata": {
        "id": "jzaPHvrE2brY"
      },
      "source": [
        ""
      ],
      "execution_count": null,
      "outputs": []
    }
  ]
}