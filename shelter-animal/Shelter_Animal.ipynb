{
  "nbformat": 4,
  "nbformat_minor": 0,
  "metadata": {
    "colab": {
      "name": "Shelter Animal.ipynb",
      "provenance": [],
      "authorship_tag": "ABX9TyMIWRwUUe+vFFpfRIr9CV0f",
      "include_colab_link": true
    },
    "kernelspec": {
      "name": "python3",
      "display_name": "Python 3"
    },
    "language_info": {
      "name": "python"
    },
    "accelerator": "GPU"
  },
  "cells": [
    {
      "cell_type": "markdown",
      "metadata": {
        "id": "view-in-github",
        "colab_type": "text"
      },
      "source": [
        "<a href=\"https://colab.research.google.com/github/willystw/fastai-learning/blob/shelter-animal/shelter-animal/Shelter_Animal.ipynb\" target=\"_parent\"><img src=\"https://colab.research.google.com/assets/colab-badge.svg\" alt=\"Open In Colab\"/></a>"
      ]
    },
    {
      "cell_type": "code",
      "metadata": {
        "colab": {
          "base_uri": "https://localhost:8080/"
        },
        "id": "9NDVhD47iUhm",
        "outputId": "a8f5a2ac-2db7-473d-c1c4-fb5a619b8342"
      },
      "source": [
        "#hide\n",
        "!pip install -Uqq fastbook waterfallcharts treeinterpreter dtreeviz\n",
        "!pip install --upgrade --force-reinstall --no-deps kaggle\n",
        "import fastbook\n",
        "fastbook.setup_book()"
      ],
      "execution_count": 2,
      "outputs": [
        {
          "output_type": "stream",
          "name": "stdout",
          "text": [
            "\u001b[K     |████████████████████████████████| 720 kB 5.2 MB/s \n",
            "\u001b[K     |████████████████████████████████| 61 kB 519 kB/s \n",
            "\u001b[K     |████████████████████████████████| 1.2 MB 31.4 MB/s \n",
            "\u001b[K     |████████████████████████████████| 46 kB 4.3 MB/s \n",
            "\u001b[K     |████████████████████████████████| 186 kB 46.5 MB/s \n",
            "\u001b[K     |████████████████████████████████| 56 kB 4.2 MB/s \n",
            "\u001b[K     |████████████████████████████████| 51 kB 307 kB/s \n",
            "\u001b[?25h  Building wheel for waterfallcharts (setup.py) ... \u001b[?25l\u001b[?25hdone\n",
            "  Building wheel for dtreeviz (setup.py) ... \u001b[?25l\u001b[?25hdone\n",
            "Collecting kaggle\n",
            "  Downloading kaggle-1.5.12.tar.gz (58 kB)\n",
            "\u001b[K     |████████████████████████████████| 58 kB 3.1 MB/s \n",
            "\u001b[?25hBuilding wheels for collected packages: kaggle\n",
            "  Building wheel for kaggle (setup.py) ... \u001b[?25l\u001b[?25hdone\n",
            "  Created wheel for kaggle: filename=kaggle-1.5.12-py3-none-any.whl size=73051 sha256=0660222194c0b4a0b93c4dfde54ceb146d3a918143334d3b537b0f672c260dd5\n",
            "  Stored in directory: /root/.cache/pip/wheels/62/d6/58/5853130f941e75b2177d281eb7e44b4a98ed46dd155f556dc5\n",
            "Successfully built kaggle\n",
            "Installing collected packages: kaggle\n",
            "  Attempting uninstall: kaggle\n",
            "    Found existing installation: kaggle 1.5.12\n",
            "    Uninstalling kaggle-1.5.12:\n",
            "      Successfully uninstalled kaggle-1.5.12\n",
            "Successfully installed kaggle-1.5.12\n",
            "Mounted at /content/gdrive\n"
          ]
        }
      ]
    },
    {
      "cell_type": "markdown",
      "metadata": {
        "id": "iBEnTvqZPhU0"
      },
      "source": [
        "Import kaggle.json"
      ]
    },
    {
      "cell_type": "code",
      "metadata": {
        "colab": {
          "base_uri": "https://localhost:8080/"
        },
        "id": "0RvHlk9rlAZ4",
        "outputId": "4868a0a6-cdf6-4597-9545-edf0f08cce63"
      },
      "source": [
        "!rm -r ~/.kaggle\n",
        "!mkdir ~/.kaggle\n",
        "!mv ./kaggle.json ~/.kaggle/\n",
        "!chmod 600 ~/.kaggle/kaggle.json"
      ],
      "execution_count": 3,
      "outputs": [
        {
          "output_type": "stream",
          "name": "stdout",
          "text": [
            "rm: cannot remove '/root/.kaggle': No such file or directory\n"
          ]
        }
      ]
    },
    {
      "cell_type": "code",
      "metadata": {
        "id": "UrAggRvEla2X"
      },
      "source": [
        "#hide\n",
        "from fastbook import *\n",
        "from kaggle import api\n",
        "from pandas.api.types import is_string_dtype, is_numeric_dtype, is_categorical_dtype\n",
        "from fastai.tabular.all import *\n",
        "from sklearn.ensemble import RandomForestRegressor\n",
        "import zipfile, gzip\n",
        "\n",
        "pd.options.display.max_rows = 20\n",
        "pd.options.display.max_columns = 8"
      ],
      "execution_count": 4,
      "outputs": []
    },
    {
      "cell_type": "code",
      "metadata": {
        "colab": {
          "base_uri": "https://localhost:8080/"
        },
        "id": "vxLOMrvVlo02",
        "outputId": "60c84f17-416c-4e53-f04b-cfb067f6aa56"
      },
      "source": [
        "!rm -r ~/shelter-animal-outcomes\n",
        "!mkdir ~/shelter-animal-outcomes\n",
        "    \n",
        "api.competition_download_cli('shelter-animal-outcomes', path='shelter-animal-outcomes')\n",
        "\n",
        "with zipfile.ZipFile('shelter-animal-outcomes/shelter-animal-outcomes.zip','r') as zip_ref:\n",
        "    zip_ref.extractall('data')\n",
        "\n",
        "with gzip.open('data/sample_submission.csv.gz') as f:\n",
        "    sample_submission = pd.read_csv(f)\n",
        "\n",
        "with gzip.open('data/test.csv.gz') as f:\n",
        "    test = pd.read_csv(f)\n",
        "\n",
        "with gzip.open('data/train.csv.gz') as f:\n",
        "    train = pd.read_csv(f, low_memory=False)\n"
      ],
      "execution_count": 5,
      "outputs": [
        {
          "output_type": "stream",
          "name": "stdout",
          "text": [
            "rm: cannot remove '/root/shelter-animal-outcomes': No such file or directory\n",
            "Downloading shelter-animal-outcomes.zip to shelter-animal-outcomes\n"
          ]
        },
        {
          "output_type": "stream",
          "name": "stderr",
          "text": [
            "100%|██████████| 716k/716k [00:00<00:00, 57.8MB/s]"
          ]
        },
        {
          "output_type": "stream",
          "name": "stdout",
          "text": [
            "\n"
          ]
        },
        {
          "output_type": "stream",
          "name": "stderr",
          "text": [
            "\n"
          ]
        }
      ]
    },
    {
      "cell_type": "code",
      "metadata": {
        "id": "eV-PKh5bxVRA",
        "colab": {
          "base_uri": "https://localhost:8080/",
          "height": 206
        },
        "outputId": "f05d7d5f-015a-445d-ef84-9645d43c1605"
      },
      "source": [
        "sample_submission.head()"
      ],
      "execution_count": 6,
      "outputs": [
        {
          "output_type": "execute_result",
          "data": {
            "text/html": [
              "<div>\n",
              "<style scoped>\n",
              "    .dataframe tbody tr th:only-of-type {\n",
              "        vertical-align: middle;\n",
              "    }\n",
              "\n",
              "    .dataframe tbody tr th {\n",
              "        vertical-align: top;\n",
              "    }\n",
              "\n",
              "    .dataframe thead th {\n",
              "        text-align: right;\n",
              "    }\n",
              "</style>\n",
              "<table border=\"1\" class=\"dataframe\">\n",
              "  <thead>\n",
              "    <tr style=\"text-align: right;\">\n",
              "      <th></th>\n",
              "      <th>ID</th>\n",
              "      <th>Adoption</th>\n",
              "      <th>Died</th>\n",
              "      <th>Euthanasia</th>\n",
              "      <th>Return_to_owner</th>\n",
              "      <th>Transfer</th>\n",
              "    </tr>\n",
              "  </thead>\n",
              "  <tbody>\n",
              "    <tr>\n",
              "      <th>0</th>\n",
              "      <td>1</td>\n",
              "      <td>1</td>\n",
              "      <td>0</td>\n",
              "      <td>0</td>\n",
              "      <td>0</td>\n",
              "      <td>0</td>\n",
              "    </tr>\n",
              "    <tr>\n",
              "      <th>1</th>\n",
              "      <td>2</td>\n",
              "      <td>1</td>\n",
              "      <td>0</td>\n",
              "      <td>0</td>\n",
              "      <td>0</td>\n",
              "      <td>0</td>\n",
              "    </tr>\n",
              "    <tr>\n",
              "      <th>2</th>\n",
              "      <td>3</td>\n",
              "      <td>1</td>\n",
              "      <td>0</td>\n",
              "      <td>0</td>\n",
              "      <td>0</td>\n",
              "      <td>0</td>\n",
              "    </tr>\n",
              "    <tr>\n",
              "      <th>3</th>\n",
              "      <td>4</td>\n",
              "      <td>1</td>\n",
              "      <td>0</td>\n",
              "      <td>0</td>\n",
              "      <td>0</td>\n",
              "      <td>0</td>\n",
              "    </tr>\n",
              "    <tr>\n",
              "      <th>4</th>\n",
              "      <td>5</td>\n",
              "      <td>1</td>\n",
              "      <td>0</td>\n",
              "      <td>0</td>\n",
              "      <td>0</td>\n",
              "      <td>0</td>\n",
              "    </tr>\n",
              "  </tbody>\n",
              "</table>\n",
              "</div>"
            ],
            "text/plain": [
              "   ID  Adoption  Died  Euthanasia  Return_to_owner  Transfer\n",
              "0   1         1     0           0                0         0\n",
              "1   2         1     0           0                0         0\n",
              "2   3         1     0           0                0         0\n",
              "3   4         1     0           0                0         0\n",
              "4   5         1     0           0                0         0"
            ]
          },
          "metadata": {},
          "execution_count": 6
        }
      ]
    },
    {
      "cell_type": "code",
      "metadata": {
        "id": "ziJ7nR-vl2nP",
        "colab": {
          "base_uri": "https://localhost:8080/",
          "height": 206
        },
        "outputId": "bf70d414-d328-4171-c17c-1c89f9a8ae8e"
      },
      "source": [
        "test.head()"
      ],
      "execution_count": 7,
      "outputs": [
        {
          "output_type": "execute_result",
          "data": {
            "text/html": [
              "<div>\n",
              "<style scoped>\n",
              "    .dataframe tbody tr th:only-of-type {\n",
              "        vertical-align: middle;\n",
              "    }\n",
              "\n",
              "    .dataframe tbody tr th {\n",
              "        vertical-align: top;\n",
              "    }\n",
              "\n",
              "    .dataframe thead th {\n",
              "        text-align: right;\n",
              "    }\n",
              "</style>\n",
              "<table border=\"1\" class=\"dataframe\">\n",
              "  <thead>\n",
              "    <tr style=\"text-align: right;\">\n",
              "      <th></th>\n",
              "      <th>ID</th>\n",
              "      <th>Name</th>\n",
              "      <th>DateTime</th>\n",
              "      <th>AnimalType</th>\n",
              "      <th>SexuponOutcome</th>\n",
              "      <th>AgeuponOutcome</th>\n",
              "      <th>Breed</th>\n",
              "      <th>Color</th>\n",
              "    </tr>\n",
              "  </thead>\n",
              "  <tbody>\n",
              "    <tr>\n",
              "      <th>0</th>\n",
              "      <td>1</td>\n",
              "      <td>Summer</td>\n",
              "      <td>2015-10-12 12:15:00</td>\n",
              "      <td>Dog</td>\n",
              "      <td>Intact Female</td>\n",
              "      <td>10 months</td>\n",
              "      <td>Labrador Retriever Mix</td>\n",
              "      <td>Red/White</td>\n",
              "    </tr>\n",
              "    <tr>\n",
              "      <th>1</th>\n",
              "      <td>2</td>\n",
              "      <td>Cheyenne</td>\n",
              "      <td>2014-07-26 17:59:00</td>\n",
              "      <td>Dog</td>\n",
              "      <td>Spayed Female</td>\n",
              "      <td>2 years</td>\n",
              "      <td>German Shepherd/Siberian Husky</td>\n",
              "      <td>Black/Tan</td>\n",
              "    </tr>\n",
              "    <tr>\n",
              "      <th>2</th>\n",
              "      <td>3</td>\n",
              "      <td>Gus</td>\n",
              "      <td>2016-01-13 12:20:00</td>\n",
              "      <td>Cat</td>\n",
              "      <td>Neutered Male</td>\n",
              "      <td>1 year</td>\n",
              "      <td>Domestic Shorthair Mix</td>\n",
              "      <td>Brown Tabby</td>\n",
              "    </tr>\n",
              "    <tr>\n",
              "      <th>3</th>\n",
              "      <td>4</td>\n",
              "      <td>Pongo</td>\n",
              "      <td>2013-12-28 18:12:00</td>\n",
              "      <td>Dog</td>\n",
              "      <td>Intact Male</td>\n",
              "      <td>4 months</td>\n",
              "      <td>Collie Smooth Mix</td>\n",
              "      <td>Tricolor</td>\n",
              "    </tr>\n",
              "    <tr>\n",
              "      <th>4</th>\n",
              "      <td>5</td>\n",
              "      <td>Skooter</td>\n",
              "      <td>2015-09-24 17:59:00</td>\n",
              "      <td>Dog</td>\n",
              "      <td>Neutered Male</td>\n",
              "      <td>2 years</td>\n",
              "      <td>Miniature Poodle Mix</td>\n",
              "      <td>White</td>\n",
              "    </tr>\n",
              "  </tbody>\n",
              "</table>\n",
              "</div>"
            ],
            "text/plain": [
              "   ID      Name             DateTime AnimalType SexuponOutcome AgeuponOutcome  \\\n",
              "0   1    Summer  2015-10-12 12:15:00        Dog  Intact Female      10 months   \n",
              "1   2  Cheyenne  2014-07-26 17:59:00        Dog  Spayed Female        2 years   \n",
              "2   3       Gus  2016-01-13 12:20:00        Cat  Neutered Male         1 year   \n",
              "3   4     Pongo  2013-12-28 18:12:00        Dog    Intact Male       4 months   \n",
              "4   5   Skooter  2015-09-24 17:59:00        Dog  Neutered Male        2 years   \n",
              "\n",
              "                            Breed        Color  \n",
              "0          Labrador Retriever Mix    Red/White  \n",
              "1  German Shepherd/Siberian Husky    Black/Tan  \n",
              "2          Domestic Shorthair Mix  Brown Tabby  \n",
              "3               Collie Smooth Mix     Tricolor  \n",
              "4            Miniature Poodle Mix        White  "
            ]
          },
          "metadata": {},
          "execution_count": 7
        }
      ]
    },
    {
      "cell_type": "code",
      "metadata": {
        "id": "tydmaujvtTwl",
        "colab": {
          "base_uri": "https://localhost:8080/",
          "height": 236
        },
        "outputId": "1b65ea6f-04e8-4261-adcb-8945a7526daa"
      },
      "source": [
        "train.head()"
      ],
      "execution_count": 8,
      "outputs": [
        {
          "output_type": "execute_result",
          "data": {
            "text/html": [
              "<div>\n",
              "<style scoped>\n",
              "    .dataframe tbody tr th:only-of-type {\n",
              "        vertical-align: middle;\n",
              "    }\n",
              "\n",
              "    .dataframe tbody tr th {\n",
              "        vertical-align: top;\n",
              "    }\n",
              "\n",
              "    .dataframe thead th {\n",
              "        text-align: right;\n",
              "    }\n",
              "</style>\n",
              "<table border=\"1\" class=\"dataframe\">\n",
              "  <thead>\n",
              "    <tr style=\"text-align: right;\">\n",
              "      <th></th>\n",
              "      <th>AnimalID</th>\n",
              "      <th>Name</th>\n",
              "      <th>DateTime</th>\n",
              "      <th>OutcomeType</th>\n",
              "      <th>...</th>\n",
              "      <th>SexuponOutcome</th>\n",
              "      <th>AgeuponOutcome</th>\n",
              "      <th>Breed</th>\n",
              "      <th>Color</th>\n",
              "    </tr>\n",
              "  </thead>\n",
              "  <tbody>\n",
              "    <tr>\n",
              "      <th>0</th>\n",
              "      <td>A671945</td>\n",
              "      <td>Hambone</td>\n",
              "      <td>2014-02-12 18:22:00</td>\n",
              "      <td>Return_to_owner</td>\n",
              "      <td>...</td>\n",
              "      <td>Neutered Male</td>\n",
              "      <td>1 year</td>\n",
              "      <td>Shetland Sheepdog Mix</td>\n",
              "      <td>Brown/White</td>\n",
              "    </tr>\n",
              "    <tr>\n",
              "      <th>1</th>\n",
              "      <td>A656520</td>\n",
              "      <td>Emily</td>\n",
              "      <td>2013-10-13 12:44:00</td>\n",
              "      <td>Euthanasia</td>\n",
              "      <td>...</td>\n",
              "      <td>Spayed Female</td>\n",
              "      <td>1 year</td>\n",
              "      <td>Domestic Shorthair Mix</td>\n",
              "      <td>Cream Tabby</td>\n",
              "    </tr>\n",
              "    <tr>\n",
              "      <th>2</th>\n",
              "      <td>A686464</td>\n",
              "      <td>Pearce</td>\n",
              "      <td>2015-01-31 12:28:00</td>\n",
              "      <td>Adoption</td>\n",
              "      <td>...</td>\n",
              "      <td>Neutered Male</td>\n",
              "      <td>2 years</td>\n",
              "      <td>Pit Bull Mix</td>\n",
              "      <td>Blue/White</td>\n",
              "    </tr>\n",
              "    <tr>\n",
              "      <th>3</th>\n",
              "      <td>A683430</td>\n",
              "      <td>NaN</td>\n",
              "      <td>2014-07-11 19:09:00</td>\n",
              "      <td>Transfer</td>\n",
              "      <td>...</td>\n",
              "      <td>Intact Male</td>\n",
              "      <td>3 weeks</td>\n",
              "      <td>Domestic Shorthair Mix</td>\n",
              "      <td>Blue Cream</td>\n",
              "    </tr>\n",
              "    <tr>\n",
              "      <th>4</th>\n",
              "      <td>A667013</td>\n",
              "      <td>NaN</td>\n",
              "      <td>2013-11-15 12:52:00</td>\n",
              "      <td>Transfer</td>\n",
              "      <td>...</td>\n",
              "      <td>Neutered Male</td>\n",
              "      <td>2 years</td>\n",
              "      <td>Lhasa Apso/Miniature Poodle</td>\n",
              "      <td>Tan</td>\n",
              "    </tr>\n",
              "  </tbody>\n",
              "</table>\n",
              "<p>5 rows × 10 columns</p>\n",
              "</div>"
            ],
            "text/plain": [
              "  AnimalID     Name             DateTime      OutcomeType  ... SexuponOutcome  \\\n",
              "0  A671945  Hambone  2014-02-12 18:22:00  Return_to_owner  ...  Neutered Male   \n",
              "1  A656520    Emily  2013-10-13 12:44:00       Euthanasia  ...  Spayed Female   \n",
              "2  A686464   Pearce  2015-01-31 12:28:00         Adoption  ...  Neutered Male   \n",
              "3  A683430      NaN  2014-07-11 19:09:00         Transfer  ...    Intact Male   \n",
              "4  A667013      NaN  2013-11-15 12:52:00         Transfer  ...  Neutered Male   \n",
              "\n",
              "  AgeuponOutcome                        Breed        Color  \n",
              "0         1 year        Shetland Sheepdog Mix  Brown/White  \n",
              "1         1 year       Domestic Shorthair Mix  Cream Tabby  \n",
              "2        2 years                 Pit Bull Mix   Blue/White  \n",
              "3        3 weeks       Domestic Shorthair Mix   Blue Cream  \n",
              "4        2 years  Lhasa Apso/Miniature Poodle          Tan  \n",
              "\n",
              "[5 rows x 10 columns]"
            ]
          },
          "metadata": {},
          "execution_count": 8
        }
      ]
    },
    {
      "cell_type": "code",
      "metadata": {
        "id": "v0E-plWLMEwS",
        "colab": {
          "base_uri": "https://localhost:8080/"
        },
        "outputId": "a6b486ae-40fd-4f3d-a56c-0ac3bf744013"
      },
      "source": [
        "train['OutcomeType'].unique()"
      ],
      "execution_count": 9,
      "outputs": [
        {
          "output_type": "execute_result",
          "data": {
            "text/plain": [
              "array(['Return_to_owner', 'Euthanasia', 'Adoption', 'Transfer', 'Died'], dtype=object)"
            ]
          },
          "metadata": {},
          "execution_count": 9
        }
      ]
    },
    {
      "cell_type": "code",
      "metadata": {
        "id": "mwvYfI7i3s20"
      },
      "source": [
        "dep_var = 'OutcomeType'"
      ],
      "execution_count": 10,
      "outputs": []
    },
    {
      "cell_type": "code",
      "metadata": {
        "id": "uf2w7vma3YBM"
      },
      "source": [
        "cont, cat = cont_cat_split(train, 1 , dep_var)"
      ],
      "execution_count": 11,
      "outputs": []
    },
    {
      "cell_type": "code",
      "metadata": {
        "id": "_t1EG1Kw4UNR"
      },
      "source": [
        "procs = [Categorify, FillMissing]"
      ],
      "execution_count": 12,
      "outputs": []
    },
    {
      "cell_type": "markdown",
      "metadata": {
        "id": "Bs2XmjHsJl-e"
      },
      "source": [
        "Create TabularPandas"
      ]
    },
    {
      "cell_type": "code",
      "metadata": {
        "id": "GPQYiwck35GT"
      },
      "source": [
        "train_tabular = TabularPandas(train, procs, cat, cont, y_names=dep_var, splits=RandomSplitter(valid_pct=0.2)(range_of(train)), y_block = CategoryBlock())"
      ],
      "execution_count": 13,
      "outputs": []
    },
    {
      "cell_type": "code",
      "metadata": {
        "id": "us_KigAGcMke"
      },
      "source": [
        "#Outcome result from model based on index\n",
        "outcomes = ['Adoption','Died','Euthanasia', 'Return_to_owner','Transfer']"
      ],
      "execution_count": 14,
      "outputs": []
    },
    {
      "cell_type": "code",
      "metadata": {
        "id": "6BfWqUlo5QKu"
      },
      "source": [
        "xs,y = train_tabular.train.xs, train_tabular.train.y\n",
        "\n",
        "valid_x,valid_y = train_tabular.valid.xs, train_tabular.valid.y"
      ],
      "execution_count": 15,
      "outputs": []
    },
    {
      "cell_type": "code",
      "metadata": {
        "id": "09gewL-z5SVG",
        "colab": {
          "base_uri": "https://localhost:8080/"
        },
        "outputId": "f4e7218b-4f6f-498d-8bf4-a1888fbf7c23"
      },
      "source": [
        "len(train_tabular.train), len(train_tabular.valid)"
      ],
      "execution_count": 16,
      "outputs": [
        {
          "output_type": "execute_result",
          "data": {
            "text/plain": [
              "(21384, 5345)"
            ]
          },
          "metadata": {},
          "execution_count": 16
        }
      ]
    },
    {
      "cell_type": "markdown",
      "metadata": {
        "id": "ZcQRp-EprI64"
      },
      "source": [
        "## Get Important Features using Random Forest"
      ]
    },
    {
      "cell_type": "markdown",
      "metadata": {
        "id": "Xv_SGsYxJuMO"
      },
      "source": [
        "Define random forest function"
      ]
    },
    {
      "cell_type": "code",
      "metadata": {
        "id": "G2GFntCq5aeN"
      },
      "source": [
        "def rf(xs, y, n_estimators=25, max_samples=10_000,\n",
        "       max_features=0.5, min_samples_leaf=5, **kwargs):\n",
        "    return RandomForestRegressor(n_jobs=-1, n_estimators=n_estimators,\n",
        "        max_samples=max_samples, max_features=max_features,\n",
        "        min_samples_leaf=min_samples_leaf, oob_score=True).fit(xs, y)"
      ],
      "execution_count": 17,
      "outputs": []
    },
    {
      "cell_type": "code",
      "metadata": {
        "id": "tKiAmQcT5kDV"
      },
      "source": [
        "m = rf(xs, y)"
      ],
      "execution_count": 18,
      "outputs": []
    },
    {
      "cell_type": "code",
      "metadata": {
        "id": "xOdfdYIy54v-"
      },
      "source": [
        "def rf_feat_importance(m, df):\n",
        "    return pd.DataFrame({'cols':df.columns, 'imp':m.feature_importances_}\n",
        "                       ).sort_values('imp', ascending=False)"
      ],
      "execution_count": 19,
      "outputs": []
    },
    {
      "cell_type": "code",
      "metadata": {
        "id": "H2Z_6HRQ7S8-"
      },
      "source": [
        "#Define error function\n",
        "def r_mse(pred,y): return round(math.sqrt(((pred-y)**2).mean()), 6)\n",
        "def m_rmse(m, xs, y): return r_mse(m.predict(xs), y)"
      ],
      "execution_count": 20,
      "outputs": []
    },
    {
      "cell_type": "code",
      "metadata": {
        "id": "xd2EO66b70oD"
      },
      "source": [
        "xs_drop = xs.drop(['OutcomeSubtype', 'DateTime'], axis=1)\n",
        "valid_x_drop = valid_x.drop(['OutcomeSubtype','DateTime'], axis=1)"
      ],
      "execution_count": 21,
      "outputs": []
    },
    {
      "cell_type": "code",
      "metadata": {
        "id": "IwmSJqlE8G8K"
      },
      "source": [
        "m = rf(xs_drop, y)"
      ],
      "execution_count": 22,
      "outputs": []
    },
    {
      "cell_type": "code",
      "metadata": {
        "id": "BVhYLIky78Lf"
      },
      "source": [
        "fi = rf_feat_importance(m, xs_drop)"
      ],
      "execution_count": 23,
      "outputs": []
    },
    {
      "cell_type": "code",
      "metadata": {
        "id": "m6eX3x3058F9",
        "colab": {
          "base_uri": "https://localhost:8080/"
        },
        "outputId": "d0f6ade3-844d-42f3-93d2-54436fe1de41"
      },
      "source": [
        "m_rmse(m, xs_drop, y), m_rmse(m, valid_x_drop, valid_y)"
      ],
      "execution_count": 24,
      "outputs": [
        {
          "output_type": "execute_result",
          "data": {
            "text/plain": [
              "(1.245885, 1.449473)"
            ]
          },
          "metadata": {},
          "execution_count": 24
        }
      ]
    },
    {
      "cell_type": "code",
      "metadata": {
        "id": "tQzk5m8K7f_X",
        "colab": {
          "base_uri": "https://localhost:8080/"
        },
        "outputId": "fb2cdd78-43d7-4c19-84c3-b88540b4b3b0"
      },
      "source": [
        "r_mse(m.oob_prediction_, y)"
      ],
      "execution_count": 25,
      "outputs": [
        {
          "output_type": "execute_result",
          "data": {
            "text/plain": [
              "1.454037"
            ]
          },
          "metadata": {},
          "execution_count": 25
        }
      ]
    },
    {
      "cell_type": "markdown",
      "metadata": {
        "id": "fBVFqRNuN3BK"
      },
      "source": [
        "Filter importance that has value greater than 0.005"
      ]
    },
    {
      "cell_type": "code",
      "metadata": {
        "id": "F8GgnCeZ7gUf",
        "colab": {
          "base_uri": "https://localhost:8080/"
        },
        "outputId": "93e1c8a8-bf3e-4f10-e719-d4a1184d156e"
      },
      "source": [
        "to_keep = fi[fi.imp>0.005].cols\n",
        "len(to_keep)"
      ],
      "execution_count": 26,
      "outputs": [
        {
          "output_type": "execute_result",
          "data": {
            "text/plain": [
              "7"
            ]
          },
          "metadata": {},
          "execution_count": 26
        }
      ]
    },
    {
      "cell_type": "code",
      "metadata": {
        "id": "F6MXeZ0y81z_"
      },
      "source": [
        "xs_imp = xs_drop[to_keep]\n",
        "valid_x_imp = valid_x_drop[to_keep]"
      ],
      "execution_count": 27,
      "outputs": []
    },
    {
      "cell_type": "code",
      "metadata": {
        "id": "VWco0_WH87GB"
      },
      "source": [
        "m = rf(xs_imp, y)"
      ],
      "execution_count": 28,
      "outputs": []
    },
    {
      "cell_type": "code",
      "metadata": {
        "id": "FfB4p3a08hTP"
      },
      "source": [
        "def plot_fi(fi):\n",
        "    return fi.plot('cols', 'imp', 'barh', figsize=(12,7), legend=False)"
      ],
      "execution_count": 29,
      "outputs": []
    },
    {
      "cell_type": "code",
      "metadata": {
        "id": "nke8o0S98rLf",
        "colab": {
          "base_uri": "https://localhost:8080/",
          "height": 431
        },
        "outputId": "3146e195-4abe-4a19-fe15-2ea9ff3d2757"
      },
      "source": [
        "plot_fi(rf_feat_importance(m, xs_imp));"
      ],
      "execution_count": 30,
      "outputs": [
        {
          "output_type": "display_data",
          "data": {
            "image/png": "[encoded data removed]",
            "text/plain": [
              "<Figure size 864x504 with 1 Axes>"
            ]
          },
          "metadata": {
            "needs_background": "light"
          }
        }
      ]
    },
    {
      "cell_type": "code",
      "metadata": {
        "id": "KfAqnk4f8uG3",
        "colab": {
          "base_uri": "https://localhost:8080/",
          "height": 377
        },
        "outputId": "9543c6c8-cc4d-475f-81f4-a5c0cb0d0220"
      },
      "source": [
        "cluster_columns(xs_imp)"
      ],
      "execution_count": 31,
      "outputs": [
        {
          "output_type": "display_data",
          "data": {
            "image/png": "[encoded data removed]",
            "text/plain": [
              "<Figure size 720x432 with 1 Axes>"
            ]
          },
          "metadata": {
            "needs_background": "light"
          }
        }
      ]
    },
    {
      "cell_type": "code",
      "metadata": {
        "id": "J9bvorTh9Cfa"
      },
      "source": [
        "#Define Out Of Bag Score\n",
        "def get_oob(df):\n",
        "    m = RandomForestRegressor(n_estimators=40, min_samples_leaf=15,\n",
        "        max_samples=5000, max_features=0.5, n_jobs=-1, oob_score=True)\n",
        "    m.fit(df, y)\n",
        "    return m.oob_score_"
      ],
      "execution_count": 32,
      "outputs": []
    },
    {
      "cell_type": "code",
      "metadata": {
        "id": "UxGYTjO1oRCD"
      },
      "source": [
        "to_drop = []"
      ],
      "execution_count": 33,
      "outputs": []
    },
    {
      "cell_type": "code",
      "metadata": {
        "id": "Dzpj9syI9kzJ"
      },
      "source": [
        "xs_final = xs_imp.drop(to_drop, axis=1)\n",
        "valid_x_final = valid_x_imp.drop(to_drop, axis=1)"
      ],
      "execution_count": 34,
      "outputs": []
    },
    {
      "cell_type": "code",
      "metadata": {
        "id": "iMuyYhtr9ojw",
        "colab": {
          "base_uri": "https://localhost:8080/",
          "height": 238
        },
        "outputId": "d7f7228c-7f2b-4c0b-ca07-50adaafc0f6d"
      },
      "source": [
        "df_dom = pd.concat([xs_final, valid_x_final])\n",
        "is_valid = np.array([0]*len(xs_final) + [1]*len(valid_x_final))\n",
        "\n",
        "m = rf(df_dom, is_valid)\n",
        "rf_feat_importance(m, df_dom)[:6]"
      ],
      "execution_count": 35,
      "outputs": [
        {
          "output_type": "execute_result",
          "data": {
            "text/html": [
              "<div>\n",
              "<style scoped>\n",
              "    .dataframe tbody tr th:only-of-type {\n",
              "        vertical-align: middle;\n",
              "    }\n",
              "\n",
              "    .dataframe tbody tr th {\n",
              "        vertical-align: top;\n",
              "    }\n",
              "\n",
              "    .dataframe thead th {\n",
              "        text-align: right;\n",
              "    }\n",
              "</style>\n",
              "<table border=\"1\" class=\"dataframe\">\n",
              "  <thead>\n",
              "    <tr style=\"text-align: right;\">\n",
              "      <th></th>\n",
              "      <th>cols</th>\n",
              "      <th>imp</th>\n",
              "    </tr>\n",
              "  </thead>\n",
              "  <tbody>\n",
              "    <tr>\n",
              "      <th>3</th>\n",
              "      <td>AnimalID</td>\n",
              "      <td>0.302287</td>\n",
              "    </tr>\n",
              "    <tr>\n",
              "      <th>1</th>\n",
              "      <td>Name</td>\n",
              "      <td>0.213189</td>\n",
              "    </tr>\n",
              "    <tr>\n",
              "      <th>4</th>\n",
              "      <td>Color</td>\n",
              "      <td>0.154557</td>\n",
              "    </tr>\n",
              "    <tr>\n",
              "      <th>5</th>\n",
              "      <td>Breed</td>\n",
              "      <td>0.133993</td>\n",
              "    </tr>\n",
              "    <tr>\n",
              "      <th>2</th>\n",
              "      <td>AgeuponOutcome</td>\n",
              "      <td>0.129014</td>\n",
              "    </tr>\n",
              "    <tr>\n",
              "      <th>0</th>\n",
              "      <td>SexuponOutcome</td>\n",
              "      <td>0.054361</td>\n",
              "    </tr>\n",
              "  </tbody>\n",
              "</table>\n",
              "</div>"
            ],
            "text/plain": [
              "             cols       imp\n",
              "3        AnimalID  0.302287\n",
              "1            Name  0.213189\n",
              "4           Color  0.154557\n",
              "5           Breed  0.133993\n",
              "2  AgeuponOutcome  0.129014\n",
              "0  SexuponOutcome  0.054361"
            ]
          },
          "metadata": {},
          "execution_count": 35
        }
      ]
    },
    {
      "cell_type": "markdown",
      "metadata": {
        "id": "-5EYPXcPOGVo"
      },
      "source": [
        "Try dropping each feature to check if there is a big difference or not"
      ]
    },
    {
      "cell_type": "code",
      "metadata": {
        "id": "rwFHhT5y-FLq",
        "colab": {
          "base_uri": "https://localhost:8080/"
        },
        "outputId": "75a8cf84-f3d8-474a-f5f5-b6ec033da10b"
      },
      "source": [
        "m = rf(xs_final, y)\n",
        "print('orig', m_rmse(m, valid_x_final, valid_y))\n",
        "\n",
        "for c in ('AnimalID','Name'):\n",
        "    m = rf(xs_final.drop(c,axis=1), y)\n",
        "    print(c, m_rmse(m, valid_x_final.drop(c,axis=1), valid_y))"
      ],
      "execution_count": 36,
      "outputs": [
        {
          "output_type": "stream",
          "name": "stdout",
          "text": [
            "orig 1.447448\n",
            "AnimalID 1.452118\n",
            "Name 1.452422\n"
          ]
        }
      ]
    },
    {
      "cell_type": "markdown",
      "metadata": {
        "id": "yVxkkjoCONkb"
      },
      "source": [
        "No big difference detected, so it is safe to delete the features"
      ]
    },
    {
      "cell_type": "code",
      "metadata": {
        "id": "sTO6rGhW-E4T"
      },
      "source": [
        "time_vars = ['AnimalID','Name']\n",
        "xs_final_time = xs_final.drop(time_vars, axis=1)\n",
        "valid_x_time = valid_x_final.drop(time_vars, axis=1)"
      ],
      "execution_count": 37,
      "outputs": []
    },
    {
      "cell_type": "code",
      "metadata": {
        "id": "iMb7yEO9-dS3",
        "colab": {
          "base_uri": "https://localhost:8080/"
        },
        "outputId": "d230460e-56ab-48bd-b919-4902951dbc05"
      },
      "source": [
        "m = rf(xs_final_time, y)\n",
        "m_rmse(m, valid_x_time, valid_y)"
      ],
      "execution_count": 38,
      "outputs": [
        {
          "output_type": "execute_result",
          "data": {
            "text/plain": [
              "1.458378"
            ]
          },
          "metadata": {},
          "execution_count": 38
        }
      ]
    },
    {
      "cell_type": "markdown",
      "metadata": {
        "id": "e81hlPCEAC81"
      },
      "source": [
        "## Neural Network"
      ]
    },
    {
      "cell_type": "markdown",
      "metadata": {
        "id": "Wjancg1iPAee"
      },
      "source": [
        "Initialize data"
      ]
    },
    {
      "cell_type": "code",
      "metadata": {
        "id": "0jcP2oMtAD9p"
      },
      "source": [
        "with gzip.open('data/train.csv.gz') as f:\n",
        "    train_nn = pd.read_csv(f, low_memory=False)\n",
        "\n",
        "\n",
        "train_nn = add_datepart(train_nn, 'DateTime')"
      ],
      "execution_count": 39,
      "outputs": []
    },
    {
      "cell_type": "code",
      "metadata": {
        "id": "i4vY7nKgBWz1"
      },
      "source": [
        "train_nn_final = train_nn[list(xs_final_time.columns) + [dep_var]]"
      ],
      "execution_count": 40,
      "outputs": []
    },
    {
      "cell_type": "code",
      "metadata": {
        "id": "WxgOYR99BZ31"
      },
      "source": [
        "cont_nn,cat_nn = cont_cat_split(train_nn_final, max_card=2000, dep_var=dep_var)"
      ],
      "execution_count": 41,
      "outputs": []
    },
    {
      "cell_type": "code",
      "metadata": {
        "id": "PQYbtaKiBhM_",
        "colab": {
          "base_uri": "https://localhost:8080/"
        },
        "outputId": "59e3c587-954d-4638-b99c-3ce9dc15a92a"
      },
      "source": [
        "cont_nn, cat_nn"
      ],
      "execution_count": 42,
      "outputs": [
        {
          "output_type": "execute_result",
          "data": {
            "text/plain": [
              "([], ['SexuponOutcome', 'AgeuponOutcome', 'Color', 'Breed', 'AnimalType'])"
            ]
          },
          "metadata": {},
          "execution_count": 42
        }
      ]
    },
    {
      "cell_type": "code",
      "metadata": {
        "id": "P_hL2Uz-BmGp"
      },
      "source": [
        "procs_nn = [Categorify, FillMissing, Normalize]\n",
        "to_nn = TabularPandas(train_nn_final, procs_nn, cat_nn, cont_nn,\n",
        "                      splits=RandomSplitter(valid_pct=0.2)(range_of(train_nn)), y_names=dep_var, y_block = CategoryBlock())"
      ],
      "execution_count": 43,
      "outputs": []
    },
    {
      "cell_type": "code",
      "metadata": {
        "id": "VJhdxKIGB4Cf"
      },
      "source": [
        "dls = to_nn.dataloaders(256)"
      ],
      "execution_count": 44,
      "outputs": []
    },
    {
      "cell_type": "code",
      "metadata": {
        "id": "gkbR4C5FllU7",
        "colab": {
          "base_uri": "https://localhost:8080/",
          "height": 363
        },
        "outputId": "06a83f6e-70c0-4b30-b7db-f3822be08d79"
      },
      "source": [
        "dls.show_batch()"
      ],
      "execution_count": 45,
      "outputs": [
        {
          "output_type": "display_data",
          "data": {
            "text/html": [
              "<table border=\"1\" class=\"dataframe\">\n",
              "  <thead>\n",
              "    <tr style=\"text-align: right;\">\n",
              "      <th></th>\n",
              "      <th>SexuponOutcome</th>\n",
              "      <th>AgeuponOutcome</th>\n",
              "      <th>Color</th>\n",
              "      <th>Breed</th>\n",
              "      <th>AnimalType</th>\n",
              "      <th>OutcomeType</th>\n",
              "    </tr>\n",
              "  </thead>\n",
              "  <tbody>\n",
              "    <tr>\n",
              "      <th>0</th>\n",
              "      <td>Intact Male</td>\n",
              "      <td>1 month</td>\n",
              "      <td>Black/White</td>\n",
              "      <td>Domestic Shorthair Mix</td>\n",
              "      <td>Cat</td>\n",
              "      <td>Transfer</td>\n",
              "    </tr>\n",
              "    <tr>\n",
              "      <th>1</th>\n",
              "      <td>Spayed Female</td>\n",
              "      <td>2 years</td>\n",
              "      <td>White</td>\n",
              "      <td>Manx Mix</td>\n",
              "      <td>Cat</td>\n",
              "      <td>Adoption</td>\n",
              "    </tr>\n",
              "    <tr>\n",
              "      <th>2</th>\n",
              "      <td>Neutered Male</td>\n",
              "      <td>1 year</td>\n",
              "      <td>Black/White</td>\n",
              "      <td>Dachshund Mix</td>\n",
              "      <td>Dog</td>\n",
              "      <td>Transfer</td>\n",
              "    </tr>\n",
              "    <tr>\n",
              "      <th>3</th>\n",
              "      <td>Intact Female</td>\n",
              "      <td>1 year</td>\n",
              "      <td>Torbie</td>\n",
              "      <td>Domestic Shorthair Mix</td>\n",
              "      <td>Cat</td>\n",
              "      <td>Transfer</td>\n",
              "    </tr>\n",
              "    <tr>\n",
              "      <th>4</th>\n",
              "      <td>Neutered Male</td>\n",
              "      <td>2 years</td>\n",
              "      <td>Brown Brindle/White</td>\n",
              "      <td>Pembroke Welsh Corgi/Australian Shepherd</td>\n",
              "      <td>Dog</td>\n",
              "      <td>Return_to_owner</td>\n",
              "    </tr>\n",
              "    <tr>\n",
              "      <th>5</th>\n",
              "      <td>Spayed Female</td>\n",
              "      <td>8 months</td>\n",
              "      <td>Red/Black</td>\n",
              "      <td>Anatol Shepherd/Redbone Hound</td>\n",
              "      <td>Dog</td>\n",
              "      <td>Transfer</td>\n",
              "    </tr>\n",
              "    <tr>\n",
              "      <th>6</th>\n",
              "      <td>Spayed Female</td>\n",
              "      <td>16 years</td>\n",
              "      <td>Black</td>\n",
              "      <td>Labrador Retriever Mix</td>\n",
              "      <td>Dog</td>\n",
              "      <td>Return_to_owner</td>\n",
              "    </tr>\n",
              "    <tr>\n",
              "      <th>7</th>\n",
              "      <td>Intact Male</td>\n",
              "      <td>9 months</td>\n",
              "      <td>Red/White</td>\n",
              "      <td>Pit Bull/Dogue De Bordeaux</td>\n",
              "      <td>Dog</td>\n",
              "      <td>Return_to_owner</td>\n",
              "    </tr>\n",
              "    <tr>\n",
              "      <th>8</th>\n",
              "      <td>Spayed Female</td>\n",
              "      <td>3 months</td>\n",
              "      <td>Black</td>\n",
              "      <td>Domestic Medium Hair Mix</td>\n",
              "      <td>Cat</td>\n",
              "      <td>Adoption</td>\n",
              "    </tr>\n",
              "    <tr>\n",
              "      <th>9</th>\n",
              "      <td>Neutered Male</td>\n",
              "      <td>2 years</td>\n",
              "      <td>Brown/White</td>\n",
              "      <td>Pit Bull Mix</td>\n",
              "      <td>Dog</td>\n",
              "      <td>Adoption</td>\n",
              "    </tr>\n",
              "  </tbody>\n",
              "</table>"
            ],
            "text/plain": [
              "<IPython.core.display.HTML object>"
            ]
          },
          "metadata": {}
        }
      ]
    },
    {
      "cell_type": "markdown",
      "metadata": {
        "id": "fxn7fvosPC4B"
      },
      "source": [
        "Create learner"
      ]
    },
    {
      "cell_type": "code",
      "metadata": {
        "id": "mBF2ICFvB8XS"
      },
      "source": [
        "learn = tabular_learner(dls, layers=[500,250], loss_func= CrossEntropyLossFlat(), metrics=[accuracy, error_rate])"
      ],
      "execution_count": 46,
      "outputs": []
    },
    {
      "cell_type": "code",
      "metadata": {
        "id": "v9Q7wSaoCivh",
        "colab": {
          "base_uri": "https://localhost:8080/",
          "height": 306
        },
        "outputId": "3727fc43-dd71-4964-f870-1d6cfdc2723b"
      },
      "source": [
        "learn.lr_find()"
      ],
      "execution_count": 47,
      "outputs": [
        {
          "output_type": "display_data",
          "data": {
            "text/html": [
              ""
            ],
            "text/plain": [
              "<IPython.core.display.HTML object>"
            ]
          },
          "metadata": {}
        },
        {
          "output_type": "execute_result",
          "data": {
            "text/plain": [
              "SuggestedLRs(valley=0.0006918309954926372)"
            ]
          },
          "metadata": {},
          "execution_count": 47
        },
        {
          "output_type": "display_data",
          "data": {
            "image/png": "[encoded data removed]",
            "text/plain": [
              "<Figure size 432x288 with 1 Axes>"
            ]
          },
          "metadata": {
            "needs_background": "light"
          }
        }
      ]
    },
    {
      "cell_type": "code",
      "metadata": {
        "id": "xr2IEyMaCjAD",
        "colab": {
          "base_uri": "https://localhost:8080/",
          "height": 112
        },
        "outputId": "1cbe466d-bfc5-4fad-9a4f-016ab9a26677"
      },
      "source": [
        "learn.fit_one_cycle(2, 3e-2, wd=0.1)"
      ],
      "execution_count": 48,
      "outputs": [
        {
          "output_type": "display_data",
          "data": {
            "text/html": [
              "<table border=\"1\" class=\"dataframe\">\n",
              "  <thead>\n",
              "    <tr style=\"text-align: left;\">\n",
              "      <th>epoch</th>\n",
              "      <th>train_loss</th>\n",
              "      <th>valid_loss</th>\n",
              "      <th>accuracy</th>\n",
              "      <th>error_rate</th>\n",
              "      <th>time</th>\n",
              "    </tr>\n",
              "  </thead>\n",
              "  <tbody>\n",
              "    <tr>\n",
              "      <td>0</td>\n",
              "      <td>0.981868</td>\n",
              "      <td>0.946576</td>\n",
              "      <td>0.614967</td>\n",
              "      <td>0.385033</td>\n",
              "      <td>00:01</td>\n",
              "    </tr>\n",
              "    <tr>\n",
              "      <td>1</td>\n",
              "      <td>0.875741</td>\n",
              "      <td>0.903341</td>\n",
              "      <td>0.627877</td>\n",
              "      <td>0.372123</td>\n",
              "      <td>00:01</td>\n",
              "    </tr>\n",
              "  </tbody>\n",
              "</table>"
            ],
            "text/plain": [
              "<IPython.core.display.HTML object>"
            ]
          },
          "metadata": {}
        }
      ]
    },
    {
      "cell_type": "code",
      "metadata": {
        "id": "CXiQ_-D5d6Hi",
        "colab": {
          "base_uri": "https://localhost:8080/",
          "height": 307
        },
        "outputId": "5ccbf2ff-c1d7-40ed-81af-5787233fb72e"
      },
      "source": [
        "learn.lr_find()"
      ],
      "execution_count": 49,
      "outputs": [
        {
          "output_type": "display_data",
          "data": {
            "text/html": [
              ""
            ],
            "text/plain": [
              "<IPython.core.display.HTML object>"
            ]
          },
          "metadata": {}
        },
        {
          "output_type": "execute_result",
          "data": {
            "text/plain": [
              "SuggestedLRs(valley=0.001737800776027143)"
            ]
          },
          "metadata": {},
          "execution_count": 49
        },
        {
          "output_type": "display_data",
          "data": {
            "image/png": "[encoded data removed]",
            "text/plain": [
              "<Figure size 432x288 with 1 Axes>"
            ]
          },
          "metadata": {
            "needs_background": "light"
          }
        }
      ]
    },
    {
      "cell_type": "code",
      "metadata": {
        "id": "nZpLgKstd9ku",
        "colab": {
          "base_uri": "https://localhost:8080/",
          "height": 175
        },
        "outputId": "6c4b7365-6d86-4829-8c2a-572b35795b7b"
      },
      "source": [
        "learn.fit_one_cycle(4, 1e-4, wd=0.1)"
      ],
      "execution_count": 50,
      "outputs": [
        {
          "output_type": "display_data",
          "data": {
            "text/html": [
              "<table border=\"1\" class=\"dataframe\">\n",
              "  <thead>\n",
              "    <tr style=\"text-align: left;\">\n",
              "      <th>epoch</th>\n",
              "      <th>train_loss</th>\n",
              "      <th>valid_loss</th>\n",
              "      <th>accuracy</th>\n",
              "      <th>error_rate</th>\n",
              "      <th>time</th>\n",
              "    </tr>\n",
              "  </thead>\n",
              "  <tbody>\n",
              "    <tr>\n",
              "      <td>0</td>\n",
              "      <td>0.810191</td>\n",
              "      <td>0.902449</td>\n",
              "      <td>0.629373</td>\n",
              "      <td>0.370627</td>\n",
              "      <td>00:01</td>\n",
              "    </tr>\n",
              "    <tr>\n",
              "      <td>1</td>\n",
              "      <td>0.807938</td>\n",
              "      <td>0.903105</td>\n",
              "      <td>0.630122</td>\n",
              "      <td>0.369878</td>\n",
              "      <td>00:01</td>\n",
              "    </tr>\n",
              "    <tr>\n",
              "      <td>2</td>\n",
              "      <td>0.807023</td>\n",
              "      <td>0.905174</td>\n",
              "      <td>0.628812</td>\n",
              "      <td>0.371188</td>\n",
              "      <td>00:01</td>\n",
              "    </tr>\n",
              "    <tr>\n",
              "      <td>3</td>\n",
              "      <td>0.805739</td>\n",
              "      <td>0.904710</td>\n",
              "      <td>0.631057</td>\n",
              "      <td>0.368943</td>\n",
              "      <td>00:01</td>\n",
              "    </tr>\n",
              "  </tbody>\n",
              "</table>"
            ],
            "text/plain": [
              "<IPython.core.display.HTML object>"
            ]
          },
          "metadata": {}
        }
      ]
    },
    {
      "cell_type": "markdown",
      "metadata": {
        "id": "3UzAoWLcxolm"
      },
      "source": [
        "After training, we get 63% accuracy"
      ]
    },
    {
      "cell_type": "code",
      "metadata": {
        "id": "oL3SmyHnpKgC",
        "colab": {
          "base_uri": "https://localhost:8080/",
          "height": 332
        },
        "outputId": "31214c43-a919-46ae-cbbd-ddfbd725c166"
      },
      "source": [
        "# Show prediction and actual outcome\n",
        "learn.show_results()"
      ],
      "execution_count": 51,
      "outputs": [
        {
          "output_type": "display_data",
          "data": {
            "text/html": [
              ""
            ],
            "text/plain": [
              "<IPython.core.display.HTML object>"
            ]
          },
          "metadata": {}
        },
        {
          "output_type": "display_data",
          "data": {
            "text/html": [
              "<table border=\"1\" class=\"dataframe\">\n",
              "  <thead>\n",
              "    <tr style=\"text-align: right;\">\n",
              "      <th></th>\n",
              "      <th>SexuponOutcome</th>\n",
              "      <th>AgeuponOutcome</th>\n",
              "      <th>Color</th>\n",
              "      <th>Breed</th>\n",
              "      <th>AnimalType</th>\n",
              "      <th>OutcomeType</th>\n",
              "      <th>OutcomeType_pred</th>\n",
              "    </tr>\n",
              "  </thead>\n",
              "  <tbody>\n",
              "    <tr>\n",
              "      <th>0</th>\n",
              "      <td>4</td>\n",
              "      <td>35</td>\n",
              "      <td>321</td>\n",
              "      <td>451</td>\n",
              "      <td>2</td>\n",
              "      <td>4</td>\n",
              "      <td>0</td>\n",
              "    </tr>\n",
              "    <tr>\n",
              "      <th>1</th>\n",
              "      <td>2</td>\n",
              "      <td>3</td>\n",
              "      <td>168</td>\n",
              "      <td>641</td>\n",
              "      <td>1</td>\n",
              "      <td>1</td>\n",
              "      <td>4</td>\n",
              "    </tr>\n",
              "    <tr>\n",
              "      <th>2</th>\n",
              "      <td>2</td>\n",
              "      <td>3</td>\n",
              "      <td>263</td>\n",
              "      <td>641</td>\n",
              "      <td>1</td>\n",
              "      <td>0</td>\n",
              "      <td>4</td>\n",
              "    </tr>\n",
              "    <tr>\n",
              "      <th>3</th>\n",
              "      <td>2</td>\n",
              "      <td>26</td>\n",
              "      <td>6</td>\n",
              "      <td>641</td>\n",
              "      <td>1</td>\n",
              "      <td>4</td>\n",
              "      <td>4</td>\n",
              "    </tr>\n",
              "    <tr>\n",
              "      <th>4</th>\n",
              "      <td>3</td>\n",
              "      <td>27</td>\n",
              "      <td>105</td>\n",
              "      <td>641</td>\n",
              "      <td>1</td>\n",
              "      <td>0</td>\n",
              "      <td>4</td>\n",
              "    </tr>\n",
              "    <tr>\n",
              "      <th>5</th>\n",
              "      <td>3</td>\n",
              "      <td>29</td>\n",
              "      <td>39</td>\n",
              "      <td>1117</td>\n",
              "      <td>2</td>\n",
              "      <td>0</td>\n",
              "      <td>0</td>\n",
              "    </tr>\n",
              "    <tr>\n",
              "      <th>6</th>\n",
              "      <td>2</td>\n",
              "      <td>31</td>\n",
              "      <td>290</td>\n",
              "      <td>1236</td>\n",
              "      <td>2</td>\n",
              "      <td>4</td>\n",
              "      <td>4</td>\n",
              "    </tr>\n",
              "    <tr>\n",
              "      <th>7</th>\n",
              "      <td>2</td>\n",
              "      <td>6</td>\n",
              "      <td>39</td>\n",
              "      <td>641</td>\n",
              "      <td>1</td>\n",
              "      <td>4</td>\n",
              "      <td>4</td>\n",
              "    </tr>\n",
              "    <tr>\n",
              "      <th>8</th>\n",
              "      <td>4</td>\n",
              "      <td>37</td>\n",
              "      <td>6</td>\n",
              "      <td>641</td>\n",
              "      <td>1</td>\n",
              "      <td>0</td>\n",
              "      <td>0</td>\n",
              "    </tr>\n",
              "  </tbody>\n",
              "</table>"
            ],
            "text/plain": [
              "<IPython.core.display.HTML object>"
            ]
          },
          "metadata": {}
        }
      ]
    },
    {
      "cell_type": "markdown",
      "metadata": {
        "id": "nWhLAwrSO92Q"
      },
      "source": [
        "Get predictions"
      ]
    },
    {
      "cell_type": "code",
      "metadata": {
        "id": "u_n5B-lVGJ4P",
        "colab": {
          "base_uri": "https://localhost:8080/",
          "height": 17
        },
        "outputId": "83458c27-0e0e-472e-9d10-dc13568c8651"
      },
      "source": [
        "test_dl = learn.dls.test_dl(test)\n",
        "predictions = learn.get_preds(dl=test_dl)"
      ],
      "execution_count": 52,
      "outputs": [
        {
          "output_type": "display_data",
          "data": {
            "text/html": [
              ""
            ],
            "text/plain": [
              "<IPython.core.display.HTML object>"
            ]
          },
          "metadata": {}
        }
      ]
    },
    {
      "cell_type": "code",
      "metadata": {
        "id": "AOygDSzJgiF_",
        "colab": {
          "base_uri": "https://localhost:8080/",
          "height": 424
        },
        "outputId": "fa50c4ba-bd05-4cd3-8b0b-f50d3f010b95"
      },
      "source": [
        "x_df = pd.DataFrame(predictions[0])\n",
        "x_df.rename(columns = dict(enumerate(outcomes)), inplace = True)\n",
        "x_df"
      ],
      "execution_count": 53,
      "outputs": [
        {
          "output_type": "execute_result",
          "data": {
            "text/html": [
              "<div>\n",
              "<style scoped>\n",
              "    .dataframe tbody tr th:only-of-type {\n",
              "        vertical-align: middle;\n",
              "    }\n",
              "\n",
              "    .dataframe tbody tr th {\n",
              "        vertical-align: top;\n",
              "    }\n",
              "\n",
              "    .dataframe thead th {\n",
              "        text-align: right;\n",
              "    }\n",
              "</style>\n",
              "<table border=\"1\" class=\"dataframe\">\n",
              "  <thead>\n",
              "    <tr style=\"text-align: right;\">\n",
              "      <th></th>\n",
              "      <th>Adoption</th>\n",
              "      <th>Died</th>\n",
              "      <th>Euthanasia</th>\n",
              "      <th>Return_to_owner</th>\n",
              "      <th>Transfer</th>\n",
              "    </tr>\n",
              "  </thead>\n",
              "  <tbody>\n",
              "    <tr>\n",
              "      <th>0</th>\n",
              "      <td>0.038287</td>\n",
              "      <td>0.011396</td>\n",
              "      <td>0.064792</td>\n",
              "      <td>0.168556</td>\n",
              "      <td>0.716969</td>\n",
              "    </tr>\n",
              "    <tr>\n",
              "      <th>1</th>\n",
              "      <td>0.791775</td>\n",
              "      <td>0.000804</td>\n",
              "      <td>0.008289</td>\n",
              "      <td>0.136048</td>\n",
              "      <td>0.063084</td>\n",
              "    </tr>\n",
              "    <tr>\n",
              "      <th>2</th>\n",
              "      <td>0.385488</td>\n",
              "      <td>0.004642</td>\n",
              "      <td>0.037453</td>\n",
              "      <td>0.139829</td>\n",
              "      <td>0.432587</td>\n",
              "    </tr>\n",
              "    <tr>\n",
              "      <th>3</th>\n",
              "      <td>0.031909</td>\n",
              "      <td>0.013625</td>\n",
              "      <td>0.083213</td>\n",
              "      <td>0.074974</td>\n",
              "      <td>0.796280</td>\n",
              "    </tr>\n",
              "    <tr>\n",
              "      <th>4</th>\n",
              "      <td>0.537064</td>\n",
              "      <td>0.001407</td>\n",
              "      <td>0.013154</td>\n",
              "      <td>0.273176</td>\n",
              "      <td>0.175200</td>\n",
              "    </tr>\n",
              "    <tr>\n",
              "      <th>...</th>\n",
              "      <td>...</td>\n",
              "      <td>...</td>\n",
              "      <td>...</td>\n",
              "      <td>...</td>\n",
              "      <td>...</td>\n",
              "    </tr>\n",
              "    <tr>\n",
              "      <th>11451</th>\n",
              "      <td>0.895864</td>\n",
              "      <td>0.000600</td>\n",
              "      <td>0.001285</td>\n",
              "      <td>0.010628</td>\n",
              "      <td>0.091623</td>\n",
              "    </tr>\n",
              "    <tr>\n",
              "      <th>11452</th>\n",
              "      <td>0.002622</td>\n",
              "      <td>0.013044</td>\n",
              "      <td>0.032183</td>\n",
              "      <td>0.002997</td>\n",
              "      <td>0.949153</td>\n",
              "    </tr>\n",
              "    <tr>\n",
              "      <th>11453</th>\n",
              "      <td>0.009848</td>\n",
              "      <td>0.011696</td>\n",
              "      <td>0.091090</td>\n",
              "      <td>0.006715</td>\n",
              "      <td>0.880650</td>\n",
              "    </tr>\n",
              "    <tr>\n",
              "      <th>11454</th>\n",
              "      <td>0.378570</td>\n",
              "      <td>0.002825</td>\n",
              "      <td>0.034731</td>\n",
              "      <td>0.449352</td>\n",
              "      <td>0.134522</td>\n",
              "    </tr>\n",
              "    <tr>\n",
              "      <th>11455</th>\n",
              "      <td>0.010712</td>\n",
              "      <td>0.004568</td>\n",
              "      <td>0.122244</td>\n",
              "      <td>0.512225</td>\n",
              "      <td>0.350250</td>\n",
              "    </tr>\n",
              "  </tbody>\n",
              "</table>\n",
              "<p>11456 rows × 5 columns</p>\n",
              "</div>"
            ],
            "text/plain": [
              "       Adoption      Died  Euthanasia  Return_to_owner  Transfer\n",
              "0      0.038287  0.011396    0.064792         0.168556  0.716969\n",
              "1      0.791775  0.000804    0.008289         0.136048  0.063084\n",
              "2      0.385488  0.004642    0.037453         0.139829  0.432587\n",
              "3      0.031909  0.013625    0.083213         0.074974  0.796280\n",
              "4      0.537064  0.001407    0.013154         0.273176  0.175200\n",
              "...         ...       ...         ...              ...       ...\n",
              "11451  0.895864  0.000600    0.001285         0.010628  0.091623\n",
              "11452  0.002622  0.013044    0.032183         0.002997  0.949153\n",
              "11453  0.009848  0.011696    0.091090         0.006715  0.880650\n",
              "11454  0.378570  0.002825    0.034731         0.449352  0.134522\n",
              "11455  0.010712  0.004568    0.122244         0.512225  0.350250\n",
              "\n",
              "[11456 rows x 5 columns]"
            ]
          },
          "metadata": {},
          "execution_count": 53
        }
      ]
    },
    {
      "cell_type": "code",
      "metadata": {
        "id": "HKR7iVjuiqYh"
      },
      "source": [
        "x_df.to_csv('result.csv')"
      ],
      "execution_count": 54,
      "outputs": []
    }
  ]
}