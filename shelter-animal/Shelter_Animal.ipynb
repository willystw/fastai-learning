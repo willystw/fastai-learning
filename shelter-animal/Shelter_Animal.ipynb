{
  "nbformat": 4,
  "nbformat_minor": 0,
  "metadata": {
    "colab": {
      "name": "Shelter Animal.ipynb",
      "provenance": [],
      "authorship_tag": "ABX9TyOO0EAg5gWXsG/JhfLslChO",
      "include_colab_link": true
    },
    "kernelspec": {
      "name": "python3",
      "display_name": "Python 3"
    },
    "language_info": {
      "name": "python"
    },
    "accelerator": "GPU"
  },
  "cells": [
    {
      "cell_type": "markdown",
      "metadata": {
        "id": "view-in-github",
        "colab_type": "text"
      },
      "source": [
        "<a href=\"https://colab.research.google.com/github/willystw/fastai-learning/blob/shelter-animal/shelter-animal/Shelter_Animal.ipynb\" target=\"_parent\"><img src=\"https://colab.research.google.com/assets/colab-badge.svg\" alt=\"Open In Colab\"/></a>"
      ]
    },
    {
      "cell_type": "code",
      "metadata": {
        "colab": {
          "base_uri": "https://localhost:8080/"
        },
        "id": "9NDVhD47iUhm",
        "outputId": "05a3a6e5-069f-487e-bb18-c25596fd3fa4"
      },
      "source": [
        "#hide\n",
        "!pip install -Uqq fastbook waterfallcharts treeinterpreter dtreeviz\n",
        "!pip install --upgrade --force-reinstall --no-deps kaggle\n",
        "import fastbook\n",
        "fastbook.setup_book()"
      ],
      "execution_count": 1,
      "outputs": [
        {
          "output_type": "stream",
          "name": "stdout",
          "text": [
            "\u001b[K     |████████████████████████████████| 720 kB 4.0 MB/s \n",
            "\u001b[K     |████████████████████████████████| 61 kB 579 kB/s \n",
            "\u001b[K     |████████████████████████████████| 1.2 MB 34.0 MB/s \n",
            "\u001b[K     |████████████████████████████████| 46 kB 4.4 MB/s \n",
            "\u001b[K     |████████████████████████████████| 186 kB 53.0 MB/s \n",
            "\u001b[K     |████████████████████████████████| 56 kB 3.8 MB/s \n",
            "\u001b[K     |████████████████████████████████| 51 kB 323 kB/s \n",
            "\u001b[?25h  Building wheel for waterfallcharts (setup.py) ... \u001b[?25l\u001b[?25hdone\n",
            "  Building wheel for dtreeviz (setup.py) ... \u001b[?25l\u001b[?25hdone\n",
            "Collecting kaggle\n",
            "  Downloading kaggle-1.5.12.tar.gz (58 kB)\n",
            "\u001b[K     |████████████████████████████████| 58 kB 2.6 MB/s \n",
            "\u001b[?25hBuilding wheels for collected packages: kaggle\n",
            "  Building wheel for kaggle (setup.py) ... \u001b[?25l\u001b[?25hdone\n",
            "  Created wheel for kaggle: filename=kaggle-1.5.12-py3-none-any.whl size=73051 sha256=127afab3c3960f7b3c7ff61e8760a27a4d734d5f09a7ac3dd57bd866ffb5a3b5\n",
            "  Stored in directory: /root/.cache/pip/wheels/62/d6/58/5853130f941e75b2177d281eb7e44b4a98ed46dd155f556dc5\n",
            "Successfully built kaggle\n",
            "Installing collected packages: kaggle\n",
            "  Attempting uninstall: kaggle\n",
            "    Found existing installation: kaggle 1.5.12\n",
            "    Uninstalling kaggle-1.5.12:\n",
            "      Successfully uninstalled kaggle-1.5.12\n",
            "Successfully installed kaggle-1.5.12\n",
            "Mounted at /content/gdrive\n"
          ]
        }
      ]
    },
    {
      "cell_type": "code",
      "metadata": {
        "colab": {
          "base_uri": "https://localhost:8080/"
        },
        "id": "0RvHlk9rlAZ4",
        "outputId": "ff0b84dd-a5b7-48ac-f850-d0b669906df9"
      },
      "source": [
        "!rm -r ~/.kaggle\n",
        "!mkdir ~/.kaggle\n",
        "!mv ./kaggle.json ~/.kaggle/\n",
        "!chmod 600 ~/.kaggle/kaggle.json"
      ],
      "execution_count": 2,
      "outputs": [
        {
          "output_type": "stream",
          "name": "stdout",
          "text": [
            "rm: cannot remove '/root/.kaggle': No such file or directory\n"
          ]
        }
      ]
    },
    {
      "cell_type": "code",
      "metadata": {
        "id": "UrAggRvEla2X"
      },
      "source": [
        "#hide\n",
        "from fastbook import *\n",
        "from kaggle import api\n",
        "from pandas.api.types import is_string_dtype, is_numeric_dtype, is_categorical_dtype\n",
        "from fastai.tabular.all import *\n",
        "from sklearn.ensemble import RandomForestRegressor\n",
        "from sklearn.tree import DecisionTreeRegressor\n",
        "import zipfile, gzip\n",
        "\n",
        "pd.options.display.max_rows = 20\n",
        "pd.options.display.max_columns = 8"
      ],
      "execution_count": 3,
      "outputs": []
    },
    {
      "cell_type": "code",
      "metadata": {
        "colab": {
          "base_uri": "https://localhost:8080/"
        },
        "id": "vxLOMrvVlo02",
        "outputId": "d2216557-b315-4900-aa35-33e4f17c4a62"
      },
      "source": [
        "!rm -r ~/shelter-animal-outcomes\n",
        "!mkdir ~/shelter-animal-outcomes\n",
        "    \n",
        "api.competition_download_cli('shelter-animal-outcomes', path='shelter-animal-outcomes')\n",
        "\n",
        "with zipfile.ZipFile('shelter-animal-outcomes/shelter-animal-outcomes.zip','r') as zip_ref:\n",
        "    zip_ref.extractall('data')\n",
        "\n",
        "with gzip.open('data/sample_submission.csv.gz') as f:\n",
        "    sample_submission = pd.read_csv(f)\n",
        "\n",
        "with gzip.open('data/test.csv.gz') as f:\n",
        "    test = pd.read_csv(f)\n",
        "\n",
        "with gzip.open('data/train.csv.gz') as f:\n",
        "    train = pd.read_csv(f, low_memory=False)\n"
      ],
      "execution_count": 310,
      "outputs": [
        {
          "output_type": "stream",
          "name": "stdout",
          "text": [
            "shelter-animal-outcomes.zip: Skipping, found more recently modified local copy (use --force to force download)\n"
          ]
        }
      ]
    },
    {
      "cell_type": "code",
      "metadata": {
        "id": "eV-PKh5bxVRA",
        "colab": {
          "base_uri": "https://localhost:8080/",
          "height": 206
        },
        "outputId": "872b7000-03c7-45a4-f78f-58da6664eb2e"
      },
      "source": [
        "sample_submission.head()"
      ],
      "execution_count": 311,
      "outputs": [
        {
          "output_type": "execute_result",
          "data": {
            "text/html": [
              "<div>\n",
              "<style scoped>\n",
              "    .dataframe tbody tr th:only-of-type {\n",
              "        vertical-align: middle;\n",
              "    }\n",
              "\n",
              "    .dataframe tbody tr th {\n",
              "        vertical-align: top;\n",
              "    }\n",
              "\n",
              "    .dataframe thead th {\n",
              "        text-align: right;\n",
              "    }\n",
              "</style>\n",
              "<table border=\"1\" class=\"dataframe\">\n",
              "  <thead>\n",
              "    <tr style=\"text-align: right;\">\n",
              "      <th></th>\n",
              "      <th>ID</th>\n",
              "      <th>Adoption</th>\n",
              "      <th>Died</th>\n",
              "      <th>Euthanasia</th>\n",
              "      <th>Return_to_owner</th>\n",
              "      <th>Transfer</th>\n",
              "    </tr>\n",
              "  </thead>\n",
              "  <tbody>\n",
              "    <tr>\n",
              "      <th>0</th>\n",
              "      <td>1</td>\n",
              "      <td>1</td>\n",
              "      <td>0</td>\n",
              "      <td>0</td>\n",
              "      <td>0</td>\n",
              "      <td>0</td>\n",
              "    </tr>\n",
              "    <tr>\n",
              "      <th>1</th>\n",
              "      <td>2</td>\n",
              "      <td>1</td>\n",
              "      <td>0</td>\n",
              "      <td>0</td>\n",
              "      <td>0</td>\n",
              "      <td>0</td>\n",
              "    </tr>\n",
              "    <tr>\n",
              "      <th>2</th>\n",
              "      <td>3</td>\n",
              "      <td>1</td>\n",
              "      <td>0</td>\n",
              "      <td>0</td>\n",
              "      <td>0</td>\n",
              "      <td>0</td>\n",
              "    </tr>\n",
              "    <tr>\n",
              "      <th>3</th>\n",
              "      <td>4</td>\n",
              "      <td>1</td>\n",
              "      <td>0</td>\n",
              "      <td>0</td>\n",
              "      <td>0</td>\n",
              "      <td>0</td>\n",
              "    </tr>\n",
              "    <tr>\n",
              "      <th>4</th>\n",
              "      <td>5</td>\n",
              "      <td>1</td>\n",
              "      <td>0</td>\n",
              "      <td>0</td>\n",
              "      <td>0</td>\n",
              "      <td>0</td>\n",
              "    </tr>\n",
              "  </tbody>\n",
              "</table>\n",
              "</div>"
            ],
            "text/plain": [
              "   ID  Adoption  Died  Euthanasia  Return_to_owner  Transfer\n",
              "0   1         1     0           0                0         0\n",
              "1   2         1     0           0                0         0\n",
              "2   3         1     0           0                0         0\n",
              "3   4         1     0           0                0         0\n",
              "4   5         1     0           0                0         0"
            ]
          },
          "metadata": {},
          "execution_count": 311
        }
      ]
    },
    {
      "cell_type": "code",
      "metadata": {
        "id": "ziJ7nR-vl2nP",
        "colab": {
          "base_uri": "https://localhost:8080/",
          "height": 330
        },
        "outputId": "612f4498-1f52-4155-8161-3ed6263e56ab"
      },
      "source": [
        "test.head()"
      ],
      "execution_count": 312,
      "outputs": [
        {
          "output_type": "execute_result",
          "data": {
            "text/html": [
              "<div>\n",
              "<style scoped>\n",
              "    .dataframe tbody tr th:only-of-type {\n",
              "        vertical-align: middle;\n",
              "    }\n",
              "\n",
              "    .dataframe tbody tr th {\n",
              "        vertical-align: top;\n",
              "    }\n",
              "\n",
              "    .dataframe thead th {\n",
              "        text-align: right;\n",
              "    }\n",
              "</style>\n",
              "<table border=\"1\" class=\"dataframe\">\n",
              "  <thead>\n",
              "    <tr style=\"text-align: right;\">\n",
              "      <th></th>\n",
              "      <th>ID</th>\n",
              "      <th>Name</th>\n",
              "      <th>DateTime</th>\n",
              "      <th>AnimalType</th>\n",
              "      <th>SexuponOutcome</th>\n",
              "      <th>AgeuponOutcome</th>\n",
              "      <th>Breed</th>\n",
              "      <th>Color</th>\n",
              "    </tr>\n",
              "  </thead>\n",
              "  <tbody>\n",
              "    <tr>\n",
              "      <th>0</th>\n",
              "      <td>1</td>\n",
              "      <td>Summer</td>\n",
              "      <td>2015-10-12 12:15:00</td>\n",
              "      <td>Dog</td>\n",
              "      <td>Intact Female</td>\n",
              "      <td>10 months</td>\n",
              "      <td>Labrador Retriever Mix</td>\n",
              "      <td>Red/White</td>\n",
              "    </tr>\n",
              "    <tr>\n",
              "      <th>1</th>\n",
              "      <td>2</td>\n",
              "      <td>Cheyenne</td>\n",
              "      <td>2014-07-26 17:59:00</td>\n",
              "      <td>Dog</td>\n",
              "      <td>Spayed Female</td>\n",
              "      <td>2 years</td>\n",
              "      <td>German Shepherd/Siberian Husky</td>\n",
              "      <td>Black/Tan</td>\n",
              "    </tr>\n",
              "    <tr>\n",
              "      <th>2</th>\n",
              "      <td>3</td>\n",
              "      <td>Gus</td>\n",
              "      <td>2016-01-13 12:20:00</td>\n",
              "      <td>Cat</td>\n",
              "      <td>Neutered Male</td>\n",
              "      <td>1 year</td>\n",
              "      <td>Domestic Shorthair Mix</td>\n",
              "      <td>Brown Tabby</td>\n",
              "    </tr>\n",
              "    <tr>\n",
              "      <th>3</th>\n",
              "      <td>4</td>\n",
              "      <td>Pongo</td>\n",
              "      <td>2013-12-28 18:12:00</td>\n",
              "      <td>Dog</td>\n",
              "      <td>Intact Male</td>\n",
              "      <td>4 months</td>\n",
              "      <td>Collie Smooth Mix</td>\n",
              "      <td>Tricolor</td>\n",
              "    </tr>\n",
              "    <tr>\n",
              "      <th>4</th>\n",
              "      <td>5</td>\n",
              "      <td>Skooter</td>\n",
              "      <td>2015-09-24 17:59:00</td>\n",
              "      <td>Dog</td>\n",
              "      <td>Neutered Male</td>\n",
              "      <td>2 years</td>\n",
              "      <td>Miniature Poodle Mix</td>\n",
              "      <td>White</td>\n",
              "    </tr>\n",
              "  </tbody>\n",
              "</table>\n",
              "</div>"
            ],
            "text/plain": [
              "   ID      Name             DateTime AnimalType SexuponOutcome AgeuponOutcome  \\\n",
              "0   1    Summer  2015-10-12 12:15:00        Dog  Intact Female      10 months   \n",
              "1   2  Cheyenne  2014-07-26 17:59:00        Dog  Spayed Female        2 years   \n",
              "2   3       Gus  2016-01-13 12:20:00        Cat  Neutered Male         1 year   \n",
              "3   4     Pongo  2013-12-28 18:12:00        Dog    Intact Male       4 months   \n",
              "4   5   Skooter  2015-09-24 17:59:00        Dog  Neutered Male        2 years   \n",
              "\n",
              "                            Breed        Color  \n",
              "0          Labrador Retriever Mix    Red/White  \n",
              "1  German Shepherd/Siberian Husky    Black/Tan  \n",
              "2          Domestic Shorthair Mix  Brown Tabby  \n",
              "3               Collie Smooth Mix     Tricolor  \n",
              "4            Miniature Poodle Mix        White  "
            ]
          },
          "metadata": {},
          "execution_count": 312
        }
      ]
    },
    {
      "cell_type": "code",
      "metadata": {
        "id": "tydmaujvtTwl",
        "colab": {
          "base_uri": "https://localhost:8080/",
          "height": 360
        },
        "outputId": "93a1c340-68a1-4f33-b0d1-42de728b5c6e"
      },
      "source": [
        "train.head()"
      ],
      "execution_count": 313,
      "outputs": [
        {
          "output_type": "execute_result",
          "data": {
            "text/html": [
              "<div>\n",
              "<style scoped>\n",
              "    .dataframe tbody tr th:only-of-type {\n",
              "        vertical-align: middle;\n",
              "    }\n",
              "\n",
              "    .dataframe tbody tr th {\n",
              "        vertical-align: top;\n",
              "    }\n",
              "\n",
              "    .dataframe thead th {\n",
              "        text-align: right;\n",
              "    }\n",
              "</style>\n",
              "<table border=\"1\" class=\"dataframe\">\n",
              "  <thead>\n",
              "    <tr style=\"text-align: right;\">\n",
              "      <th></th>\n",
              "      <th>AnimalID</th>\n",
              "      <th>Name</th>\n",
              "      <th>DateTime</th>\n",
              "      <th>OutcomeType</th>\n",
              "      <th>...</th>\n",
              "      <th>SexuponOutcome</th>\n",
              "      <th>AgeuponOutcome</th>\n",
              "      <th>Breed</th>\n",
              "      <th>Color</th>\n",
              "    </tr>\n",
              "  </thead>\n",
              "  <tbody>\n",
              "    <tr>\n",
              "      <th>0</th>\n",
              "      <td>A671945</td>\n",
              "      <td>Hambone</td>\n",
              "      <td>2014-02-12 18:22:00</td>\n",
              "      <td>Return_to_owner</td>\n",
              "      <td>...</td>\n",
              "      <td>Neutered Male</td>\n",
              "      <td>1 year</td>\n",
              "      <td>Shetland Sheepdog Mix</td>\n",
              "      <td>Brown/White</td>\n",
              "    </tr>\n",
              "    <tr>\n",
              "      <th>1</th>\n",
              "      <td>A656520</td>\n",
              "      <td>Emily</td>\n",
              "      <td>2013-10-13 12:44:00</td>\n",
              "      <td>Euthanasia</td>\n",
              "      <td>...</td>\n",
              "      <td>Spayed Female</td>\n",
              "      <td>1 year</td>\n",
              "      <td>Domestic Shorthair Mix</td>\n",
              "      <td>Cream Tabby</td>\n",
              "    </tr>\n",
              "    <tr>\n",
              "      <th>2</th>\n",
              "      <td>A686464</td>\n",
              "      <td>Pearce</td>\n",
              "      <td>2015-01-31 12:28:00</td>\n",
              "      <td>Adoption</td>\n",
              "      <td>...</td>\n",
              "      <td>Neutered Male</td>\n",
              "      <td>2 years</td>\n",
              "      <td>Pit Bull Mix</td>\n",
              "      <td>Blue/White</td>\n",
              "    </tr>\n",
              "    <tr>\n",
              "      <th>3</th>\n",
              "      <td>A683430</td>\n",
              "      <td>NaN</td>\n",
              "      <td>2014-07-11 19:09:00</td>\n",
              "      <td>Transfer</td>\n",
              "      <td>...</td>\n",
              "      <td>Intact Male</td>\n",
              "      <td>3 weeks</td>\n",
              "      <td>Domestic Shorthair Mix</td>\n",
              "      <td>Blue Cream</td>\n",
              "    </tr>\n",
              "    <tr>\n",
              "      <th>4</th>\n",
              "      <td>A667013</td>\n",
              "      <td>NaN</td>\n",
              "      <td>2013-11-15 12:52:00</td>\n",
              "      <td>Transfer</td>\n",
              "      <td>...</td>\n",
              "      <td>Neutered Male</td>\n",
              "      <td>2 years</td>\n",
              "      <td>Lhasa Apso/Miniature Poodle</td>\n",
              "      <td>Tan</td>\n",
              "    </tr>\n",
              "  </tbody>\n",
              "</table>\n",
              "<p>5 rows × 10 columns</p>\n",
              "</div>"
            ],
            "text/plain": [
              "  AnimalID     Name             DateTime      OutcomeType  ... SexuponOutcome  \\\n",
              "0  A671945  Hambone  2014-02-12 18:22:00  Return_to_owner  ...  Neutered Male   \n",
              "1  A656520    Emily  2013-10-13 12:44:00       Euthanasia  ...  Spayed Female   \n",
              "2  A686464   Pearce  2015-01-31 12:28:00         Adoption  ...  Neutered Male   \n",
              "3  A683430      NaN  2014-07-11 19:09:00         Transfer  ...    Intact Male   \n",
              "4  A667013      NaN  2013-11-15 12:52:00         Transfer  ...  Neutered Male   \n",
              "\n",
              "  AgeuponOutcome                        Breed        Color  \n",
              "0         1 year        Shetland Sheepdog Mix  Brown/White  \n",
              "1         1 year       Domestic Shorthair Mix  Cream Tabby  \n",
              "2        2 years                 Pit Bull Mix   Blue/White  \n",
              "3        3 weeks       Domestic Shorthair Mix   Blue Cream  \n",
              "4        2 years  Lhasa Apso/Miniature Poodle          Tan  \n",
              "\n",
              "[5 rows x 10 columns]"
            ]
          },
          "metadata": {},
          "execution_count": 313
        }
      ]
    },
    {
      "cell_type": "code",
      "metadata": {
        "id": "v0E-plWLMEwS",
        "outputId": "b5e9bd84-caad-4236-e6e6-62b2b4c72226",
        "colab": {
          "base_uri": "https://localhost:8080/"
        }
      },
      "source": [
        "train['OutcomeType'].unique()"
      ],
      "execution_count": 314,
      "outputs": [
        {
          "output_type": "execute_result",
          "data": {
            "text/plain": [
              "array(['Return_to_owner', 'Euthanasia', 'Adoption', 'Transfer', 'Died'], dtype=object)"
            ]
          },
          "metadata": {},
          "execution_count": 314
        }
      ]
    },
    {
      "cell_type": "code",
      "metadata": {
        "id": "mwvYfI7i3s20"
      },
      "source": [
        "dep_var = 'OutcomeType'"
      ],
      "execution_count": 315,
      "outputs": []
    },
    {
      "cell_type": "code",
      "metadata": {
        "id": "uf2w7vma3YBM"
      },
      "source": [
        "cont, cat = cont_cat_split(train, 1 , dep_var)"
      ],
      "execution_count": 316,
      "outputs": []
    },
    {
      "cell_type": "code",
      "metadata": {
        "id": "_t1EG1Kw4UNR"
      },
      "source": [
        "procs = [Categorify, FillMissing]"
      ],
      "execution_count": 317,
      "outputs": []
    },
    {
      "cell_type": "code",
      "metadata": {
        "id": "GPQYiwck35GT"
      },
      "source": [
        "train_tabular = TabularPandas(train, procs, cat, cont, y_names=dep_var, splits=RandomSplitter(valid_pct=0.2)(range_of(train)))"
      ],
      "execution_count": 318,
      "outputs": []
    },
    {
      "cell_type": "code",
      "metadata": {
        "id": "us_KigAGcMke"
      },
      "source": [
        "outcomes = ['Adoption','Died','Euthanasia', 'Return_to_owner','Transfer']"
      ],
      "execution_count": 320,
      "outputs": []
    },
    {
      "cell_type": "code",
      "metadata": {
        "id": "6BfWqUlo5QKu"
      },
      "source": [
        "xs,y = train_tabular.train.xs, train_tabular.train.y\n",
        "\n",
        "valid_x,valid_y = train_tabular.valid.xs, train_tabular.valid.y"
      ],
      "execution_count": 321,
      "outputs": []
    },
    {
      "cell_type": "code",
      "metadata": {
        "id": "09gewL-z5SVG",
        "colab": {
          "base_uri": "https://localhost:8080/"
        },
        "outputId": "af59c5a1-3cd7-49d1-da42-27297b0db008"
      },
      "source": [
        "len(train_tabular.train), len(train_tabular.valid)"
      ],
      "execution_count": 322,
      "outputs": [
        {
          "output_type": "execute_result",
          "data": {
            "text/plain": [
              "(21384, 5345)"
            ]
          },
          "metadata": {},
          "execution_count": 322
        }
      ]
    },
    {
      "cell_type": "markdown",
      "metadata": {
        "id": "ZcQRp-EprI64"
      },
      "source": [
        "## Get important columns using Random Forest"
      ]
    },
    {
      "cell_type": "code",
      "metadata": {
        "id": "G2GFntCq5aeN"
      },
      "source": [
        "def rf(xs, y, n_estimators=25, max_samples=10_000,\n",
        "       max_features=0.5, min_samples_leaf=5, **kwargs):\n",
        "    return RandomForestRegressor(n_jobs=-1, n_estimators=n_estimators,\n",
        "        max_samples=max_samples, max_features=max_features,\n",
        "        min_samples_leaf=min_samples_leaf, oob_score=True).fit(xs, y)"
      ],
      "execution_count": 323,
      "outputs": []
    },
    {
      "cell_type": "code",
      "metadata": {
        "id": "tKiAmQcT5kDV"
      },
      "source": [
        "m = rf(xs, y)"
      ],
      "execution_count": 324,
      "outputs": []
    },
    {
      "cell_type": "code",
      "metadata": {
        "id": "xOdfdYIy54v-"
      },
      "source": [
        "def rf_feat_importance(m, df):\n",
        "    return pd.DataFrame({'cols':df.columns, 'imp':m.feature_importances_}\n",
        "                       ).sort_values('imp', ascending=False)"
      ],
      "execution_count": 325,
      "outputs": []
    },
    {
      "cell_type": "code",
      "metadata": {
        "id": "H2Z_6HRQ7S8-"
      },
      "source": [
        "def r_mse(pred,y): return round(math.sqrt(((pred-y)**2).mean()), 6)\n",
        "def m_rmse(m, xs, y): return r_mse(m.predict(xs), y)"
      ],
      "execution_count": 326,
      "outputs": []
    },
    {
      "cell_type": "code",
      "metadata": {
        "id": "xd2EO66b70oD"
      },
      "source": [
        "xs_drop = xs.drop(['OutcomeSubtype', 'DateTime'], axis=1)\n",
        "valid_x_drop = valid_x.drop(['OutcomeSubtype','DateTime'], axis=1)"
      ],
      "execution_count": 328,
      "outputs": []
    },
    {
      "cell_type": "code",
      "metadata": {
        "id": "IwmSJqlE8G8K"
      },
      "source": [
        "m = rf(xs_drop, y)"
      ],
      "execution_count": 329,
      "outputs": []
    },
    {
      "cell_type": "code",
      "metadata": {
        "id": "BVhYLIky78Lf"
      },
      "source": [
        "fi = rf_feat_importance(m, xs_drop)"
      ],
      "execution_count": 330,
      "outputs": []
    },
    {
      "cell_type": "code",
      "metadata": {
        "id": "m6eX3x3058F9",
        "colab": {
          "base_uri": "https://localhost:8080/"
        },
        "outputId": "ffeb5c02-8a51-41c2-819b-1df719bf3dcd"
      },
      "source": [
        "m_rmse(m, xs_drop, y), m_rmse(m, valid_x_drop, valid_y)"
      ],
      "execution_count": 331,
      "outputs": [
        {
          "output_type": "execute_result",
          "data": {
            "text/plain": [
              "(1.242638, 1.458582)"
            ]
          },
          "metadata": {},
          "execution_count": 331
        }
      ]
    },
    {
      "cell_type": "code",
      "metadata": {
        "id": "tQzk5m8K7f_X",
        "colab": {
          "base_uri": "https://localhost:8080/"
        },
        "outputId": "f7ecc91d-cbe2-4ffc-af64-549d699a4cbd"
      },
      "source": [
        "r_mse(m.oob_prediction_, y)"
      ],
      "execution_count": 332,
      "outputs": [
        {
          "output_type": "execute_result",
          "data": {
            "text/plain": [
              "1.447983"
            ]
          },
          "metadata": {},
          "execution_count": 332
        }
      ]
    },
    {
      "cell_type": "code",
      "metadata": {
        "id": "F8GgnCeZ7gUf",
        "colab": {
          "base_uri": "https://localhost:8080/"
        },
        "outputId": "5fc236a6-05d6-4183-82a2-7759fb91cfa9"
      },
      "source": [
        "to_keep = fi[fi.imp>0.005].cols\n",
        "len(to_keep)"
      ],
      "execution_count": 333,
      "outputs": [
        {
          "output_type": "execute_result",
          "data": {
            "text/plain": [
              "7"
            ]
          },
          "metadata": {},
          "execution_count": 333
        }
      ]
    },
    {
      "cell_type": "code",
      "metadata": {
        "id": "F6MXeZ0y81z_"
      },
      "source": [
        "xs_imp = xs_drop[to_keep]\n",
        "valid_x_imp = valid_x_drop[to_keep]"
      ],
      "execution_count": 334,
      "outputs": []
    },
    {
      "cell_type": "code",
      "metadata": {
        "id": "VWco0_WH87GB"
      },
      "source": [
        "m = rf(xs_imp, y)"
      ],
      "execution_count": 335,
      "outputs": []
    },
    {
      "cell_type": "code",
      "metadata": {
        "id": "FfB4p3a08hTP"
      },
      "source": [
        "def plot_fi(fi):\n",
        "    return fi.plot('cols', 'imp', 'barh', figsize=(12,7), legend=False)"
      ],
      "execution_count": 336,
      "outputs": []
    },
    {
      "cell_type": "code",
      "metadata": {
        "id": "nke8o0S98rLf",
        "colab": {
          "base_uri": "https://localhost:8080/",
          "height": 411
        },
        "outputId": "72d21b00-3df1-4efb-b264-acb6bb91c606"
      },
      "source": [
        "plot_fi(rf_feat_importance(m, xs_imp));"
      ],
      "execution_count": 337,
      "outputs": [
        {
          "output_type": "display_data",
          "data": {
            "image/png": "[encoded data removed]",
            "text/plain": [
              "<Figure size 864x504 with 1 Axes>"
            ]
          },
          "metadata": {
            "needs_background": "light"
          }
        }
      ]
    },
    {
      "cell_type": "code",
      "metadata": {
        "id": "KfAqnk4f8uG3",
        "colab": {
          "base_uri": "https://localhost:8080/",
          "height": 374
        },
        "outputId": "b63d391a-86ae-4b60-ac02-7e95a1ebfc8d"
      },
      "source": [
        "cluster_columns(xs_imp)"
      ],
      "execution_count": 338,
      "outputs": [
        {
          "output_type": "display_data",
          "data": {
            "image/png": "[encoded data removed]",
            "text/plain": [
              "<Figure size 720x432 with 1 Axes>"
            ]
          },
          "metadata": {
            "needs_background": "light"
          }
        }
      ]
    },
    {
      "cell_type": "code",
      "metadata": {
        "id": "J9bvorTh9Cfa"
      },
      "source": [
        "def get_oob(df):\n",
        "    m = RandomForestRegressor(n_estimators=40, min_samples_leaf=15,\n",
        "        max_samples=5000, max_features=0.5, n_jobs=-1, oob_score=True)\n",
        "    m.fit(df, y)\n",
        "    return m.oob_score_"
      ],
      "execution_count": 339,
      "outputs": []
    },
    {
      "cell_type": "code",
      "metadata": {
        "id": "UxGYTjO1oRCD"
      },
      "source": [
        "to_drop = []"
      ],
      "execution_count": 341,
      "outputs": []
    },
    {
      "cell_type": "code",
      "metadata": {
        "id": "Dzpj9syI9kzJ"
      },
      "source": [
        "xs_final = xs_imp.drop(to_drop, axis=1)\n",
        "valid_x_final = valid_x_imp.drop(to_drop, axis=1)"
      ],
      "execution_count": 342,
      "outputs": []
    },
    {
      "cell_type": "code",
      "metadata": {
        "id": "iMuyYhtr9ojw",
        "colab": {
          "base_uri": "https://localhost:8080/",
          "height": 238
        },
        "outputId": "5f2632c9-a098-45a9-e4c7-8f6d8441cdc1"
      },
      "source": [
        "df_dom = pd.concat([xs_final, valid_x_final])\n",
        "is_valid = np.array([0]*len(xs_final) + [1]*len(valid_x_final))\n",
        "\n",
        "m = rf(df_dom, is_valid)\n",
        "rf_feat_importance(m, df_dom)[:6]"
      ],
      "execution_count": 343,
      "outputs": [
        {
          "output_type": "execute_result",
          "data": {
            "text/html": [
              "<div>\n",
              "<style scoped>\n",
              "    .dataframe tbody tr th:only-of-type {\n",
              "        vertical-align: middle;\n",
              "    }\n",
              "\n",
              "    .dataframe tbody tr th {\n",
              "        vertical-align: top;\n",
              "    }\n",
              "\n",
              "    .dataframe thead th {\n",
              "        text-align: right;\n",
              "    }\n",
              "</style>\n",
              "<table border=\"1\" class=\"dataframe\">\n",
              "  <thead>\n",
              "    <tr style=\"text-align: right;\">\n",
              "      <th></th>\n",
              "      <th>cols</th>\n",
              "      <th>imp</th>\n",
              "    </tr>\n",
              "  </thead>\n",
              "  <tbody>\n",
              "    <tr>\n",
              "      <th>3</th>\n",
              "      <td>AnimalID</td>\n",
              "      <td>0.302065</td>\n",
              "    </tr>\n",
              "    <tr>\n",
              "      <th>1</th>\n",
              "      <td>Name</td>\n",
              "      <td>0.206530</td>\n",
              "    </tr>\n",
              "    <tr>\n",
              "      <th>4</th>\n",
              "      <td>Color</td>\n",
              "      <td>0.156347</td>\n",
              "    </tr>\n",
              "    <tr>\n",
              "      <th>5</th>\n",
              "      <td>Breed</td>\n",
              "      <td>0.138056</td>\n",
              "    </tr>\n",
              "    <tr>\n",
              "      <th>2</th>\n",
              "      <td>AgeuponOutcome</td>\n",
              "      <td>0.127679</td>\n",
              "    </tr>\n",
              "    <tr>\n",
              "      <th>0</th>\n",
              "      <td>SexuponOutcome</td>\n",
              "      <td>0.054949</td>\n",
              "    </tr>\n",
              "  </tbody>\n",
              "</table>\n",
              "</div>"
            ],
            "text/plain": [
              "             cols       imp\n",
              "3        AnimalID  0.302065\n",
              "1            Name  0.206530\n",
              "4           Color  0.156347\n",
              "5           Breed  0.138056\n",
              "2  AgeuponOutcome  0.127679\n",
              "0  SexuponOutcome  0.054949"
            ]
          },
          "metadata": {},
          "execution_count": 343
        }
      ]
    },
    {
      "cell_type": "code",
      "metadata": {
        "id": "rwFHhT5y-FLq",
        "colab": {
          "base_uri": "https://localhost:8080/"
        },
        "outputId": "edb04e1b-9730-44a1-baf9-20797ec6f7cf"
      },
      "source": [
        "m = rf(xs_final, y)\n",
        "print('orig', m_rmse(m, valid_x_final, valid_y))\n",
        "\n",
        "for c in ('AnimalID','Name'):\n",
        "    m = rf(xs_final.drop(c,axis=1), y)\n",
        "    print(c, m_rmse(m, valid_x_final.drop(c,axis=1), valid_y))"
      ],
      "execution_count": 344,
      "outputs": [
        {
          "output_type": "stream",
          "name": "stdout",
          "text": [
            "orig 1.453772\n",
            "AnimalID 1.462483\n",
            "Name 1.450212\n"
          ]
        }
      ]
    },
    {
      "cell_type": "code",
      "metadata": {
        "id": "sTO6rGhW-E4T"
      },
      "source": [
        "time_vars = ['AnimalID','Name']\n",
        "xs_final_time = xs_final.drop(time_vars, axis=1)\n",
        "valid_x_time = valid_x_final.drop(time_vars, axis=1)"
      ],
      "execution_count": 345,
      "outputs": []
    },
    {
      "cell_type": "code",
      "metadata": {
        "id": "iMb7yEO9-dS3",
        "colab": {
          "base_uri": "https://localhost:8080/"
        },
        "outputId": "ed8fc4fb-6d56-4d63-926d-c7261ff6f878"
      },
      "source": [
        "m = rf(xs_final_time, y)\n",
        "m_rmse(m, valid_x_time, valid_y)"
      ],
      "execution_count": 346,
      "outputs": [
        {
          "output_type": "execute_result",
          "data": {
            "text/plain": [
              "1.463191"
            ]
          },
          "metadata": {},
          "execution_count": 346
        }
      ]
    },
    {
      "cell_type": "code",
      "metadata": {
        "id": "EdsjJt0Q-jUw",
        "colab": {
          "base_uri": "https://localhost:8080/"
        },
        "outputId": "957db6a8-9209-4ac5-94bc-b40b807327cc"
      },
      "source": [
        "cont, cat"
      ],
      "execution_count": 347,
      "outputs": [
        {
          "output_type": "execute_result",
          "data": {
            "text/plain": [
              "([],\n",
              " ['AnimalID',\n",
              "  'Name',\n",
              "  'DateTime',\n",
              "  'OutcomeSubtype',\n",
              "  'AnimalType',\n",
              "  'SexuponOutcome',\n",
              "  'AgeuponOutcome',\n",
              "  'Breed',\n",
              "  'Color'])"
            ]
          },
          "metadata": {},
          "execution_count": 347
        }
      ]
    },
    {
      "cell_type": "markdown",
      "metadata": {
        "id": "e81hlPCEAC81"
      },
      "source": [
        "## Neural Network"
      ]
    },
    {
      "cell_type": "code",
      "metadata": {
        "id": "0jcP2oMtAD9p"
      },
      "source": [
        "with gzip.open('data/train.csv.gz') as f:\n",
        "    train_nn = pd.read_csv(f, low_memory=False)\n",
        "\n",
        "\n",
        "train_nn = add_datepart(train_nn, 'DateTime')"
      ],
      "execution_count": 348,
      "outputs": []
    },
    {
      "cell_type": "code",
      "metadata": {
        "id": "i4vY7nKgBWz1"
      },
      "source": [
        "train_nn_final = train_nn[list(xs_final_time.columns) + [dep_var]]"
      ],
      "execution_count": 349,
      "outputs": []
    },
    {
      "cell_type": "code",
      "metadata": {
        "id": "WxgOYR99BZ31"
      },
      "source": [
        "cont_nn,cat_nn = cont_cat_split(train_nn_final, max_card=2000, dep_var=dep_var)"
      ],
      "execution_count": 350,
      "outputs": []
    },
    {
      "cell_type": "code",
      "metadata": {
        "id": "PQYbtaKiBhM_",
        "colab": {
          "base_uri": "https://localhost:8080/"
        },
        "outputId": "0128d9d5-3d78-42cc-923b-3137411b948f"
      },
      "source": [
        "cont_nn, cat_nn"
      ],
      "execution_count": 351,
      "outputs": [
        {
          "output_type": "execute_result",
          "data": {
            "text/plain": [
              "([], ['SexuponOutcome', 'AgeuponOutcome', 'Color', 'Breed', 'AnimalType'])"
            ]
          },
          "metadata": {},
          "execution_count": 351
        }
      ]
    },
    {
      "cell_type": "code",
      "metadata": {
        "id": "P_hL2Uz-BmGp"
      },
      "source": [
        "procs_nn = [Categorify, FillMissing, Normalize]\n",
        "to_nn = TabularPandas(train_nn_final, procs_nn, cat_nn, cont_nn,\n",
        "                      splits=RandomSplitter(valid_pct=0.2)(range_of(train)), y_names=dep_var)"
      ],
      "execution_count": 352,
      "outputs": []
    },
    {
      "cell_type": "code",
      "metadata": {
        "id": "VJhdxKIGB4Cf"
      },
      "source": [
        "dls = to_nn.dataloaders(256)"
      ],
      "execution_count": 353,
      "outputs": []
    },
    {
      "cell_type": "code",
      "metadata": {
        "id": "gkbR4C5FllU7",
        "outputId": "aecde702-9982-40d1-f4f9-6694bea02242",
        "colab": {
          "base_uri": "https://localhost:8080/",
          "height": 450
        }
      },
      "source": [
        "dls.show_batch()"
      ],
      "execution_count": 354,
      "outputs": [
        {
          "output_type": "display_data",
          "data": {
            "text/html": [
              "<table border=\"1\" class=\"dataframe\">\n",
              "  <thead>\n",
              "    <tr style=\"text-align: right;\">\n",
              "      <th></th>\n",
              "      <th>SexuponOutcome</th>\n",
              "      <th>AgeuponOutcome</th>\n",
              "      <th>Color</th>\n",
              "      <th>Breed</th>\n",
              "      <th>AnimalType</th>\n",
              "      <th>OutcomeType</th>\n",
              "    </tr>\n",
              "  </thead>\n",
              "  <tbody>\n",
              "    <tr>\n",
              "      <th>0</th>\n",
              "      <td>Neutered Male</td>\n",
              "      <td>7 years</td>\n",
              "      <td>White/Black</td>\n",
              "      <td>Lhasa Apso Mix</td>\n",
              "      <td>Dog</td>\n",
              "      <td>Transfer</td>\n",
              "    </tr>\n",
              "    <tr>\n",
              "      <th>1</th>\n",
              "      <td>Neutered Male</td>\n",
              "      <td>3 years</td>\n",
              "      <td>Black</td>\n",
              "      <td>Labrador Retriever Mix</td>\n",
              "      <td>Dog</td>\n",
              "      <td>Return_to_owner</td>\n",
              "    </tr>\n",
              "    <tr>\n",
              "      <th>2</th>\n",
              "      <td>Spayed Female</td>\n",
              "      <td>5 years</td>\n",
              "      <td>Brown Brindle</td>\n",
              "      <td>Pug Mix</td>\n",
              "      <td>Dog</td>\n",
              "      <td>Return_to_owner</td>\n",
              "    </tr>\n",
              "    <tr>\n",
              "      <th>3</th>\n",
              "      <td>Neutered Male</td>\n",
              "      <td>2 months</td>\n",
              "      <td>Orange Tabby</td>\n",
              "      <td>Domestic Medium Hair Mix</td>\n",
              "      <td>Cat</td>\n",
              "      <td>Adoption</td>\n",
              "    </tr>\n",
              "    <tr>\n",
              "      <th>4</th>\n",
              "      <td>Spayed Female</td>\n",
              "      <td>4 years</td>\n",
              "      <td>White</td>\n",
              "      <td>Angora Mix</td>\n",
              "      <td>Cat</td>\n",
              "      <td>Return_to_owner</td>\n",
              "    </tr>\n",
              "    <tr>\n",
              "      <th>5</th>\n",
              "      <td>Neutered Male</td>\n",
              "      <td>4 months</td>\n",
              "      <td>Brown Tabby</td>\n",
              "      <td>Domestic Medium Hair Mix</td>\n",
              "      <td>Cat</td>\n",
              "      <td>Adoption</td>\n",
              "    </tr>\n",
              "    <tr>\n",
              "      <th>6</th>\n",
              "      <td>Intact Male</td>\n",
              "      <td>2 years</td>\n",
              "      <td>Chocolate</td>\n",
              "      <td>Labrador Retriever</td>\n",
              "      <td>Dog</td>\n",
              "      <td>Transfer</td>\n",
              "    </tr>\n",
              "    <tr>\n",
              "      <th>7</th>\n",
              "      <td>Neutered Male</td>\n",
              "      <td>7 years</td>\n",
              "      <td>Brown/White</td>\n",
              "      <td>Chihuahua Shorthair Mix</td>\n",
              "      <td>Dog</td>\n",
              "      <td>Adoption</td>\n",
              "    </tr>\n",
              "    <tr>\n",
              "      <th>8</th>\n",
              "      <td>Neutered Male</td>\n",
              "      <td>2 years</td>\n",
              "      <td>Brown</td>\n",
              "      <td>Cairn Terrier Mix</td>\n",
              "      <td>Dog</td>\n",
              "      <td>Transfer</td>\n",
              "    </tr>\n",
              "    <tr>\n",
              "      <th>9</th>\n",
              "      <td>Intact Male</td>\n",
              "      <td>3 weeks</td>\n",
              "      <td>Brown Tabby/White</td>\n",
              "      <td>Domestic Shorthair Mix</td>\n",
              "      <td>Cat</td>\n",
              "      <td>Transfer</td>\n",
              "    </tr>\n",
              "  </tbody>\n",
              "</table>"
            ],
            "text/plain": [
              "<IPython.core.display.HTML object>"
            ]
          },
          "metadata": {}
        }
      ]
    },
    {
      "cell_type": "code",
      "metadata": {
        "id": "mBF2ICFvB8XS"
      },
      "source": [
        "learn = tabular_learner(dls, layers=[500,250], loss_func= CrossEntropyLossFlat())"
      ],
      "execution_count": 355,
      "outputs": []
    },
    {
      "cell_type": "code",
      "metadata": {
        "id": "v9Q7wSaoCivh",
        "colab": {
          "base_uri": "https://localhost:8080/",
          "height": 301
        },
        "outputId": "6818416e-a9fc-4085-b397-99cc4aff95b5"
      },
      "source": [
        "learn.lr_find()"
      ],
      "execution_count": 356,
      "outputs": [
        {
          "output_type": "display_data",
          "data": {
            "text/html": [
              ""
            ],
            "text/plain": [
              "<IPython.core.display.HTML object>"
            ]
          },
          "metadata": {}
        },
        {
          "output_type": "execute_result",
          "data": {
            "text/plain": [
              "SuggestedLRs(valley=0.0004786300996784121)"
            ]
          },
          "metadata": {},
          "execution_count": 356
        },
        {
          "output_type": "display_data",
          "data": {
            "image/png": "[encoded data removed]",
            "text/plain": [
              "<Figure size 432x288 with 1 Axes>"
            ]
          },
          "metadata": {
            "needs_background": "light"
          }
        }
      ]
    },
    {
      "cell_type": "code",
      "metadata": {
        "id": "xr2IEyMaCjAD",
        "outputId": "1edb4f3c-8067-45ed-afda-32a990d58da3",
        "colab": {
          "base_uri": "https://localhost:8080/",
          "height": 112
        }
      },
      "source": [
        "learn.fit_one_cycle(2, 3e-2, wd=0.1)"
      ],
      "execution_count": 357,
      "outputs": [
        {
          "output_type": "display_data",
          "data": {
            "text/html": [
              "<table border=\"1\" class=\"dataframe\">\n",
              "  <thead>\n",
              "    <tr style=\"text-align: left;\">\n",
              "      <th>epoch</th>\n",
              "      <th>train_loss</th>\n",
              "      <th>valid_loss</th>\n",
              "      <th>time</th>\n",
              "    </tr>\n",
              "  </thead>\n",
              "  <tbody>\n",
              "    <tr>\n",
              "      <td>0</td>\n",
              "      <td>0.994009</td>\n",
              "      <td>0.924340</td>\n",
              "      <td>00:01</td>\n",
              "    </tr>\n",
              "    <tr>\n",
              "      <td>1</td>\n",
              "      <td>0.877431</td>\n",
              "      <td>0.900081</td>\n",
              "      <td>00:01</td>\n",
              "    </tr>\n",
              "  </tbody>\n",
              "</table>"
            ],
            "text/plain": [
              "<IPython.core.display.HTML object>"
            ]
          },
          "metadata": {}
        }
      ]
    },
    {
      "cell_type": "code",
      "metadata": {
        "id": "CXiQ_-D5d6Hi",
        "outputId": "d1e44f7f-d029-44d2-f1fd-90d4e2198ed9",
        "colab": {
          "base_uri": "https://localhost:8080/",
          "height": 305
        }
      },
      "source": [
        "learn.lr_find()"
      ],
      "execution_count": 358,
      "outputs": [
        {
          "output_type": "display_data",
          "data": {
            "text/html": [
              ""
            ],
            "text/plain": [
              "<IPython.core.display.HTML object>"
            ]
          },
          "metadata": {}
        },
        {
          "output_type": "execute_result",
          "data": {
            "text/plain": [
              "SuggestedLRs(valley=5.754399353463668e-06)"
            ]
          },
          "metadata": {},
          "execution_count": 358
        },
        {
          "output_type": "display_data",
          "data": {
            "image/png": "[encoded data removed]",
            "text/plain": [
              "<Figure size 432x288 with 1 Axes>"
            ]
          },
          "metadata": {
            "needs_background": "light"
          }
        }
      ]
    },
    {
      "cell_type": "code",
      "metadata": {
        "id": "nZpLgKstd9ku",
        "outputId": "b7627c24-3ea1-49f2-ca24-3494a9944c63",
        "colab": {
          "base_uri": "https://localhost:8080/",
          "height": 175
        }
      },
      "source": [
        "learn.fit_one_cycle(4, 1e-5, wd=0.1)"
      ],
      "execution_count": 359,
      "outputs": [
        {
          "output_type": "display_data",
          "data": {
            "text/html": [
              "<table border=\"1\" class=\"dataframe\">\n",
              "  <thead>\n",
              "    <tr style=\"text-align: left;\">\n",
              "      <th>epoch</th>\n",
              "      <th>train_loss</th>\n",
              "      <th>valid_loss</th>\n",
              "      <th>time</th>\n",
              "    </tr>\n",
              "  </thead>\n",
              "  <tbody>\n",
              "    <tr>\n",
              "      <td>0</td>\n",
              "      <td>0.813692</td>\n",
              "      <td>0.898392</td>\n",
              "      <td>00:01</td>\n",
              "    </tr>\n",
              "    <tr>\n",
              "      <td>1</td>\n",
              "      <td>0.813499</td>\n",
              "      <td>0.898239</td>\n",
              "      <td>00:01</td>\n",
              "    </tr>\n",
              "    <tr>\n",
              "      <td>2</td>\n",
              "      <td>0.808362</td>\n",
              "      <td>0.896984</td>\n",
              "      <td>00:01</td>\n",
              "    </tr>\n",
              "    <tr>\n",
              "      <td>3</td>\n",
              "      <td>0.813747</td>\n",
              "      <td>0.898480</td>\n",
              "      <td>00:01</td>\n",
              "    </tr>\n",
              "  </tbody>\n",
              "</table>"
            ],
            "text/plain": [
              "<IPython.core.display.HTML object>"
            ]
          },
          "metadata": {}
        }
      ]
    },
    {
      "cell_type": "code",
      "metadata": {
        "id": "oL3SmyHnpKgC",
        "outputId": "bfadc9bd-43ab-40ef-d868-1be51426c3c8",
        "colab": {
          "base_uri": "https://localhost:8080/",
          "height": 332
        }
      },
      "source": [
        "learn.show_results()"
      ],
      "execution_count": 369,
      "outputs": [
        {
          "output_type": "display_data",
          "data": {
            "text/html": [
              ""
            ],
            "text/plain": [
              "<IPython.core.display.HTML object>"
            ]
          },
          "metadata": {}
        },
        {
          "output_type": "display_data",
          "data": {
            "text/html": [
              "<table border=\"1\" class=\"dataframe\">\n",
              "  <thead>\n",
              "    <tr style=\"text-align: right;\">\n",
              "      <th></th>\n",
              "      <th>SexuponOutcome</th>\n",
              "      <th>AgeuponOutcome</th>\n",
              "      <th>Color</th>\n",
              "      <th>Breed</th>\n",
              "      <th>AnimalType</th>\n",
              "      <th>OutcomeType</th>\n",
              "      <th>OutcomeType_pred</th>\n",
              "    </tr>\n",
              "  </thead>\n",
              "  <tbody>\n",
              "    <tr>\n",
              "      <th>0</th>\n",
              "      <td>3</td>\n",
              "      <td>37</td>\n",
              "      <td>87</td>\n",
              "      <td>641</td>\n",
              "      <td>1</td>\n",
              "      <td>0</td>\n",
              "      <td>0</td>\n",
              "    </tr>\n",
              "    <tr>\n",
              "      <th>1</th>\n",
              "      <td>1</td>\n",
              "      <td>22</td>\n",
              "      <td>105</td>\n",
              "      <td>641</td>\n",
              "      <td>1</td>\n",
              "      <td>4</td>\n",
              "      <td>4</td>\n",
              "    </tr>\n",
              "    <tr>\n",
              "      <th>2</th>\n",
              "      <td>2</td>\n",
              "      <td>21</td>\n",
              "      <td>105</td>\n",
              "      <td>641</td>\n",
              "      <td>1</td>\n",
              "      <td>4</td>\n",
              "      <td>4</td>\n",
              "    </tr>\n",
              "    <tr>\n",
              "      <th>3</th>\n",
              "      <td>3</td>\n",
              "      <td>25</td>\n",
              "      <td>325</td>\n",
              "      <td>1067</td>\n",
              "      <td>2</td>\n",
              "      <td>3</td>\n",
              "      <td>0</td>\n",
              "    </tr>\n",
              "    <tr>\n",
              "      <th>4</th>\n",
              "      <td>2</td>\n",
              "      <td>30</td>\n",
              "      <td>105</td>\n",
              "      <td>641</td>\n",
              "      <td>1</td>\n",
              "      <td>4</td>\n",
              "      <td>4</td>\n",
              "    </tr>\n",
              "    <tr>\n",
              "      <th>5</th>\n",
              "      <td>3</td>\n",
              "      <td>20</td>\n",
              "      <td>69</td>\n",
              "      <td>641</td>\n",
              "      <td>1</td>\n",
              "      <td>0</td>\n",
              "      <td>0</td>\n",
              "    </tr>\n",
              "    <tr>\n",
              "      <th>6</th>\n",
              "      <td>4</td>\n",
              "      <td>22</td>\n",
              "      <td>319</td>\n",
              "      <td>697</td>\n",
              "      <td>2</td>\n",
              "      <td>3</td>\n",
              "      <td>0</td>\n",
              "    </tr>\n",
              "    <tr>\n",
              "      <th>7</th>\n",
              "      <td>3</td>\n",
              "      <td>20</td>\n",
              "      <td>64</td>\n",
              "      <td>641</td>\n",
              "      <td>1</td>\n",
              "      <td>0</td>\n",
              "      <td>0</td>\n",
              "    </tr>\n",
              "    <tr>\n",
              "      <th>8</th>\n",
              "      <td>1</td>\n",
              "      <td>26</td>\n",
              "      <td>39</td>\n",
              "      <td>641</td>\n",
              "      <td>1</td>\n",
              "      <td>4</td>\n",
              "      <td>4</td>\n",
              "    </tr>\n",
              "  </tbody>\n",
              "</table>"
            ],
            "text/plain": [
              "<IPython.core.display.HTML object>"
            ]
          },
          "metadata": {}
        }
      ]
    },
    {
      "cell_type": "code",
      "metadata": {
        "id": "u_n5B-lVGJ4P",
        "outputId": "808608d6-d19c-4add-f2a0-66f84b3596db",
        "colab": {
          "base_uri": "https://localhost:8080/",
          "height": 17
        }
      },
      "source": [
        "test_dl = learn.dls.test_dl(test)\n",
        "predictions = learn.get_preds(dl=test_dl)"
      ],
      "execution_count": 360,
      "outputs": [
        {
          "output_type": "display_data",
          "data": {
            "text/html": [
              ""
            ],
            "text/plain": [
              "<IPython.core.display.HTML object>"
            ]
          },
          "metadata": {}
        }
      ]
    },
    {
      "cell_type": "code",
      "metadata": {
        "id": "_6mrX7T4RtXF",
        "outputId": "cf034cb2-69ad-4de1-92cd-c39ae6a47960",
        "colab": {
          "base_uri": "https://localhost:8080/",
          "height": 363
        }
      },
      "source": [
        "test_dl.show_batch()"
      ],
      "execution_count": 361,
      "outputs": [
        {
          "output_type": "display_data",
          "data": {
            "text/html": [
              "<table border=\"1\" class=\"dataframe\">\n",
              "  <thead>\n",
              "    <tr style=\"text-align: right;\">\n",
              "      <th></th>\n",
              "      <th>SexuponOutcome</th>\n",
              "      <th>AgeuponOutcome</th>\n",
              "      <th>Color</th>\n",
              "      <th>Breed</th>\n",
              "      <th>AnimalType</th>\n",
              "    </tr>\n",
              "  </thead>\n",
              "  <tbody>\n",
              "    <tr>\n",
              "      <th>0</th>\n",
              "      <td>Intact Female</td>\n",
              "      <td>10 months</td>\n",
              "      <td>Red/White</td>\n",
              "      <td>Labrador Retriever Mix</td>\n",
              "      <td>Dog</td>\n",
              "    </tr>\n",
              "    <tr>\n",
              "      <th>1</th>\n",
              "      <td>Spayed Female</td>\n",
              "      <td>2 years</td>\n",
              "      <td>Black/Tan</td>\n",
              "      <td>German Shepherd/Siberian Husky</td>\n",
              "      <td>Dog</td>\n",
              "    </tr>\n",
              "    <tr>\n",
              "      <th>2</th>\n",
              "      <td>Neutered Male</td>\n",
              "      <td>1 year</td>\n",
              "      <td>Brown Tabby</td>\n",
              "      <td>Domestic Shorthair Mix</td>\n",
              "      <td>Cat</td>\n",
              "    </tr>\n",
              "    <tr>\n",
              "      <th>3</th>\n",
              "      <td>Intact Male</td>\n",
              "      <td>4 months</td>\n",
              "      <td>Tricolor</td>\n",
              "      <td>Collie Smooth Mix</td>\n",
              "      <td>Dog</td>\n",
              "    </tr>\n",
              "    <tr>\n",
              "      <th>4</th>\n",
              "      <td>Neutered Male</td>\n",
              "      <td>2 years</td>\n",
              "      <td>White</td>\n",
              "      <td>Miniature Poodle Mix</td>\n",
              "      <td>Dog</td>\n",
              "    </tr>\n",
              "    <tr>\n",
              "      <th>5</th>\n",
              "      <td>Neutered Male</td>\n",
              "      <td>3 years</td>\n",
              "      <td>Brown/White</td>\n",
              "      <td>Beagle Mix</td>\n",
              "      <td>Dog</td>\n",
              "    </tr>\n",
              "    <tr>\n",
              "      <th>6</th>\n",
              "      <td>Neutered Male</td>\n",
              "      <td>13 years</td>\n",
              "      <td>Brown Tabby/White</td>\n",
              "      <td>Domestic Medium Hair Mix</td>\n",
              "      <td>Cat</td>\n",
              "    </tr>\n",
              "    <tr>\n",
              "      <th>7</th>\n",
              "      <td>Spayed Female</td>\n",
              "      <td>6 months</td>\n",
              "      <td>Brown Tabby</td>\n",
              "      <td>Domestic Shorthair Mix</td>\n",
              "      <td>Cat</td>\n",
              "    </tr>\n",
              "    <tr>\n",
              "      <th>8</th>\n",
              "      <td>Spayed Female</td>\n",
              "      <td>3 months</td>\n",
              "      <td>Black/Cream</td>\n",
              "      <td>Cairn Terrier</td>\n",
              "      <td>Dog</td>\n",
              "    </tr>\n",
              "    <tr>\n",
              "      <th>9</th>\n",
              "      <td>Spayed Female</td>\n",
              "      <td>1 year</td>\n",
              "      <td>Brown/White</td>\n",
              "      <td>Pit Bull Mix</td>\n",
              "      <td>Dog</td>\n",
              "    </tr>\n",
              "  </tbody>\n",
              "</table>"
            ],
            "text/plain": [
              "<IPython.core.display.HTML object>"
            ]
          },
          "metadata": {}
        }
      ]
    },
    {
      "cell_type": "code",
      "metadata": {
        "id": "fjR7PbqsSIsi",
        "outputId": "9660f6fc-879f-455c-dd9e-05152284a57b",
        "colab": {
          "base_uri": "https://localhost:8080/"
        }
      },
      "source": [
        "outcomes"
      ],
      "execution_count": 362,
      "outputs": [
        {
          "output_type": "execute_result",
          "data": {
            "text/plain": [
              "['Adoption', 'Died', 'Euthanasia', 'Return_to_owner', 'Transfer']"
            ]
          },
          "metadata": {},
          "execution_count": 362
        }
      ]
    },
    {
      "cell_type": "code",
      "metadata": {
        "id": "AOygDSzJgiF_",
        "outputId": "4f3f7f7b-0a12-4c65-c3f1-813a93232e53",
        "colab": {
          "base_uri": "https://localhost:8080/",
          "height": 424
        }
      },
      "source": [
        "x_df = pd.DataFrame(predictions[0])\n",
        "x_df"
      ],
      "execution_count": 363,
      "outputs": [
        {
          "output_type": "execute_result",
          "data": {
            "text/html": [
              "<div>\n",
              "<style scoped>\n",
              "    .dataframe tbody tr th:only-of-type {\n",
              "        vertical-align: middle;\n",
              "    }\n",
              "\n",
              "    .dataframe tbody tr th {\n",
              "        vertical-align: top;\n",
              "    }\n",
              "\n",
              "    .dataframe thead th {\n",
              "        text-align: right;\n",
              "    }\n",
              "</style>\n",
              "<table border=\"1\" class=\"dataframe\">\n",
              "  <thead>\n",
              "    <tr style=\"text-align: right;\">\n",
              "      <th></th>\n",
              "      <th>0</th>\n",
              "      <th>1</th>\n",
              "      <th>2</th>\n",
              "      <th>3</th>\n",
              "      <th>4</th>\n",
              "    </tr>\n",
              "  </thead>\n",
              "  <tbody>\n",
              "    <tr>\n",
              "      <th>0</th>\n",
              "      <td>0.054832</td>\n",
              "      <td>0.007723</td>\n",
              "      <td>0.061115</td>\n",
              "      <td>0.200121</td>\n",
              "      <td>0.676209</td>\n",
              "    </tr>\n",
              "    <tr>\n",
              "      <th>1</th>\n",
              "      <td>0.860106</td>\n",
              "      <td>0.000903</td>\n",
              "      <td>0.001405</td>\n",
              "      <td>0.108109</td>\n",
              "      <td>0.029478</td>\n",
              "    </tr>\n",
              "    <tr>\n",
              "      <th>2</th>\n",
              "      <td>0.417169</td>\n",
              "      <td>0.003259</td>\n",
              "      <td>0.019317</td>\n",
              "      <td>0.121048</td>\n",
              "      <td>0.439207</td>\n",
              "    </tr>\n",
              "    <tr>\n",
              "      <th>3</th>\n",
              "      <td>0.151222</td>\n",
              "      <td>0.009524</td>\n",
              "      <td>0.048854</td>\n",
              "      <td>0.085078</td>\n",
              "      <td>0.705323</td>\n",
              "    </tr>\n",
              "    <tr>\n",
              "      <th>4</th>\n",
              "      <td>0.531108</td>\n",
              "      <td>0.001169</td>\n",
              "      <td>0.011453</td>\n",
              "      <td>0.321766</td>\n",
              "      <td>0.134503</td>\n",
              "    </tr>\n",
              "    <tr>\n",
              "      <th>...</th>\n",
              "      <td>...</td>\n",
              "      <td>...</td>\n",
              "      <td>...</td>\n",
              "      <td>...</td>\n",
              "      <td>...</td>\n",
              "    </tr>\n",
              "    <tr>\n",
              "      <th>11451</th>\n",
              "      <td>0.902577</td>\n",
              "      <td>0.001043</td>\n",
              "      <td>0.001055</td>\n",
              "      <td>0.005216</td>\n",
              "      <td>0.090109</td>\n",
              "    </tr>\n",
              "    <tr>\n",
              "      <th>11452</th>\n",
              "      <td>0.003507</td>\n",
              "      <td>0.010140</td>\n",
              "      <td>0.035353</td>\n",
              "      <td>0.006255</td>\n",
              "      <td>0.944745</td>\n",
              "    </tr>\n",
              "    <tr>\n",
              "      <th>11453</th>\n",
              "      <td>0.010146</td>\n",
              "      <td>0.008954</td>\n",
              "      <td>0.067026</td>\n",
              "      <td>0.024161</td>\n",
              "      <td>0.889713</td>\n",
              "    </tr>\n",
              "    <tr>\n",
              "      <th>11454</th>\n",
              "      <td>0.355090</td>\n",
              "      <td>0.002383</td>\n",
              "      <td>0.054917</td>\n",
              "      <td>0.445058</td>\n",
              "      <td>0.142551</td>\n",
              "    </tr>\n",
              "    <tr>\n",
              "      <th>11455</th>\n",
              "      <td>0.018233</td>\n",
              "      <td>0.003928</td>\n",
              "      <td>0.170908</td>\n",
              "      <td>0.495362</td>\n",
              "      <td>0.311569</td>\n",
              "    </tr>\n",
              "  </tbody>\n",
              "</table>\n",
              "<p>11456 rows × 5 columns</p>\n",
              "</div>"
            ],
            "text/plain": [
              "              0         1         2         3         4\n",
              "0      0.054832  0.007723  0.061115  0.200121  0.676209\n",
              "1      0.860106  0.000903  0.001405  0.108109  0.029478\n",
              "2      0.417169  0.003259  0.019317  0.121048  0.439207\n",
              "3      0.151222  0.009524  0.048854  0.085078  0.705323\n",
              "4      0.531108  0.001169  0.011453  0.321766  0.134503\n",
              "...         ...       ...       ...       ...       ...\n",
              "11451  0.902577  0.001043  0.001055  0.005216  0.090109\n",
              "11452  0.003507  0.010140  0.035353  0.006255  0.944745\n",
              "11453  0.010146  0.008954  0.067026  0.024161  0.889713\n",
              "11454  0.355090  0.002383  0.054917  0.445058  0.142551\n",
              "11455  0.018233  0.003928  0.170908  0.495362  0.311569\n",
              "\n",
              "[11456 rows x 5 columns]"
            ]
          },
          "metadata": {},
          "execution_count": 363
        }
      ]
    },
    {
      "cell_type": "code",
      "metadata": {
        "id": "Q02mrodriGnz"
      },
      "source": [
        "x_df.rename(columns = dict(enumerate(outcomes)), inplace = True)"
      ],
      "execution_count": 364,
      "outputs": []
    },
    {
      "cell_type": "code",
      "metadata": {
        "id": "HKR7iVjuiqYh"
      },
      "source": [
        "x_df.to_csv('result.csv')"
      ],
      "execution_count": 365,
      "outputs": []
    }
  ]
}