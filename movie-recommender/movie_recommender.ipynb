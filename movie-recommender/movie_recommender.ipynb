{
  "nbformat": 4,
  "nbformat_minor": 0,
  "metadata": {
    "colab": {
      "name": "Untitled3.ipynb",
      "provenance": [],
      "authorship_tag": "ABX9TyN5XOmYs3XxZasefjVGT4aH",
      "include_colab_link": true
    },
    "kernelspec": {
      "name": "python3",
      "display_name": "Python 3"
    },
    "language_info": {
      "name": "python"
    }
  },
  "cells": [
    {
      "cell_type": "markdown",
      "metadata": {
        "id": "view-in-github",
        "colab_type": "text"
      },
      "source": [
        "<a href=\"https://colab.research.google.com/github/willystw/fastai-learning/blob/bear-multi-classification/movie-recommender/movie_recommender.ipynb\" target=\"_parent\"><img src=\"https://colab.research.google.com/assets/colab-badge.svg\" alt=\"Open In Colab\"/></a>"
      ]
    },
    {
      "cell_type": "code",
      "metadata": {
        "colab": {
          "base_uri": "https://localhost:8080/"
        },
        "id": "N5ib3mMCZcHb",
        "outputId": "6dc6c10e-3407-4aec-969d-f1170ab618f3"
      },
      "source": [
        "#hide\n",
        "!pip install -Uqq fastbook\n",
        "import fastbook\n",
        "fastbook.setup_book()"
      ],
      "execution_count": null,
      "outputs": [
        {
          "output_type": "stream",
          "name": "stdout",
          "text": [
            "\u001b[?25l\r\u001b[K     |▌                               | 10 kB 19.3 MB/s eta 0:00:01\r\u001b[K     |█                               | 20 kB 25.1 MB/s eta 0:00:01\r\u001b[K     |█▍                              | 30 kB 13.0 MB/s eta 0:00:01\r\u001b[K     |█▉                              | 40 kB 10.0 MB/s eta 0:00:01\r\u001b[K     |██▎                             | 51 kB 4.3 MB/s eta 0:00:01\r\u001b[K     |██▊                             | 61 kB 4.6 MB/s eta 0:00:01\r\u001b[K     |███▏                            | 71 kB 4.2 MB/s eta 0:00:01\r\u001b[K     |███▋                            | 81 kB 4.7 MB/s eta 0:00:01\r\u001b[K     |████                            | 92 kB 4.8 MB/s eta 0:00:01\r\u001b[K     |████▌                           | 102 kB 4.2 MB/s eta 0:00:01\r\u001b[K     |█████                           | 112 kB 4.2 MB/s eta 0:00:01\r\u001b[K     |█████▌                          | 122 kB 4.2 MB/s eta 0:00:01\r\u001b[K     |██████                          | 133 kB 4.2 MB/s eta 0:00:01\r\u001b[K     |██████▍                         | 143 kB 4.2 MB/s eta 0:00:01\r\u001b[K     |██████▉                         | 153 kB 4.2 MB/s eta 0:00:01\r\u001b[K     |███████▎                        | 163 kB 4.2 MB/s eta 0:00:01\r\u001b[K     |███████▊                        | 174 kB 4.2 MB/s eta 0:00:01\r\u001b[K     |████████▏                       | 184 kB 4.2 MB/s eta 0:00:01\r\u001b[K     |████████▋                       | 194 kB 4.2 MB/s eta 0:00:01\r\u001b[K     |█████████                       | 204 kB 4.2 MB/s eta 0:00:01\r\u001b[K     |█████████▋                      | 215 kB 4.2 MB/s eta 0:00:01\r\u001b[K     |██████████                      | 225 kB 4.2 MB/s eta 0:00:01\r\u001b[K     |██████████▌                     | 235 kB 4.2 MB/s eta 0:00:01\r\u001b[K     |███████████                     | 245 kB 4.2 MB/s eta 0:00:01\r\u001b[K     |███████████▍                    | 256 kB 4.2 MB/s eta 0:00:01\r\u001b[K     |███████████▉                    | 266 kB 4.2 MB/s eta 0:00:01\r\u001b[K     |████████████▎                   | 276 kB 4.2 MB/s eta 0:00:01\r\u001b[K     |████████████▊                   | 286 kB 4.2 MB/s eta 0:00:01\r\u001b[K     |█████████████▏                  | 296 kB 4.2 MB/s eta 0:00:01\r\u001b[K     |█████████████▋                  | 307 kB 4.2 MB/s eta 0:00:01\r\u001b[K     |██████████████                  | 317 kB 4.2 MB/s eta 0:00:01\r\u001b[K     |██████████████▋                 | 327 kB 4.2 MB/s eta 0:00:01\r\u001b[K     |███████████████                 | 337 kB 4.2 MB/s eta 0:00:01\r\u001b[K     |███████████████▌                | 348 kB 4.2 MB/s eta 0:00:01\r\u001b[K     |████████████████                | 358 kB 4.2 MB/s eta 0:00:01\r\u001b[K     |████████████████▍               | 368 kB 4.2 MB/s eta 0:00:01\r\u001b[K     |████████████████▉               | 378 kB 4.2 MB/s eta 0:00:01\r\u001b[K     |█████████████████▎              | 389 kB 4.2 MB/s eta 0:00:01\r\u001b[K     |█████████████████▊              | 399 kB 4.2 MB/s eta 0:00:01\r\u001b[K     |██████████████████▏             | 409 kB 4.2 MB/s eta 0:00:01\r\u001b[K     |██████████████████▋             | 419 kB 4.2 MB/s eta 0:00:01\r\u001b[K     |███████████████████▏            | 430 kB 4.2 MB/s eta 0:00:01\r\u001b[K     |███████████████████▋            | 440 kB 4.2 MB/s eta 0:00:01\r\u001b[K     |████████████████████            | 450 kB 4.2 MB/s eta 0:00:01\r\u001b[K     |████████████████████▌           | 460 kB 4.2 MB/s eta 0:00:01\r\u001b[K     |█████████████████████           | 471 kB 4.2 MB/s eta 0:00:01\r\u001b[K     |█████████████████████▍          | 481 kB 4.2 MB/s eta 0:00:01\r\u001b[K     |█████████████████████▉          | 491 kB 4.2 MB/s eta 0:00:01\r\u001b[K     |██████████████████████▎         | 501 kB 4.2 MB/s eta 0:00:01\r\u001b[K     |██████████████████████▊         | 512 kB 4.2 MB/s eta 0:00:01\r\u001b[K     |███████████████████████▏        | 522 kB 4.2 MB/s eta 0:00:01\r\u001b[K     |███████████████████████▋        | 532 kB 4.2 MB/s eta 0:00:01\r\u001b[K     |████████████████████████▏       | 542 kB 4.2 MB/s eta 0:00:01\r\u001b[K     |████████████████████████▋       | 552 kB 4.2 MB/s eta 0:00:01\r\u001b[K     |█████████████████████████       | 563 kB 4.2 MB/s eta 0:00:01\r\u001b[K     |█████████████████████████▌      | 573 kB 4.2 MB/s eta 0:00:01\r\u001b[K     |██████████████████████████      | 583 kB 4.2 MB/s eta 0:00:01\r\u001b[K     |██████████████████████████▍     | 593 kB 4.2 MB/s eta 0:00:01\r\u001b[K     |██████████████████████████▉     | 604 kB 4.2 MB/s eta 0:00:01\r\u001b[K     |███████████████████████████▎    | 614 kB 4.2 MB/s eta 0:00:01\r\u001b[K     |███████████████████████████▊    | 624 kB 4.2 MB/s eta 0:00:01\r\u001b[K     |████████████████████████████▏   | 634 kB 4.2 MB/s eta 0:00:01\r\u001b[K     |████████████████████████████▊   | 645 kB 4.2 MB/s eta 0:00:01\r\u001b[K     |█████████████████████████████▏  | 655 kB 4.2 MB/s eta 0:00:01\r\u001b[K     |█████████████████████████████▋  | 665 kB 4.2 MB/s eta 0:00:01\r\u001b[K     |██████████████████████████████  | 675 kB 4.2 MB/s eta 0:00:01\r\u001b[K     |██████████████████████████████▌ | 686 kB 4.2 MB/s eta 0:00:01\r\u001b[K     |███████████████████████████████ | 696 kB 4.2 MB/s eta 0:00:01\r\u001b[K     |███████████████████████████████▍| 706 kB 4.2 MB/s eta 0:00:01\r\u001b[K     |███████████████████████████████▉| 716 kB 4.2 MB/s eta 0:00:01\r\u001b[K     |████████████████████████████████| 720 kB 4.2 MB/s \n",
            "\u001b[K     |████████████████████████████████| 46 kB 4.1 MB/s \n",
            "\u001b[K     |████████████████████████████████| 1.2 MB 38.3 MB/s \n",
            "\u001b[K     |████████████████████████████████| 186 kB 52.8 MB/s \n",
            "\u001b[K     |████████████████████████████████| 56 kB 3.6 MB/s \n",
            "\u001b[K     |████████████████████████████████| 51 kB 312 kB/s \n",
            "\u001b[?25hMounted at /content/gdrive\n"
          ]
        }
      ]
    },
    {
      "cell_type": "code",
      "metadata": {
        "id": "KRB15JQzZel8"
      },
      "source": [
        "#hide\n",
        "from fastbook import *"
      ],
      "execution_count": null,
      "outputs": []
    },
    {
      "cell_type": "code",
      "metadata": {
        "colab": {
          "base_uri": "https://localhost:8080/",
          "height": 37
        },
        "id": "Zwtc1vUFZfnV",
        "outputId": "70fe0f74-83d8-4de0-820f-cf5c6fe85f00"
      },
      "source": [
        "from fastai.collab import *\n",
        "from fastai.tabular.all import *\n",
        "path = untar_data(URLs.ML_100k)"
      ],
      "execution_count": null,
      "outputs": [
        {
          "output_type": "display_data",
          "data": {
            "text/html": [
              "\n",
              "    <div>\n",
              "        <style>\n",
              "            /* Turns off some styling */\n",
              "            progress {\n",
              "                /* gets rid of default border in Firefox and Opera. */\n",
              "                border: none;\n",
              "                /* Needs to be in here for Safari polyfill so background images work as expected. */\n",
              "                background-size: auto;\n",
              "            }\n",
              "            .progress-bar-interrupted, .progress-bar-interrupted::-webkit-progress-bar {\n",
              "                background: #F44336;\n",
              "            }\n",
              "        </style>\n",
              "      <progress value='4931584' class='' max='4924029' style='width:300px; height:20px; vertical-align: middle;'></progress>\n",
              "      100.15% [4931584/4924029 00:01<00:00]\n",
              "    </div>\n",
              "    "
            ],
            "text/plain": [
              "<IPython.core.display.HTML object>"
            ]
          },
          "metadata": {}
        }
      ]
    },
    {
      "cell_type": "code",
      "metadata": {
        "colab": {
          "base_uri": "https://localhost:8080/",
          "height": 363
        },
        "id": "MwpkZNjIagp2",
        "outputId": "158d1f96-b904-4766-b149-fa4fc5b88d62"
      },
      "source": [
        "ratings = pd.read_csv(path/'u.data', delimiter='\\t', header=None, names=['user','movie','rating','timestamp'])\n",
        "ratings.head(10)"
      ],
      "execution_count": null,
      "outputs": [
        {
          "output_type": "execute_result",
          "data": {
            "text/html": [
              "<div>\n",
              "<style scoped>\n",
              "    .dataframe tbody tr th:only-of-type {\n",
              "        vertical-align: middle;\n",
              "    }\n",
              "\n",
              "    .dataframe tbody tr th {\n",
              "        vertical-align: top;\n",
              "    }\n",
              "\n",
              "    .dataframe thead th {\n",
              "        text-align: right;\n",
              "    }\n",
              "</style>\n",
              "<table border=\"1\" class=\"dataframe\">\n",
              "  <thead>\n",
              "    <tr style=\"text-align: right;\">\n",
              "      <th></th>\n",
              "      <th>user</th>\n",
              "      <th>movie</th>\n",
              "      <th>rating</th>\n",
              "      <th>timestamp</th>\n",
              "    </tr>\n",
              "  </thead>\n",
              "  <tbody>\n",
              "    <tr>\n",
              "      <th>0</th>\n",
              "      <td>196</td>\n",
              "      <td>242</td>\n",
              "      <td>3</td>\n",
              "      <td>881250949</td>\n",
              "    </tr>\n",
              "    <tr>\n",
              "      <th>1</th>\n",
              "      <td>186</td>\n",
              "      <td>302</td>\n",
              "      <td>3</td>\n",
              "      <td>891717742</td>\n",
              "    </tr>\n",
              "    <tr>\n",
              "      <th>2</th>\n",
              "      <td>22</td>\n",
              "      <td>377</td>\n",
              "      <td>1</td>\n",
              "      <td>878887116</td>\n",
              "    </tr>\n",
              "    <tr>\n",
              "      <th>3</th>\n",
              "      <td>244</td>\n",
              "      <td>51</td>\n",
              "      <td>2</td>\n",
              "      <td>880606923</td>\n",
              "    </tr>\n",
              "    <tr>\n",
              "      <th>4</th>\n",
              "      <td>166</td>\n",
              "      <td>346</td>\n",
              "      <td>1</td>\n",
              "      <td>886397596</td>\n",
              "    </tr>\n",
              "    <tr>\n",
              "      <th>5</th>\n",
              "      <td>298</td>\n",
              "      <td>474</td>\n",
              "      <td>4</td>\n",
              "      <td>884182806</td>\n",
              "    </tr>\n",
              "    <tr>\n",
              "      <th>6</th>\n",
              "      <td>115</td>\n",
              "      <td>265</td>\n",
              "      <td>2</td>\n",
              "      <td>881171488</td>\n",
              "    </tr>\n",
              "    <tr>\n",
              "      <th>7</th>\n",
              "      <td>253</td>\n",
              "      <td>465</td>\n",
              "      <td>5</td>\n",
              "      <td>891628467</td>\n",
              "    </tr>\n",
              "    <tr>\n",
              "      <th>8</th>\n",
              "      <td>305</td>\n",
              "      <td>451</td>\n",
              "      <td>3</td>\n",
              "      <td>886324817</td>\n",
              "    </tr>\n",
              "    <tr>\n",
              "      <th>9</th>\n",
              "      <td>6</td>\n",
              "      <td>86</td>\n",
              "      <td>3</td>\n",
              "      <td>883603013</td>\n",
              "    </tr>\n",
              "  </tbody>\n",
              "</table>\n",
              "</div>"
            ],
            "text/plain": [
              "   user  movie  rating  timestamp\n",
              "0   196    242       3  881250949\n",
              "1   186    302       3  891717742\n",
              "2    22    377       1  878887116\n",
              "3   244     51       2  880606923\n",
              "4   166    346       1  886397596\n",
              "5   298    474       4  884182806\n",
              "6   115    265       2  881171488\n",
              "7   253    465       5  891628467\n",
              "8   305    451       3  886324817\n",
              "9     6     86       3  883603013"
            ]
          },
          "metadata": {},
          "execution_count": 12
        }
      ]
    },
    {
      "cell_type": "code",
      "metadata": {
        "colab": {
          "base_uri": "https://localhost:8080/",
          "height": 363
        },
        "id": "iWmVda0waqj0",
        "outputId": "243ba983-f049-4515-f78c-9ce612fb81c6"
      },
      "source": [
        "movies = pd.read_csv(path/'u.item', delimiter='|', header=None, usecols=(0,1), names=('movie', 'title'), encoding='latin-1')\n",
        "movies.head(10)"
      ],
      "execution_count": null,
      "outputs": [
        {
          "output_type": "execute_result",
          "data": {
            "text/html": [
              "<div>\n",
              "<style scoped>\n",
              "    .dataframe tbody tr th:only-of-type {\n",
              "        vertical-align: middle;\n",
              "    }\n",
              "\n",
              "    .dataframe tbody tr th {\n",
              "        vertical-align: top;\n",
              "    }\n",
              "\n",
              "    .dataframe thead th {\n",
              "        text-align: right;\n",
              "    }\n",
              "</style>\n",
              "<table border=\"1\" class=\"dataframe\">\n",
              "  <thead>\n",
              "    <tr style=\"text-align: right;\">\n",
              "      <th></th>\n",
              "      <th>movie</th>\n",
              "      <th>title</th>\n",
              "    </tr>\n",
              "  </thead>\n",
              "  <tbody>\n",
              "    <tr>\n",
              "      <th>0</th>\n",
              "      <td>1</td>\n",
              "      <td>Toy Story (1995)</td>\n",
              "    </tr>\n",
              "    <tr>\n",
              "      <th>1</th>\n",
              "      <td>2</td>\n",
              "      <td>GoldenEye (1995)</td>\n",
              "    </tr>\n",
              "    <tr>\n",
              "      <th>2</th>\n",
              "      <td>3</td>\n",
              "      <td>Four Rooms (1995)</td>\n",
              "    </tr>\n",
              "    <tr>\n",
              "      <th>3</th>\n",
              "      <td>4</td>\n",
              "      <td>Get Shorty (1995)</td>\n",
              "    </tr>\n",
              "    <tr>\n",
              "      <th>4</th>\n",
              "      <td>5</td>\n",
              "      <td>Copycat (1995)</td>\n",
              "    </tr>\n",
              "    <tr>\n",
              "      <th>5</th>\n",
              "      <td>6</td>\n",
              "      <td>Shanghai Triad (Yao a yao yao dao waipo qiao) (1995)</td>\n",
              "    </tr>\n",
              "    <tr>\n",
              "      <th>6</th>\n",
              "      <td>7</td>\n",
              "      <td>Twelve Monkeys (1995)</td>\n",
              "    </tr>\n",
              "    <tr>\n",
              "      <th>7</th>\n",
              "      <td>8</td>\n",
              "      <td>Babe (1995)</td>\n",
              "    </tr>\n",
              "    <tr>\n",
              "      <th>8</th>\n",
              "      <td>9</td>\n",
              "      <td>Dead Man Walking (1995)</td>\n",
              "    </tr>\n",
              "    <tr>\n",
              "      <th>9</th>\n",
              "      <td>10</td>\n",
              "      <td>Richard III (1995)</td>\n",
              "    </tr>\n",
              "  </tbody>\n",
              "</table>\n",
              "</div>"
            ],
            "text/plain": [
              "   movie                                                 title\n",
              "0      1                                      Toy Story (1995)\n",
              "1      2                                      GoldenEye (1995)\n",
              "2      3                                     Four Rooms (1995)\n",
              "3      4                                     Get Shorty (1995)\n",
              "4      5                                        Copycat (1995)\n",
              "5      6  Shanghai Triad (Yao a yao yao dao waipo qiao) (1995)\n",
              "6      7                                 Twelve Monkeys (1995)\n",
              "7      8                                           Babe (1995)\n",
              "8      9                               Dead Man Walking (1995)\n",
              "9     10                                    Richard III (1995)"
            ]
          },
          "metadata": {},
          "execution_count": 17
        }
      ]
    },
    {
      "cell_type": "code",
      "metadata": {
        "colab": {
          "base_uri": "https://localhost:8080/",
          "height": 363
        },
        "id": "ZayL8vaDbhR9",
        "outputId": "829a7f06-bb1f-4e2e-8053-5e42c5b9232f"
      },
      "source": [
        "ratings = ratings.merge(movies)\n",
        "ratings.head(10)"
      ],
      "execution_count": null,
      "outputs": [
        {
          "output_type": "execute_result",
          "data": {
            "text/html": [
              "<div>\n",
              "<style scoped>\n",
              "    .dataframe tbody tr th:only-of-type {\n",
              "        vertical-align: middle;\n",
              "    }\n",
              "\n",
              "    .dataframe tbody tr th {\n",
              "        vertical-align: top;\n",
              "    }\n",
              "\n",
              "    .dataframe thead th {\n",
              "        text-align: right;\n",
              "    }\n",
              "</style>\n",
              "<table border=\"1\" class=\"dataframe\">\n",
              "  <thead>\n",
              "    <tr style=\"text-align: right;\">\n",
              "      <th></th>\n",
              "      <th>user</th>\n",
              "      <th>movie</th>\n",
              "      <th>rating</th>\n",
              "      <th>timestamp</th>\n",
              "      <th>title</th>\n",
              "    </tr>\n",
              "  </thead>\n",
              "  <tbody>\n",
              "    <tr>\n",
              "      <th>0</th>\n",
              "      <td>196</td>\n",
              "      <td>242</td>\n",
              "      <td>3</td>\n",
              "      <td>881250949</td>\n",
              "      <td>Kolya (1996)</td>\n",
              "    </tr>\n",
              "    <tr>\n",
              "      <th>1</th>\n",
              "      <td>63</td>\n",
              "      <td>242</td>\n",
              "      <td>3</td>\n",
              "      <td>875747190</td>\n",
              "      <td>Kolya (1996)</td>\n",
              "    </tr>\n",
              "    <tr>\n",
              "      <th>2</th>\n",
              "      <td>226</td>\n",
              "      <td>242</td>\n",
              "      <td>5</td>\n",
              "      <td>883888671</td>\n",
              "      <td>Kolya (1996)</td>\n",
              "    </tr>\n",
              "    <tr>\n",
              "      <th>3</th>\n",
              "      <td>154</td>\n",
              "      <td>242</td>\n",
              "      <td>3</td>\n",
              "      <td>879138235</td>\n",
              "      <td>Kolya (1996)</td>\n",
              "    </tr>\n",
              "    <tr>\n",
              "      <th>4</th>\n",
              "      <td>306</td>\n",
              "      <td>242</td>\n",
              "      <td>5</td>\n",
              "      <td>876503793</td>\n",
              "      <td>Kolya (1996)</td>\n",
              "    </tr>\n",
              "    <tr>\n",
              "      <th>5</th>\n",
              "      <td>296</td>\n",
              "      <td>242</td>\n",
              "      <td>4</td>\n",
              "      <td>884196057</td>\n",
              "      <td>Kolya (1996)</td>\n",
              "    </tr>\n",
              "    <tr>\n",
              "      <th>6</th>\n",
              "      <td>34</td>\n",
              "      <td>242</td>\n",
              "      <td>5</td>\n",
              "      <td>888601628</td>\n",
              "      <td>Kolya (1996)</td>\n",
              "    </tr>\n",
              "    <tr>\n",
              "      <th>7</th>\n",
              "      <td>271</td>\n",
              "      <td>242</td>\n",
              "      <td>4</td>\n",
              "      <td>885844495</td>\n",
              "      <td>Kolya (1996)</td>\n",
              "    </tr>\n",
              "    <tr>\n",
              "      <th>8</th>\n",
              "      <td>201</td>\n",
              "      <td>242</td>\n",
              "      <td>4</td>\n",
              "      <td>884110598</td>\n",
              "      <td>Kolya (1996)</td>\n",
              "    </tr>\n",
              "    <tr>\n",
              "      <th>9</th>\n",
              "      <td>209</td>\n",
              "      <td>242</td>\n",
              "      <td>4</td>\n",
              "      <td>883589606</td>\n",
              "      <td>Kolya (1996)</td>\n",
              "    </tr>\n",
              "  </tbody>\n",
              "</table>\n",
              "</div>"
            ],
            "text/plain": [
              "   user  movie  rating  timestamp         title\n",
              "0   196    242       3  881250949  Kolya (1996)\n",
              "1    63    242       3  875747190  Kolya (1996)\n",
              "2   226    242       5  883888671  Kolya (1996)\n",
              "3   154    242       3  879138235  Kolya (1996)\n",
              "4   306    242       5  876503793  Kolya (1996)\n",
              "5   296    242       4  884196057  Kolya (1996)\n",
              "6    34    242       5  888601628  Kolya (1996)\n",
              "7   271    242       4  885844495  Kolya (1996)\n",
              "8   201    242       4  884110598  Kolya (1996)\n",
              "9   209    242       4  883589606  Kolya (1996)"
            ]
          },
          "metadata": {},
          "execution_count": 19
        }
      ]
    },
    {
      "cell_type": "code",
      "metadata": {
        "colab": {
          "base_uri": "https://localhost:8080/",
          "height": 363
        },
        "id": "gS5mlCoMbxHd",
        "outputId": "19230573-51c5-42e8-e21a-4ec1506eb76f"
      },
      "source": [
        "dls = CollabDataLoaders.from_df(ratings, item_name='title', bs=64)\n",
        "dls.show_batch()"
      ],
      "execution_count": null,
      "outputs": [
        {
          "output_type": "display_data",
          "data": {
            "text/html": [
              "<table border=\"1\" class=\"dataframe\">\n",
              "  <thead>\n",
              "    <tr style=\"text-align: right;\">\n",
              "      <th></th>\n",
              "      <th>user</th>\n",
              "      <th>title</th>\n",
              "      <th>rating</th>\n",
              "    </tr>\n",
              "  </thead>\n",
              "  <tbody>\n",
              "    <tr>\n",
              "      <th>0</th>\n",
              "      <td>178</td>\n",
              "      <td>Days of Thunder (1990)</td>\n",
              "      <td>3</td>\n",
              "    </tr>\n",
              "    <tr>\n",
              "      <th>1</th>\n",
              "      <td>92</td>\n",
              "      <td>2 Days in the Valley (1996)</td>\n",
              "      <td>3</td>\n",
              "    </tr>\n",
              "    <tr>\n",
              "      <th>2</th>\n",
              "      <td>178</td>\n",
              "      <td>Michael Collins (1996)</td>\n",
              "      <td>3</td>\n",
              "    </tr>\n",
              "    <tr>\n",
              "      <th>3</th>\n",
              "      <td>804</td>\n",
              "      <td>Adventures of Pinocchio, The (1996)</td>\n",
              "      <td>3</td>\n",
              "    </tr>\n",
              "    <tr>\n",
              "      <th>4</th>\n",
              "      <td>738</td>\n",
              "      <td>Sleepless in Seattle (1993)</td>\n",
              "      <td>3</td>\n",
              "    </tr>\n",
              "    <tr>\n",
              "      <th>5</th>\n",
              "      <td>583</td>\n",
              "      <td>Brazil (1985)</td>\n",
              "      <td>5</td>\n",
              "    </tr>\n",
              "    <tr>\n",
              "      <th>6</th>\n",
              "      <td>878</td>\n",
              "      <td>Leaving Las Vegas (1995)</td>\n",
              "      <td>3</td>\n",
              "    </tr>\n",
              "    <tr>\n",
              "      <th>7</th>\n",
              "      <td>742</td>\n",
              "      <td>Postino, Il (1994)</td>\n",
              "      <td>5</td>\n",
              "    </tr>\n",
              "    <tr>\n",
              "      <th>8</th>\n",
              "      <td>694</td>\n",
              "      <td>When a Man Loves a Woman (1994)</td>\n",
              "      <td>3</td>\n",
              "    </tr>\n",
              "    <tr>\n",
              "      <th>9</th>\n",
              "      <td>825</td>\n",
              "      <td>Mother (1996)</td>\n",
              "      <td>3</td>\n",
              "    </tr>\n",
              "  </tbody>\n",
              "</table>"
            ],
            "text/plain": [
              "<IPython.core.display.HTML object>"
            ]
          },
          "metadata": {}
        }
      ]
    },
    {
      "cell_type": "code",
      "metadata": {
        "id": "uCT5xAKacAfF"
      },
      "source": [
        "learn = collab_learner(dls, n_factors=50, y_range=(0, 5.5))"
      ],
      "execution_count": null,
      "outputs": []
    },
    {
      "cell_type": "code",
      "metadata": {
        "colab": {
          "base_uri": "https://localhost:8080/",
          "height": 206
        },
        "id": "J2-0raRdcydt",
        "outputId": "d58b94c3-0632-4e24-e68f-5a9547975827"
      },
      "source": [
        "learn.fit_one_cycle(5, 5e-3, wd=0.1)"
      ],
      "execution_count": null,
      "outputs": [
        {
          "output_type": "display_data",
          "data": {
            "text/html": [
              "<table border=\"1\" class=\"dataframe\">\n",
              "  <thead>\n",
              "    <tr style=\"text-align: left;\">\n",
              "      <th>epoch</th>\n",
              "      <th>train_loss</th>\n",
              "      <th>valid_loss</th>\n",
              "      <th>time</th>\n",
              "    </tr>\n",
              "  </thead>\n",
              "  <tbody>\n",
              "    <tr>\n",
              "      <td>0</td>\n",
              "      <td>0.913259</td>\n",
              "      <td>0.943922</td>\n",
              "      <td>00:11</td>\n",
              "    </tr>\n",
              "    <tr>\n",
              "      <td>1</td>\n",
              "      <td>0.817469</td>\n",
              "      <td>0.873518</td>\n",
              "      <td>00:11</td>\n",
              "    </tr>\n",
              "    <tr>\n",
              "      <td>2</td>\n",
              "      <td>0.733714</td>\n",
              "      <td>0.829292</td>\n",
              "      <td>00:11</td>\n",
              "    </tr>\n",
              "    <tr>\n",
              "      <td>3</td>\n",
              "      <td>0.581267</td>\n",
              "      <td>0.816393</td>\n",
              "      <td>00:11</td>\n",
              "    </tr>\n",
              "    <tr>\n",
              "      <td>4</td>\n",
              "      <td>0.479274</td>\n",
              "      <td>0.817592</td>\n",
              "      <td>00:11</td>\n",
              "    </tr>\n",
              "  </tbody>\n",
              "</table>"
            ],
            "text/plain": [
              "<IPython.core.display.HTML object>"
            ]
          },
          "metadata": {}
        }
      ]
    },
    {
      "cell_type": "code",
      "metadata": {
        "colab": {
          "base_uri": "https://localhost:8080/",
          "height": 206
        },
        "id": "QT_8172xc01d",
        "outputId": "80d0f379-2fe9-47a5-ac67-db7ee9feabcd"
      },
      "source": [
        "learn = collab_learner(dls, use_nn=True, y_range=(0, 5.5), layers=[100,50])\n",
        "learn.fit_one_cycle(5, 5e-3, wd=0.1)"
      ],
      "execution_count": null,
      "outputs": [
        {
          "output_type": "display_data",
          "data": {
            "text/html": [
              "<table border=\"1\" class=\"dataframe\">\n",
              "  <thead>\n",
              "    <tr style=\"text-align: left;\">\n",
              "      <th>epoch</th>\n",
              "      <th>train_loss</th>\n",
              "      <th>valid_loss</th>\n",
              "      <th>time</th>\n",
              "    </tr>\n",
              "  </thead>\n",
              "  <tbody>\n",
              "    <tr>\n",
              "      <td>0</td>\n",
              "      <td>0.995056</td>\n",
              "      <td>0.985757</td>\n",
              "      <td>00:15</td>\n",
              "    </tr>\n",
              "    <tr>\n",
              "      <td>1</td>\n",
              "      <td>0.959629</td>\n",
              "      <td>0.906348</td>\n",
              "      <td>00:16</td>\n",
              "    </tr>\n",
              "    <tr>\n",
              "      <td>2</td>\n",
              "      <td>0.868694</td>\n",
              "      <td>0.877667</td>\n",
              "      <td>00:16</td>\n",
              "    </tr>\n",
              "    <tr>\n",
              "      <td>3</td>\n",
              "      <td>0.842771</td>\n",
              "      <td>0.852472</td>\n",
              "      <td>00:15</td>\n",
              "    </tr>\n",
              "    <tr>\n",
              "      <td>4</td>\n",
              "      <td>0.736606</td>\n",
              "      <td>0.854832</td>\n",
              "      <td>00:15</td>\n",
              "    </tr>\n",
              "  </tbody>\n",
              "</table>"
            ],
            "text/plain": [
              "<IPython.core.display.HTML object>"
            ]
          },
          "metadata": {}
        }
      ]
    },
    {
      "cell_type": "code",
      "metadata": {
        "id": "dMz3DMnCdnPm"
      },
      "source": [
        ""
      ],
      "execution_count": null,
      "outputs": []
    }
  ]
}