{
  "nbformat": 4,
  "nbformat_minor": 0,
  "metadata": {
    "kernelspec": {
      "display_name": "Python 3",
      "language": "python",
      "name": "python3"
    },
    "language_info": {
      "codemirror_mode": {
        "name": "ipython",
        "version": 3
      },
      "file_extension": ".py",
      "mimetype": "text/x-python",
      "name": "python",
      "nbconvert_exporter": "python",
      "pygments_lexer": "ipython3",
      "version": "3.8.6"
    },
    "colab": {
      "name": "Number Identification.ipynb",
      "provenance": [],
      "include_colab_link": true
    },
    "accelerator": "GPU"
  },
  "cells": [
    {
      "cell_type": "markdown",
      "metadata": {
        "id": "view-in-github",
        "colab_type": "text"
      },
      "source": [
        "<a href=\"https://colab.research.google.com/github/willystw/fastai-learning/blob/mnist-identification/Number_Identification.ipynb\" target=\"_parent\"><img src=\"https://colab.research.google.com/assets/colab-badge.svg\" alt=\"Open In Colab\"/></a>"
      ]
    },
    {
      "cell_type": "markdown",
      "metadata": {
        "gradient": {
          "editing": false
        },
        "id": "e77_7tlwNPFO"
      },
      "source": [
        "## Initialization\n",
        "\n",
        "The application uses fastai & pytorch library"
      ]
    },
    {
      "cell_type": "code",
      "metadata": {
        "gradient": {
          "editing": false
        },
        "colab": {
          "base_uri": "https://localhost:8080/"
        },
        "id": "UCwd3W_hNPFQ",
        "outputId": "469cf1b5-121e-4f95-a5db-8d0f6e0d61dc"
      },
      "source": [
        "#hide\n",
        "!pip install -Uqq fastbook\n",
        "import fastbook\n",
        "fastbook.setup_book()"
      ],
      "execution_count": 1,
      "outputs": [
        {
          "output_type": "stream",
          "text": [
            "\u001b[K     |████████████████████████████████| 720 kB 8.4 MB/s \n",
            "\u001b[K     |████████████████████████████████| 46 kB 5.3 MB/s \n",
            "\u001b[K     |████████████████████████████████| 188 kB 64.9 MB/s \n",
            "\u001b[K     |████████████████████████████████| 1.2 MB 50.1 MB/s \n",
            "\u001b[K     |████████████████████████████████| 56 kB 5.1 MB/s \n",
            "\u001b[K     |████████████████████████████████| 51 kB 400 kB/s \n",
            "\u001b[?25hMounted at /content/gdrive\n"
          ],
          "name": "stdout"
        }
      ]
    },
    {
      "cell_type": "code",
      "metadata": {
        "gradient": {
          "editing": false
        },
        "id": "3hktkGrbNPFR"
      },
      "source": [
        "#hide\n",
        "from fastai.vision.all import *\n",
        "from fastbook import *\n",
        "\n",
        "matplotlib.rc('image', cmap='Greys')"
      ],
      "execution_count": 2,
      "outputs": []
    },
    {
      "cell_type": "markdown",
      "metadata": {
        "gradient": {
          "editing": false
        },
        "id": "Q2ZyRwIRNPFS"
      },
      "source": [
        "### Download Raw Data\n",
        "\n",
        "Raw data used here is from fastai course, because the data is in image format, and the image size is identical."
      ]
    },
    {
      "cell_type": "code",
      "metadata": {
        "gradient": {
          "editing": false
        },
        "colab": {
          "base_uri": "https://localhost:8080/",
          "height": 37
        },
        "id": "i3Fs1IkGNPFS",
        "outputId": "828519aa-7726-4b98-985b-2e036563e8d2"
      },
      "source": [
        "path = untar_data(URLs.MNIST)"
      ],
      "execution_count": 3,
      "outputs": [
        {
          "output_type": "display_data",
          "data": {
            "text/html": [
              "\n",
              "    <div>\n",
              "        <style>\n",
              "            /* Turns off some styling */\n",
              "            progress {\n",
              "                /* gets rid of default border in Firefox and Opera. */\n",
              "                border: none;\n",
              "                /* Needs to be in here for Safari polyfill so background images work as expected. */\n",
              "                background-size: auto;\n",
              "            }\n",
              "            .progress-bar-interrupted, .progress-bar-interrupted::-webkit-progress-bar {\n",
              "                background: #F44336;\n",
              "            }\n",
              "        </style>\n",
              "      <progress value='15687680' class='' max='15683414' style='width:300px; height:20px; vertical-align: middle;'></progress>\n",
              "      100.03% [15687680/15683414 00:00<00:00]\n",
              "    </div>\n",
              "    "
            ],
            "text/plain": [
              "<IPython.core.display.HTML object>"
            ]
          },
          "metadata": {
            "tags": []
          }
        }
      ]
    },
    {
      "cell_type": "code",
      "metadata": {
        "gradient": {
          "editing": false
        },
        "id": "gCRzFDlLNPFT"
      },
      "source": [
        "Path.BASE_PATH = path"
      ],
      "execution_count": 4,
      "outputs": []
    },
    {
      "cell_type": "code",
      "metadata": {
        "gradient": {
          "editing": false
        },
        "scrolled": false,
        "colab": {
          "base_uri": "https://localhost:8080/"
        },
        "id": "iUgLwQTUNPFT",
        "outputId": "6e15feb3-3970-4d14-af5d-dcb819e23b7d"
      },
      "source": [
        "path.ls()"
      ],
      "execution_count": 5,
      "outputs": [
        {
          "output_type": "execute_result",
          "data": {
            "text/plain": [
              "(#2) [Path('training'),Path('testing')]"
            ]
          },
          "metadata": {
            "tags": []
          },
          "execution_count": 5
        }
      ]
    },
    {
      "cell_type": "code",
      "metadata": {
        "gradient": {
          "editing": false
        },
        "colab": {
          "base_uri": "https://localhost:8080/"
        },
        "id": "R4zgzTuGNPFV",
        "outputId": "373d8508-c6f4-42fd-b4b1-e521121c71be"
      },
      "source": [
        "(path/'training').ls()"
      ],
      "execution_count": 6,
      "outputs": [
        {
          "output_type": "execute_result",
          "data": {
            "text/plain": [
              "(#10) [Path('training/7'),Path('training/8'),Path('training/5'),Path('training/4'),Path('training/6'),Path('training/3'),Path('training/2'),Path('training/9'),Path('training/1'),Path('training/0')]"
            ]
          },
          "metadata": {
            "tags": []
          },
          "execution_count": 6
        }
      ]
    },
    {
      "cell_type": "code",
      "metadata": {
        "gradient": {
          "editing": false
        },
        "scrolled": true,
        "colab": {
          "base_uri": "https://localhost:8080/"
        },
        "id": "RVWtB9W1NPFV",
        "outputId": "91315e6e-de03-41b5-e405-da74e5fa2753"
      },
      "source": [
        "(path/'testing').ls()"
      ],
      "execution_count": 7,
      "outputs": [
        {
          "output_type": "execute_result",
          "data": {
            "text/plain": [
              "(#10) [Path('testing/7'),Path('testing/8'),Path('testing/5'),Path('testing/4'),Path('testing/6'),Path('testing/3'),Path('testing/2'),Path('testing/9'),Path('testing/1'),Path('testing/0')]"
            ]
          },
          "metadata": {
            "tags": []
          },
          "execution_count": 7
        }
      ]
    },
    {
      "cell_type": "code",
      "metadata": {
        "gradient": {},
        "id": "O2Ts27J0NPFW"
      },
      "source": [
        "fours = (path/'training/4').ls().sorted()"
      ],
      "execution_count": 8,
      "outputs": []
    },
    {
      "cell_type": "code",
      "metadata": {
        "gradient": {},
        "scrolled": true,
        "colab": {
          "base_uri": "https://localhost:8080/"
        },
        "id": "SSHRSUKLNPFX",
        "outputId": "6dcd7fa6-3d9f-4f6a-890e-7992726d7cd6"
      },
      "source": [
        "len(fours)"
      ],
      "execution_count": 9,
      "outputs": [
        {
          "output_type": "execute_result",
          "data": {
            "text/plain": [
              "5842"
            ]
          },
          "metadata": {
            "tags": []
          },
          "execution_count": 9
        }
      ]
    },
    {
      "cell_type": "code",
      "metadata": {
        "gradient": {},
        "scrolled": true,
        "colab": {
          "base_uri": "https://localhost:8080/",
          "height": 45
        },
        "id": "aLL9BU1BNPFX",
        "outputId": "2983eace-d132-454e-980a-b42dc692581d"
      },
      "source": [
        "Image.open(fours[542])"
      ],
      "execution_count": 10,
      "outputs": [
        {
          "output_type": "execute_result",
          "data": {
            "image/png": "[encoded data removed]",
            "text/plain": [
              "<PIL.PngImagePlugin.PngImageFile image mode=L size=28x28 at 0x7F941550DE90>"
            ]
          },
          "metadata": {
            "tags": []
          },
          "execution_count": 10
        }
      ]
    },
    {
      "cell_type": "markdown",
      "metadata": {
        "id": "k9twF--yNPFY"
      },
      "source": [
        "## Init Variables\n",
        "\n",
        "Store images data to a variable, then convert it to a tensor array."
      ]
    },
    {
      "cell_type": "code",
      "metadata": {
        "gradient": {},
        "id": "mUiek4V2NPFY"
      },
      "source": [
        "zeros = (path/'training/0').ls().sorted()\n",
        "ones = (path/'training/1').ls().sorted()\n",
        "twos = (path/'training/2').ls().sorted()\n",
        "threes = (path/'training/3').ls().sorted()\n",
        "fours = (path/'training/4').ls().sorted()\n",
        "fives = (path/'training/5').ls().sorted()\n",
        "sixes = (path/'training/6').ls().sorted()\n",
        "sevens = (path/'training/7').ls().sorted()\n",
        "eights = (path/'training/8').ls().sorted()\n",
        "nines = (path/'training/9').ls().sorted()"
      ],
      "execution_count": 11,
      "outputs": []
    },
    {
      "cell_type": "code",
      "metadata": {
        "gradient": {},
        "id": "e55fBR28NPFZ"
      },
      "source": [
        "zero_tensor = [tensor(Image.open(o)) for o in zeros]\n",
        "one_tensor = [tensor(Image.open(o)) for o in ones]\n",
        "two_tensor = [tensor(Image.open(o)) for o in twos]\n",
        "three_tensor = [tensor(Image.open(o)) for o in threes]\n",
        "four_tensor = [tensor(Image.open(o)) for o in fours]\n",
        "five_tensor = [tensor(Image.open(o)) for o in fives]\n",
        "six_tensor = [tensor(Image.open(o)) for o in sixes]\n",
        "seven_tensor = [tensor(Image.open(o)) for o in sevens]\n",
        "eight_tensor = [tensor(Image.open(o)) for o in eights]\n",
        "nine_tensor = [tensor(Image.open(o)) for o in nines]"
      ],
      "execution_count": 12,
      "outputs": []
    },
    {
      "cell_type": "code",
      "metadata": {
        "id": "8CW5oygS0Zkf"
      },
      "source": [
        "zero_stack = torch.stack(zero_tensor).float()/255.0\n",
        "one_stack = torch.stack(one_tensor).float()/255.0\n",
        "two_stack = torch.stack(two_tensor).float()/255.0\n",
        "three_stack = torch.stack(three_tensor).float()/255.0\n",
        "four_stack = torch.stack(four_tensor).float()/255.0\n",
        "five_stack = torch.stack(five_tensor).float()/255.0\n",
        "six_stack = torch.stack(six_tensor).float()/255.0\n",
        "seven_stack = torch.stack(seven_tensor).float()/255.0\n",
        "eight_stack = torch.stack(eight_tensor).float()/255.0\n",
        "nine_stack = torch.stack(nine_tensor).float()/255.0"
      ],
      "execution_count": 13,
      "outputs": []
    },
    {
      "cell_type": "code",
      "metadata": {
        "id": "w1VDufAq0c37"
      },
      "source": [
        "zero_t_tensor = torch.stack([tensor(Image.open(o)) for o in (path/'testing/0').ls().sorted()]).float()/255.0\n",
        "one_t_tensor = torch.stack([tensor(Image.open(o)) for o in (path/'testing/1').ls().sorted()]).float()/255.0\n",
        "two_t_tensor = torch.stack([tensor(Image.open(o)) for o in (path/'testing/2').ls().sorted()]).float()/255.0\n",
        "three_t_tensor = torch.stack([tensor(Image.open(o)) for o in (path/'testing/3').ls().sorted()]).float()/255.0\n",
        "four_t_tensor = torch.stack([tensor(Image.open(o)) for o in (path/'testing/4').ls().sorted()]).float()/255.0\n",
        "five_t_tensor = torch.stack([tensor(Image.open(o)) for o in (path/'testing/5').ls().sorted()]).float()/255.0\n",
        "six_t_tensor = torch.stack([tensor(Image.open(o)) for o in (path/'testing/6').ls().sorted()]).float()/255.0\n",
        "seven_t_tensor = torch.stack([tensor(Image.open(o)) for o in (path/'testing/7').ls().sorted()]).float()/255.0\n",
        "eight_t_tensor = torch.stack([tensor(Image.open(o)) for o in (path/'testing/8').ls().sorted()]).float()/255.0\n",
        "nine_t_tensor = torch.stack([tensor(Image.open(o)) for o in (path/'testing/9').ls().sorted()]).float()/255.0\n",
        "\n",
        "t_tensors = [zero_t_tensor, one_t_tensor, two_t_tensor, three_t_tensor, four_t_tensor, \n",
        "            five_t_tensor, six_t_tensor, seven_t_tensor, eight_t_tensor, nine_t_tensor]"
      ],
      "execution_count": 14,
      "outputs": []
    },
    {
      "cell_type": "markdown",
      "metadata": {
        "id": "FRiR1As7NPFZ"
      },
      "source": [
        "## Using Pixel Similarity Method\n",
        "\n",
        "In this method, get average pixel value of a number. Then, calculate similarity with each number to determine which number is closest to prediction."
      ]
    },
    {
      "cell_type": "code",
      "metadata": {
        "gradient": {},
        "id": "BWS9uLMnNPFa"
      },
      "source": [
        "mean0 = zero_stack.mean(0)\n",
        "mean1 = one_stack.mean(0)\n",
        "mean2 = two_stack.mean(0)\n",
        "mean3 = three_stack.mean(0)\n",
        "mean4 = four_stack.mean(0)\n",
        "mean5 = five_stack.mean(0)\n",
        "mean6 = six_stack.mean(0)\n",
        "mean7 = seven_stack.mean(0)\n",
        "mean8 = eight_stack.mean(0)\n",
        "mean9 = nine_stack.mean(0)\n",
        "\n",
        "means = [zero_stack.mean(0), one_stack.mean(0), two_stack.mean(0), three_stack.mean(0), four_stack.mean(0), \n",
        "         five_stack.mean(0), six_stack.mean(0), seven_stack.mean(0), eight_stack.mean(0), nine_stack.mean(0)]\n"
      ],
      "execution_count": null,
      "outputs": []
    },
    {
      "cell_type": "markdown",
      "metadata": {
        "id": "-hZBLmBgNPFa"
      },
      "source": [
        "Define distance function"
      ]
    },
    {
      "cell_type": "code",
      "metadata": {
        "gradient": {},
        "id": "SFxh9VxfNPFa"
      },
      "source": [
        "def distance(a,b) : return (a-b).abs().mean((-1,-2))"
      ],
      "execution_count": null,
      "outputs": []
    },
    {
      "cell_type": "markdown",
      "metadata": {
        "id": "GE1HZLD_NPFa"
      },
      "source": [
        "Use test data to get the function accuracy"
      ]
    },
    {
      "cell_type": "code",
      "metadata": {
        "gradient": {},
        "id": "E537k8qCNPFb"
      },
      "source": [
        "def get_accuracy(tensor_input, predicted_num):\n",
        "    #init with true elements\n",
        "    result = torch.ones(len(tensor_input), dtype=torch.bool)\n",
        "    #get distance between input and predicted number's mean\n",
        "    base = distance(tensor_input, means[predicted_num])\n",
        "    #iterate 9 times to compare distance between input tensor and other available numbers.\n",
        "    #skip if i is predicted_num\n",
        "    #use logical and to accummulate the result\n",
        "    for i in range(0,10):\n",
        "        if i == predicted_num:\n",
        "            continue\n",
        "        d = distance(tensor_input, means[i])\n",
        "        acc = base < d\n",
        "        result = torch.logical_and(result, acc)\n",
        "    return result\n",
        "\n",
        "\n",
        "def get_accuracy_list(predicted_num):\n",
        "    \"\"\"Combine multiple get_accuracy functions into one function.\n",
        "    Take data from t_tensors and iterate it.\n",
        "    If the index of iteration is the same as predicted_num, use get_accuracy.\n",
        "    Otherwise, use 1-get_accuracy to predict the chance of not predicted_num.\n",
        "    Index 0 of the result is the correctness of test data compared with its predicted_num \n",
        "    \"\"\"\n",
        "    result = [get_accuracy(t_tensors[predicted_num], predicted_num).float().mean()]\n",
        "    for i in range(0, 10):\n",
        "        if i == predicted_num:\n",
        "            continue\n",
        "        pred = get_accuracy(t_tensors[i], predicted_num).float().mean()\n",
        "        result.append((1 - pred))    \n",
        "    return result"
      ],
      "execution_count": null,
      "outputs": []
    },
    {
      "cell_type": "code",
      "metadata": {
        "gradient": {},
        "colab": {
          "base_uri": "https://localhost:8080/"
        },
        "id": "fllP-W9CNPFb",
        "outputId": "76558dc8-b994-4ef5-c3b1-605a2067f68e"
      },
      "source": [
        "for i in range(0,10):\n",
        "    r = get_accuracy_list(i)\n",
        "    print(f\"Accuracy of number {i} is {r} with mean {torch.mean(torch.stack(r))}\")\n"
      ],
      "execution_count": null,
      "outputs": [
        {
          "output_type": "stream",
          "text": [
            "Accuracy of number 0 is [tensor(0.8153), tensor(1.), tensor(0.9835), tensor(0.9990), tensor(1.), tensor(0.9933), tensor(0.9906), tensor(0.9990), tensor(0.9887), tensor(0.9911)] with mean 0.9760535955429077\n",
            "Accuracy of number 1 is [tensor(0.9982), tensor(0.9449), tensor(0.5678), tensor(0.6832), tensor(0.8320), tensor(0.6357), tensor(0.8455), tensor(0.8064), tensor(0.6191), tensor(0.8840)] with mean 0.781683087348938\n",
            "Accuracy of number 2 is [tensor(0.4234), tensor(1.), tensor(1.), tensor(0.9950), tensor(1.), tensor(1.), tensor(0.9958), tensor(0.9981), tensor(1.), tensor(0.9990)] with mean 0.941138744354248\n",
            "Accuracy of number 3 is [tensor(0.6089), tensor(0.9898), tensor(0.9991), tensor(0.9767), tensor(1.), tensor(0.8374), tensor(1.), tensor(1.), tensor(0.9476), tensor(0.9931)] with mean 0.9352714419364929\n",
            "Accuracy of number 4 is [tensor(0.6680), tensor(0.9969), tensor(1.), tensor(0.9767), tensor(0.9990), tensor(0.9787), tensor(0.9614), tensor(0.9932), tensor(0.9908), tensor(0.9594)] with mean 0.9524110555648804\n",
            "Accuracy of number 5 is [tensor(0.3262), tensor(0.9735), tensor(1.), tensor(1.), tensor(0.9950), tensor(1.), tensor(0.9948), tensor(1.), tensor(0.9928), tensor(0.9990)] with mean 0.9281355142593384\n",
            "Accuracy of number 6 is [tensor(0.7871), tensor(0.9500), tensor(0.9991), tensor(0.9777), tensor(0.9970), tensor(0.9888), tensor(0.9765), tensor(1.), tensor(0.9887), tensor(0.9960)] with mean 0.9660916328430176\n",
            "Accuracy of number 7 is [tensor(0.7646), tensor(0.9908), tensor(1.), tensor(0.9767), tensor(0.9851), tensor(0.9990), tensor(0.9742), tensor(1.), tensor(0.9846), tensor(0.9594)] with mean 0.9634462594985962\n",
            "Accuracy of number 8 is [tensor(0.4425), tensor(0.9898), tensor(1.), tensor(0.9748), tensor(0.9822), tensor(1.), tensor(0.9966), tensor(1.), tensor(0.9981), tensor(0.9950)] with mean 0.9379020929336548\n",
            "Accuracy of number 9 is [tensor(0.7760), tensor(0.9796), tensor(1.), tensor(0.9893), tensor(0.9733), tensor(0.8483), tensor(0.9339), tensor(0.9990), tensor(0.9698), tensor(0.9302)] with mean 0.939932644367218\n"
          ],
          "name": "stdout"
        }
      ]
    },
    {
      "cell_type": "markdown",
      "metadata": {
        "id": "HnahVl0rNPFc"
      },
      "source": [
        "## Conclusion of Using Pixel Similarity Method\n",
        "\n",
        "Most of the test result performs well, with mean > 0.90, although there are some concerns. Some test data does not perform well if tested with the correct number. For example, test 5 only has 0.2276 in confidence that the number tested is 5. For further improvement, test with other methods (e.g Stochastic Gradient Descent /SGD) to get better accuracy"
      ]
    },
    {
      "cell_type": "markdown",
      "metadata": {
        "id": "VMRpanjnPtB6"
      },
      "source": [
        "## Using Stochastic Gradient Descent\n",
        "\n",
        "Stochastic Gradient Descent (SGD) is a method to optimize objective function with suitable smoothness properties iteratively. The difference between SGD and gradient descent is that SGD uses mini-batch instead of processing all inputs at once, which makes SGD faster and cost efficient.\n"
      ]
    },
    {
      "cell_type": "markdown",
      "metadata": {
        "id": "hD4X_ylbSmFg"
      },
      "source": [
        "There are seven steps when trying to identify number using SGD:\n",
        "\n",
        "1. Initialize weight with random value\n",
        "1. Predict the number\n",
        "1. Calculate the model loss (how far the prediction from actual result)\n",
        "1. Calculate gradient, to measure new weight\n",
        "1. Step(change) all the weight based on calculation\n",
        "1. Go back to step 2, and repeat\n",
        "1. Iterate until you decide to stop "
      ]
    },
    {
      "cell_type": "code",
      "metadata": {
        "colab": {
          "base_uri": "https://localhost:8080/",
          "height": 125
        },
        "id": "kp4oZuBUWbxD",
        "outputId": "55821bf6-46e3-473b-dc20-e133dbeaa3a8"
      },
      "source": [
        "gv('''\n",
        "init->predict->loss->gradient->step->stop\n",
        "step->predict[label=repeat]\n",
        "''')"
      ],
      "execution_count": null,
      "outputs": [
        {
          "output_type": "execute_result",
          "data": {
            "text/plain": [
              "<graphviz.files.Source at 0x7f792f923950>"
            ],
            "image/svg+xml": "<?xml version=\"1.0\" encoding=\"UTF-8\" standalone=\"no\"?>\n<!DOCTYPE svg PUBLIC \"-//W3C//DTD SVG 1.1//EN\"\n \"http://www.w3.org/Graphics/SVG/1.1/DTD/svg11.dtd\">\n<!-- Generated by graphviz version 2.40.1 (20161225.0304)\n -->\n<!-- Title: G Pages: 1 -->\n<svg width=\"597pt\" height=\"78pt\"\n viewBox=\"0.00 0.00 596.69 78.00\" xmlns=\"http://www.w3.org/2000/svg\" xmlns:xlink=\"http://www.w3.org/1999/xlink\">\n<g id=\"graph0\" class=\"graph\" transform=\"scale(1 1) rotate(0) translate(4 74)\">\n<title>G</title>\n<polygon fill=\"#ffffff\" stroke=\"transparent\" points=\"-4,4 -4,-74 592.6863,-74 592.6863,4 -4,4\"/>\n<!-- init -->\n<g id=\"node1\" class=\"node\">\n<title>init</title>\n<ellipse fill=\"none\" stroke=\"#000000\" cx=\"27\" cy=\"-18\" rx=\"27\" ry=\"18\"/>\n<text text-anchor=\"middle\" x=\"27\" y=\"-14.3\" font-family=\"Times,serif\" font-size=\"14.00\" fill=\"#000000\">init</text>\n</g>\n<!-- predict -->\n<g id=\"node2\" class=\"node\">\n<title>predict</title>\n<ellipse fill=\"none\" stroke=\"#000000\" cx=\"127.3968\" cy=\"-18\" rx=\"36.2938\" ry=\"18\"/>\n<text text-anchor=\"middle\" x=\"127.3968\" y=\"-14.3\" font-family=\"Times,serif\" font-size=\"14.00\" fill=\"#000000\">predict</text>\n</g>\n<!-- init&#45;&gt;predict -->\n<g id=\"edge1\" class=\"edge\">\n<title>init&#45;&gt;predict</title>\n<path fill=\"none\" stroke=\"#000000\" d=\"M54.1688,-18C62.3543,-18 71.5827,-18 80.6596,-18\"/>\n<polygon fill=\"#000000\" stroke=\"#000000\" points=\"80.7795,-21.5001 90.7795,-18 80.7795,-14.5001 80.7795,-21.5001\"/>\n</g>\n<!-- loss -->\n<g id=\"node3\" class=\"node\">\n<title>loss</title>\n<ellipse fill=\"none\" stroke=\"#000000\" cx=\"227.7935\" cy=\"-52\" rx=\"27\" ry=\"18\"/>\n<text text-anchor=\"middle\" x=\"227.7935\" y=\"-48.3\" font-family=\"Times,serif\" font-size=\"14.00\" fill=\"#000000\">loss</text>\n</g>\n<!-- predict&#45;&gt;loss -->\n<g id=\"edge2\" class=\"edge\">\n<title>predict&#45;&gt;loss</title>\n<path fill=\"none\" stroke=\"#000000\" d=\"M157.5191,-28.2011C168.9806,-32.0826 182.1139,-36.5303 193.9014,-40.5222\"/>\n<polygon fill=\"#000000\" stroke=\"#000000\" points=\"192.8259,-43.8532 203.4202,-43.7458 195.0713,-37.2231 192.8259,-43.8532\"/>\n</g>\n<!-- gradient -->\n<g id=\"node4\" class=\"node\">\n<title>gradient</title>\n<ellipse fill=\"none\" stroke=\"#000000\" cx=\"365.7399\" cy=\"-52\" rx=\"40.8928\" ry=\"18\"/>\n<text text-anchor=\"middle\" x=\"365.7399\" y=\"-48.3\" font-family=\"Times,serif\" font-size=\"14.00\" fill=\"#000000\">gradient</text>\n</g>\n<!-- loss&#45;&gt;gradient -->\n<g id=\"edge3\" class=\"edge\">\n<title>loss&#45;&gt;gradient</title>\n<path fill=\"none\" stroke=\"#000000\" d=\"M255.0473,-52C272.0415,-52 294.4481,-52 314.6545,-52\"/>\n<polygon fill=\"#000000\" stroke=\"#000000\" points=\"314.671,-55.5001 324.671,-52 314.671,-48.5001 314.671,-55.5001\"/>\n</g>\n<!-- step -->\n<g id=\"node5\" class=\"node\">\n<title>step</title>\n<ellipse fill=\"none\" stroke=\"#000000\" cx=\"470.6863\" cy=\"-18\" rx=\"27\" ry=\"18\"/>\n<text text-anchor=\"middle\" x=\"470.6863\" y=\"-14.3\" font-family=\"Times,serif\" font-size=\"14.00\" fill=\"#000000\">step</text>\n</g>\n<!-- gradient&#45;&gt;step -->\n<g id=\"edge4\" class=\"edge\">\n<title>gradient&#45;&gt;step</title>\n<path fill=\"none\" stroke=\"#000000\" d=\"M398.9456,-41.2422C410.9558,-37.3512 424.5297,-32.9536 436.6132,-29.0388\"/>\n<polygon fill=\"#000000\" stroke=\"#000000\" points=\"437.9112,-32.2975 446.3457,-25.8857 435.7537,-25.6382 437.9112,-32.2975\"/>\n</g>\n<!-- step&#45;&gt;predict -->\n<g id=\"edge6\" class=\"edge\">\n<title>step&#45;&gt;predict</title>\n<path fill=\"none\" stroke=\"#000000\" d=\"M443.4266,-18C384.9297,-18 246.7861,-18 174.0495,-18\"/>\n<polygon fill=\"#000000\" stroke=\"#000000\" points=\"173.8098,-14.5001 163.8098,-18 173.8097,-21.5001 173.8098,-14.5001\"/>\n<text text-anchor=\"middle\" x=\"289.7935\" y=\"-21.8\" font-family=\"Times,serif\" font-size=\"14.00\" fill=\"#000000\">repeat</text>\n</g>\n<!-- stop -->\n<g id=\"node6\" class=\"node\">\n<title>stop</title>\n<ellipse fill=\"none\" stroke=\"#000000\" cx=\"561.6863\" cy=\"-18\" rx=\"27\" ry=\"18\"/>\n<text text-anchor=\"middle\" x=\"561.6863\" y=\"-14.3\" font-family=\"Times,serif\" font-size=\"14.00\" fill=\"#000000\">stop</text>\n</g>\n<!-- step&#45;&gt;stop -->\n<g id=\"edge5\" class=\"edge\">\n<title>step&#45;&gt;stop</title>\n<path fill=\"none\" stroke=\"#000000\" d=\"M497.9893,-18C506.2676,-18 515.508,-18 524.3268,-18\"/>\n<polygon fill=\"#000000\" stroke=\"#000000\" points=\"524.4026,-21.5001 534.4025,-18 524.4025,-14.5001 524.4026,-21.5001\"/>\n</g>\n</g>\n</svg>\n"
          },
          "metadata": {
            "tags": []
          },
          "execution_count": 23
        }
      ]
    },
    {
      "cell_type": "markdown",
      "metadata": {
        "id": "2BuIIpr-bnP4"
      },
      "source": [
        "### Mini-Batch\n",
        "To split data into several batches, I use `DataLoader` class to load data, randomize the entry, and split the data into several batches."
      ]
    },
    {
      "cell_type": "code",
      "metadata": {
        "id": "UI8MqZz5cWio"
      },
      "source": [
        "train_x = torch.cat([zero_stack, one_stack,  two_stack, three_stack, four_stack, five_stack, six_stack, seven_stack, eight_stack, nine_stack]).view(-1, 28*28)\n",
        "train_y = tensor([0]* len(zeros) + [1]* len(ones) + [2]* len(twos) + [3]* len(threes) + [4]* len(fours) + [5]* len(fives) + \n",
        "                 [6]* len(sixes) + [7]* len(sevens) + [8]* len(eights) + [9]* len(nines))\n",
        "train_dl = DataLoader(list(zip(train_x, train_y)), batch_size=256)"
      ],
      "execution_count": 15,
      "outputs": []
    },
    {
      "cell_type": "code",
      "metadata": {
        "id": "fcq-Zf_Jd129"
      },
      "source": [
        "validation_x = torch.cat([zero_t_tensor, one_t_tensor, two_t_tensor, three_t_tensor, four_t_tensor, five_t_tensor, \n",
        "                     six_t_tensor, seven_t_tensor, eight_t_tensor, nine_t_tensor]).view(-1, 28*28)\n",
        "validation_y = tensor([0]* len(zero_t_tensor) + [1]* len(one_t_tensor) + [2]* len(two_t_tensor) + [3]* len(three_t_tensor) + [4]* len(four_t_tensor) + [5]* len(five_t_tensor) + \n",
        "                 [6]* len(six_t_tensor) + [7]* len(seven_t_tensor) + [8]* len(eight_t_tensor) + [9]* len(nine_t_tensor))\n",
        "validation_dl = DataLoader(list(zip(validation_x, validation_y)), batch_size=256)"
      ],
      "execution_count": 16,
      "outputs": []
    },
    {
      "cell_type": "markdown",
      "metadata": {
        "id": "bfy5BzPRnnEu"
      },
      "source": [
        "In the code above, I map the X axis with image tensors, and Y axis with numbering label to create a dataset. I do this process for both training data and validation data."
      ]
    },
    {
      "cell_type": "code",
      "metadata": {
        "id": "6sg_Evu-vSTA"
      },
      "source": [
        "def train_epoch(model):\n",
        "  result = []\n",
        "  for xb, yb in train_dl:\n",
        "    loss = calculate_gradient(xb, yb, model)\n",
        "    for p in params:\n",
        "      p.data -= p.grad * lr\n",
        "      p.grad.zero_()\n",
        "    result.append(loss.detach())\n",
        "  return torch.stack(result).mean()\n",
        "\n",
        "def calculate_gradient(xb, yb, model, loss_func=F.cross_entropy):\n",
        "  preds = model(xb)\n",
        "  loss = loss_func(preds, yb)\n",
        "  loss.backward()\n",
        "\n",
        "  return loss\n",
        "\n",
        "def train_model(model, epochs):\n",
        "    for i in range(epochs):\n",
        "        loss = train_epoch(model)\n",
        "        accuracy = validate_epoch(model)\n",
        "        print(f\"Loss: {loss}\")\n",
        "        print(f\"Accuracy: {accuracy}\")\n",
        "        \n",
        "def linear1(xb):\n",
        "    return xb@w + b\n"
      ],
      "execution_count": 35,
      "outputs": []
    },
    {
      "cell_type": "code",
      "metadata": {
        "id": "rLISkMvOQ8Uy"
      },
      "source": [
        "def validate_epoch(model):\n",
        "  accs = [batch_accuracy(model(xb), yb) for xb, yb in validation_dl]\n",
        "  return round(torch.stack(accs).mean().item(), 4)\n",
        "\n",
        "def batch_accuracy(result, yb):\n",
        "  scores = result.softmax(1)\n",
        "  accuracy = num_correct(scores, yb) / float(yb.size(0))\n",
        "  return accuracy\n",
        "\n",
        "def num_correct(preds, labels):\n",
        "  return preds.argmax(dim=1).eq(labels).float().sum()\n"
      ],
      "execution_count": 36,
      "outputs": []
    },
    {
      "cell_type": "markdown",
      "metadata": {
        "id": "kH3HckkZIGNG"
      },
      "source": [
        "I define several functions. `train_model` is the main method that will be used to view function loss and mode accuracy. In every epoch, functions `train_epoch` and `validate_epoch` is called sequentially. In `train_epoch`, the function will calculate gradient by using cross entropy.\n",
        "\n",
        "In validation process, `batch_accuracy` will caluclate SoftMax distribution. This distribution determines probability of a numeric image detection result from number 0 to 9. In `num_correct`, the function will get which array index has highest probability as a result, and compared with actual result to test the model accuracy."
      ]
    },
    {
      "cell_type": "code",
      "metadata": {
        "id": "pq11AOR9zLbx"
      },
      "source": [
        "def init_params(size, std=1.0): return (torch.randn(size)*std).requires_grad_()\n",
        "\n",
        "#Init variables with random values\n",
        "w = init_params((28*28, 10))\n",
        "b = init_params(10)\n",
        "\n",
        "params = w , b\n",
        "lr = 1.\n"
      ],
      "execution_count": 37,
      "outputs": []
    },
    {
      "cell_type": "code",
      "metadata": {
        "id": "iblC1XF3JBeb",
        "outputId": "1a7cfb39-f36a-4024-c1ce-3050132cbbfd",
        "colab": {
          "base_uri": "https://localhost:8080/"
        }
      },
      "source": [
        "#Print weight and bias before training\n",
        "w,b"
      ],
      "execution_count": 23,
      "outputs": [
        {
          "output_type": "execute_result",
          "data": {
            "text/plain": [
              "(tensor([[ 1.9269,  1.4873,  0.9007,  ..., -1.6047, -0.7521,  1.6487],\n",
              "         [-0.3925, -1.4036, -0.7279,  ..., -0.1596, -0.4974,  0.4396],\n",
              "         [-0.7581,  1.0783,  0.8008,  ...,  1.3347, -0.2316,  0.0418],\n",
              "         ...,\n",
              "         [-0.0560, -0.4547,  1.2942,  ...,  1.1133,  2.1901,  0.3531],\n",
              "         [ 0.4474,  0.7192, -1.9300,  ..., -0.8714,  0.2235,  0.2528],\n",
              "         [ 0.2169,  0.4700,  0.3268,  ...,  0.0470,  0.5487, -1.9951]], requires_grad=True),\n",
              " tensor([-0.5247,  0.7532,  1.2962, -0.8335,  0.3063,  5.2543,  0.7062,  2.5766, -2.2327,  1.1580], requires_grad=True))"
            ]
          },
          "metadata": {
            "tags": []
          },
          "execution_count": 23
        }
      ]
    },
    {
      "cell_type": "code",
      "metadata": {
        "id": "LrBsW-Q47uU3",
        "colab": {
          "base_uri": "https://localhost:8080/"
        },
        "outputId": "cd585049-acbc-4ebd-f689-8d30c1b70102"
      },
      "source": [
        "validate_epoch(linear1)"
      ],
      "execution_count": 34,
      "outputs": [
        {
          "output_type": "stream",
          "text": [
            " XB = tensor([[ 22.7683, -18.2905,  -0.1284,  ..., -10.8393,  23.4420, -18.5193],\n",
            "        [ 26.5479, -13.7560,   9.2821,  ..., -13.1901,  17.2790,   5.7651],\n",
            "        [ 16.9208, -25.4187,   3.7119,  ...,  -8.4977,   7.1642,  -5.8393],\n",
            "        ...,\n",
            "        [  4.4302, -22.0376,  -4.4585,  ...,  -5.4340,  -4.8284,  10.7013],\n",
            "        [ 18.7224, -20.5547,  -4.1579,  ..., -21.0387,  14.2139,   4.6480],\n",
            "        [ 19.9833, -20.2256,  -4.6465,  ..., -12.6474,  17.5140,   4.4588]], grad_fn=<AddBackward0>)\n",
            " SCORES = tensor([[3.3766e-01, 4.9759e-19, 3.8422e-11,  ..., 8.5682e-16, 6.6234e-01, 3.9584e-19],\n",
            "        [9.9989e-01, 3.1347e-18, 3.1732e-08,  ..., 5.5204e-18, 9.4303e-05, 9.4207e-10],\n",
            "        [9.9962e-01, 4.0928e-19, 1.8335e-06,  ..., 9.1356e-12, 5.7889e-05, 1.3040e-10],\n",
            "        ...,\n",
            "        [1.8229e-03, 5.8341e-15, 2.5145e-07,  ..., 9.4805e-08, 1.7372e-07, 9.6452e-01],\n",
            "        [9.8906e-01, 8.6568e-18, 1.1440e-10,  ..., 5.3353e-18, 1.0894e-02, 7.6343e-07],\n",
            "        [9.2196e-01, 3.1783e-18, 1.8540e-11,  ..., 6.2140e-15, 7.8037e-02, 1.6691e-07]], grad_fn=<SoftmaxBackward>)\n",
            "ARGMAX = tensor([8, 0, 0, 0, 0, 0, 0, 0, 0, 6, 0, 8, 0, 0, 7, 0, 9, 0, 0, 0, 8, 0, 9, 3, 0, 0, 6, 9, 0, 8, 0, 0, 0, 0, 0, 0, 9, 0, 9, 0, 6, 0, 0, 0, 0, 0, 0, 0, 0, 0, 0, 6, 0, 9, 6, 0, 6, 8, 0, 0, 0, 6, 0, 9,\n",
            "        8, 8, 0, 0, 8, 0, 0, 0, 0, 0, 9, 8, 6, 0, 8, 0, 0, 6, 0, 6, 0, 0, 0, 6, 5, 0, 0, 0, 0, 0, 0, 0, 0, 0, 0, 0, 8, 8, 0, 0, 0, 0, 6, 0, 0, 0, 0, 0, 0, 6, 0, 8, 0, 0, 9, 0, 0, 0, 0, 0, 8, 0, 6, 0,\n",
            "        0, 0, 5, 0, 0, 2, 0, 0, 0, 9, 0, 0, 8, 6, 0, 0, 8, 0, 0, 0, 0, 6, 0, 0, 9, 3, 0, 0, 5, 0, 0, 6, 0, 0, 0, 0, 0, 8, 0, 3, 0, 0, 0, 9, 0, 0, 0, 0, 0, 6, 0, 0, 0, 0, 0, 0, 0, 0, 0, 0, 0, 0, 0, 0,\n",
            "        0, 6, 0, 0, 0, 8, 6, 0, 0, 0, 6, 0, 0, 0, 0, 0, 0, 0, 0, 0, 0, 8, 0, 8, 0, 0, 0, 0, 0, 0, 0, 0, 8, 0, 0, 0, 6, 0, 9, 0, 8, 9, 0, 8, 0, 0, 6, 8, 0, 0, 0, 6, 9, 0, 0, 2, 8, 0, 0, 0, 5, 9, 0, 0]) len = 256\n",
            "LABEL = tensor([0, 0, 0, 0, 0, 0, 0, 0, 0, 0, 0, 0, 0, 0, 0, 0, 0, 0, 0, 0, 0, 0, 0, 0, 0, 0, 0, 0, 0, 0, 0, 0, 0, 0, 0, 0, 0, 0, 0, 0, 0, 0, 0, 0, 0, 0, 0, 0, 0, 0, 0, 0, 0, 0, 0, 0, 0, 0, 0, 0, 0, 0, 0, 0,\n",
            "        0, 0, 0, 0, 0, 0, 0, 0, 0, 0, 0, 0, 0, 0, 0, 0, 0, 0, 0, 0, 0, 0, 0, 0, 0, 0, 0, 0, 0, 0, 0, 0, 0, 0, 0, 0, 0, 0, 0, 0, 0, 0, 0, 0, 0, 0, 0, 0, 0, 0, 0, 0, 0, 0, 0, 0, 0, 0, 0, 0, 0, 0, 0, 0,\n",
            "        0, 0, 0, 0, 0, 0, 0, 0, 0, 0, 0, 0, 0, 0, 0, 0, 0, 0, 0, 0, 0, 0, 0, 0, 0, 0, 0, 0, 0, 0, 0, 0, 0, 0, 0, 0, 0, 0, 0, 0, 0, 0, 0, 0, 0, 0, 0, 0, 0, 0, 0, 0, 0, 0, 0, 0, 0, 0, 0, 0, 0, 0, 0, 0,\n",
            "        0, 0, 0, 0, 0, 0, 0, 0, 0, 0, 0, 0, 0, 0, 0, 0, 0, 0, 0, 0, 0, 0, 0, 0, 0, 0, 0, 0, 0, 0, 0, 0, 0, 0, 0, 0, 0, 0, 0, 0, 0, 0, 0, 0, 0, 0, 0, 0, 0, 0, 0, 0, 0, 0, 0, 0, 0, 0, 0, 0, 0, 0, 0, 0])\n",
            " XB = tensor([[ 26.4843, -27.0542,  -2.7152,  ...,  -1.1007,   3.7375,  31.3633],\n",
            "        [ 35.0456, -27.0881,  -7.5144,  ...,  -4.1984,  23.4019,  12.2415],\n",
            "        [ 11.5509, -26.8715,  -4.7888,  ...,  -7.2901,   4.9903,  -4.3034],\n",
            "        ...,\n",
            "        [ 24.8184, -14.7425,  -4.5240,  ..., -13.7572,  13.3346,  -0.8600],\n",
            "        [ 13.7233, -24.7064,   0.4384,  ...,  -3.1799,  -4.7649,   5.4860],\n",
            "        [ 12.0521, -23.8299,   9.8433,  ...,  -4.4691,   6.3338,  -5.6847]], grad_fn=<AddBackward0>)\n",
            " SCORES = tensor([[7.5470e-03, 4.2295e-26, 1.5725e-15,  ..., 7.9024e-15, 9.9757e-13, 9.9245e-01],\n",
            "        [9.9999e-01, 1.0367e-27, 3.2838e-19,  ..., 9.0479e-18, 8.7735e-06, 1.2482e-10],\n",
            "        [9.9601e-01, 2.0495e-17, 7.9802e-08,  ..., 6.5420e-09, 1.4094e-03, 1.2967e-07],\n",
            "        ...,\n",
            "        [9.9880e-01, 6.5826e-18, 1.8040e-13,  ..., 1.7633e-17, 1.0284e-05, 7.0391e-12],\n",
            "        [5.4971e-03, 1.1229e-19, 9.3450e-09,  ..., 2.5071e-10, 5.1385e-11, 1.4545e-06],\n",
            "        [1.8024e-01, 4.7047e-17, 1.9796e-02,  ..., 1.2045e-08, 5.9218e-04, 3.5716e-09]], grad_fn=<SoftmaxBackward>)\n",
            "ARGMAX = tensor([9, 0, 0, 8, 0, 9, 8, 0, 9, 0, 0, 0, 9, 0, 0, 0, 0, 0, 0, 8, 6, 0, 0, 0, 0, 0, 0, 0, 0, 8, 3, 0, 0, 0, 9, 0, 0, 0, 5, 0, 0, 0, 6, 0, 0, 0, 8, 0, 0, 0, 0, 0, 0, 0, 0, 0, 0, 0, 6, 0, 0, 0, 0, 8,\n",
            "        0, 9, 0, 0, 0, 8, 0, 0, 0, 0, 0, 0, 0, 8, 0, 5, 6, 0, 8, 0, 0, 6, 0, 0, 0, 3, 0, 0, 0, 0, 0, 0, 0, 8, 0, 0, 2, 0, 0, 8, 0, 0, 0, 0, 0, 0, 8, 8, 0, 9, 0, 0, 0, 0, 0, 0, 0, 0, 0, 8, 0, 0, 8, 0,\n",
            "        0, 0, 0, 0, 6, 0, 0, 0, 0, 0, 0, 0, 0, 0, 0, 9, 5, 8, 8, 0, 6, 6, 0, 0, 0, 0, 8, 0, 0, 0, 6, 5, 0, 0, 0, 0, 0, 0, 0, 0, 0, 0, 0, 0, 0, 0, 0, 0, 5, 0, 0, 6, 0, 0, 6, 0, 6, 0, 6, 0, 0, 0, 8, 0,\n",
            "        0, 0, 0, 0, 0, 0, 0, 0, 0, 0, 0, 0, 0, 0, 0, 8, 0, 0, 0, 0, 0, 0, 0, 8, 0, 0, 0, 9, 9, 0, 0, 0, 9, 0, 0, 6, 0, 0, 6, 9, 0, 6, 0, 0, 0, 8, 0, 0, 0, 8, 8, 0, 0, 9, 0, 0, 6, 6, 0, 0, 0, 0, 6, 6]) len = 256\n",
            "LABEL = tensor([0, 0, 0, 0, 0, 0, 0, 0, 0, 0, 0, 0, 0, 0, 0, 0, 0, 0, 0, 0, 0, 0, 0, 0, 0, 0, 0, 0, 0, 0, 0, 0, 0, 0, 0, 0, 0, 0, 0, 0, 0, 0, 0, 0, 0, 0, 0, 0, 0, 0, 0, 0, 0, 0, 0, 0, 0, 0, 0, 0, 0, 0, 0, 0,\n",
            "        0, 0, 0, 0, 0, 0, 0, 0, 0, 0, 0, 0, 0, 0, 0, 0, 0, 0, 0, 0, 0, 0, 0, 0, 0, 0, 0, 0, 0, 0, 0, 0, 0, 0, 0, 0, 0, 0, 0, 0, 0, 0, 0, 0, 0, 0, 0, 0, 0, 0, 0, 0, 0, 0, 0, 0, 0, 0, 0, 0, 0, 0, 0, 0,\n",
            "        0, 0, 0, 0, 0, 0, 0, 0, 0, 0, 0, 0, 0, 0, 0, 0, 0, 0, 0, 0, 0, 0, 0, 0, 0, 0, 0, 0, 0, 0, 0, 0, 0, 0, 0, 0, 0, 0, 0, 0, 0, 0, 0, 0, 0, 0, 0, 0, 0, 0, 0, 0, 0, 0, 0, 0, 0, 0, 0, 0, 0, 0, 0, 0,\n",
            "        0, 0, 0, 0, 0, 0, 0, 0, 0, 0, 0, 0, 0, 0, 0, 0, 0, 0, 0, 0, 0, 0, 0, 0, 0, 0, 0, 0, 0, 0, 0, 0, 0, 0, 0, 0, 0, 0, 0, 0, 0, 0, 0, 0, 0, 0, 0, 0, 0, 0, 0, 0, 0, 0, 0, 0, 0, 0, 0, 0, 0, 0, 0, 0])\n",
            " XB = tensor([[ 27.7642, -10.0907,   0.9022,  ...,  11.1025,   2.6064,  10.3684],\n",
            "        [ 27.4061,   2.3048,  -5.6950,  ...,  19.2269,  -2.5642,  11.1690],\n",
            "        [ 19.6852, -21.9457, -11.1771,  ...,  12.9322,  -7.1585,  21.6783],\n",
            "        ...,\n",
            "        [ 40.9338, -23.9190,  -1.5716,  ...,  -0.2110,  27.2090,   1.6684],\n",
            "        [ 30.4772, -36.9809,  -0.6416,  ...,  -0.1018,  16.1208,   0.6381],\n",
            "        [ 43.6695, -33.0218,   3.1489,  ..., -11.7888,  25.5199,  -3.4447]], grad_fn=<AddBackward0>)\n",
            " SCORES = tensor([[1.0000e+00, 3.6292e-17, 2.1575e-12,  ..., 5.8061e-08, 1.1861e-11, 2.7866e-08],\n",
            "        [9.9971e-01, 1.2545e-11, 4.2095e-15,  ..., 2.8035e-04, 9.6369e-14, 8.8751e-08],\n",
            "        [1.1988e-01, 9.9693e-20, 4.7360e-15,  ..., 1.3995e-04, 2.6343e-13, 8.7970e-01],\n",
            "        ...,\n",
            "        [1.0000e+00, 6.8360e-29, 3.4687e-19,  ..., 1.3522e-18, 1.0950e-06, 8.8561e-18],\n",
            "        [1.0000e+00, 5.0502e-30, 3.0570e-14,  ..., 5.2444e-14, 5.8223e-07, 1.0991e-13],\n",
            "        [1.0000e+00, 4.9363e-34, 2.5241e-18,  ..., 8.2176e-25, 1.3113e-08, 3.4557e-21]], grad_fn=<SoftmaxBackward>)\n",
            "ARGMAX = tensor([0, 0, 9, 0, 0, 9, 9, 6, 8, 0, 0, 0, 0, 0, 0, 0, 0, 9, 0, 6, 0, 0, 0, 2, 0, 0, 0, 0, 0, 0, 0, 0, 0, 0, 0, 0, 0, 0, 0, 0, 0, 0, 0, 0, 0, 0, 0, 0, 0, 0, 0, 0, 0, 0, 0, 0, 0, 0, 0, 0, 6, 8, 0, 6,\n",
            "        0, 6, 6, 6, 0, 0, 0, 0, 0, 0, 0, 0, 0, 0, 0, 0, 9, 0, 8, 0, 0, 3, 0, 9, 0, 9, 0, 9, 9, 0, 0, 9, 5, 0, 0, 0, 0, 0, 0, 0, 0, 0, 0, 0, 0, 0, 0, 0, 8, 0, 0, 0, 0, 0, 0, 8, 0, 0, 0, 0, 0, 0, 0, 0,\n",
            "        6, 0, 0, 0, 0, 0, 0, 8, 0, 0, 6, 0, 0, 0, 6, 0, 0, 0, 0, 8, 0, 0, 0, 6, 0, 6, 0, 0, 0, 0, 0, 6, 0, 0, 6, 0, 0, 0, 0, 0, 0, 0, 0, 0, 0, 0, 6, 0, 0, 0, 8, 0, 7, 0, 0, 6, 5, 5, 5, 0, 5, 8, 6, 0,\n",
            "        0, 0, 0, 0, 0, 6, 0, 0, 0, 0, 0, 0, 0, 0, 0, 0, 0, 0, 0, 0, 0, 0, 0, 0, 0, 0, 0, 0, 0, 0, 0, 0, 0, 0, 0, 0, 0, 0, 0, 0, 0, 0, 0, 0, 0, 0, 0, 0, 0, 0, 0, 0, 0, 0, 0, 0, 0, 0, 0, 0, 0, 0, 0, 0]) len = 256\n",
            "LABEL = tensor([0, 0, 0, 0, 0, 0, 0, 0, 0, 0, 0, 0, 0, 0, 0, 0, 0, 0, 0, 0, 0, 0, 0, 0, 0, 0, 0, 0, 0, 0, 0, 0, 0, 0, 0, 0, 0, 0, 0, 0, 0, 0, 0, 0, 0, 0, 0, 0, 0, 0, 0, 0, 0, 0, 0, 0, 0, 0, 0, 0, 0, 0, 0, 0,\n",
            "        0, 0, 0, 0, 0, 0, 0, 0, 0, 0, 0, 0, 0, 0, 0, 0, 0, 0, 0, 0, 0, 0, 0, 0, 0, 0, 0, 0, 0, 0, 0, 0, 0, 0, 0, 0, 0, 0, 0, 0, 0, 0, 0, 0, 0, 0, 0, 0, 0, 0, 0, 0, 0, 0, 0, 0, 0, 0, 0, 0, 0, 0, 0, 0,\n",
            "        0, 0, 0, 0, 0, 0, 0, 0, 0, 0, 0, 0, 0, 0, 0, 0, 0, 0, 0, 0, 0, 0, 0, 0, 0, 0, 0, 0, 0, 0, 0, 0, 0, 0, 0, 0, 0, 0, 0, 0, 0, 0, 0, 0, 0, 0, 0, 0, 0, 0, 0, 0, 0, 0, 0, 0, 0, 0, 0, 0, 0, 0, 0, 0,\n",
            "        0, 0, 0, 0, 0, 0, 0, 0, 0, 0, 0, 0, 0, 0, 0, 0, 0, 0, 0, 0, 0, 0, 0, 0, 0, 0, 0, 0, 0, 0, 0, 0, 0, 0, 0, 0, 0, 0, 0, 0, 0, 0, 0, 0, 0, 0, 0, 0, 0, 0, 0, 0, 0, 0, 0, 0, 0, 0, 0, 0, 0, 0, 0, 0])\n",
            " XB = tensor([[ 30.2967, -37.7045,   5.6791,  ..., -10.8629,  25.5423,  17.5698],\n",
            "        [ 36.7709, -28.7707,   1.3203,  ..., -21.2344,  21.6216,   3.8222],\n",
            "        [ 37.0471, -12.9227,  -9.5158,  ...,   2.5987,  16.3334,  -3.0516],\n",
            "        ...,\n",
            "        [-20.1503,  14.1860,  -0.6709,  ...,   3.6013,   4.8813,   5.7355],\n",
            "        [-18.7810,  17.1356,   5.6630,  ...,  -2.1433,  18.2702,  10.2320],\n",
            "        [-19.0514,  14.9002,   1.4368,  ...,   3.3452,   5.0837,   8.2371]], grad_fn=<AddBackward0>)\n",
            " SCORES = tensor([[9.9145e-01, 2.9088e-30, 2.0183e-11,  ..., 1.3209e-18, 8.5403e-03, 2.9447e-06],\n",
            "        [1.0000e+00, 3.4328e-29, 4.0181e-16,  ..., 6.4361e-26, 2.6348e-07, 4.9043e-15],\n",
            "        [9.8712e-01, 1.9623e-22, 5.9203e-21,  ..., 1.0804e-15, 9.9663e-10, 3.7996e-18],\n",
            "        ...,\n",
            "        [1.2164e-15, 9.9349e-01, 3.5066e-07,  ..., 2.5135e-05, 9.0405e-05, 2.1240e-04],\n",
            "        [6.1328e-17, 2.4323e-01, 2.5323e-06,  ..., 1.0311e-09, 7.5643e-01, 2.4426e-04],\n",
            "        [1.7884e-15, 9.9412e-01, 1.4136e-06,  ..., 9.5314e-06, 5.4224e-05, 1.2696e-03]], grad_fn=<SoftmaxBackward>)\n",
            "ARGMAX = tensor([0, 0, 0, 0, 0, 0, 0, 0, 0, 0, 0, 0, 6, 0, 5, 8, 0, 0, 5, 9, 0, 0, 0, 0, 0, 0, 6, 5, 0, 0, 0, 0, 0, 0, 0, 5, 0, 6, 0, 0, 0, 0, 0, 0, 0, 0, 0, 0, 0, 0, 0, 0, 0, 0, 0, 0, 0, 0, 0, 0, 0, 0, 0, 0,\n",
            "        0, 0, 0, 0, 0, 0, 0, 0, 6, 0, 0, 0, 0, 0, 0, 0, 0, 0, 0, 0, 0, 9, 9, 0, 0, 0, 0, 0, 0, 0, 0, 0, 8, 0, 5, 0, 0, 0, 0, 0, 0, 5, 0, 0, 0, 0, 0, 0, 0, 0, 0, 0, 0, 0, 0, 0, 0, 0, 0, 0, 0, 0, 0, 0,\n",
            "        0, 0, 0, 8, 5, 0, 0, 5, 0, 0, 0, 0, 0, 8, 0, 0, 0, 0, 0, 0, 0, 6, 9, 0, 0, 0, 6, 0, 0, 0, 7, 0, 0, 0, 0, 9, 0, 0, 0, 0, 0, 0, 8, 0, 0, 0, 5, 5, 0, 0, 0, 0, 0, 0, 0, 0, 0, 0, 5, 0, 5, 0, 0, 0,\n",
            "        0, 8, 0, 0, 6, 0, 0, 5, 0, 0, 0, 0, 5, 0, 0, 5, 0, 0, 0, 8, 8, 1, 8, 1, 1, 9, 1, 1, 1, 1, 1, 8, 1, 1, 1, 1, 8, 1, 1, 1, 1, 8, 1, 1, 9, 1, 8, 1, 1, 8, 1, 1, 1, 1, 9, 1, 1, 9, 1, 1, 1, 1, 8, 1]) len = 256\n",
            "LABEL = tensor([0, 0, 0, 0, 0, 0, 0, 0, 0, 0, 0, 0, 0, 0, 0, 0, 0, 0, 0, 0, 0, 0, 0, 0, 0, 0, 0, 0, 0, 0, 0, 0, 0, 0, 0, 0, 0, 0, 0, 0, 0, 0, 0, 0, 0, 0, 0, 0, 0, 0, 0, 0, 0, 0, 0, 0, 0, 0, 0, 0, 0, 0, 0, 0,\n",
            "        0, 0, 0, 0, 0, 0, 0, 0, 0, 0, 0, 0, 0, 0, 0, 0, 0, 0, 0, 0, 0, 0, 0, 0, 0, 0, 0, 0, 0, 0, 0, 0, 0, 0, 0, 0, 0, 0, 0, 0, 0, 0, 0, 0, 0, 0, 0, 0, 0, 0, 0, 0, 0, 0, 0, 0, 0, 0, 0, 0, 0, 0, 0, 0,\n",
            "        0, 0, 0, 0, 0, 0, 0, 0, 0, 0, 0, 0, 0, 0, 0, 0, 0, 0, 0, 0, 0, 0, 0, 0, 0, 0, 0, 0, 0, 0, 0, 0, 0, 0, 0, 0, 0, 0, 0, 0, 0, 0, 0, 0, 0, 0, 0, 0, 0, 0, 0, 0, 0, 0, 0, 0, 0, 0, 0, 0, 0, 0, 0, 0,\n",
            "        0, 0, 0, 0, 0, 0, 0, 0, 0, 0, 0, 0, 0, 0, 0, 0, 0, 0, 0, 0, 1, 1, 1, 1, 1, 1, 1, 1, 1, 1, 1, 1, 1, 1, 1, 1, 1, 1, 1, 1, 1, 1, 1, 1, 1, 1, 1, 1, 1, 1, 1, 1, 1, 1, 1, 1, 1, 1, 1, 1, 1, 1, 1, 1])\n",
            " XB = tensor([[-24.3580,  13.7754,  -5.0740,  ...,   7.0433,   6.7729,   7.9778],\n",
            "        [ -8.7416,   7.5134,  -0.5468,  ...,  -3.2195,  10.1056,   3.4073],\n",
            "        [-20.5675,  23.3594,   7.7486,  ...,  -0.1986,  20.1283,  11.8155],\n",
            "        ...,\n",
            "        [-18.9993,   9.6496,   1.1482,  ...,   9.4060,   4.9832,   4.5880],\n",
            "        [-16.4790,   9.4941,  -6.4114,  ...,   6.8300,   4.0223,   9.2274],\n",
            "        [-17.0464,  13.7847,   5.8834,  ...,   5.7019,  12.6916,   6.1076]], grad_fn=<AddBackward0>)\n",
            " SCORES = tensor([[2.7309e-17, 9.9407e-01, 6.4748e-09,  ..., 1.1849e-03, 9.0424e-04, 3.0167e-03],\n",
            "        [5.8091e-09, 6.6616e-02, 2.1043e-05,  ..., 1.4533e-06, 8.8995e-01, 1.0973e-03],\n",
            "        [8.0521e-20, 9.6197e-01, 1.5976e-07,  ..., 5.6499e-11, 3.8010e-02, 9.3257e-06],\n",
            "        ...,\n",
            "        [1.9926e-13, 5.5140e-01, 1.1204e-04,  ..., 4.3220e-01, 5.1868e-03, 3.4933e-03],\n",
            "        [2.7666e-12, 5.2714e-01, 6.5198e-08,  ..., 3.6722e-02, 2.2160e-03, 4.0371e-01],\n",
            "        [3.0497e-14, 7.4821e-01, 2.7704e-04,  ..., 2.3105e-04, 2.5078e-01, 3.4665e-04]], grad_fn=<SoftmaxBackward>)\n",
            "ARGMAX = tensor([1, 8, 1, 1, 1, 1, 8, 8, 1, 1, 1, 9, 5, 8, 1, 8, 6, 1, 1, 1, 1, 8, 8, 1, 8, 8, 1, 1, 1, 1, 9, 8, 1, 8, 1, 1, 1, 1, 1, 1, 1, 1, 9, 1, 8, 1, 1, 9, 1, 1, 1, 9, 1, 1, 1, 9, 1, 9, 8, 1, 9, 1, 8, 8,\n",
            "        1, 1, 9, 8, 9, 8, 1, 1, 8, 8, 8, 1, 1, 8, 1, 1, 8, 1, 1, 1, 9, 1, 8, 1, 1, 7, 1, 1, 1, 9, 1, 1, 1, 9, 1, 1, 8, 8, 8, 1, 8, 2, 1, 1, 1, 6, 1, 8, 1, 1, 1, 1, 9, 1, 1, 9, 1, 9, 1, 8, 1, 1, 1, 9,\n",
            "        1, 1, 9, 1, 1, 1, 1, 1, 1, 1, 8, 1, 8, 1, 9, 7, 8, 1, 1, 9, 1, 8, 1, 8, 1, 1, 1, 1, 1, 1, 1, 8, 8, 9, 1, 8, 1, 1, 1, 8, 1, 8, 1, 1, 1, 1, 1, 1, 9, 8, 8, 9, 8, 1, 1, 1, 8, 8, 1, 1, 8, 8, 1, 1,\n",
            "        1, 8, 1, 1, 1, 1, 1, 1, 9, 1, 1, 1, 1, 1, 1, 8, 1, 3, 9, 1, 1, 1, 8, 8, 8, 1, 1, 1, 9, 9, 7, 1, 1, 8, 8, 1, 1, 1, 8, 8, 1, 8, 1, 8, 8, 1, 1, 1, 1, 1, 1, 1, 1, 8, 1, 1, 1, 1, 1, 1, 7, 1, 1, 1]) len = 256\n",
            "LABEL = tensor([1, 1, 1, 1, 1, 1, 1, 1, 1, 1, 1, 1, 1, 1, 1, 1, 1, 1, 1, 1, 1, 1, 1, 1, 1, 1, 1, 1, 1, 1, 1, 1, 1, 1, 1, 1, 1, 1, 1, 1, 1, 1, 1, 1, 1, 1, 1, 1, 1, 1, 1, 1, 1, 1, 1, 1, 1, 1, 1, 1, 1, 1, 1, 1,\n",
            "        1, 1, 1, 1, 1, 1, 1, 1, 1, 1, 1, 1, 1, 1, 1, 1, 1, 1, 1, 1, 1, 1, 1, 1, 1, 1, 1, 1, 1, 1, 1, 1, 1, 1, 1, 1, 1, 1, 1, 1, 1, 1, 1, 1, 1, 1, 1, 1, 1, 1, 1, 1, 1, 1, 1, 1, 1, 1, 1, 1, 1, 1, 1, 1,\n",
            "        1, 1, 1, 1, 1, 1, 1, 1, 1, 1, 1, 1, 1, 1, 1, 1, 1, 1, 1, 1, 1, 1, 1, 1, 1, 1, 1, 1, 1, 1, 1, 1, 1, 1, 1, 1, 1, 1, 1, 1, 1, 1, 1, 1, 1, 1, 1, 1, 1, 1, 1, 1, 1, 1, 1, 1, 1, 1, 1, 1, 1, 1, 1, 1,\n",
            "        1, 1, 1, 1, 1, 1, 1, 1, 1, 1, 1, 1, 1, 1, 1, 1, 1, 1, 1, 1, 1, 1, 1, 1, 1, 1, 1, 1, 1, 1, 1, 1, 1, 1, 1, 1, 1, 1, 1, 1, 1, 1, 1, 1, 1, 1, 1, 1, 1, 1, 1, 1, 1, 1, 1, 1, 1, 1, 1, 1, 1, 1, 1, 1])\n",
            " XB = tensor([[-12.5184,  11.9900,   3.7830,  ...,  -0.8923,  15.7025,   3.8997],\n",
            "        [-16.6953,  14.6090,   2.8455,  ...,   6.7357,   9.8515,   4.0321],\n",
            "        [-27.0936,  19.7870,  -4.7000,  ...,   2.4513,   9.5368,  20.9657],\n",
            "        ...,\n",
            "        [-25.1656,  16.3322,   2.3388,  ...,   3.5297,   5.9238,   8.8493],\n",
            "        [-22.0465,  16.2889,   5.2589,  ...,   0.7998,  15.9836,   7.7776],\n",
            "        [-19.3169,  17.5749,   9.0947,  ...,   8.9879,  10.3025,   7.7303]], grad_fn=<AddBackward0>)\n",
            " SCORES = tensor([[5.4117e-13, 2.3833e-02, 6.4998e-06,  ..., 6.0597e-08, 9.7610e-01, 7.3049e-06],\n",
            "        [2.5167e-14, 9.9106e-01, 7.7139e-06,  ..., 3.7740e-04, 8.5109e-03, 2.5270e-05],\n",
            "        [1.0270e-21, 2.3528e-01, 5.4578e-12,  ..., 6.9624e-09, 8.3168e-06, 7.6471e-01],\n",
            "        ...,\n",
            "        [9.4845e-19, 9.9834e-01, 8.3560e-07,  ..., 2.7491e-06, 3.0127e-05, 5.6166e-04],\n",
            "        [1.2919e-17, 5.7556e-01, 9.3289e-06,  ..., 1.0796e-07, 4.2411e-01, 1.1579e-04],\n",
            "        [9.4972e-17, 9.9882e-01, 2.0731e-04,  ..., 1.8630e-04, 6.9366e-04, 5.2973e-05]], grad_fn=<SoftmaxBackward>)\n",
            "ARGMAX = tensor([8, 1, 9, 1, 1, 1, 8, 8, 9, 8, 9, 1, 1, 8, 1, 1, 1, 8, 1, 8, 8, 1, 8, 1, 1, 1, 1, 1, 1, 1, 1, 1, 8, 1, 1, 1, 1, 1, 1, 1, 8, 8, 1, 1, 1, 8, 1, 1, 8, 1, 1, 1, 1, 1, 1, 1, 1, 1, 8, 1, 9, 1, 9, 3,\n",
            "        1, 1, 8, 1, 1, 8, 1, 1, 1, 1, 1, 1, 1, 1, 1, 1, 1, 8, 1, 1, 1, 1, 1, 1, 1, 1, 1, 9, 9, 1, 9, 1, 1, 1, 1, 1, 8, 1, 8, 8, 8, 1, 1, 1, 1, 1, 1, 1, 9, 9, 1, 1, 1, 1, 1, 1, 1, 1, 1, 1, 1, 1, 8, 8,\n",
            "        8, 1, 8, 1, 8, 8, 1, 8, 8, 9, 1, 1, 1, 1, 1, 1, 2, 8, 8, 1, 1, 1, 1, 1, 9, 1, 1, 1, 9, 1, 1, 1, 8, 8, 7, 1, 1, 1, 8, 1, 1, 1, 8, 1, 8, 8, 1, 9, 1, 8, 1, 1, 1, 1, 8, 8, 1, 1, 1, 1, 1, 1, 1, 1,\n",
            "        8, 1, 1, 1, 1, 8, 1, 1, 1, 7, 1, 7, 8, 1, 1, 1, 8, 9, 1, 1, 1, 1, 1, 8, 1, 1, 8, 8, 1, 9, 1, 1, 1, 8, 1, 1, 1, 1, 7, 9, 1, 9, 8, 9, 8, 1, 8, 1, 8, 8, 1, 1, 1, 1, 1, 1, 1, 8, 1, 8, 8, 1, 1, 1]) len = 256\n",
            "LABEL = tensor([1, 1, 1, 1, 1, 1, 1, 1, 1, 1, 1, 1, 1, 1, 1, 1, 1, 1, 1, 1, 1, 1, 1, 1, 1, 1, 1, 1, 1, 1, 1, 1, 1, 1, 1, 1, 1, 1, 1, 1, 1, 1, 1, 1, 1, 1, 1, 1, 1, 1, 1, 1, 1, 1, 1, 1, 1, 1, 1, 1, 1, 1, 1, 1,\n",
            "        1, 1, 1, 1, 1, 1, 1, 1, 1, 1, 1, 1, 1, 1, 1, 1, 1, 1, 1, 1, 1, 1, 1, 1, 1, 1, 1, 1, 1, 1, 1, 1, 1, 1, 1, 1, 1, 1, 1, 1, 1, 1, 1, 1, 1, 1, 1, 1, 1, 1, 1, 1, 1, 1, 1, 1, 1, 1, 1, 1, 1, 1, 1, 1,\n",
            "        1, 1, 1, 1, 1, 1, 1, 1, 1, 1, 1, 1, 1, 1, 1, 1, 1, 1, 1, 1, 1, 1, 1, 1, 1, 1, 1, 1, 1, 1, 1, 1, 1, 1, 1, 1, 1, 1, 1, 1, 1, 1, 1, 1, 1, 1, 1, 1, 1, 1, 1, 1, 1, 1, 1, 1, 1, 1, 1, 1, 1, 1, 1, 1,\n",
            "        1, 1, 1, 1, 1, 1, 1, 1, 1, 1, 1, 1, 1, 1, 1, 1, 1, 1, 1, 1, 1, 1, 1, 1, 1, 1, 1, 1, 1, 1, 1, 1, 1, 1, 1, 1, 1, 1, 1, 1, 1, 1, 1, 1, 1, 1, 1, 1, 1, 1, 1, 1, 1, 1, 1, 1, 1, 1, 1, 1, 1, 1, 1, 1])\n",
            " XB = tensor([[-15.3796,  12.6446,  10.0839,  ...,  11.8357,   5.8644,   7.3587],\n",
            "        [-24.2969,  15.3558,   0.4279,  ...,   9.0681,   8.7153,   9.0030],\n",
            "        [-23.1528,  14.2954,   5.4897,  ...,  12.6281,   6.8162,  14.5968],\n",
            "        ...,\n",
            "        [-14.8866,  10.3335,  -1.8719,  ...,   2.0951,   8.0497,   6.5684],\n",
            "        [-23.7198,  20.1922,   9.6863,  ...,  12.3613,   9.5232,   9.9775],\n",
            "        [-14.8125,  23.0058,  13.5126,  ...,   5.8833,  19.3371,  -0.6387]], grad_fn=<AddBackward0>)\n",
            " SCORES = tensor([[4.3818e-13, 6.4921e-01, 5.0152e-02,  ..., 2.8914e-01, 7.3755e-04, 3.2866e-03],\n",
            "        [5.9805e-18, 9.9473e-01, 3.2703e-07,  ..., 1.8491e-03, 1.2995e-03, 1.7327e-03],\n",
            "        [2.1447e-17, 3.9349e-01, 5.8970e-05,  ..., 7.4271e-02, 2.2219e-04, 5.3186e-01],\n",
            "        ...,\n",
            "        [9.6956e-12, 8.7005e-01, 4.3530e-06,  ..., 2.2994e-04, 8.8649e-02, 2.0154e-02],\n",
            "        [8.4922e-20, 9.9950e-01, 2.7360e-05,  ..., 3.9709e-04, 2.3242e-05, 3.6609e-05],\n",
            "        [3.6708e-17, 9.7505e-01, 7.3485e-05,  ..., 3.5711e-08, 2.4873e-02, 5.2524e-11]], grad_fn=<SoftmaxBackward>)\n",
            "ARGMAX = tensor([1, 1, 9, 1, 1, 8, 9, 1, 1, 8, 1, 1, 1, 9, 1, 1, 1, 1, 1, 1, 1, 1, 8, 8, 1, 8, 1, 8, 9, 8, 8, 1, 1, 8, 9, 1, 1, 1, 1, 8, 8, 8, 8, 1, 1, 1, 8, 1, 1, 8, 1, 8, 8, 9, 1, 1, 8, 1, 1, 1, 8, 1, 1, 1,\n",
            "        1, 8, 8, 1, 8, 1, 8, 1, 5, 8, 1, 8, 8, 8, 1, 8, 9, 8, 1, 8, 8, 8, 9, 1, 8, 1, 8, 1, 1, 1, 8, 1, 8, 1, 1, 1, 8, 1, 1, 1, 1, 1, 9, 1, 1, 1, 1, 1, 8, 1, 1, 1, 1, 8, 1, 8, 1, 8, 1, 1, 1, 8, 1, 8,\n",
            "        1, 1, 8, 1, 1, 1, 1, 8, 9, 9, 1, 8, 8, 9, 1, 9, 1, 1, 1, 1, 8, 1, 8, 1, 1, 1, 8, 8, 1, 8, 1, 1, 1, 1, 8, 8, 8, 1, 1, 1, 8, 8, 1, 1, 9, 1, 1, 1, 1, 1, 1, 1, 1, 1, 1, 1, 1, 1, 1, 1, 1, 9, 1, 8,\n",
            "        1, 8, 1, 1, 1, 1, 9, 1, 8, 9, 1, 9, 1, 8, 1, 1, 1, 1, 8, 8, 8, 1, 1, 1, 1, 1, 1, 1, 1, 8, 1, 8, 8, 1, 1, 1, 1, 1, 1, 1, 8, 8, 9, 1, 1, 1, 8, 1, 8, 8, 1, 8, 8, 8, 1, 8, 1, 1, 8, 8, 1, 1, 1, 1]) len = 256\n",
            "LABEL = tensor([1, 1, 1, 1, 1, 1, 1, 1, 1, 1, 1, 1, 1, 1, 1, 1, 1, 1, 1, 1, 1, 1, 1, 1, 1, 1, 1, 1, 1, 1, 1, 1, 1, 1, 1, 1, 1, 1, 1, 1, 1, 1, 1, 1, 1, 1, 1, 1, 1, 1, 1, 1, 1, 1, 1, 1, 1, 1, 1, 1, 1, 1, 1, 1,\n",
            "        1, 1, 1, 1, 1, 1, 1, 1, 1, 1, 1, 1, 1, 1, 1, 1, 1, 1, 1, 1, 1, 1, 1, 1, 1, 1, 1, 1, 1, 1, 1, 1, 1, 1, 1, 1, 1, 1, 1, 1, 1, 1, 1, 1, 1, 1, 1, 1, 1, 1, 1, 1, 1, 1, 1, 1, 1, 1, 1, 1, 1, 1, 1, 1,\n",
            "        1, 1, 1, 1, 1, 1, 1, 1, 1, 1, 1, 1, 1, 1, 1, 1, 1, 1, 1, 1, 1, 1, 1, 1, 1, 1, 1, 1, 1, 1, 1, 1, 1, 1, 1, 1, 1, 1, 1, 1, 1, 1, 1, 1, 1, 1, 1, 1, 1, 1, 1, 1, 1, 1, 1, 1, 1, 1, 1, 1, 1, 1, 1, 1,\n",
            "        1, 1, 1, 1, 1, 1, 1, 1, 1, 1, 1, 1, 1, 1, 1, 1, 1, 1, 1, 1, 1, 1, 1, 1, 1, 1, 1, 1, 1, 1, 1, 1, 1, 1, 1, 1, 1, 1, 1, 1, 1, 1, 1, 1, 1, 1, 1, 1, 1, 1, 1, 1, 1, 1, 1, 1, 1, 1, 1, 1, 1, 1, 1, 1])\n",
            " XB = tensor([[-17.9477,  17.8502,   9.3276,  ...,   2.2656,  16.4332,   2.2321],\n",
            "        [-18.7161,  11.4775,   0.4587,  ...,   5.7046,   6.0947,   6.1874],\n",
            "        [-19.9631,  13.2730,  -0.7003,  ...,   2.0012,  11.7142,   6.7318],\n",
            "        ...,\n",
            "        [-16.1402,  13.3529,   7.2277,  ...,  10.0242,  11.9577,  14.9859],\n",
            "        [-20.8147,  15.3171,   5.1962,  ...,  13.5778,   8.1774,   6.3955],\n",
            "        [-20.9305,  14.1701,   0.0826,  ...,   9.7861,   8.1520,  13.5683]], grad_fn=<AddBackward0>)\n",
            " SCORES = tensor([[2.2834e-16, 8.0429e-01, 1.6000e-04,  ..., 1.3713e-07, 1.9500e-01, 1.3261e-07],\n",
            "        [7.5537e-14, 9.7966e-01, 1.6056e-05,  ..., 3.0473e-03, 4.5014e-03, 4.9386e-03],\n",
            "        [2.9223e-15, 7.9423e-01, 6.7831e-07,  ..., 1.0108e-05, 1.6710e-01, 1.1459e-03],\n",
            "        ...,\n",
            "        [2.4221e-14, 1.5591e-01, 3.4098e-04,  ..., 5.5876e-03, 3.8633e-02, 7.9812e-01],\n",
            "        [1.7276e-16, 8.4973e-01, 3.4185e-05,  ..., 1.4924e-01, 6.7384e-04, 1.1342e-04],\n",
            "        [3.6479e-16, 6.3981e-01, 4.8741e-07,  ..., 7.9812e-03, 1.5574e-03, 3.5048e-01]], grad_fn=<SoftmaxBackward>)\n",
            "ARGMAX = tensor([1, 1, 1, 1, 1, 8, 1, 1, 1, 1, 1, 8, 1, 1, 1, 1, 1, 8, 1, 1, 1, 1, 1, 1, 1, 1, 1, 9, 8, 8, 8, 1, 1, 8, 8, 8, 9, 9, 8, 1, 1, 8, 8, 8, 8, 1, 8, 9, 9, 8, 8, 8, 8, 8, 8, 8, 8, 8, 1, 1, 8, 1, 8, 8,\n",
            "        1, 8, 8, 8, 8, 1, 9, 9, 9, 8, 8, 8, 1, 1, 9, 8, 8, 8, 1, 8, 8, 8, 8, 8, 8, 8, 8, 1, 1, 8, 1, 1, 8, 8, 8, 1, 8, 8, 8, 9, 8, 1, 1, 1, 8, 1, 1, 1, 9, 1, 1, 9, 1, 8, 1, 1, 9, 8, 8, 9, 9, 1, 8, 9,\n",
            "        8, 1, 9, 8, 1, 9, 1, 9, 9, 1, 8, 1, 9, 1, 1, 1, 1, 1, 1, 1, 1, 1, 8, 1, 1, 1, 8, 1, 1, 1, 8, 8, 1, 8, 1, 1, 1, 8, 1, 1, 1, 8, 1, 1, 1, 1, 1, 1, 8, 8, 1, 8, 1, 8, 8, 8, 1, 8, 1, 8, 8, 8, 8, 8,\n",
            "        1, 8, 1, 9, 1, 1, 9, 8, 9, 8, 9, 8, 8, 1, 1, 1, 1, 1, 1, 8, 8, 1, 8, 8, 8, 8, 8, 8, 1, 8, 1, 1, 1, 7, 1, 8, 1, 1, 1, 1, 1, 1, 1, 1, 8, 1, 8, 1, 1, 1, 1, 1, 1, 1, 1, 1, 1, 1, 1, 1, 1, 9, 1, 1]) len = 256\n",
            "LABEL = tensor([1, 1, 1, 1, 1, 1, 1, 1, 1, 1, 1, 1, 1, 1, 1, 1, 1, 1, 1, 1, 1, 1, 1, 1, 1, 1, 1, 1, 1, 1, 1, 1, 1, 1, 1, 1, 1, 1, 1, 1, 1, 1, 1, 1, 1, 1, 1, 1, 1, 1, 1, 1, 1, 1, 1, 1, 1, 1, 1, 1, 1, 1, 1, 1,\n",
            "        1, 1, 1, 1, 1, 1, 1, 1, 1, 1, 1, 1, 1, 1, 1, 1, 1, 1, 1, 1, 1, 1, 1, 1, 1, 1, 1, 1, 1, 1, 1, 1, 1, 1, 1, 1, 1, 1, 1, 1, 1, 1, 1, 1, 1, 1, 1, 1, 1, 1, 1, 1, 1, 1, 1, 1, 1, 1, 1, 1, 1, 1, 1, 1,\n",
            "        1, 1, 1, 1, 1, 1, 1, 1, 1, 1, 1, 1, 1, 1, 1, 1, 1, 1, 1, 1, 1, 1, 1, 1, 1, 1, 1, 1, 1, 1, 1, 1, 1, 1, 1, 1, 1, 1, 1, 1, 1, 1, 1, 1, 1, 1, 1, 1, 1, 1, 1, 1, 1, 1, 1, 1, 1, 1, 1, 1, 1, 1, 1, 1,\n",
            "        1, 1, 1, 1, 1, 1, 1, 1, 1, 1, 1, 1, 1, 1, 1, 1, 1, 1, 1, 1, 1, 1, 1, 1, 1, 1, 1, 1, 1, 1, 1, 1, 1, 1, 1, 1, 1, 1, 1, 1, 1, 1, 1, 1, 1, 1, 1, 1, 1, 1, 1, 1, 1, 1, 1, 1, 1, 1, 1, 1, 1, 1, 1, 1])\n",
            " XB = tensor([[-17.0296,  20.6252,   4.5412,  ...,   1.0786,  26.5862,  11.7653],\n",
            "        [-20.4734,  14.0929,   0.9288,  ...,   6.2542,  12.2298,   9.9185],\n",
            "        [-15.1355,  14.0796,  13.0060,  ...,   3.8942,  16.9129,  12.5947],\n",
            "        ...,\n",
            "        [-16.8413, -23.3806,  18.3328,  ..., -12.8645,   6.2250,   1.8288],\n",
            "        [-31.4492,  11.8066,  14.0659,  ...,  -1.3720,  13.8177,   1.1902],\n",
            "        [-28.6510,  -0.3110,  13.1028,  ...,  13.2450,  19.2706,  24.2249]], grad_fn=<AddBackward0>)\n",
            " SCORES = tensor([[1.1397e-19, 2.5708e-03, 2.6599e-10,  ..., 8.3380e-12, 9.9743e-01, 3.6496e-07],\n",
            "        [8.3074e-16, 8.5393e-01, 1.6380e-06,  ..., 3.3660e-04, 1.3253e-01, 1.3138e-02],\n",
            "        [1.1047e-14, 5.3854e-02, 1.8405e-02,  ..., 2.0311e-06, 9.1552e-01, 1.2198e-02],\n",
            "        ...,\n",
            "        [1.4314e-20, 2.0691e-23, 2.7020e-05,  ..., 7.6361e-19, 1.4905e-10, 1.8368e-12],\n",
            "        [5.5150e-25, 3.3675e-06, 3.2248e-05,  ..., 6.3670e-12, 2.5160e-05, 8.2538e-11],\n",
            "        [1.0795e-23, 2.1935e-11, 1.4679e-05,  ..., 1.6922e-05, 7.0036e-03, 9.9296e-01]], grad_fn=<SoftmaxBackward>)\n",
            "ARGMAX = tensor([8, 1, 8, 6, 1, 1, 1, 8, 8, 9, 1, 9, 1, 9, 1, 8, 9, 9, 8, 1, 1, 9, 1, 1, 1, 1, 1, 1, 1, 1, 1, 1, 1, 1, 1, 1, 1, 1, 1, 1, 1, 8, 1, 9, 1, 1, 1, 9, 1, 1, 1, 5, 1, 1, 8, 8, 1, 1, 8, 1, 1, 8, 1, 1,\n",
            "        1, 9, 1, 6, 8, 2, 9, 3, 2, 6, 6, 8, 8, 8, 8, 2, 2, 2, 2, 8, 3, 2, 8, 9, 2, 2, 6, 2, 8, 6, 6, 9, 2, 6, 3, 2, 2, 6, 2, 8, 6, 2, 8, 9, 2, 2, 6, 8, 8, 3, 7, 2, 9, 6, 2, 8, 8, 8, 2, 8, 3, 2, 2, 9,\n",
            "        8, 8, 2, 3, 9, 8, 8, 2, 8, 6, 6, 6, 8, 9, 8, 2, 9, 8, 9, 9, 8, 3, 8, 2, 8, 8, 9, 2, 8, 8, 3, 8, 8, 8, 8, 2, 8, 2, 2, 2, 8, 2, 6, 2, 2, 2, 2, 2, 6, 8, 2, 9, 2, 9, 2, 3, 8, 8, 8, 8, 8, 8, 6, 2,\n",
            "        8, 8, 8, 2, 2, 2, 8, 5, 8, 9, 6, 6, 9, 8, 2, 8, 8, 5, 6, 8, 2, 9, 2, 9, 6, 6, 3, 6, 2, 8, 3, 6, 2, 8, 2, 6, 8, 2, 8, 2, 3, 7, 2, 2, 8, 8, 8, 9, 2, 2, 2, 9, 2, 2, 6, 8, 2, 6, 2, 2, 8, 6, 3, 9]) len = 256\n",
            "LABEL = tensor([1, 1, 1, 1, 1, 1, 1, 1, 1, 1, 1, 1, 1, 1, 1, 1, 1, 1, 1, 1, 1, 1, 1, 1, 1, 1, 1, 1, 1, 1, 1, 1, 1, 1, 1, 1, 1, 1, 1, 1, 1, 1, 1, 1, 1, 1, 1, 1, 1, 1, 1, 1, 1, 1, 1, 1, 1, 1, 1, 1, 1, 1, 1, 1,\n",
            "        1, 1, 1, 2, 2, 2, 2, 2, 2, 2, 2, 2, 2, 2, 2, 2, 2, 2, 2, 2, 2, 2, 2, 2, 2, 2, 2, 2, 2, 2, 2, 2, 2, 2, 2, 2, 2, 2, 2, 2, 2, 2, 2, 2, 2, 2, 2, 2, 2, 2, 2, 2, 2, 2, 2, 2, 2, 2, 2, 2, 2, 2, 2, 2,\n",
            "        2, 2, 2, 2, 2, 2, 2, 2, 2, 2, 2, 2, 2, 2, 2, 2, 2, 2, 2, 2, 2, 2, 2, 2, 2, 2, 2, 2, 2, 2, 2, 2, 2, 2, 2, 2, 2, 2, 2, 2, 2, 2, 2, 2, 2, 2, 2, 2, 2, 2, 2, 2, 2, 2, 2, 2, 2, 2, 2, 2, 2, 2, 2, 2,\n",
            "        2, 2, 2, 2, 2, 2, 2, 2, 2, 2, 2, 2, 2, 2, 2, 2, 2, 2, 2, 2, 2, 2, 2, 2, 2, 2, 2, 2, 2, 2, 2, 2, 2, 2, 2, 2, 2, 2, 2, 2, 2, 2, 2, 2, 2, 2, 2, 2, 2, 2, 2, 2, 2, 2, 2, 2, 2, 2, 2, 2, 2, 2, 2, 2])\n",
            " XB = tensor([[-21.2374,   0.5833,   8.3234,  ...,  -4.3289,  14.7738,  -5.0145],\n",
            "        [-10.5012, -17.6554,  29.1159,  ..., -15.7091,  15.4278,  -6.8203],\n",
            "        [-13.0838,   6.4104,  33.2863,  ..., -29.4250,  25.7865, -32.3476],\n",
            "        ...,\n",
            "        [ -8.0508,   0.5304,  10.5598,  ..., -24.3934,  28.5410, -13.8732],\n",
            "        [-22.2218,   1.1465,  31.8723,  ..., -18.7410,  16.7962,   0.0911],\n",
            "        [  2.4219, -15.5650,   8.8716,  ...,  -2.5348,   7.0061,   0.5716]], grad_fn=<AddBackward0>)\n",
            " SCORES = tensor([[1.9617e-16, 5.8783e-07, 1.3512e-03,  ..., 4.3241e-09, 8.5525e-01, 2.1784e-09],\n",
            "        [2.5016e-18, 1.9551e-21, 4.0151e-01,  ..., 1.3691e-20, 4.5605e-07, 9.9267e-17],\n",
            "        [3.4558e-22, 1.0111e-13, 4.7515e-02,  ..., 2.7647e-29, 2.6285e-05, 1.4872e-30],\n",
            "        ...,\n",
            "        [1.2804e-16, 6.8258e-13, 1.5482e-08,  ..., 1.0230e-23, 9.9771e-01, 3.7908e-19],\n",
            "        [3.2154e-24, 4.5284e-14, 1.0000e+00,  ..., 1.0445e-22, 2.8350e-07, 1.5761e-14],\n",
            "        [2.0482e-05, 3.1606e-13, 1.2955e-02,  ..., 1.4411e-07, 2.0058e-03, 3.2196e-06]], grad_fn=<SoftmaxBackward>)\n",
            "ARGMAX = tensor([8, 6, 6, 2, 2, 2, 8, 2, 2, 2, 2, 3, 2, 2, 8, 8, 8, 8, 2, 7, 8, 2, 2, 3, 3, 3, 9, 8, 9, 2, 8, 8, 2, 8, 9, 9, 2, 2, 8, 6, 6, 2, 2, 3, 3, 2, 6, 3, 6, 8, 2, 8, 9, 3, 8, 8, 6, 3, 9, 2, 2, 8, 2, 6,\n",
            "        3, 2, 8, 8, 9, 3, 2, 9, 2, 6, 8, 2, 3, 3, 2, 8, 2, 8, 8, 6, 4, 2, 2, 1, 9, 2, 3, 8, 2, 3, 9, 2, 8, 3, 6, 3, 8, 2, 7, 8, 3, 9, 2, 6, 3, 8, 2, 2, 2, 8, 6, 2, 8, 2, 6, 3, 3, 8, 3, 2, 8, 8, 8, 2,\n",
            "        9, 8, 2, 9, 8, 2, 3, 2, 8, 2, 2, 8, 3, 6, 6, 2, 8, 2, 2, 8, 2, 2, 3, 3, 8, 8, 8, 8, 8, 9, 8, 2, 6, 2, 6, 8, 6, 6, 3, 8, 6, 8, 6, 7, 2, 8, 9, 2, 6, 6, 8, 8, 2, 2, 9, 3, 3, 8, 8, 9, 9, 6, 8, 2,\n",
            "        3, 9, 2, 2, 8, 3, 6, 3, 8, 8, 2, 3, 6, 2, 8, 8, 6, 2, 9, 8, 6, 8, 3, 9, 3, 8, 2, 3, 9, 8, 2, 2, 8, 2, 3, 2, 7, 9, 8, 6, 8, 9, 8, 2, 8, 2, 6, 2, 6, 8, 6, 8, 9, 2, 8, 8, 2, 8, 3, 8, 6, 8, 2, 6]) len = 256\n",
            "LABEL = tensor([2, 2, 2, 2, 2, 2, 2, 2, 2, 2, 2, 2, 2, 2, 2, 2, 2, 2, 2, 2, 2, 2, 2, 2, 2, 2, 2, 2, 2, 2, 2, 2, 2, 2, 2, 2, 2, 2, 2, 2, 2, 2, 2, 2, 2, 2, 2, 2, 2, 2, 2, 2, 2, 2, 2, 2, 2, 2, 2, 2, 2, 2, 2, 2,\n",
            "        2, 2, 2, 2, 2, 2, 2, 2, 2, 2, 2, 2, 2, 2, 2, 2, 2, 2, 2, 2, 2, 2, 2, 2, 2, 2, 2, 2, 2, 2, 2, 2, 2, 2, 2, 2, 2, 2, 2, 2, 2, 2, 2, 2, 2, 2, 2, 2, 2, 2, 2, 2, 2, 2, 2, 2, 2, 2, 2, 2, 2, 2, 2, 2,\n",
            "        2, 2, 2, 2, 2, 2, 2, 2, 2, 2, 2, 2, 2, 2, 2, 2, 2, 2, 2, 2, 2, 2, 2, 2, 2, 2, 2, 2, 2, 2, 2, 2, 2, 2, 2, 2, 2, 2, 2, 2, 2, 2, 2, 2, 2, 2, 2, 2, 2, 2, 2, 2, 2, 2, 2, 2, 2, 2, 2, 2, 2, 2, 2, 2,\n",
            "        2, 2, 2, 2, 2, 2, 2, 2, 2, 2, 2, 2, 2, 2, 2, 2, 2, 2, 2, 2, 2, 2, 2, 2, 2, 2, 2, 2, 2, 2, 2, 2, 2, 2, 2, 2, 2, 2, 2, 2, 2, 2, 2, 2, 2, 2, 2, 2, 2, 2, 2, 2, 2, 2, 2, 2, 2, 2, 2, 2, 2, 2, 2, 2])\n",
            " XB = tensor([[  2.5542,  -2.7501,   5.0148,  ...,  -5.9364,  18.0969, -18.3350],\n",
            "        [-16.1012,   2.4641,  16.8867,  ..., -26.3589,  17.2479, -27.3254],\n",
            "        [ -9.7195, -11.5742,  10.8800,  ...,  -4.0096,  16.4573,  -7.7178],\n",
            "        ...,\n",
            "        [-17.0698,   1.9709,  20.0230,  ...,   4.2197,  22.8843,   9.4140],\n",
            "        [-19.6956,   7.3060,  18.2238,  ...,   5.1560,  17.3396,  20.4709],\n",
            "        [-23.0563,  -0.8501,  23.2359,  ...,   5.1438,  25.9828,  13.6266]], grad_fn=<AddBackward0>)\n",
            " SCORES = tensor([[1.7773e-07, 8.8341e-10, 2.0816e-06,  ..., 3.6505e-11, 9.9980e-01, 1.5056e-16],\n",
            "        [8.0254e-22, 9.2749e-14, 1.7019e-07,  ..., 2.8161e-26, 2.4423e-07, 1.0712e-26],\n",
            "        [4.2278e-12, 6.6161e-13, 3.7356e-03,  ..., 1.2761e-09, 9.8749e-01, 3.1292e-11],\n",
            "        ...,\n",
            "        [4.1031e-18, 7.6277e-10, 5.2761e-02,  ..., 7.2282e-09, 9.2247e-01, 1.3029e-06],\n",
            "        [3.1264e-18, 1.6660e-06, 9.1882e-02,  ..., 1.9406e-07, 3.7950e-02, 8.6920e-01],\n",
            "        [4.7195e-22, 2.0792e-12, 6.0024e-02,  ..., 8.3378e-10, 9.3605e-01, 4.0278e-06]], grad_fn=<SoftmaxBackward>)\n",
            "ARGMAX = tensor([8, 3, 8, 8, 8, 2, 3, 6, 8, 2, 5, 8, 8, 6, 6, 3, 3, 3, 6, 8, 6, 2, 8, 2, 2, 2, 9, 9, 9, 2, 9, 2, 8, 2, 2, 2, 2, 6, 2, 8, 6, 3, 8, 8, 2, 8, 9, 3, 6, 3, 2, 2, 2, 6, 8, 2, 3, 2, 2, 2, 2, 2, 6, 2,\n",
            "        2, 2, 8, 2, 2, 2, 8, 2, 3, 2, 8, 8, 8, 8, 8, 8, 8, 3, 8, 8, 6, 3, 8, 8, 8, 8, 6, 6, 8, 8, 3, 2, 8, 2, 2, 2, 8, 8, 6, 2, 2, 2, 3, 8, 2, 2, 9, 2, 3, 8, 3, 3, 8, 8, 8, 8, 3, 2, 9, 2, 9, 2, 2, 8,\n",
            "        9, 6, 2, 9, 6, 2, 8, 8, 8, 8, 8, 8, 9, 8, 8, 9, 8, 8, 8, 6, 8, 2, 2, 2, 8, 2, 2, 8, 2, 2, 2, 3, 2, 2, 6, 9, 2, 6, 2, 2, 2, 2, 2, 3, 6, 6, 2, 6, 6, 2, 6, 6, 2, 2, 8, 8, 8, 8, 8, 8, 6, 8, 8, 2,\n",
            "        2, 8, 2, 9, 2, 2, 8, 2, 2, 6, 2, 2, 9, 2, 2, 3, 2, 2, 8, 2, 2, 2, 2, 9, 9, 8, 2, 2, 6, 7, 8, 8, 6, 3, 2, 8, 6, 8, 3, 6, 6, 8, 6, 8, 2, 2, 2, 2, 2, 2, 9, 8, 2, 2, 2, 9, 2, 9, 2, 2, 2, 8, 9, 8]) len = 256\n",
            "LABEL = tensor([2, 2, 2, 2, 2, 2, 2, 2, 2, 2, 2, 2, 2, 2, 2, 2, 2, 2, 2, 2, 2, 2, 2, 2, 2, 2, 2, 2, 2, 2, 2, 2, 2, 2, 2, 2, 2, 2, 2, 2, 2, 2, 2, 2, 2, 2, 2, 2, 2, 2, 2, 2, 2, 2, 2, 2, 2, 2, 2, 2, 2, 2, 2, 2,\n",
            "        2, 2, 2, 2, 2, 2, 2, 2, 2, 2, 2, 2, 2, 2, 2, 2, 2, 2, 2, 2, 2, 2, 2, 2, 2, 2, 2, 2, 2, 2, 2, 2, 2, 2, 2, 2, 2, 2, 2, 2, 2, 2, 2, 2, 2, 2, 2, 2, 2, 2, 2, 2, 2, 2, 2, 2, 2, 2, 2, 2, 2, 2, 2, 2,\n",
            "        2, 2, 2, 2, 2, 2, 2, 2, 2, 2, 2, 2, 2, 2, 2, 2, 2, 2, 2, 2, 2, 2, 2, 2, 2, 2, 2, 2, 2, 2, 2, 2, 2, 2, 2, 2, 2, 2, 2, 2, 2, 2, 2, 2, 2, 2, 2, 2, 2, 2, 2, 2, 2, 2, 2, 2, 2, 2, 2, 2, 2, 2, 2, 2,\n",
            "        2, 2, 2, 2, 2, 2, 2, 2, 2, 2, 2, 2, 2, 2, 2, 2, 2, 2, 2, 2, 2, 2, 2, 2, 2, 2, 2, 2, 2, 2, 2, 2, 2, 2, 2, 2, 2, 2, 2, 2, 2, 2, 2, 2, 2, 2, 2, 2, 2, 2, 2, 2, 2, 2, 2, 2, 2, 2, 2, 2, 2, 2, 2, 2])\n",
            " XB = tensor([[-20.6371,   2.4741,  13.2894,  ...,   4.3759,  15.5168,  12.4853],\n",
            "        [-15.9230, -20.5177,  31.2098,  ...,  -2.4262,  16.4798,   9.2480],\n",
            "        [-11.4736,  -9.7697,  24.0458,  ..., -10.0316,  35.7333,  15.5466],\n",
            "        ...,\n",
            "        [-12.9193,  -7.0238,  15.4474,  ...,  -9.4727,  10.5001,   9.4432],\n",
            "        [-12.3744,  -7.8034,   2.9364,  ...,   1.6976,  -4.0251,  11.9915],\n",
            "        [-19.5442,  -2.1085,  14.4117,  ..., -16.1050,   8.5779,   9.8012]], grad_fn=<AddBackward0>)\n",
            " SCORES = tensor([[1.7198e-16, 1.8730e-06, 9.3226e-02,  ..., 1.2545e-05, 8.6478e-01, 4.1721e-02],\n",
            "        [3.3925e-21, 3.4281e-23, 1.0000e+00,  ..., 2.4666e-15, 4.0071e-07, 2.8981e-10],\n",
            "        [3.1498e-21, 1.7309e-20, 8.3978e-06,  ..., 1.3321e-20, 9.9999e-01, 1.7100e-09],\n",
            "        ...,\n",
            "        [4.3478e-13, 1.5799e-10, 9.0734e-01,  ..., 1.3649e-11, 6.4446e-03, 2.2397e-03],\n",
            "        [1.4257e-14, 1.3778e-12, 6.3591e-08,  ..., 1.8425e-08, 6.0269e-11, 5.4452e-04],\n",
            "        [1.8272e-16, 6.8236e-09, 1.0201e-01,  ..., 5.6940e-15, 2.9860e-04, 1.0147e-03]], grad_fn=<SoftmaxBackward>)\n",
            "ARGMAX = tensor([8, 2, 8, 8, 9, 2, 2, 8, 8, 8, 9, 9, 9, 9, 9, 9, 7, 9, 2, 8, 6, 2, 2, 2, 2, 2, 9, 2, 2, 9, 2, 2, 8, 2, 9, 4, 8, 6, 4, 8, 8, 9, 9, 8, 9, 8, 9, 2, 8, 8, 8, 9, 8, 8, 9, 8, 8, 8, 3, 8, 2, 3, 8, 2,\n",
            "        5, 8, 6, 8, 9, 3, 6, 6, 8, 2, 8, 8, 2, 3, 3, 2, 2, 9, 3, 2, 9, 9, 9, 9, 9, 9, 9, 9, 9, 9, 2, 6, 9, 2, 2, 9, 2, 2, 9, 9, 6, 2, 6, 9, 8, 3, 8, 8, 8, 8, 2, 8, 9, 2, 9, 2, 8, 2, 9, 9, 2, 9, 2, 8,\n",
            "        9, 8, 9, 9, 9, 9, 8, 2, 9, 3, 2, 9, 9, 9, 9, 2, 9, 9, 2, 8, 2, 9, 2, 2, 9, 2, 2, 6, 6, 6, 8, 2, 9, 6, 2, 2, 3, 2, 8, 2, 3, 2, 3, 2, 3, 8, 2, 3, 3, 3, 8, 2, 6, 2, 2, 2, 2, 2, 3, 2, 2, 2, 2, 8,\n",
            "        2, 8, 2, 2, 8, 8, 2, 2, 2, 2, 2, 9, 2, 2, 2, 8, 2, 2, 9, 2, 8, 2, 2, 2, 8, 8, 8, 9, 8, 8, 8, 2, 2, 9, 8, 3, 2, 3, 8, 8, 8, 8, 8, 8, 3, 8, 8, 8, 8, 8, 9, 2, 9, 8, 8, 9, 8, 8, 8, 6, 9, 2, 6, 6]) len = 256\n",
            "LABEL = tensor([2, 2, 2, 2, 2, 2, 2, 2, 2, 2, 2, 2, 2, 2, 2, 2, 2, 2, 2, 2, 2, 2, 2, 2, 2, 2, 2, 2, 2, 2, 2, 2, 2, 2, 2, 2, 2, 2, 2, 2, 2, 2, 2, 2, 2, 2, 2, 2, 2, 2, 2, 2, 2, 2, 2, 2, 2, 2, 2, 2, 2, 2, 2, 2,\n",
            "        2, 2, 2, 2, 2, 2, 2, 2, 2, 2, 2, 2, 2, 2, 2, 2, 2, 2, 2, 2, 2, 2, 2, 2, 2, 2, 2, 2, 2, 2, 2, 2, 2, 2, 2, 2, 2, 2, 2, 2, 2, 2, 2, 2, 2, 2, 2, 2, 2, 2, 2, 2, 2, 2, 2, 2, 2, 2, 2, 2, 2, 2, 2, 2,\n",
            "        2, 2, 2, 2, 2, 2, 2, 2, 2, 2, 2, 2, 2, 2, 2, 2, 2, 2, 2, 2, 2, 2, 2, 2, 2, 2, 2, 2, 2, 2, 2, 2, 2, 2, 2, 2, 2, 2, 2, 2, 2, 2, 2, 2, 2, 2, 2, 2, 2, 2, 2, 2, 2, 2, 2, 2, 2, 2, 2, 2, 2, 2, 2, 2,\n",
            "        2, 2, 2, 2, 2, 2, 2, 2, 2, 2, 2, 2, 2, 2, 2, 2, 2, 2, 2, 2, 2, 2, 2, 2, 2, 2, 2, 2, 2, 2, 2, 2, 2, 2, 2, 2, 2, 2, 2, 2, 2, 2, 2, 2, 2, 2, 2, 2, 2, 2, 2, 2, 2, 2, 2, 2, 2, 2, 2, 2, 2, 2, 2, 2])\n",
            " XB = tensor([[-20.4056, -13.4452,  17.2685,  ...,  -8.0386,  11.9761,   8.0258],\n",
            "        [ -2.7608, -20.6676,  -2.3321,  ..., -29.4667,  12.9831,  -4.0876],\n",
            "        [-13.9265,  -1.3507,  11.1601,  ..., -10.6015,   4.4255,   6.8573],\n",
            "        ...,\n",
            "        [  4.0831,  -4.1870,  -2.9364,  ...,  -5.6614,  26.4882,   7.3058],\n",
            "        [-13.2243, -13.5998, -10.1578,  ..., -13.6009,  20.0268,  21.6623],\n",
            "        [ -5.8770,   3.7117,  -5.7046,  ...,   7.2302,  23.8214,   4.3894]], grad_fn=<AddBackward0>)\n",
            " SCORES = tensor([[4.3246e-17, 4.5583e-14, 9.9447e-01,  ..., 1.0159e-11, 5.0021e-03, 9.6281e-05],\n",
            "        [1.4529e-07, 2.4289e-15, 2.2306e-07,  ..., 3.6645e-19, 9.9939e-01, 3.8551e-08],\n",
            "        [4.6071e-14, 1.3336e-08, 3.6177e-03,  ..., 1.2808e-12, 4.3013e-06, 4.8949e-05],\n",
            "        ...,\n",
            "        [1.8551e-10, 4.7503e-14, 1.6591e-13,  ..., 1.0874e-14, 9.9719e-01, 4.6557e-09],\n",
            "        [2.2837e-17, 1.5688e-17, 4.9022e-16,  ..., 1.5671e-17, 6.3010e-03, 3.2337e-02],\n",
            "        [8.8837e-14, 1.2970e-09, 1.0555e-13,  ..., 4.3752e-08, 7.0220e-01, 2.5540e-09]], grad_fn=<SoftmaxBackward>)\n",
            "ARGMAX = tensor([2, 8, 6, 6, 9, 8, 2, 8, 6, 2, 9, 6, 8, 9, 4, 2, 9, 2, 6, 8, 9, 2, 8, 9, 2, 3, 3, 8, 8, 8, 2, 9, 2, 3, 9, 8, 8, 8, 3, 2, 5, 5, 2, 3, 8, 8, 8, 8, 2, 6, 8, 8, 8, 8, 9, 9, 8, 8, 8, 8, 8, 8, 8, 9,\n",
            "        5, 9, 9, 6, 2, 8, 8, 8, 8, 9, 2, 9, 5, 8, 9, 3, 8, 9, 9, 8, 5, 3, 5, 9, 8, 9, 9, 9, 5, 8, 8, 9, 3, 9, 8, 3, 8, 8, 3, 3, 8, 9, 9, 9, 9, 8, 3, 6, 9, 9, 8, 3, 9, 6, 8, 9, 9, 9, 8, 3, 3, 5, 3, 8,\n",
            "        3, 3, 7, 3, 3, 9, 9, 8, 9, 3, 8, 3, 3, 5, 3, 3, 9, 9, 3, 9, 3, 8, 3, 3, 3, 6, 9, 5, 9, 8, 8, 5, 8, 8, 9, 3, 9, 1, 8, 3, 3, 9, 8, 8, 3, 9, 9, 8, 5, 8, 9, 8, 8, 3, 9, 9, 3, 8, 9, 3, 3, 9, 5, 5,\n",
            "        8, 8, 9, 3, 9, 8, 9, 3, 9, 3, 8, 9, 9, 5, 8, 9, 3, 8, 3, 8, 8, 3, 3, 8, 8, 8, 7, 3, 8, 5, 9, 6, 3, 8, 3, 9, 3, 8, 3, 9, 6, 8, 3, 3, 3, 8, 9, 3, 9, 9, 8, 3, 6, 9, 3, 8, 3, 5, 3, 9, 8, 8, 3, 8]) len = 256\n",
            "LABEL = tensor([2, 2, 2, 2, 2, 2, 2, 2, 2, 2, 2, 2, 2, 2, 2, 2, 2, 2, 2, 2, 2, 2, 2, 2, 2, 2, 2, 2, 2, 2, 2, 2, 2, 2, 2, 2, 2, 2, 2, 2, 2, 2, 2, 2, 2, 2, 2, 2, 2, 2, 2, 2, 2, 2, 2, 2, 2, 2, 2, 2, 2, 2, 2, 2,\n",
            "        2, 2, 2, 2, 2, 2, 2, 2, 2, 2, 2, 3, 3, 3, 3, 3, 3, 3, 3, 3, 3, 3, 3, 3, 3, 3, 3, 3, 3, 3, 3, 3, 3, 3, 3, 3, 3, 3, 3, 3, 3, 3, 3, 3, 3, 3, 3, 3, 3, 3, 3, 3, 3, 3, 3, 3, 3, 3, 3, 3, 3, 3, 3, 3,\n",
            "        3, 3, 3, 3, 3, 3, 3, 3, 3, 3, 3, 3, 3, 3, 3, 3, 3, 3, 3, 3, 3, 3, 3, 3, 3, 3, 3, 3, 3, 3, 3, 3, 3, 3, 3, 3, 3, 3, 3, 3, 3, 3, 3, 3, 3, 3, 3, 3, 3, 3, 3, 3, 3, 3, 3, 3, 3, 3, 3, 3, 3, 3, 3, 3,\n",
            "        3, 3, 3, 3, 3, 3, 3, 3, 3, 3, 3, 3, 3, 3, 3, 3, 3, 3, 3, 3, 3, 3, 3, 3, 3, 3, 3, 3, 3, 3, 3, 3, 3, 3, 3, 3, 3, 3, 3, 3, 3, 3, 3, 3, 3, 3, 3, 3, 3, 3, 3, 3, 3, 3, 3, 3, 3, 3, 3, 3, 3, 3, 3, 3])\n",
            " XB = tensor([[ -2.4515,  -6.4954, -20.5851,  ...,  -3.6882,  22.1075,  16.2473],\n",
            "        [-16.6004,   5.1622,  -5.3073,  ...,  -3.8113,  10.5922,   1.0535],\n",
            "        [-18.8985,   8.0265, -11.2694,  ...,  11.0823,  31.6240,  31.0445],\n",
            "        ...,\n",
            "        [-11.8297,   0.8405, -15.0007,  ..., -12.4104,  25.9507,  16.1962],\n",
            "        [ -9.6519,   1.9096,  -0.0664,  ...,   1.4226,  17.2040,  -5.1091],\n",
            "        [ -6.4357, -14.4125,   2.1553,  ...,   9.2556,   6.0651,   0.2085]], grad_fn=<AddBackward0>)\n",
            " SCORES = tensor([[2.1518e-11, 3.7720e-13, 2.8673e-19,  ..., 6.2475e-12, 9.9689e-01, 2.8420e-03],\n",
            "        [6.0449e-16, 1.7091e-06, 4.8519e-11,  ..., 2.1658e-10, 3.8992e-04, 2.8076e-08],\n",
            "        [1.6511e-23, 8.1505e-12, 3.3967e-20,  ..., 1.7309e-10, 1.4436e-01, 8.0863e-02],\n",
            "        ...,\n",
            "        [5.4623e-19, 1.7378e-13, 2.2921e-20,  ..., 3.0563e-19, 1.3970e-02, 8.1069e-07],\n",
            "        [1.8599e-12, 1.9526e-07, 2.7067e-08,  ..., 1.1998e-07, 8.5683e-01, 1.7476e-10],\n",
            "        [1.2181e-09, 4.1822e-13, 6.5570e-06,  ..., 7.9493e-03, 3.2715e-04, 9.3596e-07]], grad_fn=<SoftmaxBackward>)\n",
            "ARGMAX = tensor([8, 3, 3, 9, 7, 9, 8, 8, 3, 3, 9, 3, 3, 3, 9, 9, 3, 3, 3, 8, 8, 9, 9, 9, 3, 3, 3, 9, 9, 3, 3, 2, 9, 9, 8, 9, 9, 3, 9, 5, 8, 3, 9, 3, 8, 3, 8, 8, 8, 3, 9, 5, 8, 8, 3, 3, 8, 8, 8, 3, 8, 5, 5, 3,\n",
            "        9, 9, 6, 3, 3, 9, 3, 3, 3, 8, 9, 8, 9, 9, 7, 5, 8, 3, 8, 8, 9, 8, 9, 3, 3, 9, 5, 5, 3, 9, 8, 9, 9, 3, 3, 3, 9, 3, 3, 3, 8, 8, 3, 8, 3, 7, 5, 3, 9, 3, 3, 5, 3, 9, 3, 3, 3, 5, 9, 9, 8, 9, 3, 9,\n",
            "        7, 3, 9, 9, 3, 3, 3, 9, 3, 9, 9, 8, 3, 3, 8, 5, 6, 9, 5, 8, 5, 9, 5, 3, 5, 8, 9, 5, 3, 9, 5, 3, 3, 9, 9, 8, 3, 3, 3, 9, 3, 3, 9, 8, 3, 9, 8, 9, 5, 9, 9, 3, 8, 3, 9, 3, 3, 9, 8, 9, 3, 9, 3, 5,\n",
            "        3, 9, 8, 3, 9, 9, 3, 8, 3, 3, 9, 3, 9, 9, 3, 3, 3, 9, 3, 3, 8, 8, 3, 9, 9, 9, 8, 8, 5, 3, 9, 9, 8, 3, 8, 9, 9, 3, 9, 9, 9, 9, 5, 8, 3, 9, 9, 3, 3, 9, 8, 3, 3, 3, 3, 9, 9, 3, 3, 5, 3, 3, 8, 6]) len = 256\n",
            "LABEL = tensor([3, 3, 3, 3, 3, 3, 3, 3, 3, 3, 3, 3, 3, 3, 3, 3, 3, 3, 3, 3, 3, 3, 3, 3, 3, 3, 3, 3, 3, 3, 3, 3, 3, 3, 3, 3, 3, 3, 3, 3, 3, 3, 3, 3, 3, 3, 3, 3, 3, 3, 3, 3, 3, 3, 3, 3, 3, 3, 3, 3, 3, 3, 3, 3,\n",
            "        3, 3, 3, 3, 3, 3, 3, 3, 3, 3, 3, 3, 3, 3, 3, 3, 3, 3, 3, 3, 3, 3, 3, 3, 3, 3, 3, 3, 3, 3, 3, 3, 3, 3, 3, 3, 3, 3, 3, 3, 3, 3, 3, 3, 3, 3, 3, 3, 3, 3, 3, 3, 3, 3, 3, 3, 3, 3, 3, 3, 3, 3, 3, 3,\n",
            "        3, 3, 3, 3, 3, 3, 3, 3, 3, 3, 3, 3, 3, 3, 3, 3, 3, 3, 3, 3, 3, 3, 3, 3, 3, 3, 3, 3, 3, 3, 3, 3, 3, 3, 3, 3, 3, 3, 3, 3, 3, 3, 3, 3, 3, 3, 3, 3, 3, 3, 3, 3, 3, 3, 3, 3, 3, 3, 3, 3, 3, 3, 3, 3,\n",
            "        3, 3, 3, 3, 3, 3, 3, 3, 3, 3, 3, 3, 3, 3, 3, 3, 3, 3, 3, 3, 3, 3, 3, 3, 3, 3, 3, 3, 3, 3, 3, 3, 3, 3, 3, 3, 3, 3, 3, 3, 3, 3, 3, 3, 3, 3, 3, 3, 3, 3, 3, 3, 3, 3, 3, 3, 3, 3, 3, 3, 3, 3, 3, 3])\n",
            " XB = tensor([[-20.7453,  -2.2573,  -4.7852,  ..., -19.7328,  24.6871,  22.0250],\n",
            "        [  0.0588, -11.9907, -19.4870,  ..., -13.8990,  33.3642,   5.2602],\n",
            "        [ -8.0266,   6.2303, -11.6662,  ..., -11.5297,   4.1418,  22.3869],\n",
            "        ...,\n",
            "        [ -6.9323,  14.1499,   1.2406,  ...,  17.1195,  18.7654,  22.0504],\n",
            "        [  0.3123,   1.4489, -20.1062,  ...,  13.7194,  17.5625,   8.5454],\n",
            "        [  4.7989,  -6.3836,  -7.5436,  ...,  -0.7641,  16.7916,  15.7519]], grad_fn=<AddBackward0>)\n",
            " SCORES = tensor([[1.1667e-20, 1.2480e-12, 9.9620e-14,  ..., 3.2116e-20, 6.2808e-01, 4.3840e-02],\n",
            "        [3.4327e-15, 2.0074e-20, 1.1144e-23,  ..., 2.9777e-21, 9.9999e-01, 6.2317e-13],\n",
            "        [6.1883e-14, 9.6220e-08, 1.6254e-15,  ..., 1.8631e-15, 1.1919e-08, 1.0000e+00],\n",
            "        ...,\n",
            "        [1.1147e-13, 1.5960e-04, 3.9498e-10,  ..., 3.1096e-03, 1.6125e-02, 4.3068e-01],\n",
            "        [2.0155e-17, 6.2805e-17, 2.7336e-26,  ..., 1.3397e-11, 6.2522e-10, 7.5855e-14],\n",
            "        [7.6840e-11, 1.0693e-15, 3.3520e-16,  ..., 2.9486e-13, 1.2415e-05, 4.3895e-06]], grad_fn=<SoftmaxBackward>)\n",
            "ARGMAX = tensor([8, 8, 9, 6, 9, 5, 6, 9, 6, 6, 9, 9, 3, 3, 3, 9, 5, 9, 9, 9, 8, 3, 3, 5, 9, 3, 9, 9, 8, 8, 3, 3, 6, 3, 5, 3, 9, 3, 9, 5, 8, 5, 3, 9, 9, 3, 9, 9, 3, 9, 3, 3, 3, 3, 3, 9, 3, 9, 9, 3, 9, 9, 3, 8,\n",
            "        3, 3, 8, 5, 3, 8, 9, 8, 3, 3, 3, 3, 9, 3, 8, 9, 3, 3, 9, 9, 9, 8, 3, 3, 3, 6, 5, 9, 6, 5, 3, 3, 9, 6, 3, 9, 0, 5, 9, 9, 9, 9, 9, 8, 9, 9, 8, 9, 9, 8, 9, 3, 9, 9, 8, 9, 8, 8, 9, 3, 3, 8, 8, 8,\n",
            "        3, 9, 5, 3, 3, 5, 3, 8, 8, 9, 3, 5, 8, 3, 9, 9, 6, 6, 3, 3, 8, 3, 9, 8, 3, 9, 9, 3, 6, 9, 3, 3, 8, 6, 3, 9, 3, 8, 5, 8, 8, 6, 9, 7, 3, 5, 7, 9, 5, 9, 9, 9, 9, 9, 3, 9, 9, 3, 3, 3, 9, 9, 9, 9,\n",
            "        9, 3, 9, 9, 9, 9, 3, 9, 9, 9, 5, 5, 6, 8, 6, 8, 3, 8, 3, 8, 3, 3, 6, 3, 3, 8, 3, 6, 9, 3, 3, 9, 3, 3, 9, 3, 9, 3, 3, 3, 9, 3, 3, 3, 3, 9, 9, 8, 9, 3, 3, 3, 9, 3, 3, 9, 5, 3, 8, 3, 5, 5, 3, 3]) len = 256\n",
            "LABEL = tensor([3, 3, 3, 3, 3, 3, 3, 3, 3, 3, 3, 3, 3, 3, 3, 3, 3, 3, 3, 3, 3, 3, 3, 3, 3, 3, 3, 3, 3, 3, 3, 3, 3, 3, 3, 3, 3, 3, 3, 3, 3, 3, 3, 3, 3, 3, 3, 3, 3, 3, 3, 3, 3, 3, 3, 3, 3, 3, 3, 3, 3, 3, 3, 3,\n",
            "        3, 3, 3, 3, 3, 3, 3, 3, 3, 3, 3, 3, 3, 3, 3, 3, 3, 3, 3, 3, 3, 3, 3, 3, 3, 3, 3, 3, 3, 3, 3, 3, 3, 3, 3, 3, 3, 3, 3, 3, 3, 3, 3, 3, 3, 3, 3, 3, 3, 3, 3, 3, 3, 3, 3, 3, 3, 3, 3, 3, 3, 3, 3, 3,\n",
            "        3, 3, 3, 3, 3, 3, 3, 3, 3, 3, 3, 3, 3, 3, 3, 3, 3, 3, 3, 3, 3, 3, 3, 3, 3, 3, 3, 3, 3, 3, 3, 3, 3, 3, 3, 3, 3, 3, 3, 3, 3, 3, 3, 3, 3, 3, 3, 3, 3, 3, 3, 3, 3, 3, 3, 3, 3, 3, 3, 3, 3, 3, 3, 3,\n",
            "        3, 3, 3, 3, 3, 3, 3, 3, 3, 3, 3, 3, 3, 3, 3, 3, 3, 3, 3, 3, 3, 3, 3, 3, 3, 3, 3, 3, 3, 3, 3, 3, 3, 3, 3, 3, 3, 3, 3, 3, 3, 3, 3, 3, 3, 3, 3, 3, 3, 3, 3, 3, 3, 3, 3, 3, 3, 3, 3, 3, 3, 3, 3, 3])\n",
            " XB = tensor([[  1.6345,   4.3519,  -6.2966,  ...,  15.9507,  20.6870, -13.3102],\n",
            "        [-11.8196,   5.0627,  -1.3852,  ..., -11.6216,  29.2173,   8.3854],\n",
            "        [-13.5299,  -0.5492, -10.4919,  ...,  -1.1542,  16.7817,  35.3237],\n",
            "        ...,\n",
            "        [-15.3660,   9.3657,  -0.6764,  ..., -13.0292,  18.4151,  24.5926],\n",
            "        [-16.0694,   0.3520, -24.2051,  ...,   6.7238,  23.6669,  22.0804],\n",
            "        [-23.2015,   0.0842, -20.0030,  ...,  -0.1545,  13.7823,  25.8841]], grad_fn=<AddBackward0>)\n",
            " SCORES = tensor([[2.6968e-14, 4.0832e-13, 9.6925e-18,  ..., 4.4493e-08, 5.0727e-06, 8.7189e-21],\n",
            "        [1.4789e-18, 3.1756e-11, 5.0298e-14,  ..., 1.8027e-18, 9.8182e-01, 8.8071e-10],\n",
            "        [6.0697e-22, 2.6337e-16, 1.2663e-20,  ..., 1.4383e-16, 8.8576e-09, 1.0000e+00],\n",
            "        ...,\n",
            "        [4.4187e-18, 2.4330e-07, 1.0590e-11,  ..., 4.5723e-17, 2.0714e-03, 9.9791e-01],\n",
            "        [1.8405e-24, 2.4926e-17, 5.3904e-28,  ..., 1.4584e-14, 3.3279e-07, 6.8107e-08],\n",
            "        [2.3217e-23, 3.0105e-13, 5.6872e-22,  ..., 2.3712e-13, 2.6771e-07, 4.8241e-02]], grad_fn=<SoftmaxBackward>)\n",
            "ARGMAX = tensor([3, 8, 9, 3, 9, 3, 9, 3, 3, 9, 8, 9, 8, 9, 9, 3, 3, 3, 7, 9, 9, 3, 9, 3, 3, 3, 9, 3, 3, 9, 9, 3, 9, 3, 3, 9, 3, 9, 8, 5, 9, 9, 9, 9, 9, 9, 9, 8, 8, 8, 9, 3, 3, 3, 3, 3, 3, 5, 3, 3, 5, 3, 3, 3,\n",
            "        3, 9, 9, 9, 3, 9, 3, 5, 9, 8, 6, 3, 3, 3, 3, 5, 3, 6, 3, 8, 3, 8, 3, 3, 3, 3, 5, 3, 9, 3, 9, 9, 3, 9, 3, 9, 9, 8, 9, 5, 9, 3, 9, 3, 9, 9, 9, 9, 9, 9, 9, 9, 9, 9, 9, 9, 3, 9, 5, 9, 5, 3, 9, 9,\n",
            "        3, 3, 9, 9, 9, 9, 7, 3, 3, 9, 3, 3, 9, 8, 3, 8, 3, 3, 3, 9, 3, 9, 3, 8, 9, 3, 3, 8, 3, 8, 3, 9, 8, 8, 3, 5, 3, 3, 3, 3, 3, 3, 3, 9, 3, 7, 3, 3, 3, 5, 3, 3, 3, 3, 3, 3, 6, 3, 3, 8, 3, 3, 9, 9,\n",
            "        9, 8, 3, 9, 3, 9, 3, 9, 9, 3, 8, 9, 8, 9, 3, 8, 3, 5, 3, 8, 3, 3, 3, 3, 3, 8, 3, 3, 3, 9, 9, 9, 3, 9, 9, 9, 3, 9, 9, 9, 3, 3, 3, 3, 3, 9, 3, 3, 3, 3, 3, 3, 3, 3, 8, 3, 3, 8, 9, 3, 9, 9, 3, 3]) len = 256\n",
            "LABEL = tensor([3, 3, 3, 3, 3, 3, 3, 3, 3, 3, 3, 3, 3, 3, 3, 3, 3, 3, 3, 3, 3, 3, 3, 3, 3, 3, 3, 3, 3, 3, 3, 3, 3, 3, 3, 3, 3, 3, 3, 3, 3, 3, 3, 3, 3, 3, 3, 3, 3, 3, 3, 3, 3, 3, 3, 3, 3, 3, 3, 3, 3, 3, 3, 3,\n",
            "        3, 3, 3, 3, 3, 3, 3, 3, 3, 3, 3, 3, 3, 3, 3, 3, 3, 3, 3, 3, 3, 3, 3, 3, 3, 3, 3, 3, 3, 3, 3, 3, 3, 3, 3, 3, 3, 3, 3, 3, 3, 3, 3, 3, 3, 3, 3, 3, 3, 3, 3, 3, 3, 3, 3, 3, 3, 3, 3, 3, 3, 3, 3, 3,\n",
            "        3, 3, 3, 3, 3, 3, 3, 3, 3, 3, 3, 3, 3, 3, 3, 3, 3, 3, 3, 3, 3, 3, 3, 3, 3, 3, 3, 3, 3, 3, 3, 3, 3, 3, 3, 3, 3, 3, 3, 3, 3, 3, 3, 3, 3, 3, 3, 3, 3, 3, 3, 3, 3, 3, 3, 3, 3, 3, 3, 3, 3, 3, 3, 3,\n",
            "        3, 3, 3, 3, 3, 3, 3, 3, 3, 3, 3, 3, 3, 3, 3, 3, 3, 3, 3, 3, 3, 3, 3, 3, 3, 3, 3, 3, 3, 3, 3, 3, 3, 3, 3, 3, 3, 3, 3, 3, 3, 3, 3, 3, 3, 3, 3, 3, 3, 3, 3, 3, 3, 3, 3, 3, 3, 3, 3, 3, 3, 3, 3, 3])\n",
            " XB = tensor([[-23.2359,  -6.8645,  -2.6545,  ..., -22.1768,  24.4594,  13.6148],\n",
            "        [ -5.8657,  -0.8251,  -4.8247,  ...,  11.7189,   5.3615,   0.8692],\n",
            "        [-28.9263,   6.7608,  -4.3843,  ...,  -4.3516,  20.6564,  -0.3345],\n",
            "        ...,\n",
            "        [ -9.6694, -12.3510, -16.7943,  ...,  -3.1643,  -7.4898,  35.5357],\n",
            "        [-20.9681, -26.6783,  -9.6744,  ...,   6.8030,  -7.0971,  53.4363],\n",
            "        [-13.3129, -10.4922,  -5.3244,  ...,  -0.4544,  -2.7528,  31.2087]], grad_fn=<AddBackward0>)\n",
            " SCORES = tensor([[1.1405e-21, 1.4692e-14, 9.8964e-13,  ..., 3.2889e-21, 5.9007e-01, 1.1511e-05],\n",
            "        [2.5151e-14, 3.8877e-12, 7.1231e-14,  ..., 1.0901e-06, 1.8901e-09, 2.1159e-11],\n",
            "        [3.3866e-23, 1.0678e-07, 1.5425e-12,  ..., 1.5938e-12, 1.1568e-01, 8.8517e-11],\n",
            "        ...,\n",
            "        [2.3318e-20, 1.5961e-21, 1.8766e-23,  ..., 1.5588e-17, 2.0618e-19, 1.0000e+00],\n",
            "        [4.8592e-33, 1.6093e-35, 3.9025e-28,  ..., 5.5899e-21, 5.1368e-27, 1.0000e+00],\n",
            "        [4.6185e-20, 7.7538e-19, 1.3610e-16,  ..., 1.7737e-14, 1.7812e-15, 1.0000e+00]], grad_fn=<SoftmaxBackward>)\n",
            "ARGMAX = tensor([8, 3, 3, 9, 9, 3, 9, 9, 9, 9, 9, 9, 9, 9, 8, 9, 3, 3, 5, 8, 5, 9, 9, 3, 8, 9, 8, 8, 3, 3, 3, 8, 3, 5, 9, 3, 3, 7, 3, 3, 3, 9, 3, 3, 8, 3, 5, 8, 8, 3, 9, 9, 9, 9, 9, 9, 9, 5, 9, 9, 3, 9, 9, 9,\n",
            "        9, 9, 9, 9, 9, 9, 9, 9, 9, 9, 9, 9, 6, 9, 9, 9, 9, 9, 9, 9, 9, 9, 9, 9, 9, 9, 9, 6, 9, 9, 9, 9, 9, 9, 9, 9, 9, 9, 9, 9, 9, 9, 9, 9, 9, 9, 9, 9, 9, 9, 9, 9, 9, 9, 9, 9, 9, 9, 9, 9, 9, 9, 9, 9,\n",
            "        9, 9, 9, 6, 9, 9, 9, 9, 9, 9, 9, 9, 9, 9, 9, 9, 9, 9, 9, 9, 9, 9, 9, 9, 9, 9, 9, 9, 9, 9, 9, 9, 9, 9, 9, 9, 9, 9, 9, 9, 9, 9, 9, 9, 9, 9, 6, 9, 9, 9, 9, 9, 9, 9, 9, 9, 9, 9, 9, 9, 9, 9, 9, 9,\n",
            "        9, 9, 9, 9, 9, 9, 9, 2, 9, 9, 9, 9, 6, 9, 9, 9, 9, 9, 9, 9, 9, 9, 4, 9, 9, 9, 9, 9, 6, 9, 9, 9, 9, 9, 9, 9, 9, 9, 9, 9, 9, 9, 9, 9, 9, 9, 9, 9, 9, 9, 9, 9, 9, 9, 9, 9, 9, 9, 9, 9, 9, 9, 9, 9]) len = 256\n",
            "LABEL = tensor([3, 3, 3, 3, 3, 3, 3, 3, 3, 3, 3, 3, 3, 3, 3, 3, 3, 3, 3, 3, 3, 3, 3, 3, 3, 3, 3, 3, 3, 3, 3, 3, 3, 3, 3, 3, 3, 3, 3, 3, 3, 3, 3, 3, 3, 3, 3, 3, 3, 3, 3, 3, 3, 3, 3, 3, 3, 3, 3, 3, 3, 4, 4, 4,\n",
            "        4, 4, 4, 4, 4, 4, 4, 4, 4, 4, 4, 4, 4, 4, 4, 4, 4, 4, 4, 4, 4, 4, 4, 4, 4, 4, 4, 4, 4, 4, 4, 4, 4, 4, 4, 4, 4, 4, 4, 4, 4, 4, 4, 4, 4, 4, 4, 4, 4, 4, 4, 4, 4, 4, 4, 4, 4, 4, 4, 4, 4, 4, 4, 4,\n",
            "        4, 4, 4, 4, 4, 4, 4, 4, 4, 4, 4, 4, 4, 4, 4, 4, 4, 4, 4, 4, 4, 4, 4, 4, 4, 4, 4, 4, 4, 4, 4, 4, 4, 4, 4, 4, 4, 4, 4, 4, 4, 4, 4, 4, 4, 4, 4, 4, 4, 4, 4, 4, 4, 4, 4, 4, 4, 4, 4, 4, 4, 4, 4, 4,\n",
            "        4, 4, 4, 4, 4, 4, 4, 4, 4, 4, 4, 4, 4, 4, 4, 4, 4, 4, 4, 4, 4, 4, 4, 4, 4, 4, 4, 4, 4, 4, 4, 4, 4, 4, 4, 4, 4, 4, 4, 4, 4, 4, 4, 4, 4, 4, 4, 4, 4, 4, 4, 4, 4, 4, 4, 4, 4, 4, 4, 4, 4, 4, 4, 4])\n",
            " XB = tensor([[-14.3511,   1.4951,   2.7062,  ...,  -1.5457,  13.3636,  31.1495],\n",
            "        [-17.9761,   2.8126,  -3.5461,  ...,   3.4533,   3.5169,  24.9643],\n",
            "        [-20.4053,  -8.6814, -10.3244,  ...,   3.7992, -12.5799,  43.0986],\n",
            "        ...,\n",
            "        [-15.8812,  -6.1739,  -8.6843,  ...,   0.2277,  -6.1454,  40.0060],\n",
            "        [-12.4643, -23.6392, -25.4289,  ..., -10.6311,  -4.2685,  50.4408],\n",
            "        [-17.5952,  -4.7561, -22.5067,  ...,   6.0319,   0.3501,  45.4200]], grad_fn=<AddBackward0>)\n",
            " SCORES = tensor([[1.7352e-20, 1.3220e-13, 4.4384e-13,  ..., 6.3188e-15, 1.8865e-08, 1.0000e+00],\n",
            "        [2.2452e-19, 2.3968e-10, 4.1505e-13,  ..., 4.5488e-10, 4.8475e-10, 1.0000e+00],\n",
            "        [2.6338e-28, 3.2527e-23, 6.2905e-24,  ..., 8.5604e-18, 6.5940e-25, 1.0000e+00],\n",
            "        ...,\n",
            "        [5.3514e-25, 8.7964e-21, 7.1460e-22,  ..., 5.3026e-18, 9.0503e-21, 1.0000e+00],\n",
            "        [4.7936e-28, 6.7219e-33, 1.1226e-33,  ..., 2.9980e-27, 1.7381e-24, 1.0000e+00],\n",
            "        [4.2939e-28, 1.6174e-22, 3.1610e-30,  ..., 7.8337e-18, 2.6693e-20, 1.0000e+00]], grad_fn=<SoftmaxBackward>)\n",
            "ARGMAX = tensor([9, 9, 9, 9, 9, 9, 9, 9, 9, 9, 9, 9, 9, 9, 9, 9, 9, 9, 9, 9, 9, 9, 9, 9, 9, 9, 9, 9, 9, 9, 9, 9, 9, 9, 9, 9, 9, 9, 9, 9, 9, 9, 9, 9, 9, 9, 9, 9, 9, 9, 9, 9, 9, 9, 9, 9, 9, 9, 9, 9, 9, 9, 9, 9,\n",
            "        9, 9, 9, 9, 9, 9, 9, 9, 9, 9, 9, 9, 6, 9, 9, 9, 9, 9, 9, 9, 9, 9, 9, 9, 9, 9, 9, 9, 9, 9, 9, 9, 9, 9, 9, 9, 9, 9, 9, 9, 9, 9, 9, 9, 9, 9, 9, 9, 9, 9, 9, 9, 9, 9, 9, 9, 9, 9, 9, 9, 9, 9, 9, 4,\n",
            "        9, 9, 9, 6, 9, 9, 9, 9, 9, 9, 9, 9, 9, 9, 6, 9, 9, 9, 9, 9, 6, 9, 9, 9, 9, 9, 9, 9, 9, 9, 9, 9, 9, 9, 9, 9, 9, 9, 9, 9, 9, 9, 9, 9, 9, 9, 9, 9, 9, 9, 9, 9, 9, 9, 9, 9, 9, 9, 9, 9, 9, 9, 9, 9,\n",
            "        9, 9, 9, 9, 9, 9, 9, 9, 9, 9, 9, 9, 9, 9, 9, 9, 9, 9, 9, 9, 9, 9, 9, 9, 9, 9, 9, 9, 9, 9, 9, 9, 9, 9, 9, 9, 9, 9, 9, 9, 9, 9, 9, 9, 9, 9, 9, 9, 9, 9, 9, 9, 9, 9, 9, 9, 9, 9, 9, 9, 9, 9, 9, 9]) len = 256\n",
            "LABEL = tensor([4, 4, 4, 4, 4, 4, 4, 4, 4, 4, 4, 4, 4, 4, 4, 4, 4, 4, 4, 4, 4, 4, 4, 4, 4, 4, 4, 4, 4, 4, 4, 4, 4, 4, 4, 4, 4, 4, 4, 4, 4, 4, 4, 4, 4, 4, 4, 4, 4, 4, 4, 4, 4, 4, 4, 4, 4, 4, 4, 4, 4, 4, 4, 4,\n",
            "        4, 4, 4, 4, 4, 4, 4, 4, 4, 4, 4, 4, 4, 4, 4, 4, 4, 4, 4, 4, 4, 4, 4, 4, 4, 4, 4, 4, 4, 4, 4, 4, 4, 4, 4, 4, 4, 4, 4, 4, 4, 4, 4, 4, 4, 4, 4, 4, 4, 4, 4, 4, 4, 4, 4, 4, 4, 4, 4, 4, 4, 4, 4, 4,\n",
            "        4, 4, 4, 4, 4, 4, 4, 4, 4, 4, 4, 4, 4, 4, 4, 4, 4, 4, 4, 4, 4, 4, 4, 4, 4, 4, 4, 4, 4, 4, 4, 4, 4, 4, 4, 4, 4, 4, 4, 4, 4, 4, 4, 4, 4, 4, 4, 4, 4, 4, 4, 4, 4, 4, 4, 4, 4, 4, 4, 4, 4, 4, 4, 4,\n",
            "        4, 4, 4, 4, 4, 4, 4, 4, 4, 4, 4, 4, 4, 4, 4, 4, 4, 4, 4, 4, 4, 4, 4, 4, 4, 4, 4, 4, 4, 4, 4, 4, 4, 4, 4, 4, 4, 4, 4, 4, 4, 4, 4, 4, 4, 4, 4, 4, 4, 4, 4, 4, 4, 4, 4, 4, 4, 4, 4, 4, 4, 4, 4, 4])\n",
            " XB = tensor([[ -9.5864,  -3.4983,  -1.1192,  ...,   1.0683,  -9.0726,  30.0158],\n",
            "        [-10.2914,  -3.8219,  -3.2831,  ...,   0.9881,  -1.0724,  31.7509],\n",
            "        [-11.3961, -19.2518,  -4.6576,  ...,  12.3405,  -4.7330,  47.3743],\n",
            "        ...,\n",
            "        [-14.8668,  -0.6357,  -5.9010,  ...,  -6.8952,  12.8201,  36.1159],\n",
            "        [-13.1306,   6.0731, -13.8547,  ...,  11.1834,  -9.0335,  53.3635],\n",
            "        [-11.9132,   3.6478,   1.8957,  ...,  -5.1402,  13.7616,  19.1937]], grad_fn=<AddBackward0>)\n",
            " SCORES = tensor([[6.3231e-18, 2.7859e-15, 3.0075e-14,  ..., 2.6807e-13, 1.0571e-17, 9.9996e-01],\n",
            "        [5.5115e-19, 3.5557e-16, 6.0941e-16,  ..., 4.3641e-14, 5.5592e-15, 1.0000e+00],\n",
            "        [2.9948e-26, 1.1605e-29, 2.5283e-23,  ..., 6.0953e-16, 2.3448e-23, 1.0000e+00],\n",
            "        ...,\n",
            "        [7.2193e-23, 1.0939e-16, 5.6532e-19,  ..., 2.0917e-19, 7.6338e-11, 1.0000e+00],\n",
            "        [1.3243e-29, 2.8977e-21, 6.4196e-30,  ..., 4.8020e-19, 7.9672e-28, 1.0000e+00],\n",
            "        [3.0798e-14, 1.7644e-07, 3.0598e-08,  ..., 2.6917e-11, 4.3546e-03, 9.9563e-01]], grad_fn=<SoftmaxBackward>)\n",
            "ARGMAX = tensor([9, 9, 9, 9, 9, 9, 9, 9, 9, 9, 9, 9, 9, 9, 9, 9, 9, 9, 9, 9, 9, 9, 9, 9, 9, 9, 9, 9, 4, 9, 9, 9, 9, 9, 9, 9, 6, 9, 9, 9, 9, 9, 9, 9, 9, 9, 9, 9, 9, 9, 9, 9, 9, 9, 9, 9, 9, 9, 9, 9, 9, 9, 9, 9,\n",
            "        9, 9, 9, 6, 9, 9, 9, 9, 9, 9, 9, 9, 9, 9, 9, 9, 9, 9, 9, 9, 9, 9, 9, 6, 9, 9, 9, 9, 9, 9, 9, 9, 9, 9, 9, 9, 9, 9, 9, 9, 9, 9, 9, 9, 9, 9, 9, 9, 9, 9, 9, 9, 9, 9, 9, 9, 9, 9, 9, 9, 9, 9, 9, 9,\n",
            "        9, 9, 9, 9, 9, 9, 9, 9, 9, 9, 9, 9, 9, 9, 9, 9, 9, 9, 9, 6, 9, 9, 9, 9, 9, 9, 9, 9, 9, 9, 9, 9, 9, 9, 9, 9, 9, 9, 9, 9, 9, 9, 9, 9, 9, 9, 9, 6, 9, 9, 6, 9, 9, 9, 9, 9, 9, 9, 9, 9, 9, 9, 9, 9,\n",
            "        9, 9, 9, 9, 9, 9, 9, 9, 9, 9, 9, 9, 9, 9, 9, 9, 9, 9, 9, 9, 9, 9, 9, 9, 9, 9, 9, 9, 9, 9, 9, 9, 9, 9, 9, 9, 9, 9, 9, 9, 9, 9, 9, 9, 9, 9, 9, 9, 9, 9, 9, 9, 9, 9, 9, 9, 9, 9, 9, 9, 9, 9, 9, 9]) len = 256\n",
            "LABEL = tensor([4, 4, 4, 4, 4, 4, 4, 4, 4, 4, 4, 4, 4, 4, 4, 4, 4, 4, 4, 4, 4, 4, 4, 4, 4, 4, 4, 4, 4, 4, 4, 4, 4, 4, 4, 4, 4, 4, 4, 4, 4, 4, 4, 4, 4, 4, 4, 4, 4, 4, 4, 4, 4, 4, 4, 4, 4, 4, 4, 4, 4, 4, 4, 4,\n",
            "        4, 4, 4, 4, 4, 4, 4, 4, 4, 4, 4, 4, 4, 4, 4, 4, 4, 4, 4, 4, 4, 4, 4, 4, 4, 4, 4, 4, 4, 4, 4, 4, 4, 4, 4, 4, 4, 4, 4, 4, 4, 4, 4, 4, 4, 4, 4, 4, 4, 4, 4, 4, 4, 4, 4, 4, 4, 4, 4, 4, 4, 4, 4, 4,\n",
            "        4, 4, 4, 4, 4, 4, 4, 4, 4, 4, 4, 4, 4, 4, 4, 4, 4, 4, 4, 4, 4, 4, 4, 4, 4, 4, 4, 4, 4, 4, 4, 4, 4, 4, 4, 4, 4, 4, 4, 4, 4, 4, 4, 4, 4, 4, 4, 4, 4, 4, 4, 4, 4, 4, 4, 4, 4, 4, 4, 4, 4, 4, 4, 4,\n",
            "        4, 4, 4, 4, 4, 4, 4, 4, 4, 4, 4, 4, 4, 4, 4, 4, 4, 4, 4, 4, 4, 4, 4, 4, 4, 4, 4, 4, 4, 4, 4, 4, 4, 4, 4, 4, 4, 4, 4, 4, 4, 4, 4, 4, 4, 4, 4, 4, 4, 4, 4, 4, 4, 4, 4, 4, 4, 4, 4, 4, 4, 4, 4, 4])\n",
            " XB = tensor([[ -1.2710,  -7.9549,   8.9964,  ...,  -0.1287,  13.5089,  21.9909],\n",
            "        [  0.0705,  -0.8522,   2.5377,  ..., -13.0366,  21.4930,  15.2297],\n",
            "        [ -6.2380,  -4.3341,   4.4174,  ...,  -2.2707,  10.1607,  26.9109],\n",
            "        ...,\n",
            "        [ -5.5350,  -7.6356,   2.1628,  ...,  -3.4647,  11.1125,  10.2105],\n",
            "        [-15.1222,   4.0216,   1.6312,  ...,   3.1511,   5.4315,  21.5553],\n",
            "        [ -9.1015, -16.0872,  -5.9769,  ...,   5.2616,  -9.8424,  36.6882]], grad_fn=<AddBackward0>)\n",
            " SCORES = tensor([[7.8958e-11, 9.8765e-14, 2.2722e-06,  ..., 2.4743e-10, 2.0712e-04, 9.9979e-01],\n",
            "        [3.6814e-10, 1.4631e-10, 4.3402e-09,  ..., 7.4761e-16, 7.4076e-01, 1.4111e-03],\n",
            "        [4.0141e-15, 2.6943e-14, 1.7028e-10,  ..., 2.1213e-13, 5.3143e-08, 1.0000e+00],\n",
            "        ...,\n",
            "        [9.5942e-10, 1.1742e-10, 2.1140e-06,  ..., 7.6055e-09, 1.6290e-02, 6.6097e-03],\n",
            "        [1.1780e-16, 2.4278e-08, 2.2237e-09,  ..., 1.0166e-08, 9.9425e-08, 9.9997e-01],\n",
            "        [1.2995e-20, 1.2021e-23, 2.9565e-19,  ..., 2.2470e-14, 6.1948e-21, 9.9999e-01]], grad_fn=<SoftmaxBackward>)\n",
            "ARGMAX = tensor([9, 8, 9, 9, 9, 9, 8, 9, 8, 9, 9, 8, 9, 9, 9, 6, 9, 9, 9, 9, 9, 9, 9, 9, 4, 9, 9, 9, 9, 9, 9, 9, 9, 9, 9, 9, 9, 9, 9, 9, 9, 9, 9, 9, 9, 9, 9, 9, 9, 9, 4, 9, 9, 9, 9, 9, 9, 9, 9, 9, 9, 9, 9, 9,\n",
            "        9, 9, 9, 9, 9, 9, 9, 9, 9, 9, 9, 9, 9, 9, 9, 9, 9, 9, 9, 9, 9, 9, 9, 9, 9, 9, 9, 9, 9, 9, 9, 9, 9, 9, 9, 9, 9, 9, 9, 9, 9, 9, 9, 9, 9, 9, 9, 9, 9, 9, 9, 9, 9, 9, 9, 9, 9, 9, 9, 9, 9, 9, 9, 9,\n",
            "        9, 9, 9, 9, 9, 9, 9, 9, 9, 9, 9, 9, 9, 9, 9, 9, 9, 9, 9, 9, 9, 9, 9, 9, 9, 9, 9, 9, 9, 9, 9, 9, 9, 9, 9, 9, 9, 9, 9, 9, 9, 9, 9, 9, 9, 6, 9, 9, 9, 9, 9, 9, 9, 9, 9, 9, 9, 9, 9, 9, 9, 9, 9, 9,\n",
            "        9, 9, 9, 9, 9, 9, 9, 9, 9, 9, 9, 9, 9, 9, 9, 9, 9, 9, 9, 9, 9, 9, 9, 9, 9, 9, 9, 9, 9, 9, 9, 9, 9, 9, 9, 9, 9, 9, 9, 9, 9, 9, 9, 9, 9, 9, 9, 9, 9, 9, 9, 9, 9, 9, 9, 9, 6, 9, 9, 9, 9, 4, 9, 9]) len = 256\n",
            "LABEL = tensor([4, 4, 4, 4, 4, 4, 4, 4, 4, 4, 4, 4, 4, 4, 4, 4, 4, 4, 4, 4, 4, 4, 4, 4, 4, 4, 4, 4, 4, 4, 4, 4, 4, 4, 4, 4, 4, 4, 4, 4, 4, 4, 4, 4, 4, 4, 4, 4, 4, 4, 4, 4, 4, 4, 4, 4, 4, 4, 4, 4, 4, 4, 4, 4,\n",
            "        4, 4, 4, 4, 4, 4, 4, 4, 4, 4, 4, 4, 4, 4, 4, 4, 4, 4, 4, 4, 4, 4, 4, 4, 4, 4, 4, 4, 4, 4, 4, 4, 4, 4, 4, 4, 4, 4, 4, 4, 4, 4, 4, 4, 4, 4, 4, 4, 4, 4, 4, 4, 4, 4, 4, 4, 4, 4, 4, 4, 4, 4, 4, 4,\n",
            "        4, 4, 4, 4, 4, 4, 4, 4, 4, 4, 4, 4, 4, 4, 4, 4, 4, 4, 4, 4, 4, 4, 4, 4, 4, 4, 4, 4, 4, 4, 4, 4, 4, 4, 4, 4, 4, 4, 4, 4, 4, 4, 4, 4, 4, 4, 4, 4, 4, 4, 4, 4, 4, 4, 4, 4, 4, 4, 4, 4, 4, 4, 4, 4,\n",
            "        4, 4, 4, 4, 4, 4, 4, 4, 4, 4, 4, 4, 4, 4, 4, 4, 4, 4, 4, 4, 4, 4, 4, 4, 4, 4, 4, 4, 4, 4, 4, 4, 4, 4, 4, 4, 4, 4, 4, 4, 4, 4, 4, 4, 4, 4, 4, 4, 4, 4, 4, 4, 4, 4, 4, 4, 4, 4, 4, 4, 4, 4, 4, 4])\n",
            " XB = tensor([[  1.0734, -13.2068,   2.4977,  ...,   0.5964,  -0.3878,  16.2301],\n",
            "        [-15.1016,  -6.8580,  -6.4246,  ...,   2.7580,  -9.2639,  36.6805],\n",
            "        [  3.7657, -16.7791,   1.4192,  ..., -15.0707,  18.1027,  25.4057],\n",
            "        ...,\n",
            "        [  3.2061,  -8.1300,  -8.4981,  ...,  16.6292,  10.8649,  18.1291],\n",
            "        [-10.8421,  12.7188, -12.2311,  ...,   1.4364,  23.0713,  18.2090],\n",
            "        [ -3.8074, -15.8249,  -5.8865,  ..., -18.9758,  21.1261,  31.1810]], grad_fn=<AddBackward0>)\n",
            " SCORES = tensor([[2.0069e-07, 1.2610e-13, 8.3388e-07,  ..., 1.2456e-07, 4.6552e-08, 7.6737e-01],\n",
            "        [3.2457e-23, 1.2344e-19, 1.9040e-19,  ..., 1.8519e-15, 1.1132e-20, 1.0000e+00],\n",
            "        [3.9956e-10, 4.7765e-19, 3.8241e-11,  ..., 2.6367e-18, 6.7311e-04, 9.9932e-01],\n",
            "        ...,\n",
            "        [2.6722e-07, 3.1891e-12, 2.2069e-12,  ..., 1.8048e-01, 5.6630e-04, 8.0877e-01],\n",
            "        [1.8399e-15, 3.1418e-05, 4.5874e-16,  ..., 3.9562e-10, 9.8447e-01, 7.6123e-03],\n",
            "        [6.3787e-16, 3.8511e-21, 7.9759e-17,  ..., 1.6487e-22, 4.2971e-05, 9.9996e-01]], grad_fn=<SoftmaxBackward>)\n",
            "ARGMAX = tensor([9, 9, 9, 9, 9, 9, 9, 4, 9, 9, 9, 9, 6, 9, 9, 9, 9, 9, 9, 8, 9, 9, 8, 5, 9, 5, 8, 8, 5, 8, 9, 9, 9, 6, 5, 9, 8, 5, 9, 8, 8, 9, 6, 8, 8, 5, 8, 9, 9, 5, 5, 9, 9, 9, 8, 9, 9, 5, 8, 8, 8, 8, 5, 5,\n",
            "        8, 9, 9, 8, 3, 9, 5, 9, 8, 9, 8, 9, 8, 8, 8, 9, 9, 9, 8, 9, 8, 5, 8, 6, 9, 8, 8, 9, 5, 9, 9, 5, 8, 9, 5, 8, 8, 8, 9, 8, 9, 9, 9, 9, 8, 8, 9, 8, 9, 9, 8, 9, 6, 8, 8, 0, 9, 8, 9, 9, 9, 9, 8, 9,\n",
            "        9, 9, 9, 6, 6, 9, 8, 9, 5, 5, 8, 9, 9, 8, 9, 9, 9, 5, 9, 9, 6, 5, 8, 9, 8, 6, 8, 5, 9, 8, 8, 8, 8, 9, 9, 9, 9, 8, 5, 8, 9, 9, 9, 9, 5, 6, 9, 9, 8, 5, 5, 9, 9, 5, 9, 8, 8, 9, 8, 9, 9, 9, 8, 8,\n",
            "        5, 5, 8, 8, 9, 8, 9, 8, 9, 9, 5, 9, 9, 8, 8, 9, 5, 9, 8, 9, 9, 9, 9, 9, 9, 9, 9, 9, 8, 3, 8, 8, 8, 9, 9, 9, 8, 0, 5, 5, 8, 8, 8, 8, 5, 6, 9, 5, 9, 5, 9, 8, 8, 8, 7, 9, 9, 9, 9, 9, 9, 9, 8, 9]) len = 256\n",
            "LABEL = tensor([4, 4, 4, 4, 4, 4, 4, 4, 4, 4, 4, 4, 4, 4, 4, 4, 4, 4, 4, 5, 5, 5, 5, 5, 5, 5, 5, 5, 5, 5, 5, 5, 5, 5, 5, 5, 5, 5, 5, 5, 5, 5, 5, 5, 5, 5, 5, 5, 5, 5, 5, 5, 5, 5, 5, 5, 5, 5, 5, 5, 5, 5, 5, 5,\n",
            "        5, 5, 5, 5, 5, 5, 5, 5, 5, 5, 5, 5, 5, 5, 5, 5, 5, 5, 5, 5, 5, 5, 5, 5, 5, 5, 5, 5, 5, 5, 5, 5, 5, 5, 5, 5, 5, 5, 5, 5, 5, 5, 5, 5, 5, 5, 5, 5, 5, 5, 5, 5, 5, 5, 5, 5, 5, 5, 5, 5, 5, 5, 5, 5,\n",
            "        5, 5, 5, 5, 5, 5, 5, 5, 5, 5, 5, 5, 5, 5, 5, 5, 5, 5, 5, 5, 5, 5, 5, 5, 5, 5, 5, 5, 5, 5, 5, 5, 5, 5, 5, 5, 5, 5, 5, 5, 5, 5, 5, 5, 5, 5, 5, 5, 5, 5, 5, 5, 5, 5, 5, 5, 5, 5, 5, 5, 5, 5, 5, 5,\n",
            "        5, 5, 5, 5, 5, 5, 5, 5, 5, 5, 5, 5, 5, 5, 5, 5, 5, 5, 5, 5, 5, 5, 5, 5, 5, 5, 5, 5, 5, 5, 5, 5, 5, 5, 5, 5, 5, 5, 5, 5, 5, 5, 5, 5, 5, 5, 5, 5, 5, 5, 5, 5, 5, 5, 5, 5, 5, 5, 5, 5, 5, 5, 5, 5])\n",
            " XB = tensor([[-12.2159,  -8.8629, -12.4411,  ..., -14.0997,  17.4409,  32.5438],\n",
            "        [ -0.2716, -11.9061,  -4.2428,  ..., -22.0957,  13.5907,   7.5612],\n",
            "        [  5.6200,  -1.4507,  -1.4054,  ...,  -9.7999,  17.6512,  32.7100],\n",
            "        ...,\n",
            "        [ -0.8846,  -2.2665,  -9.5241,  ..., -10.6637,  21.7490,   1.2981],\n",
            "        [  0.2294, -13.0065, -21.7622,  ..., -17.5226,  32.2483,  26.2506],\n",
            "        [  2.0843,  -5.7603, -13.6143,  ...,  -4.8992,  22.6031,  29.8634]], grad_fn=<AddBackward0>)\n",
            " SCORES = tensor([[3.6399e-20, 1.0406e-18, 2.9061e-20,  ..., 5.5331e-21, 2.7600e-07, 1.0000e+00],\n",
            "        [9.3029e-07, 8.2385e-12, 1.7538e-08,  ..., 3.0943e-16, 9.7491e-01, 2.3462e-03],\n",
            "        [1.7177e-12, 1.4594e-15, 1.5270e-15,  ..., 3.4527e-19, 2.8843e-07, 1.0000e+00],\n",
            "        ...,\n",
            "        [1.3813e-10, 3.4683e-11, 2.4445e-14,  ..., 7.8215e-15, 9.3311e-01, 1.2252e-09],\n",
            "        [1.2396e-14, 2.2131e-20, 3.4871e-24,  ..., 2.4192e-22, 9.9751e-01, 2.4782e-03],\n",
            "        [8.6176e-13, 3.3771e-16, 1.3109e-19,  ..., 7.9887e-16, 7.0240e-04, 9.9928e-01]], grad_fn=<SoftmaxBackward>)\n",
            "ARGMAX = tensor([9, 8, 9, 5, 9, 5, 9, 9, 8, 8, 9, 5, 9, 8, 8, 8, 6, 8, 8, 9, 9, 8, 9, 8, 6, 8, 0, 8, 8, 5, 8, 9, 8, 5, 9, 5, 9, 5, 5, 0, 9, 9, 9, 9, 8, 9, 9, 8, 8, 9, 8, 9, 9, 8, 9, 9, 8, 5, 9, 9, 9, 5, 5, 5,\n",
            "        8, 8, 8, 5, 8, 8, 9, 9, 5, 9, 9, 8, 9, 8, 8, 9, 9, 5, 9, 8, 8, 8, 8, 8, 9, 8, 9, 9, 3, 9, 9, 9, 8, 9, 1, 1, 9, 9, 8, 9, 9, 5, 5, 5, 8, 9, 9, 5, 9, 8, 9, 8, 5, 9, 9, 9, 8, 8, 8, 9, 9, 9, 9, 8,\n",
            "        5, 9, 9, 5, 9, 9, 9, 9, 8, 8, 8, 9, 5, 8, 8, 8, 8, 8, 9, 8, 8, 8, 9, 9, 8, 9, 7, 5, 8, 9, 6, 9, 8, 8, 5, 9, 9, 8, 9, 8, 5, 5, 9, 9, 9, 8, 9, 8, 9, 9, 5, 8, 5, 8, 8, 8, 8, 5, 5, 8, 5, 9, 5, 5,\n",
            "        8, 5, 6, 5, 9, 9, 6, 6, 9, 5, 8, 9, 9, 8, 5, 8, 9, 9, 9, 9, 9, 9, 9, 8, 8, 5, 5, 5, 5, 5, 9, 8, 6, 5, 8, 8, 8, 6, 8, 8, 8, 8, 5, 8, 8, 5, 5, 5, 5, 5, 9, 8, 5, 9, 5, 8, 9, 6, 8, 6, 9, 8, 8, 9]) len = 256\n",
            "LABEL = tensor([5, 5, 5, 5, 5, 5, 5, 5, 5, 5, 5, 5, 5, 5, 5, 5, 5, 5, 5, 5, 5, 5, 5, 5, 5, 5, 5, 5, 5, 5, 5, 5, 5, 5, 5, 5, 5, 5, 5, 5, 5, 5, 5, 5, 5, 5, 5, 5, 5, 5, 5, 5, 5, 5, 5, 5, 5, 5, 5, 5, 5, 5, 5, 5,\n",
            "        5, 5, 5, 5, 5, 5, 5, 5, 5, 5, 5, 5, 5, 5, 5, 5, 5, 5, 5, 5, 5, 5, 5, 5, 5, 5, 5, 5, 5, 5, 5, 5, 5, 5, 5, 5, 5, 5, 5, 5, 5, 5, 5, 5, 5, 5, 5, 5, 5, 5, 5, 5, 5, 5, 5, 5, 5, 5, 5, 5, 5, 5, 5, 5,\n",
            "        5, 5, 5, 5, 5, 5, 5, 5, 5, 5, 5, 5, 5, 5, 5, 5, 5, 5, 5, 5, 5, 5, 5, 5, 5, 5, 5, 5, 5, 5, 5, 5, 5, 5, 5, 5, 5, 5, 5, 5, 5, 5, 5, 5, 5, 5, 5, 5, 5, 5, 5, 5, 5, 5, 5, 5, 5, 5, 5, 5, 5, 5, 5, 5,\n",
            "        5, 5, 5, 5, 5, 5, 5, 5, 5, 5, 5, 5, 5, 5, 5, 5, 5, 5, 5, 5, 5, 5, 5, 5, 5, 5, 5, 5, 5, 5, 5, 5, 5, 5, 5, 5, 5, 5, 5, 5, 5, 5, 5, 5, 5, 5, 5, 5, 5, 5, 5, 5, 5, 5, 5, 5, 5, 5, 5, 5, 5, 5, 5, 5])\n",
            " XB = tensor([[ -0.6934,   0.0470, -11.1986,  ...,  -0.8633,  18.1632,   9.8894],\n",
            "        [  0.7335, -11.1872, -31.1958,  ...,  -0.1051,  21.6111,  26.4148],\n",
            "        [ 10.6713,  -6.4724,  -6.5358,  ...,  -3.9345,  24.7324, -26.5804],\n",
            "        ...,\n",
            "        [ -4.6583,   7.6644,  -2.1450,  ..., -11.6351,  16.1775,  12.3202],\n",
            "        [  1.0940,   4.4436,  -3.4353,  ...,  12.3521,  13.5947,  16.7310],\n",
            "        [  8.7736,   7.6801, -20.0755,  ...,  -0.9405,  16.6124,  25.7065]], grad_fn=<AddBackward0>)\n",
            " SCORES = tensor([[6.0429e-10, 1.2671e-09, 1.6554e-14,  ..., 5.0985e-10, 9.3449e-02, 2.3840e-05],\n",
            "        [5.4684e-15, 3.6373e-20, 7.4326e-29,  ..., 2.3640e-15, 6.3812e-06, 7.7826e-04],\n",
            "        [7.8018e-07, 2.7976e-14, 2.6256e-14,  ..., 3.5396e-13, 9.9731e-01, 5.1756e-23],\n",
            "        ...,\n",
            "        [2.4897e-11, 5.5949e-06, 3.0735e-10,  ..., 2.3236e-14, 2.7860e-02, 5.8855e-04],\n",
            "        [3.6153e-12, 1.0301e-10, 3.9006e-14,  ..., 2.8023e-07, 9.7088e-07, 2.2347e-05],\n",
            "        [5.5305e-15, 1.8529e-15, 1.6358e-27,  ..., 3.3417e-19, 1.4031e-11, 1.2492e-07]], grad_fn=<SoftmaxBackward>)\n",
            "ARGMAX = tensor([3, 5, 8, 8, 8, 8, 8, 9, 8, 6, 5, 5, 3, 3, 9, 8, 9, 8, 9, 9, 8, 8, 9, 8, 9, 9, 9, 9, 5, 8, 8, 5, 6, 8, 5, 9, 8, 8, 8, 9, 8, 5, 5, 5, 5, 9, 5, 5, 9, 5, 5, 8, 5, 8, 6, 8, 5, 5, 9, 8, 8, 9, 9, 8,\n",
            "        5, 5, 9, 5, 5, 5, 5, 5, 9, 5, 5, 6, 9, 9, 8, 5, 8, 6, 5, 5, 5, 5, 5, 8, 5, 8, 8, 8, 8, 8, 6, 5, 8, 5, 5, 8, 8, 8, 6, 9, 5, 9, 9, 8, 8, 5, 5, 5, 5, 5, 8, 5, 5, 8, 5, 9, 5, 5, 5, 8, 8, 9, 5, 5,\n",
            "        5, 5, 5, 9, 5, 5, 8, 5, 8, 5, 8, 8, 8, 8, 8, 9, 9, 8, 9, 5, 8, 6, 5, 8, 8, 5, 9, 8, 8, 8, 8, 5, 5, 5, 7, 9, 5, 5, 9, 9, 5, 5, 6, 5, 5, 5, 8, 8, 5, 6, 9, 9, 8, 9, 9, 9, 5, 9, 8, 8, 8, 5, 8, 6,\n",
            "        8, 9, 8, 6, 8, 6, 8, 8, 8, 5, 8, 8, 9, 8, 9, 8, 6, 8, 5, 5, 8, 5, 5, 5, 5, 6, 5, 5, 8, 8, 8, 9, 9, 5, 8, 5, 5, 5, 5, 5, 9, 8, 5, 8, 5, 5, 5, 5, 5, 6, 5, 5, 5, 6, 9, 9, 5, 5, 9, 5, 8, 5, 5, 5]) len = 256\n",
            "LABEL = tensor([5, 5, 5, 5, 5, 5, 5, 5, 5, 5, 5, 5, 5, 5, 5, 5, 5, 5, 5, 5, 5, 5, 5, 5, 5, 5, 5, 5, 5, 5, 5, 5, 5, 5, 5, 5, 5, 5, 5, 5, 5, 5, 5, 5, 5, 5, 5, 5, 5, 5, 5, 5, 5, 5, 5, 5, 5, 5, 5, 5, 5, 5, 5, 5,\n",
            "        5, 5, 5, 5, 5, 5, 5, 5, 5, 5, 5, 5, 5, 5, 5, 5, 5, 5, 5, 5, 5, 5, 5, 5, 5, 5, 5, 5, 5, 5, 5, 5, 5, 5, 5, 5, 5, 5, 5, 5, 5, 5, 5, 5, 5, 5, 5, 5, 5, 5, 5, 5, 5, 5, 5, 5, 5, 5, 5, 5, 5, 5, 5, 5,\n",
            "        5, 5, 5, 5, 5, 5, 5, 5, 5, 5, 5, 5, 5, 5, 5, 5, 5, 5, 5, 5, 5, 5, 5, 5, 5, 5, 5, 5, 5, 5, 5, 5, 5, 5, 5, 5, 5, 5, 5, 5, 5, 5, 5, 5, 5, 5, 5, 5, 5, 5, 5, 5, 5, 5, 5, 5, 5, 5, 5, 5, 5, 5, 5, 5,\n",
            "        5, 5, 5, 5, 5, 5, 5, 5, 5, 5, 5, 5, 5, 5, 5, 5, 5, 5, 5, 5, 5, 5, 5, 5, 5, 5, 5, 5, 5, 5, 5, 5, 5, 5, 5, 5, 5, 5, 5, 5, 5, 5, 5, 5, 5, 5, 5, 5, 5, 5, 5, 5, 5, 5, 5, 5, 5, 5, 5, 5, 5, 5, 5, 5])\n",
            " XB = tensor([[ 10.2270,  -8.6067,  -0.7891,  ...,  -6.0210,  27.8032,  18.2721],\n",
            "        [  2.5361,  -9.7516, -18.3765,  ...,   0.5192,  41.3361,  32.2877],\n",
            "        [  1.2451,   8.3322,  -1.6991,  ...,  -8.5801,  25.2424,   7.0372],\n",
            "        ...,\n",
            "        [-10.7385,  -6.6142,  15.3700,  ..., -11.2439,  18.9551,   2.0260],\n",
            "        [  7.8769, -12.5959,  -7.0056,  ..., -16.9690,   8.1016,   6.3576],\n",
            "        [ -5.2346,  -1.7796,   7.0515,  ..., -18.6820,  15.2139,   4.7642]], grad_fn=<AddBackward0>)\n",
            " SCORES = tensor([[4.0719e-09, 2.6944e-17, 6.6922e-14,  ..., 3.5760e-16, 1.7501e-01, 1.2699e-05],\n",
            "        [1.4103e-17, 6.4984e-23, 1.1670e-26,  ..., 1.8765e-18, 9.9985e-01, 1.1756e-04],\n",
            "        [3.7684e-11, 4.5084e-08, 1.9837e-12,  ..., 2.0376e-15, 9.9549e-01, 1.2348e-08],\n",
            "        ...,\n",
            "        [2.1105e-20, 1.3048e-18, 4.6043e-09,  ..., 1.2732e-20, 1.6601e-07, 7.3780e-15],\n",
            "        [7.9463e-08, 1.0208e-16, 2.7340e-14,  ..., 1.2875e-18, 9.9487e-08, 1.7391e-08],\n",
            "        [4.8614e-13, 1.5390e-11, 1.0534e-07,  ..., 7.0247e-19, 3.6934e-04, 1.0695e-08]], grad_fn=<SoftmaxBackward>)\n",
            "ARGMAX = tensor([6, 8, 8, 8, 5, 9, 8, 9, 8, 8, 6, 9, 8, 5, 9, 8, 5, 8, 8, 9, 5, 8, 5, 9, 5, 8, 9, 8, 8, 8, 9, 5, 5, 9, 8, 5, 5, 2, 5, 6, 5, 8, 5, 8, 5, 5, 5, 8, 5, 8, 5, 5, 8, 8, 9, 9, 9, 5, 8, 5, 9, 8, 9, 8,\n",
            "        9, 8, 5, 8, 5, 8, 5, 9, 9, 9, 9, 5, 9, 5, 5, 9, 9, 9, 9, 9, 8, 5, 9, 5, 5, 8, 8, 5, 5, 5, 5, 5, 8, 9, 9, 9, 8, 9, 8, 9, 9, 5, 5, 9, 5, 5, 5, 5, 5, 5, 5, 5, 5, 8, 5, 5, 5, 6, 5, 6, 5, 6, 6, 8,\n",
            "        5, 8, 8, 8, 8, 8, 8, 5, 8, 8, 6, 3, 6, 5, 8, 6, 5, 6, 6, 9, 9, 6, 6, 6, 6, 6, 6, 6, 6, 6, 6, 6, 8, 6, 6, 6, 6, 6, 6, 6, 6, 6, 6, 6, 6, 6, 6, 6, 6, 6, 6, 6, 6, 6, 6, 6, 6, 8, 7, 6, 6, 6, 6, 6,\n",
            "        6, 6, 6, 6, 6, 9, 6, 6, 8, 6, 6, 6, 6, 6, 6, 6, 6, 6, 6, 6, 6, 2, 8, 6, 6, 9, 6, 6, 6, 6, 6, 6, 9, 6, 6, 6, 6, 6, 6, 6, 6, 6, 6, 6, 8, 6, 6, 6, 6, 9, 8, 6, 6, 6, 6, 6, 6, 6, 6, 6, 6, 6, 6, 6]) len = 256\n",
            "LABEL = tensor([5, 5, 5, 5, 5, 5, 5, 5, 5, 5, 5, 5, 5, 5, 5, 5, 5, 5, 5, 5, 5, 5, 5, 5, 5, 5, 5, 5, 5, 5, 5, 5, 5, 5, 5, 5, 5, 5, 5, 5, 5, 5, 5, 5, 5, 5, 5, 5, 5, 5, 5, 5, 5, 5, 5, 5, 5, 5, 5, 5, 5, 5, 5, 5,\n",
            "        5, 5, 5, 5, 5, 5, 5, 5, 5, 5, 5, 5, 5, 5, 5, 5, 5, 5, 5, 5, 5, 5, 5, 5, 5, 5, 5, 5, 5, 5, 5, 5, 5, 5, 5, 5, 5, 5, 5, 5, 5, 5, 5, 5, 5, 5, 5, 5, 5, 5, 5, 5, 5, 5, 5, 5, 5, 5, 5, 5, 5, 5, 5, 5,\n",
            "        5, 5, 5, 5, 5, 5, 5, 5, 5, 5, 5, 5, 5, 5, 5, 6, 6, 6, 6, 6, 6, 6, 6, 6, 6, 6, 6, 6, 6, 6, 6, 6, 6, 6, 6, 6, 6, 6, 6, 6, 6, 6, 6, 6, 6, 6, 6, 6, 6, 6, 6, 6, 6, 6, 6, 6, 6, 6, 6, 6, 6, 6, 6, 6,\n",
            "        6, 6, 6, 6, 6, 6, 6, 6, 6, 6, 6, 6, 6, 6, 6, 6, 6, 6, 6, 6, 6, 6, 6, 6, 6, 6, 6, 6, 6, 6, 6, 6, 6, 6, 6, 6, 6, 6, 6, 6, 6, 6, 6, 6, 6, 6, 6, 6, 6, 6, 6, 6, 6, 6, 6, 6, 6, 6, 6, 6, 6, 6, 6, 6])\n",
            " XB = tensor([[ -2.8477, -15.8547,  -0.6315,  ...,  -6.6744,   2.8394,   8.1069],\n",
            "        [ -5.5978, -17.9127,  -0.5260,  ..., -18.1661,  13.4680,  18.1805],\n",
            "        [  8.2276,   6.4553,   9.3306,  ..., -29.2948,  32.2280,   7.9300],\n",
            "        ...,\n",
            "        [-20.8884, -16.6141,  21.9154,  ..., -14.9090,  11.6927,  15.1814],\n",
            "        [-12.7786,  -5.4005,  16.2518,  ..., -21.1486,  21.7255,   1.9967],\n",
            "        [-13.0741, -14.7411,  23.8228,  ..., -10.3423,   8.0606,   9.8941]], grad_fn=<AddBackward0>)\n",
            " SCORES = tensor([[1.5496e-12, 3.4785e-18, 1.4214e-11,  ..., 3.3756e-14, 4.5721e-10, 8.8669e-08],\n",
            "        [1.3134e-15, 5.8894e-21, 2.0943e-13,  ..., 4.5714e-21, 2.5034e-07, 2.7872e-05],\n",
            "        [1.1532e-11, 1.9599e-12, 3.4752e-11,  ..., 5.8368e-28, 3.0563e-01, 8.5644e-12],\n",
            "        ...,\n",
            "        [2.4993e-19, 1.7953e-17, 9.7117e-01,  ..., 9.8774e-17, 3.5288e-05, 1.1555e-03],\n",
            "        [1.8925e-19, 3.0291e-16, 7.6694e-07,  ..., 4.3851e-23, 1.8280e-04, 4.9415e-13],\n",
            "        [6.0902e-25, 1.1499e-25, 6.4377e-09,  ..., 9.3550e-24, 9.1902e-16, 5.7491e-15]], grad_fn=<SoftmaxBackward>)\n",
            "ARGMAX = tensor([6, 6, 6, 5, 6, 8, 6, 6, 6, 6, 6, 8, 6, 6, 6, 6, 6, 6, 6, 6, 6, 6, 6, 6, 6, 6, 6, 6, 6, 9, 6, 6, 6, 6, 6, 6, 6, 6, 6, 6, 6, 6, 6, 6, 6, 6, 0, 6, 6, 6, 6, 6, 8, 6, 6, 6, 6, 9, 6, 6, 6, 6, 6, 8,\n",
            "        6, 6, 6, 6, 6, 6, 6, 6, 6, 6, 6, 6, 6, 6, 6, 6, 9, 6, 6, 6, 6, 6, 6, 6, 9, 6, 6, 9, 6, 6, 6, 6, 6, 6, 6, 6, 6, 6, 6, 6, 6, 6, 6, 6, 6, 6, 6, 6, 6, 6, 6, 6, 9, 6, 6, 6, 8, 6, 6, 9, 6, 6, 6, 6,\n",
            "        6, 6, 6, 6, 6, 6, 6, 6, 6, 6, 6, 6, 6, 6, 6, 6, 6, 6, 6, 6, 6, 9, 6, 6, 6, 6, 6, 6, 8, 6, 6, 6, 6, 6, 9, 6, 6, 6, 6, 6, 6, 6, 9, 8, 6, 6, 6, 6, 6, 6, 6, 6, 6, 6, 6, 6, 6, 6, 6, 6, 8, 6, 6, 6,\n",
            "        6, 6, 6, 6, 6, 6, 6, 6, 6, 6, 6, 6, 6, 6, 6, 6, 6, 8, 6, 6, 8, 6, 6, 6, 6, 6, 9, 9, 6, 8, 6, 6, 6, 6, 6, 6, 6, 6, 6, 6, 6, 6, 6, 6, 6, 6, 6, 6, 0, 6, 6, 6, 6, 6, 6, 6, 6, 6, 6, 6, 6, 2, 6, 6]) len = 256\n",
            "LABEL = tensor([6, 6, 6, 6, 6, 6, 6, 6, 6, 6, 6, 6, 6, 6, 6, 6, 6, 6, 6, 6, 6, 6, 6, 6, 6, 6, 6, 6, 6, 6, 6, 6, 6, 6, 6, 6, 6, 6, 6, 6, 6, 6, 6, 6, 6, 6, 6, 6, 6, 6, 6, 6, 6, 6, 6, 6, 6, 6, 6, 6, 6, 6, 6, 6,\n",
            "        6, 6, 6, 6, 6, 6, 6, 6, 6, 6, 6, 6, 6, 6, 6, 6, 6, 6, 6, 6, 6, 6, 6, 6, 6, 6, 6, 6, 6, 6, 6, 6, 6, 6, 6, 6, 6, 6, 6, 6, 6, 6, 6, 6, 6, 6, 6, 6, 6, 6, 6, 6, 6, 6, 6, 6, 6, 6, 6, 6, 6, 6, 6, 6,\n",
            "        6, 6, 6, 6, 6, 6, 6, 6, 6, 6, 6, 6, 6, 6, 6, 6, 6, 6, 6, 6, 6, 6, 6, 6, 6, 6, 6, 6, 6, 6, 6, 6, 6, 6, 6, 6, 6, 6, 6, 6, 6, 6, 6, 6, 6, 6, 6, 6, 6, 6, 6, 6, 6, 6, 6, 6, 6, 6, 6, 6, 6, 6, 6, 6,\n",
            "        6, 6, 6, 6, 6, 6, 6, 6, 6, 6, 6, 6, 6, 6, 6, 6, 6, 6, 6, 6, 6, 6, 6, 6, 6, 6, 6, 6, 6, 6, 6, 6, 6, 6, 6, 6, 6, 6, 6, 6, 6, 6, 6, 6, 6, 6, 6, 6, 6, 6, 6, 6, 6, 6, 6, 6, 6, 6, 6, 6, 6, 6, 6, 6])\n",
            " XB = tensor([[ -9.5223,  -9.9676,  13.4738,  ...,   2.0553,  10.0835,  19.3226],\n",
            "        [-11.7705,   2.7116,  10.0359,  ..., -11.6374,  14.5350,   2.8525],\n",
            "        [  7.4265,  -9.3917,   6.1867,  ..., -23.9482,  28.6468,  12.0798],\n",
            "        ...,\n",
            "        [-13.9330,  -4.0772,   3.4579,  ..., -10.7480,  17.6487,  26.9753],\n",
            "        [-15.8873,  -9.0540,   8.1484,  ...,  -4.9813,   7.7676,  17.0161],\n",
            "        [-18.0021,  -7.0585,  13.5201,  ..., -13.3528,  21.1473,  13.4556]], grad_fn=<AddBackward0>)\n",
            " SCORES = tensor([[3.5400e-27, 2.2678e-27, 3.4364e-17,  ..., 3.7767e-22, 1.1580e-18, 1.1917e-14],\n",
            "        [3.9924e-16, 7.7759e-10, 1.1793e-06,  ..., 4.5608e-16, 1.0607e-04, 8.9523e-10],\n",
            "        [1.1694e-10, 5.8067e-18, 3.3848e-11,  ..., 2.7676e-24, 1.9223e-01, 1.2271e-08],\n",
            "        ...,\n",
            "        [6.6482e-26, 1.2676e-21, 2.3739e-18,  ..., 1.6067e-24, 3.4549e-12, 3.8810e-08],\n",
            "        [7.1111e-26, 6.6008e-23, 1.9520e-15,  ..., 3.8759e-21, 1.3338e-15, 1.3858e-11],\n",
            "        [4.3668e-29, 2.4713e-24, 2.1384e-15,  ..., 4.5640e-27, 4.3907e-12, 2.0049e-15]], grad_fn=<SoftmaxBackward>)\n",
            "ARGMAX = tensor([6, 6, 6, 6, 6, 9, 6, 6, 6, 6, 6, 6, 6, 6, 6, 9, 8, 6, 6, 6, 6, 6, 6, 6, 8, 6, 6, 6, 6, 6, 6, 6, 6, 6, 6, 6, 6, 9, 6, 6, 6, 6, 6, 6, 6, 6, 6, 6, 6, 6, 8, 6, 6, 6, 6, 6, 6, 6, 6, 6, 6, 6, 6, 6,\n",
            "        6, 6, 6, 6, 6, 6, 6, 6, 6, 6, 6, 6, 6, 6, 6, 6, 6, 6, 6, 6, 6, 6, 6, 6, 6, 6, 6, 6, 6, 6, 6, 6, 6, 6, 6, 6, 6, 6, 6, 6, 6, 6, 6, 6, 6, 6, 6, 6, 6, 6, 6, 6, 6, 6, 6, 9, 6, 9, 6, 6, 6, 6, 6, 6,\n",
            "        6, 6, 6, 6, 6, 6, 6, 6, 6, 6, 6, 6, 6, 6, 6, 6, 6, 6, 6, 9, 6, 6, 6, 6, 6, 6, 9, 6, 9, 6, 6, 6, 9, 6, 9, 6, 6, 6, 6, 6, 6, 6, 6, 6, 6, 6, 6, 6, 6, 6, 6, 6, 6, 6, 9, 6, 6, 6, 6, 6, 6, 6, 6, 6,\n",
            "        6, 6, 6, 6, 6, 6, 6, 6, 8, 6, 6, 6, 6, 6, 6, 6, 6, 6, 6, 2, 6, 6, 6, 6, 9, 6, 6, 6, 6, 6, 6, 6, 6, 6, 6, 6, 6, 6, 6, 6, 6, 6, 6, 6, 6, 6, 6, 9, 6, 6, 9, 9, 8, 6, 6, 6, 6, 6, 9, 6, 6, 6, 6, 6]) len = 256\n",
            "LABEL = tensor([6, 6, 6, 6, 6, 6, 6, 6, 6, 6, 6, 6, 6, 6, 6, 6, 6, 6, 6, 6, 6, 6, 6, 6, 6, 6, 6, 6, 6, 6, 6, 6, 6, 6, 6, 6, 6, 6, 6, 6, 6, 6, 6, 6, 6, 6, 6, 6, 6, 6, 6, 6, 6, 6, 6, 6, 6, 6, 6, 6, 6, 6, 6, 6,\n",
            "        6, 6, 6, 6, 6, 6, 6, 6, 6, 6, 6, 6, 6, 6, 6, 6, 6, 6, 6, 6, 6, 6, 6, 6, 6, 6, 6, 6, 6, 6, 6, 6, 6, 6, 6, 6, 6, 6, 6, 6, 6, 6, 6, 6, 6, 6, 6, 6, 6, 6, 6, 6, 6, 6, 6, 6, 6, 6, 6, 6, 6, 6, 6, 6,\n",
            "        6, 6, 6, 6, 6, 6, 6, 6, 6, 6, 6, 6, 6, 6, 6, 6, 6, 6, 6, 6, 6, 6, 6, 6, 6, 6, 6, 6, 6, 6, 6, 6, 6, 6, 6, 6, 6, 6, 6, 6, 6, 6, 6, 6, 6, 6, 6, 6, 6, 6, 6, 6, 6, 6, 6, 6, 6, 6, 6, 6, 6, 6, 6, 6,\n",
            "        6, 6, 6, 6, 6, 6, 6, 6, 6, 6, 6, 6, 6, 6, 6, 6, 6, 6, 6, 6, 6, 6, 6, 6, 6, 6, 6, 6, 6, 6, 6, 6, 6, 6, 6, 6, 6, 6, 6, 6, 6, 6, 6, 6, 6, 6, 6, 6, 6, 6, 6, 6, 6, 6, 6, 6, 6, 6, 6, 6, 6, 6, 6, 6])\n",
            " XB = tensor([[  3.6236, -12.2067,  -5.6647,  ..., -13.6102,   9.6330,   7.8401],\n",
            "        [-28.4388,  -2.5475,  -1.5718,  ...,  -3.4539,  10.5593,  24.9424],\n",
            "        [-25.0095,  -0.7878,  -0.8200,  ..., -15.1262,  19.0373,  26.9874],\n",
            "        ...,\n",
            "        [-20.8114, -15.5567,  23.8561,  ...,  -3.7735,   5.9199,   3.7412],\n",
            "        [-11.9870, -12.2823,  11.6687,  ...,   3.2398,   3.2649,  19.7712],\n",
            "        [-28.2531, -16.0414,   2.7652,  ...,  -2.2323,   0.8203,  22.8570]], grad_fn=<AddBackward0>)\n",
            " SCORES = tensor([[8.4130e-18, 1.1219e-24, 7.7825e-22,  ..., 2.7569e-25, 3.4262e-15, 5.7039e-16],\n",
            "        [3.5962e-24, 6.3139e-13, 1.6750e-12,  ..., 2.5506e-13, 3.1081e-07, 5.4826e-01],\n",
            "        [1.3676e-30, 4.5215e-20, 4.3783e-20,  ..., 2.6805e-26, 1.8418e-11, 5.2229e-08],\n",
            "        ...,\n",
            "        [6.5455e-27, 1.2532e-24, 1.6397e-07,  ..., 1.6421e-19, 2.6619e-15, 3.0129e-16],\n",
            "        [1.1319e-18, 8.4252e-19, 2.1250e-08,  ..., 4.6425e-12, 4.7604e-12, 7.0185e-05],\n",
            "        [6.3425e-23, 1.2757e-17, 1.8765e-09,  ..., 1.2675e-11, 2.6833e-10, 9.9796e-01]], grad_fn=<SoftmaxBackward>)\n",
            "ARGMAX = tensor([6, 9, 6, 6, 6, 6, 6, 6, 6, 6, 6, 6, 6, 6, 6, 6, 6, 6, 6, 6, 6, 6, 6, 6, 6, 8, 9, 6, 6, 6, 6, 6, 6, 6, 6, 6, 6, 6, 6, 6, 6, 6, 6, 6, 6, 6, 6, 6, 6, 6, 6, 6, 6, 6, 6, 6, 6, 6, 6, 6, 6, 6, 6, 6,\n",
            "        6, 6, 6, 6, 6, 6, 6, 6, 6, 6, 6, 6, 6, 6, 6, 6, 6, 6, 6, 6, 6, 6, 6, 6, 6, 6, 6, 6, 6, 6, 6, 6, 6, 6, 6, 6, 6, 6, 6, 6, 6, 6, 6, 6, 6, 6, 6, 6, 6, 6, 6, 6, 6, 6, 6, 6, 6, 6, 6, 6, 6, 6, 6, 6,\n",
            "        6, 6, 6, 6, 6, 6, 6, 6, 6, 6, 6, 6, 6, 6, 6, 6, 6, 6, 6, 6, 6, 6, 6, 6, 6, 6, 6, 6, 6, 6, 6, 6, 6, 6, 6, 6, 6, 6, 6, 6, 6, 6, 6, 6, 6, 6, 6, 6, 6, 6, 6, 6, 6, 6, 6, 6, 6, 6, 8, 6, 6, 6, 6, 6,\n",
            "        6, 6, 6, 6, 6, 6, 6, 6, 6, 6, 6, 6, 6, 6, 6, 6, 6, 6, 6, 6, 6, 6, 6, 6, 6, 6, 6, 6, 6, 6, 6, 6, 6, 6, 6, 6, 6, 6, 6, 6, 6, 6, 6, 6, 6, 6, 6, 6, 6, 6, 6, 6, 6, 9, 6, 6, 6, 6, 6, 6, 6, 6, 6, 9]) len = 256\n",
            "LABEL = tensor([6, 6, 6, 6, 6, 6, 6, 6, 6, 6, 6, 6, 6, 6, 6, 6, 6, 6, 6, 6, 6, 6, 6, 6, 6, 6, 6, 6, 6, 6, 6, 6, 6, 6, 6, 6, 6, 6, 6, 6, 6, 6, 6, 6, 6, 6, 6, 6, 6, 6, 6, 6, 6, 6, 6, 6, 6, 6, 6, 6, 6, 6, 6, 6,\n",
            "        6, 6, 6, 6, 6, 6, 6, 6, 6, 6, 6, 6, 6, 6, 6, 6, 6, 6, 6, 6, 6, 6, 6, 6, 6, 6, 6, 6, 6, 6, 6, 6, 6, 6, 6, 6, 6, 6, 6, 6, 6, 6, 6, 6, 6, 6, 6, 6, 6, 6, 6, 6, 6, 6, 6, 6, 6, 6, 6, 6, 6, 6, 6, 6,\n",
            "        6, 6, 6, 6, 6, 6, 6, 6, 6, 6, 6, 6, 6, 6, 6, 6, 6, 6, 6, 6, 6, 6, 6, 6, 6, 6, 6, 6, 6, 6, 6, 6, 6, 6, 6, 6, 6, 6, 6, 6, 6, 6, 6, 6, 6, 6, 6, 6, 6, 6, 6, 6, 6, 6, 6, 6, 6, 6, 6, 6, 6, 6, 6, 6,\n",
            "        6, 6, 6, 6, 6, 6, 6, 6, 6, 6, 6, 6, 6, 6, 6, 6, 6, 6, 6, 6, 6, 6, 6, 6, 6, 6, 6, 6, 6, 6, 6, 6, 6, 6, 6, 6, 6, 6, 6, 6, 6, 6, 6, 6, 6, 6, 6, 6, 6, 6, 6, 6, 6, 6, 6, 6, 6, 6, 6, 6, 6, 6, 6, 6])\n",
            " XB = tensor([[-16.6828, -12.4643,  15.3803,  ...,  -8.0184,  16.0393,  14.9749],\n",
            "        [-21.3530, -10.1914,   4.4442,  ...,  -7.9905,   8.5091,  24.1431],\n",
            "        [-29.1381,  -5.7863,   8.4190,  ...,  -3.5147,   6.1204,  26.6613],\n",
            "        ...,\n",
            "        [-26.9895,   3.5549,   4.7550,  ...,  19.2601,   7.0282,  36.7711],\n",
            "        [ 12.0028, -17.6280, -24.3159,  ...,  25.1609,  -8.2689,  48.7030],\n",
            "        [  0.2777,  -2.9140,  -7.0972,  ...,  15.7990,   5.2159,  19.9210]], grad_fn=<AddBackward0>)\n",
            " SCORES = tensor([[4.6999e-24, 3.1928e-22, 3.9528e-10,  ..., 2.7225e-20, 7.6402e-10, 2.6354e-10],\n",
            "        [1.4889e-24, 1.0478e-19, 2.3793e-13,  ..., 9.4655e-19, 1.3862e-11, 8.5420e-05],\n",
            "        [2.0443e-25, 2.8322e-15, 4.1820e-09,  ..., 2.7458e-14, 4.1989e-10, 3.4988e-01],\n",
            "        ...,\n",
            "        [2.0376e-28, 3.7531e-15, 1.2462e-14,  ..., 2.4834e-08, 1.2101e-13, 1.0000e+00],\n",
            "        [1.1516e-16, 1.5590e-29, 1.9422e-32,  ..., 5.9677e-11, 1.8090e-25, 1.0000e+00],\n",
            "        [2.8974e-09, 1.1909e-10, 1.8161e-12,  ..., 1.5952e-02, 4.0427e-07, 9.8405e-01]], grad_fn=<SoftmaxBackward>)\n",
            "ARGMAX = tensor([6, 6, 6, 6, 6, 9, 6, 6, 6, 6, 6, 6, 6, 6, 9, 6, 6, 6, 6, 6, 6, 6, 6, 6, 6, 6, 6, 6, 6, 6, 6, 6, 6, 6, 6, 6, 0, 6, 6, 6, 6, 6, 6, 6, 6, 6, 6, 6, 6, 6, 6, 6, 6, 6, 6, 6, 6, 6, 6, 9, 6, 6, 6, 8,\n",
            "        6, 6, 6, 6, 6, 6, 6, 6, 6, 6, 6, 6, 6, 9, 9, 9, 9, 9, 9, 9, 9, 9, 9, 9, 9, 9, 9, 9, 7, 9, 9, 9, 9, 9, 9, 9, 9, 9, 9, 9, 9, 9, 9, 9, 7, 9, 9, 9, 7, 9, 2, 9, 8, 9, 9, 9, 9, 9, 9, 9, 9, 9, 7, 9,\n",
            "        9, 9, 9, 9, 9, 9, 9, 9, 9, 9, 9, 9, 9, 9, 9, 7, 9, 9, 9, 9, 9, 9, 9, 9, 9, 9, 9, 9, 7, 9, 9, 9, 9, 9, 9, 9, 9, 9, 9, 9, 3, 9, 9, 9, 9, 9, 9, 9, 9, 9, 9, 9, 9, 9, 9, 9, 9, 9, 9, 9, 9, 9, 9, 9,\n",
            "        9, 9, 9, 9, 9, 9, 9, 9, 9, 9, 7, 9, 9, 9, 9, 9, 9, 9, 9, 9, 9, 7, 9, 9, 9, 9, 9, 9, 9, 9, 9, 9, 9, 9, 7, 9, 9, 9, 9, 9, 9, 8, 9, 9, 9, 9, 9, 9, 9, 9, 9, 9, 7, 9, 9, 9, 9, 9, 9, 9, 9, 9, 9, 9]) len = 256\n",
            "LABEL = tensor([6, 6, 6, 6, 6, 6, 6, 6, 6, 6, 6, 6, 6, 6, 6, 6, 6, 6, 6, 6, 6, 6, 6, 6, 6, 6, 6, 6, 6, 6, 6, 6, 6, 6, 6, 6, 6, 6, 6, 6, 6, 6, 6, 6, 6, 6, 6, 6, 6, 6, 6, 6, 6, 6, 6, 6, 6, 6, 6, 6, 6, 6, 6, 6,\n",
            "        6, 6, 6, 6, 6, 6, 6, 6, 6, 6, 6, 6, 6, 7, 7, 7, 7, 7, 7, 7, 7, 7, 7, 7, 7, 7, 7, 7, 7, 7, 7, 7, 7, 7, 7, 7, 7, 7, 7, 7, 7, 7, 7, 7, 7, 7, 7, 7, 7, 7, 7, 7, 7, 7, 7, 7, 7, 7, 7, 7, 7, 7, 7, 7,\n",
            "        7, 7, 7, 7, 7, 7, 7, 7, 7, 7, 7, 7, 7, 7, 7, 7, 7, 7, 7, 7, 7, 7, 7, 7, 7, 7, 7, 7, 7, 7, 7, 7, 7, 7, 7, 7, 7, 7, 7, 7, 7, 7, 7, 7, 7, 7, 7, 7, 7, 7, 7, 7, 7, 7, 7, 7, 7, 7, 7, 7, 7, 7, 7, 7,\n",
            "        7, 7, 7, 7, 7, 7, 7, 7, 7, 7, 7, 7, 7, 7, 7, 7, 7, 7, 7, 7, 7, 7, 7, 7, 7, 7, 7, 7, 7, 7, 7, 7, 7, 7, 7, 7, 7, 7, 7, 7, 7, 7, 7, 7, 7, 7, 7, 7, 7, 7, 7, 7, 7, 7, 7, 7, 7, 7, 7, 7, 7, 7, 7, 7])\n",
            " XB = tensor([[ -9.5844, -10.2679,   3.3819,  ...,   9.1104,  -2.7528,  36.1766],\n",
            "        [ -4.2160,  -8.8931,  -6.4014,  ...,  23.3925,  -7.9140,  31.1814],\n",
            "        [-16.4925, -13.0221,   5.5059,  ...,  23.0276,   0.5614,  37.7108],\n",
            "        ...,\n",
            "        [ -4.8443,  -1.7810,   3.6620,  ...,  22.5919,   2.7913,  20.6595],\n",
            "        [ -1.4775, -10.8962,  -5.0675,  ...,  24.1696,  -9.7643,  25.1445],\n",
            "        [-25.2055,   8.0600,   5.2470,  ...,   6.4540,  16.9452,  22.3528]], grad_fn=<AddBackward0>)\n",
            " SCORES = tensor([[1.3373e-20, 6.7518e-21, 5.7206e-15,  ..., 1.7591e-12, 1.2393e-17, 1.0000e+00],\n",
            "        [4.2356e-16, 3.9416e-18, 4.7624e-17,  ..., 4.1412e-04, 1.0493e-17, 9.9959e-01],\n",
            "        [2.8829e-24, 9.2684e-23, 1.0318e-14,  ..., 4.1995e-07, 7.3489e-17, 1.0000e+00],\n",
            "        ...,\n",
            "        [8.3656e-13, 1.7901e-11, 4.1376e-09,  ..., 6.8847e-01, 1.7323e-09, 9.9686e-02],\n",
            "        [1.9916e-12, 1.6171e-16, 5.4967e-14,  ..., 2.7391e-01, 5.0151e-16, 7.2609e-01],\n",
            "        [2.2067e-21, 6.1769e-07, 3.7075e-08,  ..., 1.2396e-07, 4.4621e-03, 9.9551e-01]], grad_fn=<SoftmaxBackward>)\n",
            "ARGMAX = tensor([9, 9, 9, 9, 9, 9, 9, 9, 9, 9, 7, 9, 9, 9, 7, 9, 7, 9, 9, 9, 9, 9, 9, 9, 9, 9, 9, 9, 7, 7, 9, 9, 9, 9, 9, 9, 9, 9, 9, 9, 9, 9, 9, 9, 9, 9, 9, 9, 9, 9, 9, 9, 9, 9, 9, 9, 9, 7, 9, 9, 9, 9, 9, 9,\n",
            "        9, 9, 9, 9, 9, 9, 9, 9, 9, 9, 7, 9, 9, 9, 9, 9, 9, 9, 9, 9, 9, 9, 9, 7, 9, 9, 9, 9, 9, 9, 9, 9, 9, 7, 9, 9, 9, 7, 9, 9, 9, 9, 9, 7, 9, 9, 9, 9, 9, 7, 9, 9, 9, 9, 9, 9, 9, 9, 9, 9, 9, 9, 9, 9,\n",
            "        6, 9, 9, 9, 9, 9, 9, 9, 9, 9, 9, 9, 9, 9, 9, 9, 9, 9, 9, 9, 9, 7, 9, 9, 9, 9, 9, 9, 9, 9, 9, 9, 9, 7, 9, 7, 9, 9, 7, 9, 9, 9, 9, 9, 9, 9, 7, 9, 9, 9, 9, 9, 9, 9, 9, 9, 9, 9, 9, 9, 9, 9, 9, 9,\n",
            "        9, 9, 9, 9, 9, 9, 9, 9, 9, 9, 9, 9, 9, 9, 9, 9, 9, 9, 9, 9, 9, 9, 9, 7, 9, 9, 9, 9, 9, 9, 9, 9, 9, 7, 9, 7, 7, 9, 9, 9, 9, 9, 9, 9, 9, 9, 7, 9, 7, 9, 7, 9, 7, 9, 9, 9, 9, 9, 9, 9, 9, 7, 9, 9]) len = 256\n",
            "LABEL = tensor([7, 7, 7, 7, 7, 7, 7, 7, 7, 7, 7, 7, 7, 7, 7, 7, 7, 7, 7, 7, 7, 7, 7, 7, 7, 7, 7, 7, 7, 7, 7, 7, 7, 7, 7, 7, 7, 7, 7, 7, 7, 7, 7, 7, 7, 7, 7, 7, 7, 7, 7, 7, 7, 7, 7, 7, 7, 7, 7, 7, 7, 7, 7, 7,\n",
            "        7, 7, 7, 7, 7, 7, 7, 7, 7, 7, 7, 7, 7, 7, 7, 7, 7, 7, 7, 7, 7, 7, 7, 7, 7, 7, 7, 7, 7, 7, 7, 7, 7, 7, 7, 7, 7, 7, 7, 7, 7, 7, 7, 7, 7, 7, 7, 7, 7, 7, 7, 7, 7, 7, 7, 7, 7, 7, 7, 7, 7, 7, 7, 7,\n",
            "        7, 7, 7, 7, 7, 7, 7, 7, 7, 7, 7, 7, 7, 7, 7, 7, 7, 7, 7, 7, 7, 7, 7, 7, 7, 7, 7, 7, 7, 7, 7, 7, 7, 7, 7, 7, 7, 7, 7, 7, 7, 7, 7, 7, 7, 7, 7, 7, 7, 7, 7, 7, 7, 7, 7, 7, 7, 7, 7, 7, 7, 7, 7, 7,\n",
            "        7, 7, 7, 7, 7, 7, 7, 7, 7, 7, 7, 7, 7, 7, 7, 7, 7, 7, 7, 7, 7, 7, 7, 7, 7, 7, 7, 7, 7, 7, 7, 7, 7, 7, 7, 7, 7, 7, 7, 7, 7, 7, 7, 7, 7, 7, 7, 7, 7, 7, 7, 7, 7, 7, 7, 7, 7, 7, 7, 7, 7, 7, 7, 7])\n",
            " XB = tensor([[-14.6456,  -1.0367,   1.2722,  ...,  22.1052,  11.5732,  32.0059],\n",
            "        [-31.4556,   5.1572,  -3.3388,  ...,  23.2488,   5.1967,  37.9997],\n",
            "        [-11.1489,  -7.0698,  -9.6307,  ...,  33.2871,   2.8966,  37.3515],\n",
            "        ...,\n",
            "        [-10.4284,  -5.0065,  -8.5439,  ...,  25.4386,  -7.3475,  42.0386],\n",
            "        [-10.1715, -11.0569,   0.0574,  ...,  26.1886,  -5.8541,  47.1130],\n",
            "        [ -5.7306, -15.1794, -13.5828,  ...,  34.2987,   0.7869,  46.2077]], grad_fn=<AddBackward0>)\n",
            " SCORES = tensor([[5.4889e-21, 4.4644e-15, 4.4928e-14,  ..., 5.0139e-05, 1.3371e-09, 9.9995e-01],\n",
            "        [6.8535e-31, 5.4534e-15, 1.1140e-18,  ..., 3.9243e-07, 5.6730e-15, 1.0000e+00],\n",
            "        [8.4950e-22, 5.0198e-20, 3.8772e-21,  ..., 1.6884e-02, 1.0692e-15, 9.8312e-01],\n",
            "        ...,\n",
            "        [1.6363e-23, 3.7031e-21, 1.0772e-22,  ..., 6.1759e-08, 3.5637e-22, 1.0000e+00],\n",
            "        [1.3233e-25, 5.4590e-26, 3.6645e-21,  ..., 8.1776e-10, 9.9235e-24, 1.0000e+00],\n",
            "        [2.7762e-23, 2.1873e-27, 1.0797e-26,  ..., 6.7291e-06, 1.8793e-20, 9.9999e-01]], grad_fn=<SoftmaxBackward>)\n",
            "ARGMAX = tensor([9, 9, 9, 9, 9, 8, 9, 9, 9, 9, 9, 9, 7, 9, 9, 9, 9, 9, 9, 9, 9, 9, 9, 9, 9, 9, 9, 9, 9, 9, 9, 9, 9, 9, 7, 9, 9, 9, 9, 9, 9, 9, 7, 9, 9, 9, 9, 9, 9, 9, 9, 9, 9, 9, 9, 9, 9, 9, 9, 9, 9, 9, 9, 9,\n",
            "        9, 9, 9, 9, 9, 9, 9, 9, 9, 9, 9, 9, 9, 9, 9, 9, 9, 9, 9, 9, 9, 9, 9, 9, 9, 9, 9, 9, 9, 9, 9, 9, 9, 9, 9, 9, 9, 9, 9, 9, 9, 9, 9, 9, 9, 9, 9, 9, 9, 9, 9, 9, 9, 9, 9, 9, 9, 9, 9, 7, 9, 9, 9, 9,\n",
            "        9, 9, 9, 9, 9, 9, 9, 9, 9, 9, 9, 9, 9, 9, 9, 9, 9, 9, 9, 9, 9, 9, 9, 9, 9, 9, 9, 9, 9, 9, 9, 9, 9, 7, 7, 9, 9, 9, 7, 9, 9, 9, 9, 9, 9, 9, 9, 9, 9, 9, 9, 9, 9, 9, 9, 9, 9, 9, 9, 7, 9, 9, 9, 9,\n",
            "        9, 9, 9, 9, 9, 9, 9, 9, 7, 9, 9, 9, 9, 7, 9, 9, 9, 9, 9, 9, 9, 7, 9, 9, 9, 9, 9, 9, 9, 9, 9, 9, 9, 9, 9, 9, 9, 9, 9, 9, 9, 9, 9, 9, 9, 9, 9, 9, 9, 7, 9, 9, 7, 9, 9, 9, 7, 9, 9, 9, 9, 9, 9, 9]) len = 256\n",
            "LABEL = tensor([7, 7, 7, 7, 7, 7, 7, 7, 7, 7, 7, 7, 7, 7, 7, 7, 7, 7, 7, 7, 7, 7, 7, 7, 7, 7, 7, 7, 7, 7, 7, 7, 7, 7, 7, 7, 7, 7, 7, 7, 7, 7, 7, 7, 7, 7, 7, 7, 7, 7, 7, 7, 7, 7, 7, 7, 7, 7, 7, 7, 7, 7, 7, 7,\n",
            "        7, 7, 7, 7, 7, 7, 7, 7, 7, 7, 7, 7, 7, 7, 7, 7, 7, 7, 7, 7, 7, 7, 7, 7, 7, 7, 7, 7, 7, 7, 7, 7, 7, 7, 7, 7, 7, 7, 7, 7, 7, 7, 7, 7, 7, 7, 7, 7, 7, 7, 7, 7, 7, 7, 7, 7, 7, 7, 7, 7, 7, 7, 7, 7,\n",
            "        7, 7, 7, 7, 7, 7, 7, 7, 7, 7, 7, 7, 7, 7, 7, 7, 7, 7, 7, 7, 7, 7, 7, 7, 7, 7, 7, 7, 7, 7, 7, 7, 7, 7, 7, 7, 7, 7, 7, 7, 7, 7, 7, 7, 7, 7, 7, 7, 7, 7, 7, 7, 7, 7, 7, 7, 7, 7, 7, 7, 7, 7, 7, 7,\n",
            "        7, 7, 7, 7, 7, 7, 7, 7, 7, 7, 7, 7, 7, 7, 7, 7, 7, 7, 7, 7, 7, 7, 7, 7, 7, 7, 7, 7, 7, 7, 7, 7, 7, 7, 7, 7, 7, 7, 7, 7, 7, 7, 7, 7, 7, 7, 7, 7, 7, 7, 7, 7, 7, 7, 7, 7, 7, 7, 7, 7, 7, 7, 7, 7])\n",
            " XB = tensor([[ -9.2800,  -7.7955,  -1.0181,  ...,  27.1047,  -1.9456,  39.5330],\n",
            "        [-15.0444,  -3.0092,  -1.2816,  ...,  26.9767,  -3.4605,  44.3591],\n",
            "        [-13.4844, -15.1496,  -9.3808,  ...,  29.7254,  -0.8836,  50.1893],\n",
            "        ...,\n",
            "        [ -1.9522,  -4.4876,  -1.5534,  ...,  26.0972,  -7.2747,  38.0911],\n",
            "        [ -5.3604,  -7.8976,  -6.8516,  ...,  22.9100,  -4.9510,  22.9204],\n",
            "        [  0.2261,  -6.0048,  -2.6638,  ...,  28.2358,  -8.8671,  28.3349]], grad_fn=<AddBackward0>)\n",
            " SCORES = tensor([[6.3213e-22, 2.7892e-21, 2.4484e-18,  ..., 4.0037e-06, 9.6841e-19, 1.0000e+00],\n",
            "        [1.5900e-26, 2.6805e-21, 1.5082e-20,  ..., 2.8243e-08, 1.7069e-21, 1.0000e+00],\n",
            "        [2.2227e-28, 4.2043e-29, 1.3460e-26,  ..., 1.2961e-09, 6.5970e-23, 1.0000e+00],\n",
            "        ...,\n",
            "        [4.0685e-18, 3.2236e-19, 6.0623e-18,  ..., 6.1820e-06, 1.9857e-20, 9.9999e-01],\n",
            "        [2.6232e-13, 2.0747e-14, 5.9051e-14,  ..., 4.9720e-01, 3.9505e-13, 5.0236e-01],\n",
            "        [3.2544e-13, 6.4037e-16, 1.8088e-14,  ..., 4.7524e-01, 3.6587e-17, 5.2476e-01]], grad_fn=<SoftmaxBackward>)\n",
            "ARGMAX = tensor([9, 9, 9, 9, 9, 9, 9, 9, 9, 9, 9, 9, 9, 9, 9, 9, 9, 9, 9, 9, 9, 9, 9, 9, 9, 9, 9, 9, 9, 9, 9, 9, 9, 8, 9, 9, 9, 9, 9, 9, 9, 9, 9, 9, 9, 9, 9, 9, 9, 9, 9, 9, 9, 9, 9, 9, 9, 9, 9, 9, 9, 9, 9, 9,\n",
            "        9, 7, 9, 9, 9, 9, 9, 9, 9, 9, 9, 9, 9, 9, 9, 9, 9, 9, 9, 9, 9, 9, 9, 9, 9, 9, 9, 9, 9, 9, 9, 9, 9, 9, 9, 9, 7, 9, 9, 9, 9, 9, 9, 9, 9, 9, 9, 9, 9, 9, 9, 9, 9, 9, 9, 9, 9, 9, 9, 9, 7, 9, 7, 9,\n",
            "        9, 7, 7, 9, 9, 9, 7, 9, 9, 9, 9, 9, 9, 9, 9, 9, 9, 9, 9, 9, 9, 9, 9, 9, 9, 9, 9, 9, 9, 9, 9, 9, 9, 9, 9, 9, 9, 7, 9, 9, 9, 9, 9, 9, 9, 9, 9, 9, 9, 9, 9, 9, 9, 9, 9, 9, 9, 9, 9, 9, 9, 9, 9, 7,\n",
            "        9, 9, 9, 9, 9, 9, 9, 9, 9, 9, 9, 9, 9, 9, 9, 9, 9, 9, 9, 9, 9, 9, 9, 9, 8, 9, 9, 9, 9, 9, 9, 9, 9, 9, 9, 9, 9, 9, 9, 9, 9, 9, 9, 9, 9, 9, 9, 9, 9, 9, 9, 9, 9, 9, 7, 9, 9, 9, 9, 9, 9, 9, 9, 9]) len = 256\n",
            "LABEL = tensor([7, 7, 7, 7, 7, 7, 7, 7, 7, 7, 7, 7, 7, 7, 7, 7, 7, 7, 7, 7, 7, 7, 7, 7, 7, 7, 7, 7, 7, 7, 7, 7, 7, 7, 7, 7, 7, 7, 7, 7, 7, 7, 7, 7, 7, 7, 7, 7, 7, 7, 7, 7, 7, 7, 7, 7, 7, 7, 7, 7, 7, 7, 7, 7,\n",
            "        7, 7, 7, 7, 7, 7, 7, 7, 7, 7, 7, 7, 7, 7, 7, 7, 7, 7, 7, 7, 7, 7, 7, 7, 7, 7, 7, 7, 7, 7, 7, 7, 7, 7, 7, 7, 7, 7, 7, 7, 7, 7, 7, 7, 7, 7, 7, 7, 7, 7, 7, 7, 7, 7, 7, 7, 7, 7, 7, 7, 7, 7, 7, 7,\n",
            "        7, 7, 7, 7, 7, 7, 7, 7, 7, 7, 7, 7, 7, 7, 7, 7, 7, 7, 7, 7, 7, 7, 7, 7, 7, 7, 7, 7, 7, 7, 7, 7, 7, 7, 7, 7, 7, 7, 7, 7, 7, 7, 7, 7, 7, 7, 7, 7, 7, 7, 7, 7, 7, 7, 7, 7, 7, 7, 7, 7, 7, 7, 7, 7,\n",
            "        7, 7, 7, 7, 7, 7, 7, 7, 7, 7, 7, 7, 7, 7, 7, 7, 7, 7, 7, 7, 7, 7, 7, 7, 7, 7, 7, 7, 7, 7, 7, 7, 7, 7, 7, 7, 7, 7, 7, 7, 7, 7, 7, 7, 7, 7, 7, 7, 7, 7, 7, 7, 7, 7, 7, 7, 7, 7, 7, 7, 7, 7, 7, 7])\n",
            " XB = tensor([[ -0.2304,  -5.6922,  -5.0779,  ...,  29.2256,  -5.9184,  26.3273],\n",
            "        [ -3.0559,  -2.8037,   0.1489,  ...,  22.3359,  -6.5222,  36.6636],\n",
            "        [ -8.9919, -15.2548, -22.6833,  ...,  36.5492, -13.7343,  52.5497],\n",
            "        ...,\n",
            "        [-19.2391,  -2.9646,  -6.6976,  ..., -15.6356,  36.2399,  32.3068],\n",
            "        [-14.4310,  -1.6390,   4.4724,  ..., -22.8681,  29.7934,  21.7036],\n",
            "        [-27.0960,   5.9109,  14.0120,  ...,  -2.2640,  26.1743,   4.6184]], grad_fn=<AddBackward0>)\n",
            " SCORES = tensor([[1.5279e-13, 6.4879e-16, 1.1992e-15,  ..., 9.4776e-01, 5.1740e-16, 5.2237e-02],\n",
            "        [5.6234e-18, 7.2368e-18, 1.3863e-16,  ..., 5.9913e-07, 1.7564e-19, 1.0000e+00],\n",
            "        [1.8741e-27, 3.5716e-30, 2.1219e-33,  ..., 1.1248e-07, 1.6338e-29, 1.0000e+00],\n",
            "        ...,\n",
            "        [7.8946e-25, 9.2316e-18, 2.2083e-19,  ..., 2.8994e-23, 9.8079e-01, 1.9206e-02],\n",
            "        [6.2154e-20, 2.2334e-14, 1.0072e-11,  ..., 1.3468e-23, 9.9969e-01, 3.0657e-04],\n",
            "        [7.3282e-24, 1.5839e-09, 5.2235e-06,  ..., 4.4609e-13, 9.9999e-01, 4.3492e-10]], grad_fn=<SoftmaxBackward>)\n",
            "ARGMAX = tensor([7, 9, 9, 9, 9, 9, 9, 9, 9, 9, 9, 7, 9, 9, 9, 9, 7, 9, 9, 9, 7, 9, 9, 9, 9, 9, 9, 9, 9, 9, 9, 9, 9, 9, 7, 9, 9, 9, 9, 9, 9, 9, 9, 9, 9, 9, 9, 9, 9, 9, 9, 9, 9, 9, 9, 9, 9, 9, 9, 9, 9, 9, 9, 9,\n",
            "        9, 9, 9, 9, 9, 9, 9, 9, 9, 9, 9, 9, 9, 9, 9, 9, 9, 9, 8, 9, 9, 3, 9, 9, 8, 8, 8, 9, 8, 8, 9, 9, 9, 8, 9, 9, 8, 8, 8, 8, 8, 8, 8, 8, 9, 9, 9, 9, 8, 9, 9, 8, 8, 8, 8, 8, 8, 8, 8, 9, 9, 8, 8, 8,\n",
            "        9, 9, 8, 9, 8, 8, 8, 8, 8, 8, 8, 9, 8, 9, 8, 8, 9, 8, 9, 9, 8, 9, 9, 8, 9, 8, 9, 8, 8, 9, 8, 8, 0, 8, 8, 8, 8, 6, 9, 5, 9, 8, 8, 9, 9, 8, 8, 9, 9, 8, 8, 8, 9, 8, 9, 8, 8, 8, 8, 8, 8, 8, 9, 8,\n",
            "        9, 8, 9, 9, 9, 8, 8, 9, 8, 8, 8, 8, 8, 9, 9, 9, 8, 8, 8, 8, 8, 8, 9, 9, 9, 8, 9, 9, 9, 8, 8, 9, 0, 9, 8, 8, 8, 8, 9, 9, 8, 9, 8, 9, 5, 9, 8, 9, 9, 9, 8, 8, 9, 9, 9, 8, 8, 9, 9, 8, 8, 8, 8, 8]) len = 256\n",
            "LABEL = tensor([7, 7, 7, 7, 7, 7, 7, 7, 7, 7, 7, 7, 7, 7, 7, 7, 7, 7, 7, 7, 7, 7, 7, 7, 7, 7, 7, 7, 7, 7, 7, 7, 7, 7, 7, 7, 7, 7, 7, 7, 7, 7, 7, 7, 7, 7, 7, 7, 7, 7, 7, 7, 7, 7, 7, 7, 7, 7, 7, 7, 7, 7, 7, 7,\n",
            "        7, 7, 7, 7, 7, 7, 7, 7, 7, 7, 7, 7, 7, 7, 7, 7, 7, 8, 8, 8, 8, 8, 8, 8, 8, 8, 8, 8, 8, 8, 8, 8, 8, 8, 8, 8, 8, 8, 8, 8, 8, 8, 8, 8, 8, 8, 8, 8, 8, 8, 8, 8, 8, 8, 8, 8, 8, 8, 8, 8, 8, 8, 8, 8,\n",
            "        8, 8, 8, 8, 8, 8, 8, 8, 8, 8, 8, 8, 8, 8, 8, 8, 8, 8, 8, 8, 8, 8, 8, 8, 8, 8, 8, 8, 8, 8, 8, 8, 8, 8, 8, 8, 8, 8, 8, 8, 8, 8, 8, 8, 8, 8, 8, 8, 8, 8, 8, 8, 8, 8, 8, 8, 8, 8, 8, 8, 8, 8, 8, 8,\n",
            "        8, 8, 8, 8, 8, 8, 8, 8, 8, 8, 8, 8, 8, 8, 8, 8, 8, 8, 8, 8, 8, 8, 8, 8, 8, 8, 8, 8, 8, 8, 8, 8, 8, 8, 8, 8, 8, 8, 8, 8, 8, 8, 8, 8, 8, 8, 8, 8, 8, 8, 8, 8, 8, 8, 8, 8, 8, 8, 8, 8, 8, 8, 8, 8])\n",
            " XB = tensor([[ -2.0294,  -3.4098,  11.9369,  ..., -25.6928,  32.8516,  30.9825],\n",
            "        [-15.3512,  -4.4999,  -8.0171,  ...,  -4.9568,  47.3368,  36.6907],\n",
            "        [ -9.7344,   7.3853,  -3.0789,  ...,  -5.7786,  19.4166,  11.8143],\n",
            "        ...,\n",
            "        [-13.7071,  -2.6662,  -1.4728,  ...,  -6.6398,  22.3527,  -3.0780],\n",
            "        [ -8.6762,  -9.3556,   1.4065,  ..., -18.1521,  27.4581,  35.6497],\n",
            "        [-22.9576,   0.7642,  -4.3505,  ...,   3.8835,  27.1355,  11.6331]], grad_fn=<AddBackward0>)\n",
            " SCORES = tensor([[6.1528e-16, 1.5473e-16, 7.1543e-10,  ..., 3.2522e-26, 8.6636e-01, 1.3364e-01],\n",
            "        [5.9561e-28, 3.0732e-23, 9.1226e-25,  ..., 1.9462e-23, 9.9998e-01, 2.3794e-05],\n",
            "        [2.1859e-13, 5.9518e-06, 1.6986e-10,  ..., 1.1419e-11, 9.9949e-01, 4.9906e-04],\n",
            "        ...,\n",
            "        [2.5070e-18, 1.5638e-13, 5.1575e-13,  ..., 2.9407e-15, 1.1475e-02, 1.0359e-13],\n",
            "        [5.6154e-20, 2.8465e-20, 1.3434e-15,  ..., 4.3060e-24, 2.7688e-04, 9.9972e-01],\n",
            "        [1.7573e-22, 3.5243e-12, 2.1175e-14,  ..., 7.9757e-11, 1.0000e+00, 1.8509e-07]], grad_fn=<SoftmaxBackward>)\n",
            "ARGMAX = tensor([8, 8, 8, 8, 9, 8, 8, 8, 8, 8, 9, 9, 8, 9, 9, 8, 9, 8, 8, 8, 8, 8, 8, 9, 8, 9, 8, 9, 8, 9, 8, 8, 9, 9, 9, 9, 9, 9, 8, 8, 9, 8, 9, 8, 8, 8, 8, 9, 8, 8, 9, 9, 8, 8, 8, 8, 9, 8, 8, 9, 8, 3, 9, 8,\n",
            "        8, 9, 9, 8, 9, 9, 9, 9, 8, 8, 8, 8, 9, 8, 8, 8, 8, 9, 8, 9, 8, 9, 9, 9, 9, 9, 9, 8, 8, 8, 8, 8, 8, 8, 8, 9, 9, 8, 8, 9, 8, 8, 8, 9, 9, 9, 8, 9, 8, 8, 9, 8, 8, 9, 9, 9, 8, 8, 9, 8, 8, 8, 8, 9,\n",
            "        8, 9, 9, 9, 9, 8, 8, 8, 9, 8, 8, 8, 9, 9, 9, 8, 9, 8, 9, 9, 9, 9, 9, 8, 8, 9, 8, 8, 8, 8, 8, 8, 8, 9, 8, 8, 9, 9, 9, 9, 9, 8, 8, 8, 8, 9, 9, 8, 8, 9, 8, 8, 9, 9, 9, 8, 8, 9, 8, 9, 9, 8, 8, 8,\n",
            "        9, 9, 9, 9, 8, 8, 8, 8, 9, 8, 9, 8, 8, 8, 9, 8, 9, 9, 9, 9, 8, 8, 8, 9, 9, 9, 9, 8, 8, 8, 8, 8, 9, 8, 9, 8, 9, 8, 8, 9, 8, 8, 8, 8, 8, 8, 9, 0, 8, 9, 8, 9, 8, 8, 8, 8, 9, 8, 9, 9, 9, 6, 9, 8]) len = 256\n",
            "LABEL = tensor([8, 8, 8, 8, 8, 8, 8, 8, 8, 8, 8, 8, 8, 8, 8, 8, 8, 8, 8, 8, 8, 8, 8, 8, 8, 8, 8, 8, 8, 8, 8, 8, 8, 8, 8, 8, 8, 8, 8, 8, 8, 8, 8, 8, 8, 8, 8, 8, 8, 8, 8, 8, 8, 8, 8, 8, 8, 8, 8, 8, 8, 8, 8, 8,\n",
            "        8, 8, 8, 8, 8, 8, 8, 8, 8, 8, 8, 8, 8, 8, 8, 8, 8, 8, 8, 8, 8, 8, 8, 8, 8, 8, 8, 8, 8, 8, 8, 8, 8, 8, 8, 8, 8, 8, 8, 8, 8, 8, 8, 8, 8, 8, 8, 8, 8, 8, 8, 8, 8, 8, 8, 8, 8, 8, 8, 8, 8, 8, 8, 8,\n",
            "        8, 8, 8, 8, 8, 8, 8, 8, 8, 8, 8, 8, 8, 8, 8, 8, 8, 8, 8, 8, 8, 8, 8, 8, 8, 8, 8, 8, 8, 8, 8, 8, 8, 8, 8, 8, 8, 8, 8, 8, 8, 8, 8, 8, 8, 8, 8, 8, 8, 8, 8, 8, 8, 8, 8, 8, 8, 8, 8, 8, 8, 8, 8, 8,\n",
            "        8, 8, 8, 8, 8, 8, 8, 8, 8, 8, 8, 8, 8, 8, 8, 8, 8, 8, 8, 8, 8, 8, 8, 8, 8, 8, 8, 8, 8, 8, 8, 8, 8, 8, 8, 8, 8, 8, 8, 8, 8, 8, 8, 8, 8, 8, 8, 8, 8, 8, 8, 8, 8, 8, 8, 8, 8, 8, 8, 8, 8, 8, 8, 8])\n",
            " XB = tensor([[-16.5496,   3.1668,   0.9807,  ...,  -8.3749,  13.6924,  22.5031],\n",
            "        [  3.8247, -20.8429,   1.1174,  ..., -16.1278,  15.2727,  24.3701],\n",
            "        [-17.7050,  -9.8301, -10.1352,  ...,  -6.8514,   1.7597,  53.4905],\n",
            "        ...,\n",
            "        [-12.3136, -11.3241, -10.2025,  ..., -25.5463,  25.9230,  28.3261],\n",
            "        [-12.3432,   3.5632,   4.2425,  ...,  16.3044,  27.8871,  45.2272],\n",
            "        [ -4.0266,  -8.7203, -20.4748,  ..., -14.5434,  16.9934,  33.9174]], grad_fn=<AddBackward0>)\n",
            " SCORES = tensor([[1.0954e-17, 4.0020e-09, 4.4962e-10,  ..., 3.8885e-14, 1.4911e-04, 9.9985e-01],\n",
            "        [1.1780e-09, 2.2811e-20, 7.8589e-11,  ..., 2.5461e-18, 1.1039e-04, 9.8605e-01],\n",
            "        [1.2027e-31, 3.1639e-28, 2.3317e-28,  ..., 6.2204e-27, 3.4166e-23, 1.0000e+00],\n",
            "        ...,\n",
            "        [2.0549e-18, 5.5274e-18, 1.6968e-17,  ..., 3.6804e-24, 8.2937e-02, 9.1706e-01],\n",
            "        [9.9424e-26, 8.0462e-19, 1.5870e-18,  ..., 2.7480e-13, 2.9466e-08, 1.0000e+00],\n",
            "        [3.3201e-17, 3.0389e-19, 2.3867e-24,  ..., 8.9898e-22, 4.4670e-08, 1.0000e+00]], grad_fn=<SoftmaxBackward>)\n",
            "ARGMAX = tensor([9, 9, 9, 8, 9, 9, 8, 8, 8, 8, 8, 8, 8, 8, 8, 8, 9, 8, 8, 8, 8, 8, 8, 9, 9, 8, 8, 8, 8, 8, 8, 8, 8, 9, 8, 9, 9, 9, 8, 9, 9, 8, 9, 9, 9, 8, 9, 8, 9, 9, 9, 9, 9, 4, 8, 8, 9, 9, 9, 8, 8, 9, 9, 8,\n",
            "        9, 9, 8, 8, 9, 9, 8, 9, 8, 6, 8, 8, 8, 8, 8, 8, 8, 8, 8, 8, 8, 9, 9, 8, 8, 8, 9, 8, 8, 8, 8, 8, 8, 8, 8, 8, 8, 8, 8, 8, 8, 8, 8, 8, 9, 9, 9, 9, 9, 9, 9, 9, 9, 8, 9, 8, 9, 9, 9, 9, 9, 8, 8, 8,\n",
            "        8, 8, 8, 9, 8, 8, 8, 8, 8, 8, 8, 8, 9, 8, 8, 8, 8, 8, 9, 8, 8, 8, 8, 8, 8, 8, 8, 8, 6, 8, 8, 8, 8, 9, 8, 8, 8, 8, 9, 8, 8, 8, 8, 8, 8, 8, 9, 9, 9, 8, 9, 8, 9, 8, 9, 8, 9, 9, 9, 9, 8, 8, 8, 8,\n",
            "        8, 8, 8, 8, 8, 8, 6, 8, 9, 8, 8, 8, 8, 9, 9, 9, 8, 8, 9, 8, 8, 9, 9, 9, 9, 9, 9, 8, 9, 8, 8, 9, 8, 8, 8, 9, 8, 8, 8, 8, 9, 8, 8, 9, 8, 8, 8, 9, 9, 9, 8, 9, 9, 8, 9, 8, 9, 9, 9, 9, 8, 9, 9, 9]) len = 256\n",
            "LABEL = tensor([8, 8, 8, 8, 8, 8, 8, 8, 8, 8, 8, 8, 8, 8, 8, 8, 8, 8, 8, 8, 8, 8, 8, 8, 8, 8, 8, 8, 8, 8, 8, 8, 8, 8, 8, 8, 8, 8, 8, 8, 8, 8, 8, 8, 8, 8, 8, 8, 8, 8, 8, 8, 8, 8, 8, 8, 8, 8, 8, 8, 8, 8, 8, 8,\n",
            "        8, 8, 8, 8, 8, 8, 8, 8, 8, 8, 8, 8, 8, 8, 8, 8, 8, 8, 8, 8, 8, 8, 8, 8, 8, 8, 8, 8, 8, 8, 8, 8, 8, 8, 8, 8, 8, 8, 8, 8, 8, 8, 8, 8, 8, 8, 8, 8, 8, 8, 8, 8, 8, 8, 8, 8, 8, 8, 8, 8, 8, 8, 8, 8,\n",
            "        8, 8, 8, 8, 8, 8, 8, 8, 8, 8, 8, 8, 8, 8, 8, 8, 8, 8, 8, 8, 8, 8, 8, 8, 8, 8, 8, 8, 8, 8, 8, 8, 8, 8, 8, 8, 8, 8, 8, 8, 8, 8, 8, 8, 8, 8, 8, 8, 8, 8, 8, 8, 8, 8, 8, 8, 8, 8, 8, 8, 8, 8, 8, 8,\n",
            "        8, 8, 8, 8, 8, 8, 8, 8, 8, 8, 8, 8, 8, 8, 8, 8, 8, 8, 8, 8, 8, 8, 8, 8, 8, 8, 8, 8, 8, 8, 8, 8, 8, 8, 8, 8, 8, 8, 8, 8, 8, 8, 8, 8, 8, 8, 8, 8, 8, 8, 8, 8, 8, 8, 8, 8, 8, 8, 8, 8, 8, 8, 8, 8])\n",
            " XB = tensor([[-18.0240,   5.8608,   4.8666,  ...,  -3.2000,  31.8270,  13.6738],\n",
            "        [-18.1919, -17.1070,   4.0327,  ..., -25.9982,  29.8171,  20.5658],\n",
            "        [-14.0146,  -7.1048,   0.1105,  ..., -21.3696,  34.0788,  29.3783],\n",
            "        ...,\n",
            "        [-17.1230,   1.8621,  -7.6140,  ..., -16.5804,  29.8986,  15.6932],\n",
            "        [-21.1613,  -7.1339, -11.8159,  ..., -14.8108,  16.6516,  22.4214],\n",
            "        [-19.1191,  -5.8938,  -6.8286,  ...,  -9.5119,  23.5793,  24.0681]], grad_fn=<AddBackward0>)\n",
            " SCORES = tensor([[2.2387e-22, 5.2848e-12, 1.9554e-12,  ..., 6.1371e-16, 1.0000e+00, 1.3066e-08],\n",
            "        [1.4123e-21, 4.1793e-21, 6.3378e-12,  ..., 5.7501e-25, 9.9990e-01, 9.5981e-05],\n",
            "        [1.2863e-21, 1.2890e-18, 1.7530e-15,  ..., 8.2246e-25, 9.9099e-01, 9.0080e-03],\n",
            "        ...,\n",
            "        [3.7912e-21, 6.6669e-13, 5.1109e-17,  ..., 6.5229e-21, 1.0000e+00, 6.7716e-07],\n",
            "        [1.1774e-19, 1.4553e-13, 1.3477e-15,  ..., 6.7436e-17, 3.1106e-03, 9.9689e-01],\n",
            "        [1.0872e-19, 6.0255e-14, 2.3661e-14,  ..., 1.6169e-15, 3.8017e-01, 6.1983e-01]], grad_fn=<SoftmaxBackward>)\n",
            "ARGMAX = tensor([8, 8, 8, 8, 8, 9, 9, 8, 8, 8, 8, 9, 9, 8, 8, 8, 8, 8, 8, 8, 8, 8, 8, 8, 8, 9, 9, 8, 9, 8, 9, 9, 8, 9, 8, 8, 8, 8, 8, 8, 8, 8, 8, 8, 9, 8, 8, 8, 8, 8, 8, 8, 9, 8, 9, 8, 8, 8, 8, 8, 8, 9, 8, 9,\n",
            "        8, 9, 8, 9, 9, 9, 8, 8, 8, 8, 9, 9, 9, 9, 9, 8, 9, 8, 8, 8, 9, 9, 9, 9, 8, 9, 8, 9, 9, 8, 8, 8, 8, 8, 8, 8, 8, 9, 8, 8, 8, 8, 8, 9, 8, 9, 9, 9, 9, 9, 8, 9, 9, 8, 8, 9, 9, 6, 8, 8, 8, 9, 9, 8,\n",
            "        8, 8, 9, 8, 8, 8, 9, 8, 8, 9, 9, 8, 8, 8, 8, 8, 8, 8, 9, 8, 9, 9, 8, 8, 9, 9, 8, 9, 9, 9, 9, 8, 8, 8, 9, 9, 9, 8, 8, 8, 8, 8, 8, 8, 8, 8, 8, 8, 9, 8, 9, 8, 9, 8, 9, 8, 8, 8, 9, 8, 8, 9, 8, 9,\n",
            "        9, 8, 9, 9, 8, 9, 8, 8, 8, 8, 8, 9, 8, 8, 8, 8, 9, 8, 9, 8, 8, 8, 9, 9, 9, 8, 8, 8, 8, 9, 8, 8, 8, 8, 8, 9, 8, 9, 9, 8, 8, 8, 9, 8, 9, 8, 8, 8, 8, 8, 8, 8, 9, 8, 8, 9, 8, 8, 8, 9, 8, 8, 9, 9]) len = 256\n",
            "LABEL = tensor([8, 8, 8, 8, 8, 8, 8, 8, 8, 8, 8, 8, 8, 8, 8, 8, 8, 8, 8, 8, 8, 8, 8, 8, 8, 8, 8, 8, 8, 8, 8, 8, 8, 8, 8, 8, 8, 8, 8, 8, 8, 8, 8, 8, 8, 8, 8, 8, 8, 8, 8, 8, 8, 8, 8, 8, 8, 8, 8, 8, 8, 8, 8, 8,\n",
            "        8, 8, 8, 8, 8, 8, 8, 8, 8, 8, 8, 8, 8, 8, 8, 8, 8, 8, 8, 8, 8, 8, 8, 8, 8, 8, 8, 8, 8, 8, 8, 8, 8, 8, 8, 8, 8, 8, 8, 8, 8, 8, 8, 8, 8, 8, 8, 8, 8, 8, 8, 8, 8, 8, 8, 8, 8, 8, 8, 8, 8, 8, 8, 8,\n",
            "        8, 8, 8, 8, 8, 8, 8, 8, 8, 8, 8, 8, 8, 8, 8, 8, 8, 8, 8, 8, 8, 8, 8, 8, 8, 8, 8, 8, 8, 8, 8, 8, 8, 8, 8, 8, 8, 8, 8, 8, 8, 8, 8, 8, 8, 8, 8, 8, 8, 8, 8, 8, 8, 8, 8, 8, 8, 8, 8, 8, 8, 8, 8, 8,\n",
            "        8, 8, 8, 8, 8, 8, 8, 8, 8, 8, 8, 8, 8, 8, 8, 8, 8, 8, 8, 8, 8, 8, 8, 8, 8, 8, 8, 8, 8, 8, 8, 8, 8, 8, 8, 8, 8, 8, 8, 8, 8, 8, 8, 8, 8, 8, 8, 8, 8, 8, 8, 8, 8, 8, 8, 8, 8, 8, 8, 8, 8, 8, 8, 8])\n",
            " XB = tensor([[-6.4218e+00,  1.2551e+01, -8.3899e+00,  ..., -9.9787e+00,  2.6833e+01,  1.0118e+01],\n",
            "        [-8.7328e+00,  6.1673e+00,  1.2936e-01,  ..., -1.2337e+01,  3.4051e+01,  1.2097e+01],\n",
            "        [-1.3796e+01, -3.3144e+00, -1.6799e+01,  ..., -1.0305e+01,  1.7287e+01,  1.4570e+01],\n",
            "        ...,\n",
            "        [-8.0579e+00, -1.8907e-01,  5.0811e+00,  ...,  2.3064e+00,  3.2717e+00,  3.7081e+01],\n",
            "        [-1.4908e+01, -3.6972e+00, -3.5675e-02,  ...,  5.7633e-01, -4.8192e+00,  4.6782e+01],\n",
            "        [-9.2316e+00, -1.8598e+01, -4.3051e+00,  ..., -2.4611e+00, -8.1900e+00,  4.1178e+01]], grad_fn=<AddBackward0>)\n",
            " SCORES = tensor([[3.5992e-15, 6.2535e-07, 5.0292e-16,  ..., 1.0267e-16, 9.9685e-01, 5.4856e-08],\n",
            "        [2.6246e-19, 7.7643e-13, 1.8529e-15,  ..., 7.1410e-21, 1.0000e+00, 2.9205e-10],\n",
            "        [8.8764e-15, 3.1654e-10, 4.4048e-16,  ..., 2.9132e-13, 2.8016e-01, 1.8509e-02],\n",
            "        ...,\n",
            "        [2.4903e-20, 6.5111e-17, 1.2660e-14,  ..., 7.8966e-16, 2.0733e-15, 1.0000e+00],\n",
            "        [1.6172e-27, 1.1949e-22, 4.6509e-21,  ..., 8.5769e-21, 3.8913e-23, 1.0000e+00],\n",
            "        [1.2803e-22, 1.0951e-26, 1.7654e-20,  ..., 1.1160e-19, 3.6278e-22, 1.0000e+00]], grad_fn=<SoftmaxBackward>)\n",
            "ARGMAX = tensor([8, 8, 5, 8, 8, 0, 8, 1, 8, 8, 8, 8, 8, 8, 8, 8, 8, 9, 8, 6, 8, 8, 8, 8, 8, 8, 9, 9, 8, 9, 8, 9, 9, 9, 9, 9, 9, 9, 9, 9, 9, 9, 9, 9, 9, 9, 9, 9, 9, 9, 9, 9, 9, 9, 9, 9, 9, 9, 9, 8, 9, 9, 9, 9,\n",
            "        9, 9, 9, 9, 9, 9, 9, 9, 9, 9, 9, 9, 9, 9, 9, 9, 9, 9, 9, 9, 9, 9, 9, 9, 9, 9, 9, 9, 9, 9, 9, 9, 9, 9, 9, 9, 9, 9, 9, 9, 9, 9, 9, 9, 9, 9, 9, 9, 9, 9, 9, 9, 9, 9, 9, 9, 9, 9, 9, 9, 9, 9, 9, 9,\n",
            "        9, 9, 9, 9, 9, 9, 9, 9, 9, 9, 8, 9, 9, 9, 9, 9, 9, 9, 9, 9, 9, 9, 9, 9, 9, 9, 9, 9, 9, 9, 9, 9, 9, 9, 9, 9, 9, 9, 9, 9, 9, 9, 9, 9, 9, 6, 9, 9, 9, 9, 9, 9, 9, 9, 9, 9, 9, 9, 9, 9, 9, 9, 9, 9,\n",
            "        9, 9, 9, 9, 9, 9, 9, 9, 9, 9, 9, 9, 9, 9, 9, 9, 9, 9, 9, 9, 9, 9, 9, 9, 9, 9, 9, 9, 9, 9, 9, 9, 9, 9, 9, 9, 9, 9, 9, 9, 9, 9, 9, 9, 9, 9, 9, 9, 9, 9, 9, 9, 9, 9, 9, 9, 9, 9, 9, 9, 9, 9, 9, 9]) len = 256\n",
            "LABEL = tensor([8, 8, 8, 8, 8, 8, 8, 8, 8, 8, 8, 8, 8, 8, 8, 8, 8, 8, 8, 8, 8, 8, 8, 8, 8, 8, 8, 8, 8, 8, 8, 9, 9, 9, 9, 9, 9, 9, 9, 9, 9, 9, 9, 9, 9, 9, 9, 9, 9, 9, 9, 9, 9, 9, 9, 9, 9, 9, 9, 9, 9, 9, 9, 9,\n",
            "        9, 9, 9, 9, 9, 9, 9, 9, 9, 9, 9, 9, 9, 9, 9, 9, 9, 9, 9, 9, 9, 9, 9, 9, 9, 9, 9, 9, 9, 9, 9, 9, 9, 9, 9, 9, 9, 9, 9, 9, 9, 9, 9, 9, 9, 9, 9, 9, 9, 9, 9, 9, 9, 9, 9, 9, 9, 9, 9, 9, 9, 9, 9, 9,\n",
            "        9, 9, 9, 9, 9, 9, 9, 9, 9, 9, 9, 9, 9, 9, 9, 9, 9, 9, 9, 9, 9, 9, 9, 9, 9, 9, 9, 9, 9, 9, 9, 9, 9, 9, 9, 9, 9, 9, 9, 9, 9, 9, 9, 9, 9, 9, 9, 9, 9, 9, 9, 9, 9, 9, 9, 9, 9, 9, 9, 9, 9, 9, 9, 9,\n",
            "        9, 9, 9, 9, 9, 9, 9, 9, 9, 9, 9, 9, 9, 9, 9, 9, 9, 9, 9, 9, 9, 9, 9, 9, 9, 9, 9, 9, 9, 9, 9, 9, 9, 9, 9, 9, 9, 9, 9, 9, 9, 9, 9, 9, 9, 9, 9, 9, 9, 9, 9, 9, 9, 9, 9, 9, 9, 9, 9, 9, 9, 9, 9, 9])\n",
            " XB = tensor([[  3.1754,  -1.5862,  -5.1142,  ...,  10.2005,  -8.6762,  30.2310],\n",
            "        [-24.2255,  -6.3143,  -5.3107,  ...,  -5.2438,  -4.0454,  53.0511],\n",
            "        [-14.2783,  -4.5111,   3.5799,  ...,  -4.5154,   4.4747,  39.6862],\n",
            "        ...,\n",
            "        [  2.9000, -13.4257,  -1.0148,  ...,  -0.9695,  -6.4479,  47.9724],\n",
            "        [-11.0591, -14.6930, -21.5743,  ...,  -2.1322, -13.4562,  59.4210],\n",
            "        [ -2.7625, -16.2091, -14.4703,  ...,   3.4948, -15.9345,  61.0787]], grad_fn=<AddBackward0>)\n",
            " SCORES = tensor([[1.7779e-12, 1.5205e-14, 4.4646e-16,  ..., 1.9992e-09, 1.2671e-17, 1.0000e+00],\n",
            "        [2.7492e-34, 1.6517e-26, 4.5062e-26,  ..., 4.8177e-26, 1.5970e-25, 1.0000e+00],\n",
            "        [3.6602e-24, 6.3880e-20, 2.0855e-16,  ..., 6.3603e-20, 5.1030e-16, 1.0000e+00],\n",
            "        ...,\n",
            "        [2.6627e-20, 2.1635e-27, 5.3109e-22,  ..., 5.5570e-22, 2.3205e-24, 1.0000e+00],\n",
            "        [2.4596e-31, 6.4968e-33, 6.6708e-36,  ..., 1.8525e-27, 2.2377e-32, 1.0000e+00],\n",
            "        [1.8799e-28, 2.7185e-34, 1.5471e-33,  ..., 9.8094e-26, 3.5777e-34, 1.0000e+00]], grad_fn=<SoftmaxBackward>)\n",
            "ARGMAX = tensor([9, 9, 9, 9, 9, 9, 9, 9, 9, 9, 9, 9, 9, 9, 9, 9, 9, 9, 9, 9, 9, 9, 9, 9, 9, 9, 9, 9, 9, 9, 9, 9, 9, 9, 9, 9, 9, 9, 9, 9, 9, 9, 9, 9, 9, 9, 9, 9, 9, 9, 9, 9, 9, 9, 9, 8, 9, 9, 9, 9, 9, 9, 9, 9,\n",
            "        9, 9, 9, 9, 9, 9, 9, 9, 9, 9, 9, 9, 9, 9, 9, 9, 9, 9, 9, 9, 9, 9, 9, 9, 9, 9, 9, 9, 9, 9, 9, 9, 9, 9, 9, 9, 9, 9, 9, 9, 9, 9, 9, 9, 9, 9, 9, 9, 9, 9, 9, 9, 9, 9, 9, 9, 9, 9, 9, 9, 9, 9, 9, 9,\n",
            "        9, 9, 9, 9, 9, 9, 9, 9, 9, 9, 9, 9, 9, 9, 9, 9, 9, 9, 9, 9, 9, 9, 9, 9, 9, 9, 9, 9, 9, 9, 9, 9, 9, 9, 9, 9, 9, 9, 9, 9, 9, 9, 9, 9, 9, 9, 9, 9, 9, 9, 9, 9, 9, 9, 9, 9, 9, 9, 9, 9, 9, 9, 9, 9,\n",
            "        9, 9, 9, 9, 9, 9, 9, 9, 9, 9, 9, 9, 9, 9, 9, 9, 9, 9, 9, 9, 9, 9, 9, 9, 9, 9, 9, 9, 9, 9, 9, 9, 9, 9, 9, 9, 9, 9, 9, 9, 9, 9, 9, 9, 9, 9, 9, 9, 9, 9, 9, 9, 9, 9, 9, 9, 9, 9, 9, 9, 9, 9, 9, 9]) len = 256\n",
            "LABEL = tensor([9, 9, 9, 9, 9, 9, 9, 9, 9, 9, 9, 9, 9, 9, 9, 9, 9, 9, 9, 9, 9, 9, 9, 9, 9, 9, 9, 9, 9, 9, 9, 9, 9, 9, 9, 9, 9, 9, 9, 9, 9, 9, 9, 9, 9, 9, 9, 9, 9, 9, 9, 9, 9, 9, 9, 9, 9, 9, 9, 9, 9, 9, 9, 9,\n",
            "        9, 9, 9, 9, 9, 9, 9, 9, 9, 9, 9, 9, 9, 9, 9, 9, 9, 9, 9, 9, 9, 9, 9, 9, 9, 9, 9, 9, 9, 9, 9, 9, 9, 9, 9, 9, 9, 9, 9, 9, 9, 9, 9, 9, 9, 9, 9, 9, 9, 9, 9, 9, 9, 9, 9, 9, 9, 9, 9, 9, 9, 9, 9, 9,\n",
            "        9, 9, 9, 9, 9, 9, 9, 9, 9, 9, 9, 9, 9, 9, 9, 9, 9, 9, 9, 9, 9, 9, 9, 9, 9, 9, 9, 9, 9, 9, 9, 9, 9, 9, 9, 9, 9, 9, 9, 9, 9, 9, 9, 9, 9, 9, 9, 9, 9, 9, 9, 9, 9, 9, 9, 9, 9, 9, 9, 9, 9, 9, 9, 9,\n",
            "        9, 9, 9, 9, 9, 9, 9, 9, 9, 9, 9, 9, 9, 9, 9, 9, 9, 9, 9, 9, 9, 9, 9, 9, 9, 9, 9, 9, 9, 9, 9, 9, 9, 9, 9, 9, 9, 9, 9, 9, 9, 9, 9, 9, 9, 9, 9, 9, 9, 9, 9, 9, 9, 9, 9, 9, 9, 9, 9, 9, 9, 9, 9, 9])\n",
            " XB = tensor([[ -5.9344, -17.8924, -23.5040,  ...,   5.6758, -10.8686,  44.7126],\n",
            "        [-10.6295, -18.5157, -20.1372,  ...,   8.6315, -12.4517,  62.3106],\n",
            "        [ -4.3196, -11.3203,  -3.8557,  ...,   1.7460,  -4.4572,  45.1929],\n",
            "        ...,\n",
            "        [-12.5281,  -0.1969, -14.3729,  ...,   1.3952,  -3.0101,  56.9834],\n",
            "        [-11.3655,   1.4331, -20.2337,  ...,   6.7956,  -2.4994,  50.8616],\n",
            "        [-14.9029,   2.7837, -18.6663,  ...,   4.5911,   0.4085,  46.7310]], grad_fn=<AddBackward0>)\n",
            " SCORES = tensor([[1.0099e-22, 6.4710e-28, 2.3653e-30,  ..., 1.1130e-17, 7.2675e-25, 1.0000e+00],\n",
            "        [2.1014e-32, 7.8995e-36, 1.5609e-36,  ..., 4.8693e-24, 3.3973e-33, 1.0000e+00],\n",
            "        [3.1405e-22, 2.8618e-25, 4.9943e-22,  ..., 1.3529e-19, 2.7366e-22, 1.0000e+00],\n",
            "        ...,\n",
            "        [6.4796e-31, 1.4686e-25, 1.0241e-31,  ..., 7.2167e-25, 8.8135e-27, 1.0000e+00],\n",
            "        [9.4434e-28, 3.4158e-22, 1.3295e-31,  ..., 7.2839e-20, 6.6928e-24, 1.0000e+00],\n",
            "        [1.7088e-27, 8.2019e-20, 3.9656e-29,  ..., 4.9985e-19, 7.6271e-21, 1.0000e+00]], grad_fn=<SoftmaxBackward>)\n",
            "ARGMAX = tensor([9, 9, 9, 9, 9, 9, 9, 9, 9, 9, 9, 9, 9, 9, 9, 9, 9, 9, 9, 9, 9, 9, 9, 9, 9, 9, 9, 9, 9, 9, 9, 9, 9, 9, 9, 9, 9, 9, 9, 9, 9, 9, 9, 9, 9, 9, 9, 9, 9, 9, 9, 9, 9, 9, 9, 9, 9, 9, 9, 9, 9, 9, 9, 9,\n",
            "        9, 9, 9, 9, 9, 9, 9, 9, 9, 9, 9, 9, 9, 9, 9, 9, 9, 9, 9, 9, 9, 9, 9, 9, 9, 9, 9, 9, 9, 9, 9, 9, 9, 9, 9, 9, 9, 9, 9, 9, 9, 9, 9, 9, 9, 9, 9, 9, 9, 9, 9, 9, 9, 9, 9, 9, 9, 9, 9, 9, 9, 9, 9, 9,\n",
            "        9, 9, 9, 9, 9, 9, 9, 9, 9, 9, 9, 9, 9, 9, 9, 9, 9, 9, 9, 9, 9, 9, 9, 9, 9, 5, 9, 9, 9, 9, 9, 9, 9, 9, 9, 9, 9, 9, 9, 9, 9, 9, 9, 9, 9, 9, 9, 9, 9, 9, 9, 9, 9, 9, 9, 9, 9, 9, 9, 9, 9, 9, 9, 9,\n",
            "        9, 9, 9, 9, 9, 9, 9, 9, 9, 9, 9, 9, 9, 9, 9, 9, 9, 9, 9, 9, 9, 9, 9, 9, 9, 9, 9, 9, 9, 9, 9, 9, 9, 9, 9, 9, 9, 9, 9, 9, 9, 9, 9, 9, 9, 9, 9, 9, 9, 9, 9, 9, 9, 9, 9, 9, 9, 9, 9, 9, 9, 9, 9, 9]) len = 256\n",
            "LABEL = tensor([9, 9, 9, 9, 9, 9, 9, 9, 9, 9, 9, 9, 9, 9, 9, 9, 9, 9, 9, 9, 9, 9, 9, 9, 9, 9, 9, 9, 9, 9, 9, 9, 9, 9, 9, 9, 9, 9, 9, 9, 9, 9, 9, 9, 9, 9, 9, 9, 9, 9, 9, 9, 9, 9, 9, 9, 9, 9, 9, 9, 9, 9, 9, 9,\n",
            "        9, 9, 9, 9, 9, 9, 9, 9, 9, 9, 9, 9, 9, 9, 9, 9, 9, 9, 9, 9, 9, 9, 9, 9, 9, 9, 9, 9, 9, 9, 9, 9, 9, 9, 9, 9, 9, 9, 9, 9, 9, 9, 9, 9, 9, 9, 9, 9, 9, 9, 9, 9, 9, 9, 9, 9, 9, 9, 9, 9, 9, 9, 9, 9,\n",
            "        9, 9, 9, 9, 9, 9, 9, 9, 9, 9, 9, 9, 9, 9, 9, 9, 9, 9, 9, 9, 9, 9, 9, 9, 9, 9, 9, 9, 9, 9, 9, 9, 9, 9, 9, 9, 9, 9, 9, 9, 9, 9, 9, 9, 9, 9, 9, 9, 9, 9, 9, 9, 9, 9, 9, 9, 9, 9, 9, 9, 9, 9, 9, 9,\n",
            "        9, 9, 9, 9, 9, 9, 9, 9, 9, 9, 9, 9, 9, 9, 9, 9, 9, 9, 9, 9, 9, 9, 9, 9, 9, 9, 9, 9, 9, 9, 9, 9, 9, 9, 9, 9, 9, 9, 9, 9, 9, 9, 9, 9, 9, 9, 9, 9, 9, 9, 9, 9, 9, 9, 9, 9, 9, 9, 9, 9, 9, 9, 9, 9])\n",
            " XB = tensor([[-11.3840,  -5.4701, -13.6788,  ...,  -2.9368,  -0.1845,  37.3572],\n",
            "        [-18.0935,   2.4402,  -5.5198,  ...,  -6.0102,   8.3734,  36.6906],\n",
            "        [ -8.4033, -22.5563, -34.4313,  ...,   2.1440,  -5.4003,  36.7925],\n",
            "        ...,\n",
            "        [-16.1866,   2.0576,  -7.1380,  ...,  10.7179,  -2.5796,  52.8894],\n",
            "        [-13.9809,  -6.6113, -11.8213,  ...,  -4.9858,  -5.1722,  45.0891],\n",
            "        [-12.9063,  -2.6120, -15.5113,  ...,  13.5417,  -6.4013,  29.7867]], grad_fn=<AddBackward0>)\n",
            " SCORES = tensor([[6.7921e-22, 2.5141e-19, 6.8446e-23,  ..., 3.1664e-18, 4.9646e-17, 1.0000e+00],\n",
            "        [1.6128e-24, 1.3344e-15, 4.6586e-19,  ..., 2.8530e-19, 5.0349e-13, 1.0000e+00],\n",
            "        [2.3534e-20, 1.6793e-26, 1.1691e-31,  ..., 8.9603e-16, 4.7414e-19, 1.0000e+00],\n",
            "        ...,\n",
            "        [1.0015e-30, 8.3954e-23, 8.5200e-27,  ..., 4.8433e-19, 8.1304e-25, 1.0000e+00],\n",
            "        [2.2192e-26, 3.5220e-23, 1.9236e-25,  ..., 1.7894e-22, 1.4852e-22, 1.0000e+00],\n",
            "        [2.8752e-19, 8.5002e-15, 2.1247e-20,  ..., 8.8078e-08, 1.9220e-16, 9.9995e-01]], grad_fn=<SoftmaxBackward>)\n",
            "ARGMAX = tensor([9, 9, 9, 9, 9, 9, 9, 9, 9, 9, 9, 9, 9, 9, 9, 9, 9, 9, 9, 9, 9, 9, 9, 9, 9, 9, 9, 9, 9, 9, 9, 9, 9, 9, 9, 9, 9, 9, 9, 9, 9, 9, 9, 9, 9, 9, 9, 9, 9, 9, 9, 9, 9, 9, 9, 9, 9, 9, 9, 9, 9, 9, 9, 9,\n",
            "        9, 9, 9, 9, 9, 9, 9, 9, 9, 9, 9, 9, 9, 9, 9, 9, 9, 9, 9, 9, 9, 9, 9, 9, 9, 9, 9, 9, 9, 9, 9, 9, 9, 9, 9, 9, 9, 9, 9, 9, 9, 9, 9, 9, 9, 9, 9, 9, 9, 9, 9, 9, 9, 9, 9, 9, 9, 9, 9, 9, 9, 9, 9, 9,\n",
            "        9, 9, 9, 9, 9, 9, 9, 9, 9, 9, 9, 9, 9, 9, 9, 9, 9, 9, 9, 9, 9, 9, 9, 9, 9, 9, 9, 9, 9, 9, 9, 9, 9, 9, 9, 9, 9, 9, 9, 9, 9, 9, 9, 9, 9, 9, 9, 9, 9, 9, 9, 9, 9, 9, 9, 9, 9, 9, 9, 9, 9, 9, 9, 9,\n",
            "        9, 9, 9, 9, 9, 9, 9, 9, 9, 9, 9, 9, 9, 9, 9, 9, 9, 9, 9, 9, 9, 9, 9, 9, 9, 9, 9, 9, 9, 9, 9, 9, 9, 9, 9, 9, 9, 9, 9, 9, 9, 9, 9, 9, 9, 9, 9, 9, 9, 9, 9, 9, 9, 9, 9, 9, 9, 9, 9, 9, 9, 9, 9, 9]) len = 256\n",
            "LABEL = tensor([9, 9, 9, 9, 9, 9, 9, 9, 9, 9, 9, 9, 9, 9, 9, 9, 9, 9, 9, 9, 9, 9, 9, 9, 9, 9, 9, 9, 9, 9, 9, 9, 9, 9, 9, 9, 9, 9, 9, 9, 9, 9, 9, 9, 9, 9, 9, 9, 9, 9, 9, 9, 9, 9, 9, 9, 9, 9, 9, 9, 9, 9, 9, 9,\n",
            "        9, 9, 9, 9, 9, 9, 9, 9, 9, 9, 9, 9, 9, 9, 9, 9, 9, 9, 9, 9, 9, 9, 9, 9, 9, 9, 9, 9, 9, 9, 9, 9, 9, 9, 9, 9, 9, 9, 9, 9, 9, 9, 9, 9, 9, 9, 9, 9, 9, 9, 9, 9, 9, 9, 9, 9, 9, 9, 9, 9, 9, 9, 9, 9,\n",
            "        9, 9, 9, 9, 9, 9, 9, 9, 9, 9, 9, 9, 9, 9, 9, 9, 9, 9, 9, 9, 9, 9, 9, 9, 9, 9, 9, 9, 9, 9, 9, 9, 9, 9, 9, 9, 9, 9, 9, 9, 9, 9, 9, 9, 9, 9, 9, 9, 9, 9, 9, 9, 9, 9, 9, 9, 9, 9, 9, 9, 9, 9, 9, 9,\n",
            "        9, 9, 9, 9, 9, 9, 9, 9, 9, 9, 9, 9, 9, 9, 9, 9, 9, 9, 9, 9, 9, 9, 9, 9, 9, 9, 9, 9, 9, 9, 9, 9, 9, 9, 9, 9, 9, 9, 9, 9, 9, 9, 9, 9, 9, 9, 9, 9, 9, 9, 9, 9, 9, 9, 9, 9, 9, 9, 9, 9, 9, 9, 9, 9])\n",
            " XB = tensor([[ -5.3336,  -4.2341, -13.0494, -10.5305,   8.4081,   3.7014,  -5.4441,   4.9561,  -6.6484,  54.5256],\n",
            "        [ -7.3568,   0.9003,   1.3793, -17.5705,   5.0326, -15.0462,   9.3504,  -2.5617,  10.2547,  37.8129],\n",
            "        [ -8.5392,  -0.1298, -12.5655,  -7.1539,   6.8052,   2.0366,  -5.8863,   2.3618,  -4.9010,  33.9653],\n",
            "        [-14.9694,   3.1250, -15.1881,  -5.8767,  11.0652,   5.2804,  -4.3042,   5.9786,   6.1735,  24.8752],\n",
            "        [  1.9472, -10.3153,  -2.7382, -17.4870,  12.4015, -11.8700,   6.5674,  -0.6958,   5.2589,  23.0270],\n",
            "        [  1.0522, -13.6437,  -8.4547,  -6.4630,   9.7840, -10.1169,   1.6769,   7.0643,   1.8781,  26.0743],\n",
            "        [-18.6373, -17.3500,   0.1327,  -9.0348,  11.4338, -21.4155,  -5.2581,   7.8217,  -5.0088,  57.9078],\n",
            "        [-15.8861, -17.5652, -18.5975, -12.5687,   9.0357,   1.7353,  -5.5136,  -8.3060,  -4.1525,  42.4726],\n",
            "        [ -1.0800, -16.0751,  -2.4163, -19.2540,   6.8884, -12.9856,   5.0289,  -3.0690,  -3.5679,  36.6888],\n",
            "        [-16.6061, -12.6898,  -8.9752,  -2.0325,  10.5277,   0.1878,  -2.6294,   7.9490,  -5.6255,  36.5678],\n",
            "        [ -1.9093, -14.4609,  -4.3279, -26.7238,   8.2797,   7.8323,  -5.1590,  10.4001,  -8.3519,  36.5497],\n",
            "        [  1.8403, -18.9016,   6.9059,  -9.2846,   3.6745, -14.8308,   5.8754,   8.8889,  -7.0007,  44.1012],\n",
            "        [ -3.8418,  -7.0970, -16.0628, -20.8105,  12.7612,   1.2555,  -9.7895,   2.3802, -11.5185,  56.5305],\n",
            "        [  2.4363,  -6.1780,  -7.6117, -30.2630,   7.9401,  -7.0712,  -2.6456,  -1.8309,  -5.9424,  47.7376],\n",
            "        [ -9.5675,  -9.2419,  -4.6484, -10.5050,  11.0120,  -5.1955,  -5.5410,   9.8745, -11.9331,  33.7344],\n",
            "        [  0.8174, -22.4206, -15.1695, -24.8288,  15.5978, -13.3949,   0.2774,  -0.8044, -17.0721,  52.2467]], grad_fn=<AddBackward0>)\n",
            " SCORES = tensor([[1.0080e-26, 3.0267e-26, 4.4931e-30, 5.5783e-29, 9.3636e-21, 8.4595e-23, 9.0256e-27, 2.9666e-22, 2.7069e-27, 1.0000e+00],\n",
            "        [2.4157e-20, 9.3119e-17, 1.5034e-16, 8.8572e-25, 5.8036e-15, 1.1055e-23, 4.3537e-13, 2.9208e-18, 1.0755e-12, 1.0000e+00],\n",
            "        [3.4717e-19, 1.5584e-15, 6.1934e-21, 1.3873e-18, 1.6015e-12, 1.3600e-14, 4.9281e-18, 1.8827e-14, 1.3200e-17, 1.0000e+00],\n",
            "        [4.9628e-18, 3.5811e-10, 3.9881e-18, 4.4122e-14, 1.0056e-06, 3.0910e-09, 2.1260e-13, 6.2132e-09, 7.5501e-09, 1.0000e+00],\n",
            "        [7.0008e-10, 3.3086e-15, 6.4615e-12, 2.5410e-18, 2.4290e-05, 6.9893e-16, 7.1074e-08, 4.9811e-11, 1.9205e-08, 9.9998e-01],\n",
            "        [1.3584e-11, 5.6323e-18, 1.0099e-15, 7.3997e-15, 8.4178e-08, 1.9158e-16, 2.5370e-11, 5.5468e-09, 3.1026e-11, 1.0000e+00],\n",
            "        [5.7129e-34, 2.0697e-33, 8.1020e-26, 8.4561e-30, 6.5549e-21, 3.5508e-35, 3.6929e-28, 1.7696e-22, 4.7385e-28, 1.0000e+00],\n",
            "        [4.5201e-26, 8.4319e-27, 3.0034e-27, 1.2471e-24, 3.0098e-15, 2.0324e-18, 1.4451e-21, 8.8540e-23, 5.6360e-21, 1.0000e+00],\n",
            "        [3.9555e-17, 1.2160e-23, 1.0395e-17, 5.0622e-25, 1.1424e-13, 2.6709e-22, 1.7793e-14, 5.4124e-18, 3.2863e-18, 1.0000e+00],\n",
            "        [8.0701e-24, 4.0526e-22, 1.6631e-20, 1.7224e-17, 4.9083e-12, 1.5863e-16, 9.4817e-18, 3.7243e-13, 4.7390e-19, 1.0000e+00],\n",
            "        [1.9837e-17, 7.0208e-23, 1.7664e-18, 3.3163e-28, 5.2783e-13, 3.3745e-13, 7.6939e-19, 4.3991e-12, 3.1584e-20, 1.0000e+00],\n",
            "        [4.4294e-19, 4.3474e-28, 7.0190e-17, 6.5291e-24, 2.7727e-18, 2.5479e-26, 2.5047e-17, 5.0991e-16, 6.4081e-23, 1.0000e+00],\n",
            "        [6.0345e-27, 2.3277e-28, 2.9726e-32, 2.5775e-34, 9.8002e-20, 9.8714e-25, 1.5762e-29, 3.0394e-24, 2.7970e-30, 1.0000e+00],\n",
            "        [2.1180e-20, 3.8438e-24, 9.1645e-25, 1.3328e-34, 5.2019e-18, 1.5735e-24, 1.3148e-22, 2.9696e-22, 4.8650e-24, 1.0000e+00],\n",
            "        [1.5638e-19, 2.1657e-19, 2.1406e-17, 6.1240e-20, 1.3544e-10, 1.2386e-17, 8.7680e-18, 4.3426e-11, 1.4684e-20, 1.0000e+00],\n",
            "        [4.6192e-23, 3.7363e-33, 5.2664e-30, 3.3616e-34, 1.2122e-16, 3.1062e-29, 2.6917e-23, 9.1244e-24, 7.8572e-31, 1.0000e+00]], grad_fn=<SoftmaxBackward>)\n",
            "ARGMAX = tensor([9, 9, 9, 9, 9, 9, 9, 9, 9, 9, 9, 9, 9, 9, 9, 9]) len = 16\n",
            "LABEL = tensor([9, 9, 9, 9, 9, 9, 9, 9, 9, 9, 9, 9, 9, 9, 9, 9])\n"
          ],
          "name": "stdout"
        },
        {
          "output_type": "execute_result",
          "data": {
            "text/plain": [
              "0.5094"
            ]
          },
          "metadata": {
            "tags": []
          },
          "execution_count": 34
        }
      ]
    },
    {
      "cell_type": "code",
      "metadata": {
        "id": "YVb7z0T9ynRT",
        "colab": {
          "base_uri": "https://localhost:8080/"
        },
        "outputId": "4dbcee96-34b0-4d3a-ca50-d5a5d2e2af82"
      },
      "source": [
        "train_model(linear1, 20)"
      ],
      "execution_count": 20,
      "outputs": [
        {
          "output_type": "stream",
          "text": [
            "Loss: 1.1368932723999023\n",
            "Accuracy: 0.2582\n",
            "Loss: 0.5502617359161377\n",
            "Accuracy: 0.2812\n",
            "Loss: 0.39715373516082764\n",
            "Accuracy: 0.3349\n",
            "Loss: 0.3519817292690277\n",
            "Accuracy: 0.3755\n",
            "Loss: 0.323694109916687\n",
            "Accuracy: 0.4091\n",
            "Loss: 0.305554062128067\n",
            "Accuracy: 0.4286\n",
            "Loss: 0.29184842109680176\n",
            "Accuracy: 0.4418\n",
            "Loss: 0.27974575757980347\n",
            "Accuracy: 0.4519\n",
            "Loss: 0.2693098783493042\n",
            "Accuracy: 0.4601\n",
            "Loss: 0.2599692642688751\n",
            "Accuracy: 0.4683\n",
            "Loss: 0.251607209444046\n",
            "Accuracy: 0.4736\n",
            "Loss: 0.24423149228096008\n",
            "Accuracy: 0.4811\n",
            "Loss: 0.23770566284656525\n",
            "Accuracy: 0.4863\n",
            "Loss: 0.2319006323814392\n",
            "Accuracy: 0.4907\n",
            "Loss: 0.22666724026203156\n",
            "Accuracy: 0.495\n",
            "Loss: 0.22190704941749573\n",
            "Accuracy: 0.4981\n",
            "Loss: 0.2175595909357071\n",
            "Accuracy: 0.5015\n",
            "Loss: 0.21358345448970795\n",
            "Accuracy: 0.504\n",
            "Loss: 0.20994223654270172\n",
            "Accuracy: 0.5066\n",
            "Loss: 0.2065952569246292\n",
            "Accuracy: 0.5094\n"
          ],
          "name": "stdout"
        }
      ]
    },
    {
      "cell_type": "code",
      "metadata": {
        "id": "iT_X-dJAI-T1",
        "outputId": "af61d14a-3629-4b01-ba94-649cd47004c2",
        "colab": {
          "base_uri": "https://localhost:8080/"
        }
      },
      "source": [
        "# Print weight and bias after training\n",
        "w, b"
      ],
      "execution_count": 22,
      "outputs": [
        {
          "output_type": "execute_result",
          "data": {
            "text/plain": [
              "(tensor([[ 1.9269,  1.4873,  0.9007,  ..., -1.6047, -0.7521,  1.6487],\n",
              "         [-0.3925, -1.4036, -0.7279,  ..., -0.1596, -0.4974,  0.4396],\n",
              "         [-0.7581,  1.0783,  0.8008,  ...,  1.3347, -0.2316,  0.0418],\n",
              "         ...,\n",
              "         [-0.0560, -0.4547,  1.2942,  ...,  1.1133,  2.1901,  0.3531],\n",
              "         [ 0.4474,  0.7192, -1.9300,  ..., -0.8714,  0.2235,  0.2528],\n",
              "         [ 0.2169,  0.4700,  0.3268,  ...,  0.0470,  0.5487, -1.9951]], requires_grad=True),\n",
              " tensor([-0.5247,  0.7532,  1.2962, -0.8335,  0.3063,  5.2543,  0.7062,  2.5766, -2.2327,  1.1580], requires_grad=True))"
            ]
          },
          "metadata": {
            "tags": []
          },
          "execution_count": 22
        }
      ]
    }
  ]
}