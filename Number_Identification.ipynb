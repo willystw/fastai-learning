{
  "nbformat": 4,
  "nbformat_minor": 0,
  "metadata": {
    "kernelspec": {
      "display_name": "Python 3",
      "language": "python",
      "name": "python3"
    },
    "language_info": {
      "codemirror_mode": {
        "name": "ipython",
        "version": 3
      },
      "file_extension": ".py",
      "mimetype": "text/x-python",
      "name": "python",
      "nbconvert_exporter": "python",
      "pygments_lexer": "ipython3",
      "version": "3.8.6"
    },
    "colab": {
      "name": "Number Identification.ipynb",
      "provenance": [],
      "include_colab_link": true
    },
    "accelerator": "GPU"
  },
  "cells": [
    {
      "cell_type": "markdown",
      "metadata": {
        "id": "view-in-github",
        "colab_type": "text"
      },
      "source": [
        "<a href=\"https://colab.research.google.com/github/willystw/fastai-learning/blob/mnist-identification/Number_Identification.ipynb\" target=\"_parent\"><img src=\"https://colab.research.google.com/assets/colab-badge.svg\" alt=\"Open In Colab\"/></a>"
      ]
    },
    {
      "cell_type": "markdown",
      "metadata": {
        "gradient": {
          "editing": false
        },
        "id": "e77_7tlwNPFO"
      },
      "source": [
        "## Initialization\n",
        "\n",
        "The application uses fastai & pytorch library"
      ]
    },
    {
      "cell_type": "code",
      "metadata": {
        "gradient": {
          "editing": false
        },
        "colab": {
          "base_uri": "https://localhost:8080/"
        },
        "id": "UCwd3W_hNPFQ",
        "outputId": "5ff68033-5361-480a-c9b8-175df076b7a3"
      },
      "source": [
        "#hide\n",
        "!pip install -Uqq fastbook\n",
        "import fastbook\n",
        "fastbook.setup_book()"
      ],
      "execution_count": 1,
      "outputs": [
        {
          "output_type": "stream",
          "text": [
            "\u001b[K     |████████████████████████████████| 720 kB 4.3 MB/s \n",
            "\u001b[K     |████████████████████████████████| 188 kB 44.1 MB/s \n",
            "\u001b[K     |████████████████████████████████| 46 kB 4.5 MB/s \n",
            "\u001b[K     |████████████████████████████████| 1.2 MB 45.0 MB/s \n",
            "\u001b[K     |████████████████████████████████| 56 kB 4.5 MB/s \n",
            "\u001b[K     |████████████████████████████████| 51 kB 337 kB/s \n",
            "\u001b[?25hMounted at /content/gdrive\n"
          ],
          "name": "stdout"
        }
      ]
    },
    {
      "cell_type": "code",
      "metadata": {
        "gradient": {
          "editing": false
        },
        "id": "3hktkGrbNPFR"
      },
      "source": [
        "#hide\n",
        "from fastai.vision.all import *\n",
        "from fastbook import *\n",
        "\n",
        "matplotlib.rc('image', cmap='Greys')"
      ],
      "execution_count": 2,
      "outputs": []
    },
    {
      "cell_type": "markdown",
      "metadata": {
        "gradient": {
          "editing": false
        },
        "id": "Q2ZyRwIRNPFS"
      },
      "source": [
        "### Download Raw Data\n",
        "\n",
        "Raw data used here is from fastai course, because the data is in image format, and the image size is identical."
      ]
    },
    {
      "cell_type": "code",
      "metadata": {
        "gradient": {
          "editing": false
        },
        "colab": {
          "base_uri": "https://localhost:8080/",
          "height": 37
        },
        "id": "i3Fs1IkGNPFS",
        "outputId": "53a63aba-2bb4-4283-c5bd-b7e6800cf4bb"
      },
      "source": [
        "path = untar_data(URLs.MNIST)"
      ],
      "execution_count": 3,
      "outputs": [
        {
          "output_type": "display_data",
          "data": {
            "text/html": [
              "\n",
              "    <div>\n",
              "        <style>\n",
              "            /* Turns off some styling */\n",
              "            progress {\n",
              "                /* gets rid of default border in Firefox and Opera. */\n",
              "                border: none;\n",
              "                /* Needs to be in here for Safari polyfill so background images work as expected. */\n",
              "                background-size: auto;\n",
              "            }\n",
              "            .progress-bar-interrupted, .progress-bar-interrupted::-webkit-progress-bar {\n",
              "                background: #F44336;\n",
              "            }\n",
              "        </style>\n",
              "      <progress value='15687680' class='' max='15683414' style='width:300px; height:20px; vertical-align: middle;'></progress>\n",
              "      100.03% [15687680/15683414 00:02<00:00]\n",
              "    </div>\n",
              "    "
            ],
            "text/plain": [
              "<IPython.core.display.HTML object>"
            ]
          },
          "metadata": {
            "tags": []
          }
        }
      ]
    },
    {
      "cell_type": "code",
      "metadata": {
        "gradient": {
          "editing": false
        },
        "id": "gCRzFDlLNPFT"
      },
      "source": [
        "Path.BASE_PATH = path"
      ],
      "execution_count": 4,
      "outputs": []
    },
    {
      "cell_type": "code",
      "metadata": {
        "gradient": {
          "editing": false
        },
        "scrolled": false,
        "colab": {
          "base_uri": "https://localhost:8080/"
        },
        "id": "iUgLwQTUNPFT",
        "outputId": "c5b6d28d-4cbb-4891-cf64-7535a0036f65"
      },
      "source": [
        "path.ls()"
      ],
      "execution_count": 5,
      "outputs": [
        {
          "output_type": "execute_result",
          "data": {
            "text/plain": [
              "(#2) [Path('testing'),Path('training')]"
            ]
          },
          "metadata": {
            "tags": []
          },
          "execution_count": 5
        }
      ]
    },
    {
      "cell_type": "code",
      "metadata": {
        "gradient": {
          "editing": false
        },
        "colab": {
          "base_uri": "https://localhost:8080/"
        },
        "id": "R4zgzTuGNPFV",
        "outputId": "8c58cd15-505e-46d5-a759-bd63160e7435"
      },
      "source": [
        "(path/'training').ls()"
      ],
      "execution_count": 6,
      "outputs": [
        {
          "output_type": "execute_result",
          "data": {
            "text/plain": [
              "(#10) [Path('training/8'),Path('training/1'),Path('training/5'),Path('training/0'),Path('training/2'),Path('training/3'),Path('training/6'),Path('training/7'),Path('training/9'),Path('training/4')]"
            ]
          },
          "metadata": {
            "tags": []
          },
          "execution_count": 6
        }
      ]
    },
    {
      "cell_type": "code",
      "metadata": {
        "gradient": {
          "editing": false
        },
        "scrolled": true,
        "colab": {
          "base_uri": "https://localhost:8080/"
        },
        "id": "RVWtB9W1NPFV",
        "outputId": "15a21170-e049-4f5d-d101-ea059db7f872"
      },
      "source": [
        "(path/'testing').ls()"
      ],
      "execution_count": 7,
      "outputs": [
        {
          "output_type": "execute_result",
          "data": {
            "text/plain": [
              "(#10) [Path('testing/8'),Path('testing/1'),Path('testing/5'),Path('testing/0'),Path('testing/2'),Path('testing/3'),Path('testing/6'),Path('testing/7'),Path('testing/9'),Path('testing/4')]"
            ]
          },
          "metadata": {
            "tags": []
          },
          "execution_count": 7
        }
      ]
    },
    {
      "cell_type": "code",
      "metadata": {
        "gradient": {},
        "id": "O2Ts27J0NPFW"
      },
      "source": [
        "fours = (path/'training/4').ls().sorted()"
      ],
      "execution_count": 8,
      "outputs": []
    },
    {
      "cell_type": "code",
      "metadata": {
        "gradient": {},
        "scrolled": true,
        "colab": {
          "base_uri": "https://localhost:8080/"
        },
        "id": "SSHRSUKLNPFX",
        "outputId": "e4fee9b6-dec2-42f0-cd63-f5c4a3697680"
      },
      "source": [
        "len(fours)"
      ],
      "execution_count": 9,
      "outputs": [
        {
          "output_type": "execute_result",
          "data": {
            "text/plain": [
              "5842"
            ]
          },
          "metadata": {
            "tags": []
          },
          "execution_count": 9
        }
      ]
    },
    {
      "cell_type": "code",
      "metadata": {
        "gradient": {},
        "scrolled": true,
        "colab": {
          "base_uri": "https://localhost:8080/",
          "height": 45
        },
        "id": "aLL9BU1BNPFX",
        "outputId": "6334fdcb-85e9-4154-91c3-c179b4219086"
      },
      "source": [
        "Image.open(fours[542])"
      ],
      "execution_count": 10,
      "outputs": [
        {
          "output_type": "execute_result",
          "data": {
            "image/png": "[encoded data removed]",
            "text/plain": [
              "<PIL.PngImagePlugin.PngImageFile image mode=L size=28x28 at 0x7F7931C3A210>"
            ]
          },
          "metadata": {
            "tags": []
          },
          "execution_count": 10
        }
      ]
    },
    {
      "cell_type": "markdown",
      "metadata": {
        "id": "k9twF--yNPFY"
      },
      "source": [
        "## Init Variables\n",
        "\n",
        "Store images data to a variable, then convert it to a tensor array."
      ]
    },
    {
      "cell_type": "code",
      "metadata": {
        "gradient": {},
        "id": "mUiek4V2NPFY"
      },
      "source": [
        "zeros = (path/'training/0').ls().sorted()\n",
        "ones = (path/'training/1').ls().sorted()\n",
        "twos = (path/'training/2').ls().sorted()\n",
        "threes = (path/'training/3').ls().sorted()\n",
        "fours = (path/'training/4').ls().sorted()\n",
        "fives = (path/'training/5').ls().sorted()\n",
        "sixes = (path/'training/6').ls().sorted()\n",
        "sevens = (path/'training/7').ls().sorted()\n",
        "eights = (path/'training/8').ls().sorted()\n",
        "nines = (path/'training/9').ls().sorted()"
      ],
      "execution_count": 11,
      "outputs": []
    },
    {
      "cell_type": "code",
      "metadata": {
        "gradient": {},
        "id": "e55fBR28NPFZ"
      },
      "source": [
        "zero_tensor = [tensor(Image.open(o)) for o in zeros]\n",
        "one_tensor = [tensor(Image.open(o)) for o in ones]\n",
        "two_tensor = [tensor(Image.open(o)) for o in twos]\n",
        "three_tensor = [tensor(Image.open(o)) for o in threes]\n",
        "four_tensor = [tensor(Image.open(o)) for o in fours]\n",
        "five_tensor = [tensor(Image.open(o)) for o in fives]\n",
        "six_tensor = [tensor(Image.open(o)) for o in sixes]\n",
        "seven_tensor = [tensor(Image.open(o)) for o in sevens]\n",
        "eight_tensor = [tensor(Image.open(o)) for o in eights]\n",
        "nine_tensor = [tensor(Image.open(o)) for o in nines]"
      ],
      "execution_count": 12,
      "outputs": []
    },
    {
      "cell_type": "markdown",
      "metadata": {
        "id": "FRiR1As7NPFZ"
      },
      "source": [
        "## Using Pixel Similarity Method\n",
        "\n",
        "In this method, get average pixel value of a number. Then, calculate similarity with each number to determine which number is closest to prediction."
      ]
    },
    {
      "cell_type": "code",
      "metadata": {
        "gradient": {},
        "id": "xByrlW8nNPFZ"
      },
      "source": [
        "zero_stack = torch.stack(zero_tensor).float()/255\n",
        "one_stack = torch.stack(one_tensor).float()/255\n",
        "two_stack = torch.stack(two_tensor).float()/255\n",
        "three_stack = torch.stack(three_tensor).float()/255\n",
        "four_stack = torch.stack(four_tensor).float()/255\n",
        "five_stack = torch.stack(five_tensor).float()/255\n",
        "six_stack = torch.stack(six_tensor).float()/255\n",
        "seven_stack = torch.stack(seven_tensor).float()/255\n",
        "eight_stack = torch.stack(eight_tensor).float()/255\n",
        "nine_stack = torch.stack(nine_tensor).float()/255"
      ],
      "execution_count": 13,
      "outputs": []
    },
    {
      "cell_type": "code",
      "metadata": {
        "gradient": {},
        "id": "BWS9uLMnNPFa"
      },
      "source": [
        "mean0 = zero_stack.mean(0)\n",
        "mean1 = one_stack.mean(0)\n",
        "mean2 = two_stack.mean(0)\n",
        "mean3 = three_stack.mean(0)\n",
        "mean4 = four_stack.mean(0)\n",
        "mean5 = five_stack.mean(0)\n",
        "mean6 = six_stack.mean(0)\n",
        "mean7 = seven_stack.mean(0)\n",
        "mean8 = eight_stack.mean(0)\n",
        "mean9 = nine_stack.mean(0)\n",
        "\n",
        "means = [zero_stack.mean(0), one_stack.mean(0), two_stack.mean(0), three_stack.mean(0), four_stack.mean(0), \n",
        "         five_stack.mean(0), six_stack.mean(0), seven_stack.mean(0), eight_stack.mean(0), nine_stack.mean(0)]\n"
      ],
      "execution_count": 14,
      "outputs": []
    },
    {
      "cell_type": "markdown",
      "metadata": {
        "id": "-hZBLmBgNPFa"
      },
      "source": [
        "Define distance function"
      ]
    },
    {
      "cell_type": "code",
      "metadata": {
        "gradient": {},
        "id": "SFxh9VxfNPFa"
      },
      "source": [
        "def distance(a,b) : return (a-b).abs().mean((-1,-2))"
      ],
      "execution_count": 15,
      "outputs": []
    },
    {
      "cell_type": "markdown",
      "metadata": {
        "id": "GE1HZLD_NPFa"
      },
      "source": [
        "Use test data to get the function accuracy"
      ]
    },
    {
      "cell_type": "code",
      "metadata": {
        "gradient": {},
        "id": "p7IO7Q3LNPFb"
      },
      "source": [
        "zero_t_tensor = torch.stack([tensor(Image.open(o)) for o in (path/'testing/0').ls().sorted()])\n",
        "one_t_tensor = torch.stack([tensor(Image.open(o)) for o in (path/'testing/1').ls().sorted()])\n",
        "two_t_tensor = torch.stack([tensor(Image.open(o)) for o in (path/'testing/2').ls().sorted()])\n",
        "three_t_tensor = torch.stack([tensor(Image.open(o)) for o in (path/'testing/3').ls().sorted()])\n",
        "four_t_tensor = torch.stack([tensor(Image.open(o)) for o in (path/'testing/4').ls().sorted()])\n",
        "five_t_tensor = torch.stack([tensor(Image.open(o)) for o in (path/'testing/5').ls().sorted()])\n",
        "six_t_tensor = torch.stack([tensor(Image.open(o)) for o in (path/'testing/6').ls().sorted()])\n",
        "seven_t_tensor = torch.stack([tensor(Image.open(o)) for o in (path/'testing/7').ls().sorted()])\n",
        "eight_t_tensor = torch.stack([tensor(Image.open(o)) for o in (path/'testing/8').ls().sorted()])\n",
        "nine_t_tensor = torch.stack([tensor(Image.open(o)) for o in (path/'testing/9').ls().sorted()])\n",
        "\n",
        "t_tensors = [zero_t_tensor, one_t_tensor, two_t_tensor, three_t_tensor, four_t_tensor, \n",
        "            five_t_tensor, six_t_tensor, seven_t_tensor, eight_t_tensor, nine_t_tensor]"
      ],
      "execution_count": 16,
      "outputs": []
    },
    {
      "cell_type": "code",
      "metadata": {
        "gradient": {},
        "id": "E537k8qCNPFb"
      },
      "source": [
        "def get_accuracy(tensor_input, predicted_num):\n",
        "    #init with true elements\n",
        "    result = torch.ones(len(tensor_input), dtype=torch.bool)\n",
        "    #get distance between input and predicted number's mean\n",
        "    base = distance(tensor_input, means[predicted_num])\n",
        "    #iterate 9 times to compare distance between input tensor and other available numbers.\n",
        "    #skip if i is predicted_num\n",
        "    #use logical and to accummulate the result\n",
        "    for i in range(0,10):\n",
        "        if i == predicted_num:\n",
        "            continue\n",
        "        d = distance(tensor_input, means[i])\n",
        "        acc = base < d\n",
        "        result = torch.logical_and(result, acc)\n",
        "    return result\n",
        "\n",
        "\n",
        "def get_accuracy_list(predicted_num):\n",
        "    \"\"\"Combine multiple get_accuracy functions into one function.\n",
        "    Take data from t_tensors and iterate it.\n",
        "    If the index of iteration is the same as predicted_num, use get_accuracy.\n",
        "    Otherwise, use 1-get_accuracy to predict the chance of not predicted_num.\n",
        "    Index 0 of the result is the correctness of test data compared with its predicted_num \n",
        "    \"\"\"\n",
        "    result = [get_accuracy(t_tensors[predicted_num], predicted_num).float().mean()]\n",
        "    for i in range(0, 10):\n",
        "        if i == predicted_num:\n",
        "            continue\n",
        "        pred = get_accuracy(t_tensors[i], predicted_num).float().mean()\n",
        "        result.append((1 - pred))    \n",
        "    return result"
      ],
      "execution_count": 21,
      "outputs": []
    },
    {
      "cell_type": "code",
      "metadata": {
        "gradient": {},
        "colab": {
          "base_uri": "https://localhost:8080/"
        },
        "id": "fllP-W9CNPFb",
        "outputId": "2cbd0d5d-ac14-4e37-e07a-841b66e7b0bb"
      },
      "source": [
        "for i in range(0,10):\n",
        "    r = get_accuracy_list(i)\n",
        "    print(f\"Accuracy of number {i} is {r} with mean {torch.mean(torch.stack(r))}\")\n"
      ],
      "execution_count": 22,
      "outputs": [
        {
          "output_type": "stream",
          "text": [
            "Accuracy of number 0 is [tensor(0.9133), tensor(1.), tensor(0.9641), tensor(0.9911), tensor(1.), tensor(0.9630), tensor(0.9760), tensor(0.9981), tensor(0.9805), tensor(0.9841)] with mean 0.9770188331604004\n",
            "Accuracy of number 1 is [tensor(0.9965), tensor(0.9898), tensor(0.7103), tensor(0.8584), tensor(0.9043), tensor(0.7231), tensor(0.9134), tensor(0.8531), tensor(0.8255), tensor(0.9286)] with mean 0.8702907562255859\n",
            "Accuracy of number 2 is [tensor(0.5145), tensor(1.), tensor(1.), tensor(0.9931), tensor(1.), tensor(1.), tensor(0.9948), tensor(0.9942), tensor(1.), tensor(0.9970)] with mean 0.9493575096130371\n",
            "Accuracy of number 3 is [tensor(0.7406), tensor(0.9939), tensor(0.9982), tensor(0.9719), tensor(1.), tensor(0.7365), tensor(0.9990), tensor(1.), tensor(0.9405), tensor(0.9931)] with mean 0.937362551689148\n",
            "Accuracy of number 4 is [tensor(0.6538), tensor(0.9969), tensor(1.), tensor(0.9845), tensor(0.9990), tensor(0.9854), tensor(0.9729), tensor(0.9932), tensor(0.9959), tensor(0.9683)] with mean 0.9549868702888489\n",
            "Accuracy of number 5 is [tensor(0.2276), tensor(0.9990), tensor(1.), tensor(1.), tensor(1.), tensor(1.), tensor(0.9969), tensor(1.), tensor(0.9990), tensor(1.)] with mean 0.9222399592399597\n",
            "Accuracy of number 6 is [tensor(0.8486), tensor(0.9592), tensor(0.9982), tensor(0.9661), tensor(0.9921), tensor(0.9786), tensor(0.9675), tensor(1.), tensor(0.9867), tensor(0.9980)] with mean 0.9695003628730774\n",
            "Accuracy of number 7 is [tensor(0.7821), tensor(0.9990), tensor(1.), tensor(0.9777), tensor(0.9851), tensor(1.), tensor(0.9742), tensor(1.), tensor(0.9897), tensor(0.9732)] with mean 0.968113124370575\n",
            "Accuracy of number 8 is [tensor(0.6530), tensor(0.9837), tensor(1.), tensor(0.9525), tensor(0.9515), tensor(0.9959), tensor(0.9552), tensor(0.9958), tensor(0.9932), tensor(0.9911)] with mean 0.9471834897994995\n",
            "Accuracy of number 9 is [tensor(0.8335), tensor(0.9918), tensor(1.), tensor(0.9874), tensor(0.9703), tensor(0.7749), tensor(0.9226), tensor(1.), tensor(0.9504), tensor(0.9353)] with mean 0.9366337060928345\n"
          ],
          "name": "stdout"
        }
      ]
    },
    {
      "cell_type": "markdown",
      "metadata": {
        "id": "HnahVl0rNPFc"
      },
      "source": [
        "## Conclusion of Using Pixel Similarity Method\n",
        "\n",
        "Most of the test result performs well, with mean > 0.90, although there are some concerns. Some test data does not perform well if tested with the correct number. For example, test 5 only has 0.2276 in confidence that the number tested is 5. For further improvement, test with other methods (e.g Stochastic Gradient Descent /SGD) to get better accuracy"
      ]
    },
    {
      "cell_type": "markdown",
      "metadata": {
        "id": "VMRpanjnPtB6"
      },
      "source": [
        "## Using Stochastic Gradient Descent\n",
        "\n",
        "Stochastic Gradient Descent (SGD) is a method to optimize objective function with suitable smoothness properties iteratively. The difference between SGD and gradient descent is that SGD uses mini-batch instead of processing all inputs at once, which makes SGD faster and cost efficient.\n"
      ]
    },
    {
      "cell_type": "markdown",
      "metadata": {
        "id": "hD4X_ylbSmFg"
      },
      "source": [
        "There are seven steps when trying to identify number using SGD:\n",
        "\n",
        "1. Initialize weight with random value\n",
        "1. Predict the number\n",
        "1. Calculate the model loss (how far the prediction from actual result)\n",
        "1. Calculate gradient, to measure new weight\n",
        "1. Step(change) all the weight based on calculation\n",
        "1. Go back to step 2, and repeat\n",
        "1. Iterate until you decide to stop "
      ]
    },
    {
      "cell_type": "code",
      "metadata": {
        "colab": {
          "base_uri": "https://localhost:8080/",
          "height": 125
        },
        "id": "kp4oZuBUWbxD",
        "outputId": "55821bf6-46e3-473b-dc20-e133dbeaa3a8"
      },
      "source": [
        "gv('''\n",
        "init->predict->loss->gradient->step->stop\n",
        "step->predict[label=repeat]\n",
        "''')"
      ],
      "execution_count": 23,
      "outputs": [
        {
          "output_type": "execute_result",
          "data": {
            "text/plain": [
              "<graphviz.files.Source at 0x7f792f923950>"
            ],
            "image/svg+xml": "<?xml version=\"1.0\" encoding=\"UTF-8\" standalone=\"no\"?>\n<!DOCTYPE svg PUBLIC \"-//W3C//DTD SVG 1.1//EN\"\n \"http://www.w3.org/Graphics/SVG/1.1/DTD/svg11.dtd\">\n<!-- Generated by graphviz version 2.40.1 (20161225.0304)\n -->\n<!-- Title: G Pages: 1 -->\n<svg width=\"597pt\" height=\"78pt\"\n viewBox=\"0.00 0.00 596.69 78.00\" xmlns=\"http://www.w3.org/2000/svg\" xmlns:xlink=\"http://www.w3.org/1999/xlink\">\n<g id=\"graph0\" class=\"graph\" transform=\"scale(1 1) rotate(0) translate(4 74)\">\n<title>G</title>\n<polygon fill=\"#ffffff\" stroke=\"transparent\" points=\"-4,4 -4,-74 592.6863,-74 592.6863,4 -4,4\"/>\n<!-- init -->\n<g id=\"node1\" class=\"node\">\n<title>init</title>\n<ellipse fill=\"none\" stroke=\"#000000\" cx=\"27\" cy=\"-18\" rx=\"27\" ry=\"18\"/>\n<text text-anchor=\"middle\" x=\"27\" y=\"-14.3\" font-family=\"Times,serif\" font-size=\"14.00\" fill=\"#000000\">init</text>\n</g>\n<!-- predict -->\n<g id=\"node2\" class=\"node\">\n<title>predict</title>\n<ellipse fill=\"none\" stroke=\"#000000\" cx=\"127.3968\" cy=\"-18\" rx=\"36.2938\" ry=\"18\"/>\n<text text-anchor=\"middle\" x=\"127.3968\" y=\"-14.3\" font-family=\"Times,serif\" font-size=\"14.00\" fill=\"#000000\">predict</text>\n</g>\n<!-- init&#45;&gt;predict -->\n<g id=\"edge1\" class=\"edge\">\n<title>init&#45;&gt;predict</title>\n<path fill=\"none\" stroke=\"#000000\" d=\"M54.1688,-18C62.3543,-18 71.5827,-18 80.6596,-18\"/>\n<polygon fill=\"#000000\" stroke=\"#000000\" points=\"80.7795,-21.5001 90.7795,-18 80.7795,-14.5001 80.7795,-21.5001\"/>\n</g>\n<!-- loss -->\n<g id=\"node3\" class=\"node\">\n<title>loss</title>\n<ellipse fill=\"none\" stroke=\"#000000\" cx=\"227.7935\" cy=\"-52\" rx=\"27\" ry=\"18\"/>\n<text text-anchor=\"middle\" x=\"227.7935\" y=\"-48.3\" font-family=\"Times,serif\" font-size=\"14.00\" fill=\"#000000\">loss</text>\n</g>\n<!-- predict&#45;&gt;loss -->\n<g id=\"edge2\" class=\"edge\">\n<title>predict&#45;&gt;loss</title>\n<path fill=\"none\" stroke=\"#000000\" d=\"M157.5191,-28.2011C168.9806,-32.0826 182.1139,-36.5303 193.9014,-40.5222\"/>\n<polygon fill=\"#000000\" stroke=\"#000000\" points=\"192.8259,-43.8532 203.4202,-43.7458 195.0713,-37.2231 192.8259,-43.8532\"/>\n</g>\n<!-- gradient -->\n<g id=\"node4\" class=\"node\">\n<title>gradient</title>\n<ellipse fill=\"none\" stroke=\"#000000\" cx=\"365.7399\" cy=\"-52\" rx=\"40.8928\" ry=\"18\"/>\n<text text-anchor=\"middle\" x=\"365.7399\" y=\"-48.3\" font-family=\"Times,serif\" font-size=\"14.00\" fill=\"#000000\">gradient</text>\n</g>\n<!-- loss&#45;&gt;gradient -->\n<g id=\"edge3\" class=\"edge\">\n<title>loss&#45;&gt;gradient</title>\n<path fill=\"none\" stroke=\"#000000\" d=\"M255.0473,-52C272.0415,-52 294.4481,-52 314.6545,-52\"/>\n<polygon fill=\"#000000\" stroke=\"#000000\" points=\"314.671,-55.5001 324.671,-52 314.671,-48.5001 314.671,-55.5001\"/>\n</g>\n<!-- step -->\n<g id=\"node5\" class=\"node\">\n<title>step</title>\n<ellipse fill=\"none\" stroke=\"#000000\" cx=\"470.6863\" cy=\"-18\" rx=\"27\" ry=\"18\"/>\n<text text-anchor=\"middle\" x=\"470.6863\" y=\"-14.3\" font-family=\"Times,serif\" font-size=\"14.00\" fill=\"#000000\">step</text>\n</g>\n<!-- gradient&#45;&gt;step -->\n<g id=\"edge4\" class=\"edge\">\n<title>gradient&#45;&gt;step</title>\n<path fill=\"none\" stroke=\"#000000\" d=\"M398.9456,-41.2422C410.9558,-37.3512 424.5297,-32.9536 436.6132,-29.0388\"/>\n<polygon fill=\"#000000\" stroke=\"#000000\" points=\"437.9112,-32.2975 446.3457,-25.8857 435.7537,-25.6382 437.9112,-32.2975\"/>\n</g>\n<!-- step&#45;&gt;predict -->\n<g id=\"edge6\" class=\"edge\">\n<title>step&#45;&gt;predict</title>\n<path fill=\"none\" stroke=\"#000000\" d=\"M443.4266,-18C384.9297,-18 246.7861,-18 174.0495,-18\"/>\n<polygon fill=\"#000000\" stroke=\"#000000\" points=\"173.8098,-14.5001 163.8098,-18 173.8097,-21.5001 173.8098,-14.5001\"/>\n<text text-anchor=\"middle\" x=\"289.7935\" y=\"-21.8\" font-family=\"Times,serif\" font-size=\"14.00\" fill=\"#000000\">repeat</text>\n</g>\n<!-- stop -->\n<g id=\"node6\" class=\"node\">\n<title>stop</title>\n<ellipse fill=\"none\" stroke=\"#000000\" cx=\"561.6863\" cy=\"-18\" rx=\"27\" ry=\"18\"/>\n<text text-anchor=\"middle\" x=\"561.6863\" y=\"-14.3\" font-family=\"Times,serif\" font-size=\"14.00\" fill=\"#000000\">stop</text>\n</g>\n<!-- step&#45;&gt;stop -->\n<g id=\"edge5\" class=\"edge\">\n<title>step&#45;&gt;stop</title>\n<path fill=\"none\" stroke=\"#000000\" d=\"M497.9893,-18C506.2676,-18 515.508,-18 524.3268,-18\"/>\n<polygon fill=\"#000000\" stroke=\"#000000\" points=\"524.4026,-21.5001 534.4025,-18 524.4025,-14.5001 524.4026,-21.5001\"/>\n</g>\n</g>\n</svg>\n"
          },
          "metadata": {
            "tags": []
          },
          "execution_count": 23
        }
      ]
    },
    {
      "cell_type": "markdown",
      "metadata": {
        "id": "s0YgL85mZmAy"
      },
      "source": [
        "### Loss Function\n",
        "To calculate loss, I use sigmoid function to make sure the loss is betweeen 0 and 1"
      ]
    },
    {
      "cell_type": "code",
      "metadata": {
        "id": "QruZvfvcZ4qC"
      },
      "source": [
        "def mnist_lost(prediction, target):\n",
        "  prediction = prediction.sigmoid()\n",
        "  return torch.where(target == 1, 1-prediction, prediction).mean()"
      ],
      "execution_count": 24,
      "outputs": []
    },
    {
      "cell_type": "markdown",
      "metadata": {
        "id": "ItRqVzqcajNV"
      },
      "source": [
        "The code above can be described as: return 1 - prediction is target is 1, else return prediction"
      ]
    },
    {
      "cell_type": "markdown",
      "metadata": {
        "id": "2BuIIpr-bnP4"
      },
      "source": [
        "### Mini-Batch\n",
        "To split data into several batches, I use `DataLoader` class to load data, randomize the entry, and split the data into several batches."
      ]
    },
    {
      "cell_type": "code",
      "metadata": {
        "id": "UI8MqZz5cWio"
      },
      "source": [
        "train_x = torch.cat([zero_stack, one_stack,  two_stack, three_stack, four_stack, five_stack, six_stack, seven_stack, eight_stack, nine_stack]).view(-1, 28*28)\n",
        "train_y = tensor([0]* len(zeros) + [1]* len(ones) + [2]* len(twos) + [3]* len(threes) + [4]* len(fours) + [5]* len(fives) + \n",
        "                 [6]* len(sixes) + [7]* len(sevens) + [8]* len(eights) + [9]* len(nines)).unsqueeze(1)\n",
        "train_dset = list(zip(train_x, train_y))"
      ],
      "execution_count": 40,
      "outputs": []
    },
    {
      "cell_type": "code",
      "metadata": {
        "id": "fcq-Zf_Jd129"
      },
      "source": [
        "validation_x = torch.cat([zero_t_tensor, one_t_tensor, two_t_tensor, three_t_tensor, four_t_tensor, five_t_tensor, \n",
        "                     six_t_tensor, seven_t_tensor, eight_t_tensor, nine_t_tensor]).view(-1, 28*28)\n",
        "validation_y = tensor([0]* len(zero_t_tensor) + [1]* len(one_t_tensor) + [2]* len(two_t_tensor) + [3]* len(three_t_tensor) + [4]* len(four_t_tensor) + [5]* len(five_t_tensor) + \n",
        "                 [6]* len(six_t_tensor) + [7]* len(seven_t_tensor) + [8]* len(eight_t_tensor) + [9]* len(nine_t_tensor)).unsqueeze(1)\n",
        "validation_dset = list(zip(validation_x, validation_y))"
      ],
      "execution_count": 41,
      "outputs": []
    },
    {
      "cell_type": "markdown",
      "metadata": {
        "id": "bfy5BzPRnnEu"
      },
      "source": [
        "In the code above, I map the X axis with image tensors, and Y axis with numbering label to create a dataset. I do this process for both training data and validation data."
      ]
    },
    {
      "cell_type": "code",
      "metadata": {
        "id": "u30BsK-RoZs2"
      },
      "source": [
        "train_dl = DataLoader(train_dset, batch_size=256)\n",
        "validation_dl = DataLoader(validation_dset, batch_size=256)\n"
      ],
      "execution_count": 53,
      "outputs": []
    },
    {
      "cell_type": "code",
      "metadata": {
        "id": "EE_lbiUbsCeR"
      },
      "source": [
        "def init_random_values(size, std=1.0):\n",
        "  return (torch.randn(size) * std).requires_grad_()"
      ],
      "execution_count": 54,
      "outputs": []
    },
    {
      "cell_type": "code",
      "metadata": {
        "id": "JO_psc7Owd-K"
      },
      "source": [
        "weights = init_random_values((28*28, 1))\n",
        "bias = init_random_values(1)"
      ],
      "execution_count": 56,
      "outputs": []
    },
    {
      "cell_type": "code",
      "metadata": {
        "id": "rLM883kUxCaY"
      },
      "source": [
        "def matrix_multiply(x): return x@weights + bias"
      ],
      "execution_count": 57,
      "outputs": []
    },
    {
      "cell_type": "code",
      "metadata": {
        "id": "yHTxZBDIxWTn"
      },
      "source": [
        ""
      ],
      "execution_count": null,
      "outputs": []
    }
  ]
}