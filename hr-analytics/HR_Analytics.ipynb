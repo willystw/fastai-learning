{
  "nbformat": 4,
  "nbformat_minor": 0,
  "metadata": {
    "colab": {
      "name": "HR Analytics.ipynb",
      "provenance": [],
      "authorship_tag": "ABX9TyNW9fa/wEiWVu25sQIkfiH+",
      "include_colab_link": true
    },
    "kernelspec": {
      "name": "python3",
      "display_name": "Python 3"
    },
    "language_info": {
      "name": "python"
    },
    "accelerator": "GPU"
  },
  "cells": [
    {
      "cell_type": "markdown",
      "metadata": {
        "id": "view-in-github",
        "colab_type": "text"
      },
      "source": [
        "<a href=\"https://colab.research.google.com/github/willystw/fastai-learning/blob/hr-analytics/hr-analytics/HR_Analytics.ipynb\" target=\"_parent\"><img src=\"https://colab.research.google.com/assets/colab-badge.svg\" alt=\"Open In Colab\"/></a>"
      ]
    },
    {
      "cell_type": "markdown",
      "metadata": {
        "id": "cDm3OVH1K997"
      },
      "source": [
        "Solving [HR Analytics Job Change](https://www.kaggle.com/arashnic/hr-analytics-job-change-of-data-scientists) using Neural Network and Google Colab"
      ]
    },
    {
      "cell_type": "code",
      "metadata": {
        "colab": {
          "base_uri": "https://localhost:8080/"
        },
        "id": "L0rdxMW1n-tt",
        "outputId": "65db2aee-0beb-4625-95c7-8de8d2f12fc2"
      },
      "source": [
        "#hide\n",
        "!pip install -Uqq fastbook kaggle\n",
        "import fastbook\n",
        "fastbook.setup_book()"
      ],
      "execution_count": 1,
      "outputs": [
        {
          "output_type": "stream",
          "name": "stdout",
          "text": [
            "\u001b[K     |████████████████████████████████| 720 kB 5.3 MB/s \n",
            "\u001b[K     |████████████████████████████████| 1.2 MB 39.1 MB/s \n",
            "\u001b[K     |████████████████████████████████| 186 kB 25.9 MB/s \n",
            "\u001b[K     |████████████████████████████████| 46 kB 3.9 MB/s \n",
            "\u001b[K     |████████████████████████████████| 56 kB 3.3 MB/s \n",
            "\u001b[K     |████████████████████████████████| 51 kB 243 kB/s \n",
            "\u001b[?25hMounted at /content/gdrive\n"
          ]
        }
      ]
    },
    {
      "cell_type": "markdown",
      "metadata": {
        "id": "GUY5X-bCLS_T"
      },
      "source": [
        "Insert kaggle.json before proceed to the next step"
      ]
    },
    {
      "cell_type": "code",
      "metadata": {
        "colab": {
          "base_uri": "https://localhost:8080/"
        },
        "id": "v34yHbVXoU7f",
        "outputId": "80cfbce6-bc7d-42d9-a847-81c016fa8dd3"
      },
      "source": [
        "!rm -r ~/.kaggle\n",
        "!mkdir ~/.kaggle\n",
        "!mv ./kaggle.json ~/.kaggle/\n",
        "!chmod 600 ~/.kaggle/kaggle.json"
      ],
      "execution_count": 2,
      "outputs": [
        {
          "output_type": "stream",
          "name": "stdout",
          "text": [
            "rm: cannot remove '/root/.kaggle': No such file or directory\n"
          ]
        }
      ]
    },
    {
      "cell_type": "code",
      "metadata": {
        "id": "w_01Yu4jqZnW"
      },
      "source": [
        "#hide\n",
        "from fastbook import *\n",
        "from kaggle import api\n",
        "from pandas.api.types import is_string_dtype, is_numeric_dtype, is_categorical_dtype\n",
        "from fastai.tabular.all import *\n",
        "from sklearn.ensemble import RandomForestRegressor\n",
        "from sklearn.metrics import roc_auc_score"
      ],
      "execution_count": 3,
      "outputs": []
    },
    {
      "cell_type": "code",
      "metadata": {
        "colab": {
          "base_uri": "https://localhost:8080/"
        },
        "id": "v7--s5Q2qeZe",
        "outputId": "da09e95c-a8a4-4be6-fb02-2bc2f7135202"
      },
      "source": [
        "!rm -r ~/hr-analytics\n",
        "!mkdir ~/hr-analytics"
      ],
      "execution_count": 4,
      "outputs": [
        {
          "output_type": "stream",
          "name": "stdout",
          "text": [
            "rm: cannot remove '/root/hr-analytics': No such file or directory\n"
          ]
        }
      ]
    },
    {
      "cell_type": "code",
      "metadata": {
        "colab": {
          "base_uri": "https://localhost:8080/"
        },
        "id": "XX6UzzXUq1D2",
        "outputId": "2672f1fd-b4c8-442a-c71f-a31b0c7f845f"
      },
      "source": [
        "#Download dataset\n",
        "api.dataset_download_cli(dataset='arashnic/hr-analytics-job-change-of-data-scientists',\n",
        "                         path='hr-analytics',\n",
        "                         unzip=True,\n",
        "                         force=True)"
      ],
      "execution_count": 6,
      "outputs": [
        {
          "output_type": "stream",
          "name": "stdout",
          "text": [
            "Downloading hr-analytics-job-change-of-data-scientists.zip to hr-analytics\n"
          ]
        },
        {
          "output_type": "stream",
          "name": "stderr",
          "text": [
            "100%|██████████| 295k/295k [00:00<00:00, 23.7MB/s]"
          ]
        },
        {
          "output_type": "stream",
          "name": "stdout",
          "text": [
            "\n"
          ]
        },
        {
          "output_type": "stream",
          "name": "stderr",
          "text": [
            "\n"
          ]
        }
      ]
    },
    {
      "cell_type": "code",
      "metadata": {
        "id": "FiXLB2KBre92"
      },
      "source": [
        "train_ds = pd.read_csv('hr-analytics/aug_train.csv', low_memory=False)\n",
        "test_ds = pd.read_csv('hr-analytics/aug_test.csv')"
      ],
      "execution_count": 7,
      "outputs": []
    },
    {
      "cell_type": "code",
      "metadata": {
        "colab": {
          "base_uri": "https://localhost:8080/",
          "height": 313
        },
        "id": "-PGiA2uAr1bG",
        "outputId": "0c08866c-9f03-4cca-96a1-b4345b8062bc"
      },
      "source": [
        "train_ds.head()"
      ],
      "execution_count": 8,
      "outputs": [
        {
          "output_type": "execute_result",
          "data": {
            "text/html": [
              "<div>\n",
              "<style scoped>\n",
              "    .dataframe tbody tr th:only-of-type {\n",
              "        vertical-align: middle;\n",
              "    }\n",
              "\n",
              "    .dataframe tbody tr th {\n",
              "        vertical-align: top;\n",
              "    }\n",
              "\n",
              "    .dataframe thead th {\n",
              "        text-align: right;\n",
              "    }\n",
              "</style>\n",
              "<table border=\"1\" class=\"dataframe\">\n",
              "  <thead>\n",
              "    <tr style=\"text-align: right;\">\n",
              "      <th></th>\n",
              "      <th>enrollee_id</th>\n",
              "      <th>city</th>\n",
              "      <th>city_development_index</th>\n",
              "      <th>gender</th>\n",
              "      <th>relevent_experience</th>\n",
              "      <th>enrolled_university</th>\n",
              "      <th>education_level</th>\n",
              "      <th>major_discipline</th>\n",
              "      <th>experience</th>\n",
              "      <th>company_size</th>\n",
              "      <th>company_type</th>\n",
              "      <th>last_new_job</th>\n",
              "      <th>training_hours</th>\n",
              "      <th>target</th>\n",
              "    </tr>\n",
              "  </thead>\n",
              "  <tbody>\n",
              "    <tr>\n",
              "      <th>0</th>\n",
              "      <td>8949</td>\n",
              "      <td>city_103</td>\n",
              "      <td>0.920</td>\n",
              "      <td>Male</td>\n",
              "      <td>Has relevent experience</td>\n",
              "      <td>no_enrollment</td>\n",
              "      <td>Graduate</td>\n",
              "      <td>STEM</td>\n",
              "      <td>&gt;20</td>\n",
              "      <td>NaN</td>\n",
              "      <td>NaN</td>\n",
              "      <td>1</td>\n",
              "      <td>36</td>\n",
              "      <td>1.0</td>\n",
              "    </tr>\n",
              "    <tr>\n",
              "      <th>1</th>\n",
              "      <td>29725</td>\n",
              "      <td>city_40</td>\n",
              "      <td>0.776</td>\n",
              "      <td>Male</td>\n",
              "      <td>No relevent experience</td>\n",
              "      <td>no_enrollment</td>\n",
              "      <td>Graduate</td>\n",
              "      <td>STEM</td>\n",
              "      <td>15</td>\n",
              "      <td>50-99</td>\n",
              "      <td>Pvt Ltd</td>\n",
              "      <td>&gt;4</td>\n",
              "      <td>47</td>\n",
              "      <td>0.0</td>\n",
              "    </tr>\n",
              "    <tr>\n",
              "      <th>2</th>\n",
              "      <td>11561</td>\n",
              "      <td>city_21</td>\n",
              "      <td>0.624</td>\n",
              "      <td>NaN</td>\n",
              "      <td>No relevent experience</td>\n",
              "      <td>Full time course</td>\n",
              "      <td>Graduate</td>\n",
              "      <td>STEM</td>\n",
              "      <td>5</td>\n",
              "      <td>NaN</td>\n",
              "      <td>NaN</td>\n",
              "      <td>never</td>\n",
              "      <td>83</td>\n",
              "      <td>0.0</td>\n",
              "    </tr>\n",
              "    <tr>\n",
              "      <th>3</th>\n",
              "      <td>33241</td>\n",
              "      <td>city_115</td>\n",
              "      <td>0.789</td>\n",
              "      <td>NaN</td>\n",
              "      <td>No relevent experience</td>\n",
              "      <td>NaN</td>\n",
              "      <td>Graduate</td>\n",
              "      <td>Business Degree</td>\n",
              "      <td>&lt;1</td>\n",
              "      <td>NaN</td>\n",
              "      <td>Pvt Ltd</td>\n",
              "      <td>never</td>\n",
              "      <td>52</td>\n",
              "      <td>1.0</td>\n",
              "    </tr>\n",
              "    <tr>\n",
              "      <th>4</th>\n",
              "      <td>666</td>\n",
              "      <td>city_162</td>\n",
              "      <td>0.767</td>\n",
              "      <td>Male</td>\n",
              "      <td>Has relevent experience</td>\n",
              "      <td>no_enrollment</td>\n",
              "      <td>Masters</td>\n",
              "      <td>STEM</td>\n",
              "      <td>&gt;20</td>\n",
              "      <td>50-99</td>\n",
              "      <td>Funded Startup</td>\n",
              "      <td>4</td>\n",
              "      <td>8</td>\n",
              "      <td>0.0</td>\n",
              "    </tr>\n",
              "  </tbody>\n",
              "</table>\n",
              "</div>"
            ],
            "text/plain": [
              "   enrollee_id      city  city_development_index gender  \\\n",
              "0         8949  city_103                   0.920   Male   \n",
              "1        29725   city_40                   0.776   Male   \n",
              "2        11561   city_21                   0.624    NaN   \n",
              "3        33241  city_115                   0.789    NaN   \n",
              "4          666  city_162                   0.767   Male   \n",
              "\n",
              "       relevent_experience enrolled_university education_level  \\\n",
              "0  Has relevent experience       no_enrollment        Graduate   \n",
              "1   No relevent experience       no_enrollment        Graduate   \n",
              "2   No relevent experience    Full time course        Graduate   \n",
              "3   No relevent experience                 NaN        Graduate   \n",
              "4  Has relevent experience       no_enrollment         Masters   \n",
              "\n",
              "  major_discipline experience company_size    company_type last_new_job  \\\n",
              "0             STEM        >20          NaN             NaN            1   \n",
              "1             STEM         15        50-99         Pvt Ltd           >4   \n",
              "2             STEM          5          NaN             NaN        never   \n",
              "3  Business Degree         <1          NaN         Pvt Ltd        never   \n",
              "4             STEM        >20        50-99  Funded Startup            4   \n",
              "\n",
              "   training_hours  target  \n",
              "0              36     1.0  \n",
              "1              47     0.0  \n",
              "2              83     0.0  \n",
              "3              52     1.0  \n",
              "4               8     0.0  "
            ]
          },
          "metadata": {},
          "execution_count": 8
        }
      ]
    },
    {
      "cell_type": "code",
      "metadata": {
        "id": "Qv4WxfovtUsu"
      },
      "source": [
        "dep_var = 'target'"
      ],
      "execution_count": 9,
      "outputs": []
    },
    {
      "cell_type": "markdown",
      "metadata": {
        "id": "uaCGf3Ps1_8_"
      },
      "source": [
        "## Baseline"
      ]
    },
    {
      "cell_type": "code",
      "metadata": {
        "id": "r4P2zV2azoPR",
        "colab": {
          "base_uri": "https://localhost:8080/"
        },
        "outputId": "01c75430-0a66-4825-c6cf-7c5b5046477f"
      },
      "source": [
        "train_ds[dep_var].value_counts()"
      ],
      "execution_count": 10,
      "outputs": [
        {
          "output_type": "execute_result",
          "data": {
            "text/plain": [
              "0.0    14381\n",
              "1.0     4777\n",
              "Name: target, dtype: int64"
            ]
          },
          "metadata": {},
          "execution_count": 10
        }
      ]
    },
    {
      "cell_type": "markdown",
      "metadata": {
        "id": "f5E-uIAX2MuP"
      },
      "source": [
        "What is the probability if I return false in every training data ? This data will be used as baseline"
      ]
    },
    {
      "cell_type": "code",
      "metadata": {
        "id": "qno38Lf62LF5",
        "colab": {
          "base_uri": "https://localhost:8080/"
        },
        "outputId": "bb160c31-0b40-4dba-de98-7416bdd4c217"
      },
      "source": [
        "14381 / (14381 +  4777)"
      ],
      "execution_count": 11,
      "outputs": [
        {
          "output_type": "execute_result",
          "data": {
            "text/plain": [
              "0.7506524689424784"
            ]
          },
          "metadata": {},
          "execution_count": 11
        }
      ]
    },
    {
      "cell_type": "markdown",
      "metadata": {
        "id": "IJVweR_x2aMb"
      },
      "source": [
        "This means 75% of accuracy"
      ]
    },
    {
      "cell_type": "markdown",
      "metadata": {
        "id": "ixxj97iJ2dtz"
      },
      "source": [
        "## Using Neural Network"
      ]
    },
    {
      "cell_type": "code",
      "metadata": {
        "colab": {
          "base_uri": "https://localhost:8080/"
        },
        "id": "-onzmq4JxEaP",
        "outputId": "c842fb98-3320-4aea-8fcf-f0ec2bea88a7"
      },
      "source": [
        "cont,cat = cont_cat_split(train_ds, max_card=2000, dep_var=dep_var)\n",
        "cont, cat"
      ],
      "execution_count": 12,
      "outputs": [
        {
          "output_type": "execute_result",
          "data": {
            "text/plain": [
              "(['enrollee_id', 'city_development_index'],\n",
              " ['city',\n",
              "  'gender',\n",
              "  'relevent_experience',\n",
              "  'enrolled_university',\n",
              "  'education_level',\n",
              "  'major_discipline',\n",
              "  'experience',\n",
              "  'company_size',\n",
              "  'company_type',\n",
              "  'last_new_job',\n",
              "  'training_hours'])"
            ]
          },
          "metadata": {},
          "execution_count": 12
        }
      ]
    },
    {
      "cell_type": "code",
      "metadata": {
        "id": "_5hU1oSaxgiW"
      },
      "source": [
        "procs = [Categorify, FillMissing, Normalize]\n",
        "tabular_data = TabularPandas(train_ds, \n",
        "                      procs, \n",
        "                      cat, \n",
        "                      cont,\n",
        "                      splits=RandomSplitter(valid_pct=0.2)(range_of(train_ds)), \n",
        "                      y_names=dep_var,\n",
        "                      y_block = CategoryBlock )"
      ],
      "execution_count": 13,
      "outputs": []
    },
    {
      "cell_type": "code",
      "metadata": {
        "colab": {
          "base_uri": "https://localhost:8080/",
          "height": 557
        },
        "id": "w3_ZH5btx3pP",
        "outputId": "9d815855-809e-4d3d-c09a-564241ffae21"
      },
      "source": [
        "dls = tabular_data.dataloaders(128)\n",
        "dls.show_batch()"
      ],
      "execution_count": 74,
      "outputs": [
        {
          "output_type": "display_data",
          "data": {
            "text/html": [
              "<table border=\"1\" class=\"dataframe\">\n",
              "  <thead>\n",
              "    <tr style=\"text-align: right;\">\n",
              "      <th></th>\n",
              "      <th>city</th>\n",
              "      <th>relevent_experience</th>\n",
              "      <th>enrolled_university</th>\n",
              "      <th>major_discipline</th>\n",
              "      <th>experience</th>\n",
              "      <th>company_size</th>\n",
              "      <th>company_type</th>\n",
              "      <th>last_new_job</th>\n",
              "      <th>training_hours</th>\n",
              "      <th>enrollee_id</th>\n",
              "      <th>city_development_index</th>\n",
              "      <th>target</th>\n",
              "    </tr>\n",
              "  </thead>\n",
              "  <tbody>\n",
              "    <tr>\n",
              "      <th>0</th>\n",
              "      <td>city_103</td>\n",
              "      <td>Has relevent experience</td>\n",
              "      <td>no_enrollment</td>\n",
              "      <td>STEM</td>\n",
              "      <td>&gt;20</td>\n",
              "      <td>500-999</td>\n",
              "      <td>Pvt Ltd</td>\n",
              "      <td>4</td>\n",
              "      <td>18</td>\n",
              "      <td>7379.000222</td>\n",
              "      <td>0.920</td>\n",
              "      <td>0.0</td>\n",
              "    </tr>\n",
              "    <tr>\n",
              "      <th>1</th>\n",
              "      <td>city_67</td>\n",
              "      <td>No relevent experience</td>\n",
              "      <td>Full time course</td>\n",
              "      <td>STEM</td>\n",
              "      <td>11</td>\n",
              "      <td>#na#</td>\n",
              "      <td>#na#</td>\n",
              "      <td>&gt;4</td>\n",
              "      <td>78</td>\n",
              "      <td>19160.000061</td>\n",
              "      <td>0.855</td>\n",
              "      <td>0.0</td>\n",
              "    </tr>\n",
              "    <tr>\n",
              "      <th>2</th>\n",
              "      <td>city_45</td>\n",
              "      <td>No relevent experience</td>\n",
              "      <td>no_enrollment</td>\n",
              "      <td>STEM</td>\n",
              "      <td>9</td>\n",
              "      <td>50-99</td>\n",
              "      <td>Pvt Ltd</td>\n",
              "      <td>3</td>\n",
              "      <td>51</td>\n",
              "      <td>5672.999574</td>\n",
              "      <td>0.890</td>\n",
              "      <td>0.0</td>\n",
              "    </tr>\n",
              "    <tr>\n",
              "      <th>3</th>\n",
              "      <td>city_75</td>\n",
              "      <td>Has relevent experience</td>\n",
              "      <td>no_enrollment</td>\n",
              "      <td>STEM</td>\n",
              "      <td>14</td>\n",
              "      <td>#na#</td>\n",
              "      <td>#na#</td>\n",
              "      <td>1</td>\n",
              "      <td>158</td>\n",
              "      <td>31241.000084</td>\n",
              "      <td>0.939</td>\n",
              "      <td>0.0</td>\n",
              "    </tr>\n",
              "    <tr>\n",
              "      <th>4</th>\n",
              "      <td>city_40</td>\n",
              "      <td>No relevent experience</td>\n",
              "      <td>Full time course</td>\n",
              "      <td>#na#</td>\n",
              "      <td>3</td>\n",
              "      <td>#na#</td>\n",
              "      <td>Pvt Ltd</td>\n",
              "      <td>never</td>\n",
              "      <td>22</td>\n",
              "      <td>483.999746</td>\n",
              "      <td>0.776</td>\n",
              "      <td>0.0</td>\n",
              "    </tr>\n",
              "    <tr>\n",
              "      <th>5</th>\n",
              "      <td>city_90</td>\n",
              "      <td>Has relevent experience</td>\n",
              "      <td>no_enrollment</td>\n",
              "      <td>STEM</td>\n",
              "      <td>2</td>\n",
              "      <td>#na#</td>\n",
              "      <td>#na#</td>\n",
              "      <td>1</td>\n",
              "      <td>112</td>\n",
              "      <td>14384.000068</td>\n",
              "      <td>0.698</td>\n",
              "      <td>1.0</td>\n",
              "    </tr>\n",
              "    <tr>\n",
              "      <th>6</th>\n",
              "      <td>city_103</td>\n",
              "      <td>Has relevent experience</td>\n",
              "      <td>no_enrollment</td>\n",
              "      <td>STEM</td>\n",
              "      <td>&gt;20</td>\n",
              "      <td>#na#</td>\n",
              "      <td>#na#</td>\n",
              "      <td>1</td>\n",
              "      <td>95</td>\n",
              "      <td>29802.000124</td>\n",
              "      <td>0.920</td>\n",
              "      <td>0.0</td>\n",
              "    </tr>\n",
              "    <tr>\n",
              "      <th>7</th>\n",
              "      <td>city_149</td>\n",
              "      <td>Has relevent experience</td>\n",
              "      <td>#na#</td>\n",
              "      <td>#na#</td>\n",
              "      <td>3</td>\n",
              "      <td>#na#</td>\n",
              "      <td>#na#</td>\n",
              "      <td>never</td>\n",
              "      <td>99</td>\n",
              "      <td>2721.999579</td>\n",
              "      <td>0.689</td>\n",
              "      <td>1.0</td>\n",
              "    </tr>\n",
              "    <tr>\n",
              "      <th>8</th>\n",
              "      <td>city_103</td>\n",
              "      <td>Has relevent experience</td>\n",
              "      <td>no_enrollment</td>\n",
              "      <td>STEM</td>\n",
              "      <td>&gt;20</td>\n",
              "      <td>#na#</td>\n",
              "      <td>#na#</td>\n",
              "      <td>1</td>\n",
              "      <td>112</td>\n",
              "      <td>29382.000496</td>\n",
              "      <td>0.920</td>\n",
              "      <td>1.0</td>\n",
              "    </tr>\n",
              "    <tr>\n",
              "      <th>9</th>\n",
              "      <td>city_160</td>\n",
              "      <td>Has relevent experience</td>\n",
              "      <td>no_enrollment</td>\n",
              "      <td>STEM</td>\n",
              "      <td>7</td>\n",
              "      <td>1000-4999</td>\n",
              "      <td>Pvt Ltd</td>\n",
              "      <td>1</td>\n",
              "      <td>102</td>\n",
              "      <td>6146.000275</td>\n",
              "      <td>0.920</td>\n",
              "      <td>0.0</td>\n",
              "    </tr>\n",
              "  </tbody>\n",
              "</table>"
            ],
            "text/plain": [
              "<IPython.core.display.HTML object>"
            ]
          },
          "metadata": {}
        }
      ]
    },
    {
      "cell_type": "code",
      "metadata": {
        "id": "E0Tp0LVmyObv",
        "colab": {
          "base_uri": "https://localhost:8080/",
          "height": 300
        },
        "outputId": "ba556b79-08fb-4b6a-9d68-16a4ce7e0dbc"
      },
      "source": [
        "learn = tabular_learner(dls,\n",
        "                        metrics=[accuracy, RocAucBinary()],\n",
        "                        loss_func = CrossEntropyLossFlat())\n",
        "learn.lr_find()"
      ],
      "execution_count": 88,
      "outputs": [
        {
          "output_type": "display_data",
          "data": {
            "text/html": [
              ""
            ],
            "text/plain": [
              "<IPython.core.display.HTML object>"
            ]
          },
          "metadata": {}
        },
        {
          "output_type": "execute_result",
          "data": {
            "text/plain": [
              "SuggestedLRs(valley=0.0014454397605732083)"
            ]
          },
          "metadata": {},
          "execution_count": 88
        },
        {
          "output_type": "display_data",
          "data": {
            "image/png": "[encoded data removed]",
            "text/plain": [
              "<Figure size 432x288 with 1 Axes>"
            ]
          },
          "metadata": {
            "needs_background": "light"
          }
        }
      ]
    },
    {
      "cell_type": "code",
      "metadata": {
        "colab": {
          "base_uri": "https://localhost:8080/",
          "height": 112
        },
        "id": "Wp98EHj_zEw3",
        "outputId": "f59e562e-aa4f-4120-89e7-979a6b63f8d2"
      },
      "source": [
        "learn.fit_one_cycle(2, 3e-2, wd=0.1)"
      ],
      "execution_count": 89,
      "outputs": [
        {
          "output_type": "display_data",
          "data": {
            "text/html": [
              "<table border=\"1\" class=\"dataframe\">\n",
              "  <thead>\n",
              "    <tr style=\"text-align: left;\">\n",
              "      <th>epoch</th>\n",
              "      <th>train_loss</th>\n",
              "      <th>valid_loss</th>\n",
              "      <th>accuracy</th>\n",
              "      <th>roc_auc_score</th>\n",
              "      <th>time</th>\n",
              "    </tr>\n",
              "  </thead>\n",
              "  <tbody>\n",
              "    <tr>\n",
              "      <td>0</td>\n",
              "      <td>0.479022</td>\n",
              "      <td>0.447616</td>\n",
              "      <td>0.788306</td>\n",
              "      <td>0.798466</td>\n",
              "      <td>00:02</td>\n",
              "    </tr>\n",
              "    <tr>\n",
              "      <td>1</td>\n",
              "      <td>0.443191</td>\n",
              "      <td>0.443239</td>\n",
              "      <td>0.793526</td>\n",
              "      <td>0.800616</td>\n",
              "      <td>00:02</td>\n",
              "    </tr>\n",
              "  </tbody>\n",
              "</table>"
            ],
            "text/plain": [
              "<IPython.core.display.HTML object>"
            ]
          },
          "metadata": {}
        }
      ]
    },
    {
      "cell_type": "code",
      "metadata": {
        "colab": {
          "base_uri": "https://localhost:8080/",
          "height": 300
        },
        "id": "TQ8xad0X0vvw",
        "outputId": "de929a41-0812-4c5c-8f18-0e2274b76066"
      },
      "source": [
        "learn.lr_find()"
      ],
      "execution_count": 91,
      "outputs": [
        {
          "output_type": "display_data",
          "data": {
            "text/html": [
              ""
            ],
            "text/plain": [
              "<IPython.core.display.HTML object>"
            ]
          },
          "metadata": {}
        },
        {
          "output_type": "execute_result",
          "data": {
            "text/plain": [
              "SuggestedLRs(valley=0.009120108559727669)"
            ]
          },
          "metadata": {},
          "execution_count": 91
        },
        {
          "output_type": "display_data",
          "data": {
            "image/png": "[encoded data removed]",
            "text/plain": [
              "<Figure size 432x288 with 1 Axes>"
            ]
          },
          "metadata": {
            "needs_background": "light"
          }
        }
      ]
    },
    {
      "cell_type": "code",
      "metadata": {
        "colab": {
          "base_uri": "https://localhost:8080/",
          "height": 206
        },
        "id": "yOBXjv3lzS6_",
        "outputId": "96a61798-e825-4f22-a655-5f18f4165f37"
      },
      "source": [
        "learn.fit_one_cycle(5, 1e-4, wd=0.1)"
      ],
      "execution_count": 92,
      "outputs": [
        {
          "output_type": "display_data",
          "data": {
            "text/html": [
              "<table border=\"1\" class=\"dataframe\">\n",
              "  <thead>\n",
              "    <tr style=\"text-align: left;\">\n",
              "      <th>epoch</th>\n",
              "      <th>train_loss</th>\n",
              "      <th>valid_loss</th>\n",
              "      <th>accuracy</th>\n",
              "      <th>roc_auc_score</th>\n",
              "      <th>time</th>\n",
              "    </tr>\n",
              "  </thead>\n",
              "  <tbody>\n",
              "    <tr>\n",
              "      <td>0</td>\n",
              "      <td>0.418421</td>\n",
              "      <td>0.443395</td>\n",
              "      <td>0.794832</td>\n",
              "      <td>0.800203</td>\n",
              "      <td>00:02</td>\n",
              "    </tr>\n",
              "    <tr>\n",
              "      <td>1</td>\n",
              "      <td>0.413256</td>\n",
              "      <td>0.445174</td>\n",
              "      <td>0.790916</td>\n",
              "      <td>0.799496</td>\n",
              "      <td>00:02</td>\n",
              "    </tr>\n",
              "    <tr>\n",
              "      <td>2</td>\n",
              "      <td>0.415362</td>\n",
              "      <td>0.445678</td>\n",
              "      <td>0.792743</td>\n",
              "      <td>0.799139</td>\n",
              "      <td>00:02</td>\n",
              "    </tr>\n",
              "    <tr>\n",
              "      <td>3</td>\n",
              "      <td>0.412259</td>\n",
              "      <td>0.445553</td>\n",
              "      <td>0.793004</td>\n",
              "      <td>0.799231</td>\n",
              "      <td>00:02</td>\n",
              "    </tr>\n",
              "    <tr>\n",
              "      <td>4</td>\n",
              "      <td>0.411777</td>\n",
              "      <td>0.445689</td>\n",
              "      <td>0.791177</td>\n",
              "      <td>0.799135</td>\n",
              "      <td>00:02</td>\n",
              "    </tr>\n",
              "  </tbody>\n",
              "</table>"
            ],
            "text/plain": [
              "<IPython.core.display.HTML object>"
            ]
          },
          "metadata": {}
        }
      ]
    },
    {
      "cell_type": "markdown",
      "metadata": {
        "id": "zgf-vl4O2xIF"
      },
      "source": [
        "## Filtering Features Using Random Forest"
      ]
    },
    {
      "cell_type": "code",
      "metadata": {
        "id": "VDD8pxV421jS"
      },
      "source": [
        "def rf(xs, y, n_estimators=40, max_samples=10_000,\n",
        "       max_features=0.5, min_samples_leaf=5, **kwargs):\n",
        "    return RandomForestRegressor(n_jobs=-1, n_estimators=n_estimators,\n",
        "        max_samples=max_samples, max_features=max_features,\n",
        "        min_samples_leaf=min_samples_leaf, oob_score=True).fit(xs, y)"
      ],
      "execution_count": 23,
      "outputs": []
    },
    {
      "cell_type": "code",
      "metadata": {
        "id": "7aXrGdf8mThO"
      },
      "source": [
        "m = rf(xs, y);"
      ],
      "execution_count": 27,
      "outputs": []
    },
    {
      "cell_type": "code",
      "metadata": {
        "id": "QzLK7dXTjaHe"
      },
      "source": [
        "xs,y = tabular_data.train.xs,tabular_data.train.y\n",
        "valid_xs,valid_y = tabular_data.valid.xs,tabular_data.valid.y"
      ],
      "execution_count": 28,
      "outputs": []
    },
    {
      "cell_type": "code",
      "metadata": {
        "id": "vbO3DchzlLUr",
        "colab": {
          "base_uri": "https://localhost:8080/"
        },
        "outputId": "57d5d5c4-be0b-4e7c-a7c1-ce5a0d041e30"
      },
      "source": [
        "roc_auc_score(y.to_numpy(), m.predict(xs)), roc_auc_score(valid_y.to_numpy(), m.predict(valid_xs))"
      ],
      "execution_count": 29,
      "outputs": [
        {
          "output_type": "execute_result",
          "data": {
            "text/plain": [
              "(0.9410569633041788, 0.7839462248757387)"
            ]
          },
          "metadata": {},
          "execution_count": 29
        }
      ]
    },
    {
      "cell_type": "code",
      "metadata": {
        "id": "mB9IpK88rqDr"
      },
      "source": [
        "def rf_feat_importance(m, df):\n",
        "    return pd.DataFrame({'cols':df.columns, 'imp':m.feature_importances_}\n",
        "                       ).sort_values('imp', ascending=False)"
      ],
      "execution_count": 30,
      "outputs": []
    },
    {
      "cell_type": "markdown",
      "metadata": {
        "id": "OuouIFgSMZbs"
      },
      "source": [
        "Plot important features"
      ]
    },
    {
      "cell_type": "code",
      "metadata": {
        "id": "0_Sro3S4r14x",
        "colab": {
          "base_uri": "https://localhost:8080/",
          "height": 457
        },
        "outputId": "e97f48f4-41f0-40f7-ea7c-c1fe1da919ea"
      },
      "source": [
        "fi = rf_feat_importance(m, xs)\n",
        "fi[:13]"
      ],
      "execution_count": 31,
      "outputs": [
        {
          "output_type": "execute_result",
          "data": {
            "text/html": [
              "<div>\n",
              "<style scoped>\n",
              "    .dataframe tbody tr th:only-of-type {\n",
              "        vertical-align: middle;\n",
              "    }\n",
              "\n",
              "    .dataframe tbody tr th {\n",
              "        vertical-align: top;\n",
              "    }\n",
              "\n",
              "    .dataframe thead th {\n",
              "        text-align: right;\n",
              "    }\n",
              "</style>\n",
              "<table border=\"1\" class=\"dataframe\">\n",
              "  <thead>\n",
              "    <tr style=\"text-align: right;\">\n",
              "      <th></th>\n",
              "      <th>cols</th>\n",
              "      <th>imp</th>\n",
              "    </tr>\n",
              "  </thead>\n",
              "  <tbody>\n",
              "    <tr>\n",
              "      <th>12</th>\n",
              "      <td>city_development_index</td>\n",
              "      <td>0.287118</td>\n",
              "    </tr>\n",
              "    <tr>\n",
              "      <th>11</th>\n",
              "      <td>enrollee_id</td>\n",
              "      <td>0.134784</td>\n",
              "    </tr>\n",
              "    <tr>\n",
              "      <th>10</th>\n",
              "      <td>training_hours</td>\n",
              "      <td>0.112291</td>\n",
              "    </tr>\n",
              "    <tr>\n",
              "      <th>7</th>\n",
              "      <td>company_size</td>\n",
              "      <td>0.105453</td>\n",
              "    </tr>\n",
              "    <tr>\n",
              "      <th>6</th>\n",
              "      <td>experience</td>\n",
              "      <td>0.072505</td>\n",
              "    </tr>\n",
              "    <tr>\n",
              "      <th>0</th>\n",
              "      <td>city</td>\n",
              "      <td>0.062925</td>\n",
              "    </tr>\n",
              "    <tr>\n",
              "      <th>8</th>\n",
              "      <td>company_type</td>\n",
              "      <td>0.058707</td>\n",
              "    </tr>\n",
              "    <tr>\n",
              "      <th>9</th>\n",
              "      <td>last_new_job</td>\n",
              "      <td>0.041917</td>\n",
              "    </tr>\n",
              "    <tr>\n",
              "      <th>5</th>\n",
              "      <td>major_discipline</td>\n",
              "      <td>0.033990</td>\n",
              "    </tr>\n",
              "    <tr>\n",
              "      <th>4</th>\n",
              "      <td>education_level</td>\n",
              "      <td>0.031605</td>\n",
              "    </tr>\n",
              "    <tr>\n",
              "      <th>3</th>\n",
              "      <td>enrolled_university</td>\n",
              "      <td>0.023543</td>\n",
              "    </tr>\n",
              "    <tr>\n",
              "      <th>1</th>\n",
              "      <td>gender</td>\n",
              "      <td>0.018544</td>\n",
              "    </tr>\n",
              "    <tr>\n",
              "      <th>2</th>\n",
              "      <td>relevent_experience</td>\n",
              "      <td>0.016618</td>\n",
              "    </tr>\n",
              "  </tbody>\n",
              "</table>\n",
              "</div>"
            ],
            "text/plain": [
              "                      cols       imp\n",
              "12  city_development_index  0.287118\n",
              "11             enrollee_id  0.134784\n",
              "10          training_hours  0.112291\n",
              "7             company_size  0.105453\n",
              "6               experience  0.072505\n",
              "0                     city  0.062925\n",
              "8             company_type  0.058707\n",
              "9             last_new_job  0.041917\n",
              "5         major_discipline  0.033990\n",
              "4          education_level  0.031605\n",
              "3      enrolled_university  0.023543\n",
              "1                   gender  0.018544\n",
              "2      relevent_experience  0.016618"
            ]
          },
          "metadata": {},
          "execution_count": 31
        }
      ]
    },
    {
      "cell_type": "code",
      "metadata": {
        "id": "lmqdX3ndr6de",
        "colab": {
          "base_uri": "https://localhost:8080/",
          "height": 428
        },
        "outputId": "1ab7dcf1-0f8a-46fd-f466-a77b5a5c5265"
      },
      "source": [
        "def plot_fi(fi):\n",
        "    return fi.plot('cols', 'imp', 'barh', figsize=(12,7), legend=False)\n",
        "\n",
        "plot_fi(fi[:30]);"
      ],
      "execution_count": 32,
      "outputs": [
        {
          "output_type": "display_data",
          "data": {
            "image/png": "[encoded data removed]",
            "text/plain": [
              "<Figure size 864x504 with 1 Axes>"
            ]
          },
          "metadata": {
            "needs_background": "light"
          }
        }
      ]
    },
    {
      "cell_type": "code",
      "metadata": {
        "id": "A-oAt9cir9n7",
        "colab": {
          "base_uri": "https://localhost:8080/",
          "height": 374
        },
        "outputId": "9ec503a2-eddd-4048-a78d-cbcd24cc93d3"
      },
      "source": [
        "cluster_columns(xs)"
      ],
      "execution_count": 33,
      "outputs": [
        {
          "output_type": "display_data",
          "data": {
            "image/png": "[encoded data removed]",
            "text/plain": [
              "<Figure size 720x432 with 1 Axes>"
            ]
          },
          "metadata": {
            "needs_background": "light"
          }
        }
      ]
    },
    {
      "cell_type": "code",
      "metadata": {
        "id": "FPCSRXpVxIfK"
      },
      "source": [
        "def get_oob(df):\n",
        "    m = RandomForestRegressor(n_estimators=40, min_samples_leaf=15,\n",
        "        max_samples=5000, max_features=0.5, n_jobs=-1, oob_score=True)\n",
        "    m.fit(df, y)\n",
        "    return m.oob_score_"
      ],
      "execution_count": 34,
      "outputs": []
    },
    {
      "cell_type": "markdown",
      "metadata": {
        "id": "dJXgt3S-IUDF"
      },
      "source": [
        "Set baseline Out Of Bag score"
      ]
    },
    {
      "cell_type": "code",
      "metadata": {
        "id": "nEwqSr8uxLAH",
        "colab": {
          "base_uri": "https://localhost:8080/"
        },
        "outputId": "28c3d1ab-dab8-4bed-8bfd-8990e3524fe7"
      },
      "source": [
        "get_oob(xs)"
      ],
      "execution_count": 35,
      "outputs": [
        {
          "output_type": "execute_result",
          "data": {
            "text/plain": [
              "0.2620753623847427"
            ]
          },
          "metadata": {},
          "execution_count": 35
        }
      ]
    },
    {
      "cell_type": "code",
      "metadata": {
        "id": "J7lMcOU3xNyQ",
        "colab": {
          "base_uri": "https://localhost:8080/"
        },
        "outputId": "2ae1fef3-be1b-462f-e97e-bc0a29644094"
      },
      "source": [
        "{c:get_oob(xs.drop(c, axis=1)) for c in (\n",
        "    'relevent_experience', 'gender', 'enrolled_university','education_level',\n",
        "    'major_discipline', 'last_new_job',\n",
        "    'company_type','experience', 'city')}"
      ],
      "execution_count": 36,
      "outputs": [
        {
          "output_type": "execute_result",
          "data": {
            "text/plain": [
              "{'city': 0.26336506905819834,\n",
              " 'company_type': 0.25813172558272846,\n",
              " 'education_level': 0.2624978035421546,\n",
              " 'enrolled_university': 0.26199426581208896,\n",
              " 'experience': 0.260118292581078,\n",
              " 'gender': 0.2623700388020266,\n",
              " 'last_new_job': 0.25963773146959346,\n",
              " 'major_discipline': 0.25465131337940505,\n",
              " 'relevent_experience': 0.259457029858018}"
            ]
          },
          "metadata": {},
          "execution_count": 36
        }
      ]
    },
    {
      "cell_type": "code",
      "metadata": {
        "id": "TAaITMfVxj9R",
        "colab": {
          "base_uri": "https://localhost:8080/"
        },
        "outputId": "8130dd16-8235-4045-8cc5-0585fb6b7a55"
      },
      "source": [
        "to_drop = [ 'gender']\n",
        "get_oob(xs.drop(to_drop, axis=1))"
      ],
      "execution_count": 119,
      "outputs": [
        {
          "output_type": "execute_result",
          "data": {
            "text/plain": [
              "0.2619238148801344"
            ]
          },
          "metadata": {},
          "execution_count": 119
        }
      ]
    },
    {
      "cell_type": "markdown",
      "metadata": {
        "id": "tB6lXQ7wIWoM"
      },
      "source": [
        "Compared to baseline, dropping gender does not change OOB much. So it is okay to delete the feature from learning"
      ]
    },
    {
      "cell_type": "code",
      "metadata": {
        "id": "KsPFyoiVyBvm"
      },
      "source": [
        "xs_final = xs.drop(to_drop, axis=1)\n",
        "valid_xs_final = valid_xs.drop(to_drop, axis=1)"
      ],
      "execution_count": 120,
      "outputs": []
    },
    {
      "cell_type": "code",
      "metadata": {
        "id": "bo19dit-yFhr",
        "colab": {
          "base_uri": "https://localhost:8080/"
        },
        "outputId": "63c6107e-bcd7-482a-fb58-3697aef5e5e7"
      },
      "source": [
        "m = rf(xs_final, y)\n",
        "roc_auc_score(y.to_numpy(), m.predict(xs_final)), roc_auc_score(valid_y.to_numpy(), m.predict(valid_xs_final))"
      ],
      "execution_count": 121,
      "outputs": [
        {
          "output_type": "execute_result",
          "data": {
            "text/plain": [
              "(0.942312146456595, 0.7784306151354354)"
            ]
          },
          "metadata": {},
          "execution_count": 121
        }
      ]
    },
    {
      "cell_type": "code",
      "metadata": {
        "id": "y_Dbn5rpyoZs"
      },
      "source": [
        "cont_nn,cat_nn = cont_cat_split(train_ds, max_card=9000, dep_var=dep_var)\n",
        "\n",
        "cat_nn.remove('gender')"
      ],
      "execution_count": 122,
      "outputs": []
    },
    {
      "cell_type": "markdown",
      "metadata": {
        "id": "vWIGVg-py9Fv"
      },
      "source": [
        "## Test Again"
      ]
    },
    {
      "cell_type": "code",
      "metadata": {
        "id": "QdWQhegJy-vm"
      },
      "source": [
        "tabular_data = TabularPandas(train_ds, \n",
        "                      procs, \n",
        "                      cat_nn, \n",
        "                      cont_nn,\n",
        "                      splits=RandomSplitter(valid_pct=0.2)(range_of(train_ds)), \n",
        "                      y_names=dep_var,\n",
        "                      y_block = CategoryBlock )\n",
        "\n",
        "dls = tabular_data.dataloaders(128)\n",
        "learn = tabular_learner(dls,\n",
        "                        metrics=[accuracy, RocAucBinary()],\n",
        "                        loss_func = CrossEntropyLossFlat())"
      ],
      "execution_count": 124,
      "outputs": []
    },
    {
      "cell_type": "code",
      "metadata": {
        "id": "qmnBfqjezR_g",
        "colab": {
          "base_uri": "https://localhost:8080/",
          "height": 300
        },
        "outputId": "aa775ecc-76a2-495d-ca12-3bc52a9bbbf4"
      },
      "source": [
        "learn.lr_find()"
      ],
      "execution_count": 125,
      "outputs": [
        {
          "output_type": "display_data",
          "data": {
            "text/html": [
              ""
            ],
            "text/plain": [
              "<IPython.core.display.HTML object>"
            ]
          },
          "metadata": {}
        },
        {
          "output_type": "execute_result",
          "data": {
            "text/plain": [
              "SuggestedLRs(valley=0.0014454397605732083)"
            ]
          },
          "metadata": {},
          "execution_count": 125
        },
        {
          "output_type": "display_data",
          "data": {
            "image/png": "[encoded data removed]",
            "text/plain": [
              "<Figure size 432x288 with 1 Axes>"
            ]
          },
          "metadata": {
            "needs_background": "light"
          }
        }
      ]
    },
    {
      "cell_type": "code",
      "metadata": {
        "id": "oiV42SBnzT-v",
        "colab": {
          "base_uri": "https://localhost:8080/",
          "height": 112
        },
        "outputId": "4263bee9-bf50-48d6-e16d-1d5d921f600d"
      },
      "source": [
        "learn.fit_one_cycle(2, 1e-2, wd=0.1)"
      ],
      "execution_count": 126,
      "outputs": [
        {
          "output_type": "display_data",
          "data": {
            "text/html": [
              "<table border=\"1\" class=\"dataframe\">\n",
              "  <thead>\n",
              "    <tr style=\"text-align: left;\">\n",
              "      <th>epoch</th>\n",
              "      <th>train_loss</th>\n",
              "      <th>valid_loss</th>\n",
              "      <th>accuracy</th>\n",
              "      <th>roc_auc_score</th>\n",
              "      <th>time</th>\n",
              "    </tr>\n",
              "  </thead>\n",
              "  <tbody>\n",
              "    <tr>\n",
              "      <td>0</td>\n",
              "      <td>0.477594</td>\n",
              "      <td>0.448016</td>\n",
              "      <td>0.791699</td>\n",
              "      <td>0.802954</td>\n",
              "      <td>00:02</td>\n",
              "    </tr>\n",
              "    <tr>\n",
              "      <td>1</td>\n",
              "      <td>0.436217</td>\n",
              "      <td>0.438265</td>\n",
              "      <td>0.797442</td>\n",
              "      <td>0.803229</td>\n",
              "      <td>00:02</td>\n",
              "    </tr>\n",
              "  </tbody>\n",
              "</table>"
            ],
            "text/plain": [
              "<IPython.core.display.HTML object>"
            ]
          },
          "metadata": {}
        }
      ]
    },
    {
      "cell_type": "code",
      "metadata": {
        "id": "g3k-p_9pza1R",
        "colab": {
          "base_uri": "https://localhost:8080/",
          "height": 301
        },
        "outputId": "8e0962d4-d2ac-420e-d529-76c1dc9827b0"
      },
      "source": [
        "learn.lr_find()"
      ],
      "execution_count": 127,
      "outputs": [
        {
          "output_type": "display_data",
          "data": {
            "text/html": [
              ""
            ],
            "text/plain": [
              "<IPython.core.display.HTML object>"
            ]
          },
          "metadata": {}
        },
        {
          "output_type": "execute_result",
          "data": {
            "text/plain": [
              "SuggestedLRs(valley=0.00013182566908653826)"
            ]
          },
          "metadata": {},
          "execution_count": 127
        },
        {
          "output_type": "display_data",
          "data": {
            "image/png": "[encoded data removed]",
            "text/plain": [
              "<Figure size 432x288 with 1 Axes>"
            ]
          },
          "metadata": {
            "needs_background": "light"
          }
        }
      ]
    },
    {
      "cell_type": "code",
      "metadata": {
        "id": "dvVkI7F_Gym1",
        "outputId": "d451ba01-d002-4a54-bbb5-7bc79d149960",
        "colab": {
          "base_uri": "https://localhost:8080/",
          "height": 206
        }
      },
      "source": [
        "learn.fit_one_cycle(5, 2e-4, wd=0.01)"
      ],
      "execution_count": 128,
      "outputs": [
        {
          "output_type": "display_data",
          "data": {
            "text/html": [
              "<table border=\"1\" class=\"dataframe\">\n",
              "  <thead>\n",
              "    <tr style=\"text-align: left;\">\n",
              "      <th>epoch</th>\n",
              "      <th>train_loss</th>\n",
              "      <th>valid_loss</th>\n",
              "      <th>accuracy</th>\n",
              "      <th>roc_auc_score</th>\n",
              "      <th>time</th>\n",
              "    </tr>\n",
              "  </thead>\n",
              "  <tbody>\n",
              "    <tr>\n",
              "      <td>0</td>\n",
              "      <td>0.416673</td>\n",
              "      <td>0.437241</td>\n",
              "      <td>0.797703</td>\n",
              "      <td>0.803614</td>\n",
              "      <td>00:02</td>\n",
              "    </tr>\n",
              "    <tr>\n",
              "      <td>1</td>\n",
              "      <td>0.412257</td>\n",
              "      <td>0.438378</td>\n",
              "      <td>0.796659</td>\n",
              "      <td>0.803809</td>\n",
              "      <td>00:02</td>\n",
              "    </tr>\n",
              "    <tr>\n",
              "      <td>2</td>\n",
              "      <td>0.410535</td>\n",
              "      <td>0.440976</td>\n",
              "      <td>0.798747</td>\n",
              "      <td>0.803049</td>\n",
              "      <td>00:02</td>\n",
              "    </tr>\n",
              "    <tr>\n",
              "      <td>3</td>\n",
              "      <td>0.408168</td>\n",
              "      <td>0.441877</td>\n",
              "      <td>0.797703</td>\n",
              "      <td>0.802025</td>\n",
              "      <td>00:02</td>\n",
              "    </tr>\n",
              "    <tr>\n",
              "      <td>4</td>\n",
              "      <td>0.403692</td>\n",
              "      <td>0.441888</td>\n",
              "      <td>0.797964</td>\n",
              "      <td>0.802132</td>\n",
              "      <td>00:02</td>\n",
              "    </tr>\n",
              "  </tbody>\n",
              "</table>"
            ],
            "text/plain": [
              "<IPython.core.display.HTML object>"
            ]
          },
          "metadata": {}
        }
      ]
    },
    {
      "cell_type": "markdown",
      "metadata": {
        "id": "Kr60KQc7AQgi"
      },
      "source": [
        "The ROC AUC score does not change much"
      ]
    },
    {
      "cell_type": "markdown",
      "metadata": {
        "id": "UlQv7rvU2zUD"
      },
      "source": [
        "## Prediction"
      ]
    },
    {
      "cell_type": "code",
      "metadata": {
        "colab": {
          "base_uri": "https://localhost:8080/",
          "height": 17
        },
        "id": "eF19zm7-6rzZ",
        "outputId": "96a66055-8998-4c9d-8f5e-f440e4e5d5f7"
      },
      "source": [
        "test_dl = learn.dls.test_dl(test_ds)\n",
        "predictions = learn.get_preds(dl=test_dl)"
      ],
      "execution_count": 129,
      "outputs": [
        {
          "output_type": "display_data",
          "data": {
            "text/html": [
              ""
            ],
            "text/plain": [
              "<IPython.core.display.HTML object>"
            ]
          },
          "metadata": {}
        }
      ]
    },
    {
      "cell_type": "code",
      "metadata": {
        "colab": {
          "base_uri": "https://localhost:8080/"
        },
        "id": "VVKWxw207VZE",
        "outputId": "d8b59d2c-8847-4fba-97d6-c86d9d70f0ce"
      },
      "source": [
        "predictions, predictions[0][:,1]"
      ],
      "execution_count": 130,
      "outputs": [
        {
          "output_type": "execute_result",
          "data": {
            "text/plain": [
              "((tensor([[0.8598, 0.1402],\n",
              "          [0.8769, 0.1231],\n",
              "          [0.3217, 0.6783],\n",
              "          ...,\n",
              "          [0.8349, 0.1651],\n",
              "          [0.9214, 0.0786],\n",
              "          [0.9146, 0.0854]]), None),\n",
              " tensor([0.1402, 0.1231, 0.6783,  ..., 0.1651, 0.0786, 0.0854]))"
            ]
          },
          "metadata": {},
          "execution_count": 130
        }
      ]
    },
    {
      "cell_type": "code",
      "metadata": {
        "id": "zZQaPmR6Ao5q",
        "outputId": "200b7b9c-1334-4867-fbbe-446d83d0a9f2",
        "colab": {
          "base_uri": "https://localhost:8080/",
          "height": 206
        }
      },
      "source": [
        "result = pd.DataFrame({'enrollee_id': test_ds['enrollee_id'], 'target': predictions[0][:,1]})\n",
        "result.head()"
      ],
      "execution_count": 131,
      "outputs": [
        {
          "output_type": "execute_result",
          "data": {
            "text/html": [
              "<div>\n",
              "<style scoped>\n",
              "    .dataframe tbody tr th:only-of-type {\n",
              "        vertical-align: middle;\n",
              "    }\n",
              "\n",
              "    .dataframe tbody tr th {\n",
              "        vertical-align: top;\n",
              "    }\n",
              "\n",
              "    .dataframe thead th {\n",
              "        text-align: right;\n",
              "    }\n",
              "</style>\n",
              "<table border=\"1\" class=\"dataframe\">\n",
              "  <thead>\n",
              "    <tr style=\"text-align: right;\">\n",
              "      <th></th>\n",
              "      <th>enrollee_id</th>\n",
              "      <th>target</th>\n",
              "    </tr>\n",
              "  </thead>\n",
              "  <tbody>\n",
              "    <tr>\n",
              "      <th>0</th>\n",
              "      <td>32403</td>\n",
              "      <td>0.140214</td>\n",
              "    </tr>\n",
              "    <tr>\n",
              "      <th>1</th>\n",
              "      <td>9858</td>\n",
              "      <td>0.123055</td>\n",
              "    </tr>\n",
              "    <tr>\n",
              "      <th>2</th>\n",
              "      <td>31806</td>\n",
              "      <td>0.678261</td>\n",
              "    </tr>\n",
              "    <tr>\n",
              "      <th>3</th>\n",
              "      <td>27385</td>\n",
              "      <td>0.095382</td>\n",
              "    </tr>\n",
              "    <tr>\n",
              "      <th>4</th>\n",
              "      <td>27724</td>\n",
              "      <td>0.053271</td>\n",
              "    </tr>\n",
              "  </tbody>\n",
              "</table>\n",
              "</div>"
            ],
            "text/plain": [
              "   enrollee_id    target\n",
              "0        32403  0.140214\n",
              "1         9858  0.123055\n",
              "2        31806  0.678261\n",
              "3        27385  0.095382\n",
              "4        27724  0.053271"
            ]
          },
          "metadata": {},
          "execution_count": 131
        }
      ]
    },
    {
      "cell_type": "code",
      "metadata": {
        "id": "eLsnPmu9H5zr"
      },
      "source": [
        "result.to_csv('result.csv')"
      ],
      "execution_count": 132,
      "outputs": []
    }
  ]
}